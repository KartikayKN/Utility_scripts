{
 "cells": [
  {
   "cell_type": "code",
   "execution_count": 5,
   "id": "4fd4d4a1",
   "metadata": {},
   "outputs": [],
   "source": [
    "import pandas as pd\n",
    "import glob\n",
    "import xml.etree.ElementTree as ET\n",
    "from google.cloud import vision\n",
    "import io\n",
    "import time\n",
    "from pathlib import Path\n",
    "import os\n",
    "\n",
    "from tqdm import tqdm\n",
    "os.environ['GOOGLE_APPLICATION_CREDENTIALS'] = os.path.join('.', 'gcp/googlecreds.json')\n",
    "\n",
    "text_list = []\n",
    "\n",
    "\n",
    "def xml_to_csv(path):\n",
    "    xml_list = []\n",
    "    for xml_file in glob.glob(path + '/*.xml'):\n",
    "        tree = ET.parse(xml_file)\n",
    "        root = tree.getroot()\n",
    "        for member in root.findall('object'):\n",
    "            class_name = member[0].text\n",
    "            if class_name == 'keyvalue':\n",
    "                value = (root.find('filename').text,\n",
    "                         int(root.find('size')[0].text),\n",
    "                         int(root.find('size')[1].text),\n",
    "                         member[0].text,\n",
    "                         int(member[4][0].text),\n",
    "                         int(member[4][1].text),\n",
    "                         int(member[4][2].text),\n",
    "                         int(member[4][3].text)\n",
    "                         )\n",
    "                xml_list.append(value)\n",
    "    column_name = ['filename', 'width', 'height', 'class', 'xmin', 'ymin', 'xmax', 'ymax']\n",
    "    xml_df = pd.DataFrame(xml_list, columns=column_name)\n",
    "    return xml_df\n",
    "\n",
    "\n",
    "def getTextGroupData(imagePath):\n",
    "    vertexList = []\n",
    "    client = vision.ImageAnnotatorClient()\n",
    "    with io.open(imagePath, 'rb') as image_file:\n",
    "        content = image_file.read()\n",
    "\n",
    "    image = vision.Image(content=content)\n",
    "    response = client.text_detection(image=image)\n",
    "    texts = response.text_annotations\n",
    "    bool = False\n",
    "    complete_text = ''\n",
    "    for text in texts:\n",
    "        vertices = text.bounding_poly.vertices\n",
    "        if bool:\n",
    "            vertexList.append((text.description, vertices))\n",
    "        else:\n",
    "            complete_text = text.description\n",
    "            bool = True\n",
    "\n",
    "    if response.error.message:\n",
    "        raise Exception(\n",
    "            '{}\\n'.format(response.error.message))\n",
    "    return vertexList\n",
    "\n",
    "\n",
    "\n",
    "def get_text_single_bbox(vertexList, bbox):\n",
    "    text = ''\n",
    "    boundingBox = bbox\n",
    "\n",
    "    for vertexText in vertexList:\n",
    "        vertex = vertexText[1]\n",
    "        x1 = vertex[0].x\n",
    "        y1 = vertex[0].y\n",
    "        x2 = vertex[2].x\n",
    "        y2 = vertex[2].y\n",
    "        height = y2 - y1\n",
    "        width = x2 - x1\n",
    "\n",
    "        if (not (max(x1, boundingBox[0]) + width / 3 > min(x2, boundingBox[2]))) and \\\n",
    "                (not (max(y1, boundingBox[1]) + height / 3 > min(y2, boundingBox[3]))):\n",
    "            text += vertexText[0] + ' '\n",
    "    text_list.append(text)\n",
    "    return text\n"
   ]
  },
  {
   "cell_type": "code",
   "execution_count": 7,
   "id": "32c2c0b8",
   "metadata": {
    "scrolled": true
   },
   "outputs": [
    {
     "name": "stderr",
     "output_type": "stream",
     "text": [
      "  0%|          | 1/1271 [00:05<1:59:08,  5.63s/it]"
     ]
    },
    {
     "name": "stdout",
     "output_type": "stream",
     "text": [
      "1000176487-1286007669-ArrivalNotice-5-7-11h57m28s-1.png --> done\n",
      "5.6286351680755615\n"
     ]
    },
    {
     "name": "stderr",
     "output_type": "stream",
     "text": [
      "\r",
      "  0%|          | 2/1271 [00:10<1:48:30,  5.13s/it]"
     ]
    },
    {
     "name": "stdout",
     "output_type": "stream",
     "text": [
      "1000472365-1000464494-REVISEDARRIVALNOTICE-FREIGHTINVOICEHBLVNOAK2103974MBLONEYSGNB82499600-1.png --> done\n",
      "4.781420707702637\n"
     ]
    },
    {
     "name": "stderr",
     "output_type": "stream",
     "text": [
      "\r",
      "  0%|          | 3/1271 [00:16<2:00:38,  5.71s/it]"
     ]
    },
    {
     "name": "stdout",
     "output_type": "stream",
     "text": [
      "1000500114-1000499973-DBBJQ4M01-4.png --> done\n",
      "6.395515203475952\n"
     ]
    },
    {
     "name": "stderr",
     "output_type": "stream",
     "text": [
      "\r",
      "  0%|          | 4/1271 [00:20<1:42:57,  4.88s/it]"
     ]
    },
    {
     "name": "stdout",
     "output_type": "stream",
     "text": [
      "1000551924-1168829813-AN-MSE21041084-1.png --> done\n",
      "3.5902960300445557\n"
     ]
    },
    {
     "name": "stderr",
     "output_type": "stream",
     "text": [
      "\r",
      "  0%|          | 5/1271 [00:24<1:34:10,  4.46s/it]"
     ]
    },
    {
     "name": "stdout",
     "output_type": "stream",
     "text": [
      "1000910484-1339398038-KX-J3H7-126-KX-J3H7-126blandAN-1.png --> done\n",
      "3.7313082218170166\n"
     ]
    },
    {
     "name": "stderr",
     "output_type": "stream",
     "text": [
      "\r",
      "  0%|          | 6/1271 [00:29<1:39:19,  4.71s/it]"
     ]
    },
    {
     "name": "stdout",
     "output_type": "stream",
     "text": [
      "100103754-100103731-ArrivalNotice-ConsigneeofSLSLAX13087X-1.png --> done\n",
      "5.1925108432769775\n"
     ]
    },
    {
     "name": "stderr",
     "output_type": "stream",
     "text": [
      "\r",
      "  1%|          | 7/1271 [00:34<1:41:06,  4.80s/it]"
     ]
    },
    {
     "name": "stdout",
     "output_type": "stream",
     "text": [
      "1001215594-131284542-ARRIVAL_NOTICE_ENGO21010284-1.png --> done\n",
      "4.9805214405059814\n"
     ]
    },
    {
     "name": "stderr",
     "output_type": "stream",
     "text": [
      "\r",
      "  1%|          | 8/1271 [00:40<1:49:32,  5.20s/it]"
     ]
    },
    {
     "name": "stdout",
     "output_type": "stream",
     "text": [
      "1001546594-1001546533-AFXMF21003539-1.png --> done\n",
      "6.061285972595215\n"
     ]
    },
    {
     "name": "stderr",
     "output_type": "stream",
     "text": [
      "\r",
      "  1%|          | 9/1271 [00:45<1:45:41,  5.03s/it]"
     ]
    },
    {
     "name": "stdout",
     "output_type": "stream",
     "text": [
      "1001580318-816678171-FRPT117290-1.png --> done\n",
      "4.631495714187622\n"
     ]
    },
    {
     "name": "stderr",
     "output_type": "stream",
     "text": [
      "\r",
      "  1%|          | 10/1271 [00:50<1:48:47,  5.18s/it]"
     ]
    },
    {
     "name": "stdout",
     "output_type": "stream",
     "text": [
      "1001586145-977839632-Scan2021-03-17_191017-1.png --> done\n",
      "5.513942718505859\n"
     ]
    },
    {
     "name": "stderr",
     "output_type": "stream",
     "text": [
      "\r",
      "  1%|          | 11/1271 [00:54<1:40:07,  4.77s/it]"
     ]
    },
    {
     "name": "stdout",
     "output_type": "stream",
     "text": [
      "1001668279-1001668379-ANMA0101_494193051-1.png --> done\n",
      "3.8414053916931152\n"
     ]
    },
    {
     "name": "stderr",
     "output_type": "stream",
     "text": [
      "\r",
      "  1%|          | 12/1271 [00:57<1:29:58,  4.29s/it]"
     ]
    },
    {
     "name": "stdout",
     "output_type": "stream",
     "text": [
      "1001757234-1001757373-Arrival_Notice-1.png --> done\n",
      "3.1892526149749756\n"
     ]
    },
    {
     "name": "stderr",
     "output_type": "stream",
     "text": [
      "\r",
      "  1%|          | 13/1271 [01:07<2:04:11,  5.92s/it]"
     ]
    },
    {
     "name": "stdout",
     "output_type": "stream",
     "text": [
      "1001913402-1001914092-Scan2021-02-10_090918-1.png --> done\n",
      "9.686011791229248\n"
     ]
    },
    {
     "name": "stderr",
     "output_type": "stream",
     "text": [
      "\r",
      "  1%|          | 14/1271 [01:12<2:01:20,  5.79s/it]"
     ]
    },
    {
     "name": "stdout",
     "output_type": "stream",
     "text": [
      "1001951981-1500377992-ArrivalNoticeDataGathering-1.png --> done\n",
      "5.489777326583862\n"
     ]
    },
    {
     "name": "stderr",
     "output_type": "stream",
     "text": [
      "\r",
      "  1%|          | 15/1271 [01:15<1:44:20,  4.98s/it]"
     ]
    },
    {
     "name": "stdout",
     "output_type": "stream",
     "text": [
      "1002377408-1002377840-Untitled_04192021_054724-1.png --> done\n",
      "3.1106045246124268\n"
     ]
    },
    {
     "name": "stderr",
     "output_type": "stream",
     "text": [
      "\r",
      "  1%|▏         | 16/1271 [01:22<1:53:24,  5.42s/it]"
     ]
    },
    {
     "name": "stdout",
     "output_type": "stream",
     "text": [
      "1002444113-1569556403-BL2655321770-1.png --> done\n",
      "6.432635068893433\n"
     ]
    },
    {
     "name": "stderr",
     "output_type": "stream",
     "text": [
      "\r",
      "  1%|▏         | 17/1271 [01:25<1:40:08,  4.79s/it]"
     ]
    },
    {
     "name": "stdout",
     "output_type": "stream",
     "text": [
      "1002510124-1818503086-ArrivalNotice-S00068985-1.png --> done\n",
      "3.325000047683716\n"
     ]
    },
    {
     "name": "stderr",
     "output_type": "stream",
     "text": [
      "\r",
      "  1%|▏         | 18/1271 [01:29<1:35:44,  4.58s/it]"
     ]
    },
    {
     "name": "stdout",
     "output_type": "stream",
     "text": [
      "1002899593-743544282-ArrivalNotice-SSGNS0006833-1.png --> done\n",
      "4.102397441864014\n"
     ]
    },
    {
     "name": "stderr",
     "output_type": "stream",
     "text": [
      "\r",
      "  1%|▏         | 19/1271 [01:33<1:31:45,  4.40s/it]"
     ]
    },
    {
     "name": "stdout",
     "output_type": "stream",
     "text": [
      "1003101455-1003101211-ARN2-335485-1.png --> done\n",
      "3.9611198902130127\n"
     ]
    },
    {
     "name": "stderr",
     "output_type": "stream",
     "text": [
      "\r",
      "  2%|▏         | 20/1271 [01:37<1:30:52,  4.36s/it]"
     ]
    },
    {
     "name": "stdout",
     "output_type": "stream",
     "text": [
      "1003582257-1003582127-ArrivalNotice-SSGN0185528-1.png --> done\n",
      "4.266968488693237\n"
     ]
    },
    {
     "name": "stderr",
     "output_type": "stream",
     "text": [
      "\r",
      "  2%|▏         | 21/1271 [01:48<2:11:48,  6.33s/it]"
     ]
    },
    {
     "name": "stdout",
     "output_type": "stream",
     "text": [
      "1004168956-1004167303-Scan2021-04-06_192439-1.png --> done\n",
      "10.916172742843628\n"
     ]
    },
    {
     "name": "stderr",
     "output_type": "stream",
     "text": [
      "\r",
      "  2%|▏         | 22/1271 [01:52<1:55:38,  5.56s/it]"
     ]
    },
    {
     "name": "stdout",
     "output_type": "stream",
     "text": [
      "1004321301-1513368360-ArrivalNotice-SSSGN2120950-1.png --> done\n",
      "3.754310369491577\n"
     ]
    },
    {
     "name": "stderr",
     "output_type": "stream",
     "text": [
      "\r",
      "  2%|▏         | 23/1271 [01:57<1:48:47,  5.23s/it]"
     ]
    },
    {
     "name": "stdout",
     "output_type": "stream",
     "text": [
      "1004480422-1353250193-ARRIVALNOTICEFREIGHTINVOICE-JGLBVOAK20120545-1.png --> done\n",
      "4.473123788833618\n"
     ]
    },
    {
     "name": "stderr",
     "output_type": "stream",
     "text": [
      "\r",
      "  2%|▏         | 24/1271 [02:00<1:34:20,  4.54s/it]"
     ]
    },
    {
     "name": "stdout",
     "output_type": "stream",
     "text": [
      "1004805677-148506591-SalesInvoice4421545-1.png --> done\n",
      "2.9264976978302\n"
     ]
    },
    {
     "name": "stderr",
     "output_type": "stream",
     "text": [
      "\r",
      "  2%|▏         | 25/1271 [02:06<1:47:50,  5.19s/it]"
     ]
    },
    {
     "name": "stdout",
     "output_type": "stream",
     "text": [
      "100502514-1043169725-SP2000PurchaseInv-1.png --> done\n",
      "6.712830066680908\n"
     ]
    },
    {
     "name": "stderr",
     "output_type": "stream",
     "text": [
      "\r",
      "  2%|▏         | 26/1271 [02:13<2:00:20,  5.80s/it]"
     ]
    },
    {
     "name": "stdout",
     "output_type": "stream",
     "text": [
      "1005282089-1005282258-Scan2021-04-06_201258-1.png --> done\n",
      "7.212877511978149\n"
     ]
    },
    {
     "name": "stderr",
     "output_type": "stream",
     "text": [
      "\r",
      "  2%|▏         | 27/1271 [02:18<1:51:55,  5.40s/it]"
     ]
    },
    {
     "name": "stdout",
     "output_type": "stream",
     "text": [
      "1006304084-1006303945-ARRIVAL_NOTICE___FREIGHT_INVOICE_NSZ210200214-1.png --> done\n",
      "4.4640538692474365\n"
     ]
    },
    {
     "name": "stderr",
     "output_type": "stream",
     "text": [
      "\r",
      "  2%|▏         | 28/1271 [02:20<1:34:04,  4.54s/it]"
     ]
    },
    {
     "name": "stdout",
     "output_type": "stream",
     "text": [
      "100678791-699489342-CIPLUPDATE-1.png --> done\n",
      "2.5406410694122314\n"
     ]
    },
    {
     "name": "stderr",
     "output_type": "stream",
     "text": [
      "\r",
      "  2%|▏         | 29/1271 [02:27<1:44:29,  5.05s/it]"
     ]
    },
    {
     "name": "stdout",
     "output_type": "stream",
     "text": [
      "1007198061-751906207-BL2663693150-1.png --> done\n",
      "6.229928493499756\n"
     ]
    },
    {
     "name": "stderr",
     "output_type": "stream",
     "text": [
      "\r",
      "  2%|▏         | 30/1271 [02:30<1:32:42,  4.48s/it]"
     ]
    },
    {
     "name": "stdout",
     "output_type": "stream",
     "text": [
      "100760857-267103585-KX-U4A7-17-CI-WHS-420-10727153-1.png --> done\n",
      "3.1618528366088867\n"
     ]
    },
    {
     "name": "stderr",
     "output_type": "stream",
     "text": [
      "\r",
      "  2%|▏         | 31/1271 [02:34<1:29:45,  4.34s/it]"
     ]
    },
    {
     "name": "stdout",
     "output_type": "stream",
     "text": [
      "1007789598-303316875-AN-1.png --> done\n",
      "4.01814341545105\n"
     ]
    },
    {
     "name": "stderr",
     "output_type": "stream",
     "text": [
      "\r",
      "  3%|▎         | 32/1271 [02:37<1:24:56,  4.11s/it]"
     ]
    },
    {
     "name": "stdout",
     "output_type": "stream",
     "text": [
      "1008823546-1496577428-CoreNinearrivalnoticeONEYNB0BY1783800-1.png --> done\n",
      "3.578437328338623\n"
     ]
    },
    {
     "name": "stderr",
     "output_type": "stream",
     "text": [
      "\r",
      "  3%|▎         | 33/1271 [02:47<1:59:31,  5.79s/it]"
     ]
    },
    {
     "name": "stdout",
     "output_type": "stream",
     "text": [
      "100908041-1146092947-KX-H1H3-17-9223_INVOICEE986-PDF-1.png --> done\n",
      "9.710688591003418\n"
     ]
    },
    {
     "name": "stderr",
     "output_type": "stream",
     "text": [
      "\r",
      "  3%|▎         | 34/1271 [02:52<1:51:18,  5.40s/it]"
     ]
    },
    {
     "name": "stdout",
     "output_type": "stream",
     "text": [
      "1009616343-1759767815-arrival_notice_nochg_215119075130864-1.png --> done\n",
      "4.478341102600098\n"
     ]
    },
    {
     "name": "stderr",
     "output_type": "stream",
     "text": [
      "\r",
      "  3%|▎         | 35/1271 [02:58<1:55:57,  5.63s/it]"
     ]
    },
    {
     "name": "stdout",
     "output_type": "stream",
     "text": [
      "1009704997-1550725594-BL6281230720-1.png --> done\n",
      "6.158392429351807\n"
     ]
    },
    {
     "name": "stderr",
     "output_type": "stream",
     "text": [
      "\r",
      "  3%|▎         | 36/1271 [03:01<1:42:22,  4.97s/it]"
     ]
    },
    {
     "name": "stdout",
     "output_type": "stream",
     "text": [
      "1009704997-1550725594-BL6281230720-2.png --> done\n",
      "3.44535231590271\n"
     ]
    },
    {
     "name": "stderr",
     "output_type": "stream",
     "text": [
      "\r",
      "  3%|▎         | 37/1271 [03:09<1:59:41,  5.82s/it]"
     ]
    },
    {
     "name": "stdout",
     "output_type": "stream",
     "text": [
      "1010014361-1435915171-Scan2021-03-26_122529-1.png --> done\n",
      "7.791775226593018\n"
     ]
    },
    {
     "name": "stderr",
     "output_type": "stream",
     "text": [
      "\r",
      "  3%|▎         | 38/1271 [03:13<1:45:32,  5.14s/it]"
     ]
    },
    {
     "name": "stdout",
     "output_type": "stream",
     "text": [
      "1010058016-1010057873-ANMA0101_548063524-1.png --> done\n",
      "3.5407843589782715\n"
     ]
    },
    {
     "name": "stderr",
     "output_type": "stream",
     "text": [
      "\r",
      "  3%|▎         | 39/1271 [03:16<1:35:25,  4.65s/it]"
     ]
    },
    {
     "name": "stdout",
     "output_type": "stream",
     "text": [
      "1010444151-1430972634-ARRIVALNOTICEFORBLMEDUT0667526onGSLGRANIA115W-4.png --> done\n",
      "3.5074856281280518\n"
     ]
    },
    {
     "name": "stderr",
     "output_type": "stream",
     "text": [
      "\r",
      "  3%|▎         | 40/1271 [03:19<1:27:17,  4.25s/it]"
     ]
    },
    {
     "name": "stdout",
     "output_type": "stream",
     "text": [
      "1010506126-552815228-ANMA0101_501717790-1.png --> done\n",
      "3.337585926055908\n"
     ]
    },
    {
     "name": "stderr",
     "output_type": "stream",
     "text": [
      "\r",
      "  3%|▎         | 41/1271 [03:24<1:29:14,  4.35s/it]"
     ]
    },
    {
     "name": "stdout",
     "output_type": "stream",
     "text": [
      "1010689182-1986475096-todd-1.png --> done\n",
      "4.574584484100342\n"
     ]
    },
    {
     "name": "stderr",
     "output_type": "stream",
     "text": [
      "\r",
      "  3%|▎         | 42/1271 [03:28<1:27:14,  4.26s/it]"
     ]
    },
    {
     "name": "stdout",
     "output_type": "stream",
     "text": [
      "1010689182-1986475096-todd-4.png --> done\n",
      "4.032270908355713\n"
     ]
    },
    {
     "name": "stderr",
     "output_type": "stream",
     "text": [
      "\r",
      "  3%|▎         | 43/1271 [03:30<1:14:47,  3.65s/it]"
     ]
    },
    {
     "name": "stdout",
     "output_type": "stream",
     "text": [
      "101086558-101084761-101086558-101085770-JASSeaFreight2021-05-01-INVOICE-XLS-1.png --> done\n",
      "2.2425270080566406\n"
     ]
    },
    {
     "name": "stderr",
     "output_type": "stream",
     "text": [
      "\r",
      "  3%|▎         | 44/1271 [03:36<1:29:11,  4.36s/it]"
     ]
    },
    {
     "name": "stdout",
     "output_type": "stream",
     "text": [
      "1010972734-1010973534-PQTJXY_16223203_ARN_210404506301_20210330185813-1.png --> done\n",
      "6.010585784912109\n"
     ]
    },
    {
     "name": "stderr",
     "output_type": "stream",
     "text": [
      "\r",
      "  4%|▎         | 45/1271 [03:42<1:40:22,  4.91s/it]"
     ]
    },
    {
     "name": "stdout",
     "output_type": "stream",
     "text": [
      "101106333-1262797558-ArrivalNotice-2-6-10h20m53s-1.png --> done\n",
      "6.197224378585815\n"
     ]
    },
    {
     "name": "stderr",
     "output_type": "stream",
     "text": [
      "\r",
      "  4%|▎         | 46/1271 [03:46<1:30:35,  4.44s/it]"
     ]
    },
    {
     "name": "stdout",
     "output_type": "stream",
     "text": [
      "101193449-1611825958-19963731-4.png --> done\n",
      "3.328123092651367\n"
     ]
    },
    {
     "name": "stderr",
     "output_type": "stream",
     "text": [
      "\r",
      "  4%|▎         | 47/1271 [03:52<1:40:07,  4.91s/it]"
     ]
    },
    {
     "name": "stdout",
     "output_type": "stream",
     "text": [
      "101207317-1727802705-DS28426-96-STONEMOUNTAIN-MACY-BILL-1.png --> done\n",
      "6.006734132766724\n"
     ]
    },
    {
     "name": "stderr",
     "output_type": "stream",
     "text": [
      "\r",
      "  4%|▍         | 48/1271 [03:53<1:20:09,  3.93s/it]"
     ]
    },
    {
     "name": "stdout",
     "output_type": "stream",
     "text": [
      "101207317-1727802705-DS28426-96-STONEMOUNTAIN-MACY-BILL-2.png --> done\n",
      "1.6548488140106201\n"
     ]
    },
    {
     "name": "stderr",
     "output_type": "stream",
     "text": [
      "\r",
      "  4%|▍         | 49/1271 [04:02<1:46:15,  5.22s/it]"
     ]
    },
    {
     "name": "stdout",
     "output_type": "stream",
     "text": [
      "101219377-989965971-Scan2021-03-21_095433-1.png --> done\n",
      "8.216817617416382\n"
     ]
    },
    {
     "name": "stderr",
     "output_type": "stream",
     "text": [
      "\r",
      "  4%|▍         | 50/1271 [04:05<1:35:44,  4.71s/it]"
     ]
    },
    {
     "name": "stdout",
     "output_type": "stream",
     "text": [
      "101266490-1558345059-KX-G4D9-39-Doc-1.png --> done\n",
      "3.5013022422790527\n"
     ]
    },
    {
     "name": "stderr",
     "output_type": "stream",
     "text": [
      "\r",
      "  4%|▍         | 51/1271 [04:07<1:18:50,  3.88s/it]"
     ]
    },
    {
     "name": "stdout",
     "output_type": "stream",
     "text": [
      "101352736-1017484529-XLS-CIPLforNBMZ136913-1.png --> done\n",
      "1.9392335414886475\n"
     ]
    },
    {
     "name": "stderr",
     "output_type": "stream",
     "text": [
      "\r",
      "  4%|▍         | 52/1271 [04:10<1:10:02,  3.45s/it]"
     ]
    },
    {
     "name": "stdout",
     "output_type": "stream",
     "text": [
      "101352736-1090844567-XLS-CIPLforNBMZ136912-1.png --> done\n",
      "2.4424548149108887\n"
     ]
    },
    {
     "name": "stderr",
     "output_type": "stream",
     "text": [
      "\r",
      "  4%|▍         | 53/1271 [04:14<1:17:21,  3.81s/it]"
     ]
    },
    {
     "name": "stdout",
     "output_type": "stream",
     "text": [
      "101352736-451123617-NBMZ136912-1.png --> done\n",
      "4.657703161239624\n"
     ]
    },
    {
     "name": "stderr",
     "output_type": "stream",
     "text": [
      "\r",
      "  4%|▍         | 54/1271 [04:17<1:13:24,  3.62s/it]"
     ]
    },
    {
     "name": "stdout",
     "output_type": "stream",
     "text": [
      "101452381-714506117-7521FDINVOICEA1-1.png --> done\n",
      "3.164773464202881\n"
     ]
    },
    {
     "name": "stderr",
     "output_type": "stream",
     "text": [
      "\r",
      "  4%|▍         | 55/1271 [04:21<1:14:54,  3.70s/it]"
     ]
    },
    {
     "name": "stdout",
     "output_type": "stream",
     "text": [
      "1014722381-1215291387-ZHGNYCKB5056-1.png --> done\n",
      "3.867605447769165\n"
     ]
    },
    {
     "name": "stderr",
     "output_type": "stream",
     "text": [
      "\r",
      "  4%|▍         | 56/1271 [04:25<1:13:05,  3.61s/it]"
     ]
    },
    {
     "name": "stdout",
     "output_type": "stream",
     "text": [
      "1015514654-1278921498-DB_aabgbggbjgji0x0DD4-1.png --> done\n",
      "3.4078915119171143\n"
     ]
    },
    {
     "name": "stderr",
     "output_type": "stream",
     "text": [
      "\r",
      "  4%|▍         | 57/1271 [04:30<1:22:12,  4.06s/it]"
     ]
    },
    {
     "name": "stdout",
     "output_type": "stream",
     "text": [
      "1015615543-874236323-BL2650957711-1.png --> done\n",
      "5.122229814529419\n"
     ]
    },
    {
     "name": "stderr",
     "output_type": "stream",
     "text": [
      "\r",
      "  5%|▍         | 58/1271 [04:33<1:18:26,  3.88s/it]"
     ]
    },
    {
     "name": "stdout",
     "output_type": "stream",
     "text": [
      "1016533353-973297193-ArrivalNotice-SORD16014653-1.png --> done\n",
      "3.4514951705932617\n"
     ]
    },
    {
     "name": "stderr",
     "output_type": "stream",
     "text": [
      "\r",
      "  5%|▍         | 59/1271 [04:38<1:23:29,  4.13s/it]"
     ]
    },
    {
     "name": "stdout",
     "output_type": "stream",
     "text": [
      "1017283256-1015622019-KX-H1H3-27-ARRIVALNOTICEFORBLMEDUGY206872onMSCYURIDAIII216R-PDF-3.png --> done\n",
      "4.724644422531128\n"
     ]
    },
    {
     "name": "stderr",
     "output_type": "stream",
     "text": [
      "\r",
      "  5%|▍         | 60/1271 [04:43<1:29:47,  4.45s/it]"
     ]
    },
    {
     "name": "stdout",
     "output_type": "stream",
     "text": [
      "1017664466-1017662618-NXATHO_ARN_210625502704_20210527143316-1.png --> done\n",
      "5.18529486656189\n"
     ]
    },
    {
     "name": "stderr",
     "output_type": "stream",
     "text": [
      "\r",
      "  5%|▍         | 61/1271 [04:48<1:31:25,  4.53s/it]"
     ]
    },
    {
     "name": "stdout",
     "output_type": "stream",
     "text": [
      "1017841958-1367925478-ArrivalNotice-ConsigneeofHBLXMNATL14005X-1.png --> done\n",
      "4.730505466461182\n"
     ]
    },
    {
     "name": "stderr",
     "output_type": "stream",
     "text": [
      "\r",
      "  5%|▍         | 62/1271 [04:52<1:27:38,  4.35s/it]"
     ]
    },
    {
     "name": "stdout",
     "output_type": "stream",
     "text": [
      "1018649435-1018647587-ARRIVALNOTICE-NOBILLINGPO-1.png --> done\n",
      "3.918487787246704\n"
     ]
    },
    {
     "name": "stderr",
     "output_type": "stream",
     "text": [
      "\r",
      "  5%|▍         | 63/1271 [04:55<1:22:49,  4.11s/it]"
     ]
    },
    {
     "name": "stdout",
     "output_type": "stream",
     "text": [
      "1018678890-1018679278-arrivalnotice-1.png --> done\n",
      "3.5568196773529053\n"
     ]
    },
    {
     "name": "stderr",
     "output_type": "stream",
     "text": [
      "\r",
      "  5%|▌         | 64/1271 [04:59<1:16:37,  3.81s/it]"
     ]
    },
    {
     "name": "stdout",
     "output_type": "stream",
     "text": [
      "1019943069-1019943118-ANMA0101_548346285-1.png --> done\n",
      "3.0973193645477295\n"
     ]
    },
    {
     "name": "stderr",
     "output_type": "stream",
     "text": [
      "\r",
      "  5%|▌         | 65/1271 [05:02<1:17:25,  3.85s/it]"
     ]
    },
    {
     "name": "stdout",
     "output_type": "stream",
     "text": [
      "1020277697-1020277379-SSHAS0062774AN-1.png --> done\n",
      "3.9528908729553223\n"
     ]
    },
    {
     "name": "stderr",
     "output_type": "stream",
     "text": [
      "\r",
      "  5%|▌         | 66/1271 [05:06<1:17:20,  3.85s/it]"
     ]
    },
    {
     "name": "stdout",
     "output_type": "stream",
     "text": [
      "102043902-1386681411-ArrivalNotice-S2002886436-1.png --> done\n",
      "3.849041223526001\n"
     ]
    },
    {
     "name": "stderr",
     "output_type": "stream",
     "text": [
      "\r",
      "  5%|▌         | 67/1271 [05:12<1:29:27,  4.46s/it]"
     ]
    },
    {
     "name": "stdout",
     "output_type": "stream",
     "text": [
      "1020460491-1080850827-FRPT141464-1.png --> done\n",
      "5.8723530769348145\n"
     ]
    },
    {
     "name": "stderr",
     "output_type": "stream",
     "text": [
      "\r",
      "  5%|▌         | 68/1271 [05:16<1:27:26,  4.36s/it]"
     ]
    },
    {
     "name": "stdout",
     "output_type": "stream",
     "text": [
      "1020507918-1020507796-ArrivalNotice-SNFI0058100-2.png --> done\n",
      "4.134897947311401\n"
     ]
    },
    {
     "name": "stderr",
     "output_type": "stream",
     "text": [
      "\r",
      "  5%|▌         | 69/1271 [05:22<1:37:04,  4.85s/it]"
     ]
    },
    {
     "name": "stdout",
     "output_type": "stream",
     "text": [
      "1020602700-1598765638-BL6283165200-1.png --> done\n",
      "5.977149724960327\n"
     ]
    },
    {
     "name": "stderr",
     "output_type": "stream",
     "text": [
      "\r",
      "  6%|▌         | 70/1271 [05:25<1:26:01,  4.30s/it]"
     ]
    },
    {
     "name": "stdout",
     "output_type": "stream",
     "text": [
      "1020602700-1598765638-BL6283165200-2.png --> done\n",
      "3.0187439918518066\n"
     ]
    },
    {
     "name": "stderr",
     "output_type": "stream",
     "text": [
      "\r",
      "  6%|▌         | 71/1271 [05:29<1:22:58,  4.15s/it]"
     ]
    },
    {
     "name": "stdout",
     "output_type": "stream",
     "text": [
      "1021032190-777472710-SKM_C30822081816300-1.png --> done\n",
      "3.7933452129364014\n"
     ]
    },
    {
     "name": "stderr",
     "output_type": "stream",
     "text": [
      "\r",
      "  6%|▌         | 72/1271 [05:33<1:21:43,  4.09s/it]"
     ]
    },
    {
     "name": "stdout",
     "output_type": "stream",
     "text": [
      "10214998-253409753-206641262HBL-1.png --> done\n",
      "3.948852300643921\n"
     ]
    },
    {
     "name": "stderr",
     "output_type": "stream",
     "text": [
      "\r",
      "  6%|▌         | 73/1271 [05:37<1:20:41,  4.04s/it]"
     ]
    },
    {
     "name": "stdout",
     "output_type": "stream",
     "text": [
      "102271644-102271196-COMINVANDPACKINGLISTWKRETMET1-1 - Copy (2).png --> done\n",
      "3.929304361343384\n"
     ]
    },
    {
     "name": "stderr",
     "output_type": "stream",
     "text": [
      "\r",
      "  6%|▌         | 74/1271 [05:41<1:20:07,  4.02s/it]"
     ]
    },
    {
     "name": "stdout",
     "output_type": "stream",
     "text": [
      "102271644-102271196-COMINVANDPACKINGLISTWKRETMET1-1 - Copy.png --> done\n",
      "3.957698345184326\n"
     ]
    },
    {
     "name": "stderr",
     "output_type": "stream",
     "text": [
      "\r",
      "  6%|▌         | 75/1271 [05:45<1:18:01,  3.91s/it]"
     ]
    },
    {
     "name": "stdout",
     "output_type": "stream",
     "text": [
      "102271644-102271196-COMINVANDPACKINGLISTWKRETMET1-1.png --> done\n",
      "3.675377368927002\n"
     ]
    },
    {
     "name": "stderr",
     "output_type": "stream",
     "text": [
      "\r",
      "  6%|▌         | 76/1271 [05:50<1:28:59,  4.47s/it]"
     ]
    },
    {
     "name": "stdout",
     "output_type": "stream",
     "text": [
      "102271644-102271198-COMINVANDPACKINGLISTWKRETMET2-2.png --> done\n",
      "5.7523720264434814\n"
     ]
    },
    {
     "name": "stderr",
     "output_type": "stream",
     "text": [
      "\r",
      "  6%|▌         | 77/1271 [05:57<1:39:56,  5.02s/it]"
     ]
    },
    {
     "name": "stdout",
     "output_type": "stream",
     "text": [
      "1023202382-1182076528-Scan2021-01-27_144341-1.png --> done\n",
      "6.314514398574829\n"
     ]
    },
    {
     "name": "stderr",
     "output_type": "stream",
     "text": [
      "\r",
      "  6%|▌         | 78/1271 [06:00<1:29:45,  4.51s/it]"
     ]
    },
    {
     "name": "stdout",
     "output_type": "stream",
     "text": [
      "102416900-1318206006-CI_4034581-1.png --> done\n",
      "3.3294661045074463\n"
     ]
    },
    {
     "name": "stderr",
     "output_type": "stream",
     "text": [
      "\r",
      "  6%|▌         | 79/1271 [06:03<1:17:28,  3.90s/it]"
     ]
    },
    {
     "name": "stdout",
     "output_type": "stream",
     "text": [
      "1025757964-35862898-express_release_83168_20210510102240-1.png --> done\n",
      "2.4656245708465576\n"
     ]
    },
    {
     "name": "stderr",
     "output_type": "stream",
     "text": [
      "\r",
      "  6%|▋         | 80/1271 [06:06<1:16:45,  3.87s/it]"
     ]
    },
    {
     "name": "stdout",
     "output_type": "stream",
     "text": [
      "102642685-443676141-KX-W2H6-5204-Invoice-S01816302-PDF-1.png --> done\n",
      "3.7888331413269043\n"
     ]
    },
    {
     "name": "stderr",
     "output_type": "stream",
     "text": [
      "\r",
      "  6%|▋         | 81/1271 [06:11<1:23:37,  4.22s/it]"
     ]
    },
    {
     "name": "stdout",
     "output_type": "stream",
     "text": [
      "1027510754-34553411-ArrivalNotice-SLGBSI013395-1.png --> done\n",
      "5.031650066375732\n"
     ]
    },
    {
     "name": "stderr",
     "output_type": "stream",
     "text": [
      "\r",
      "  6%|▋         | 82/1271 [06:18<1:35:17,  4.81s/it]"
     ]
    },
    {
     "name": "stdout",
     "output_type": "stream",
     "text": [
      "1027662154-1068991347-2021GTG09264-1.png --> done\n",
      "6.191293716430664\n"
     ]
    },
    {
     "name": "stderr",
     "output_type": "stream",
     "text": [
      "\r",
      "  7%|▋         | 83/1271 [06:21<1:26:32,  4.37s/it]"
     ]
    },
    {
     "name": "stdout",
     "output_type": "stream",
     "text": [
      "1028377683-535140692-Pre-Alert-S01307762-1.png --> done\n",
      "3.348052501678467\n"
     ]
    },
    {
     "name": "stderr",
     "output_type": "stream",
     "text": [
      "\r",
      "  7%|▋         | 84/1271 [06:26<1:28:04,  4.45s/it]"
     ]
    },
    {
     "name": "stdout",
     "output_type": "stream",
     "text": [
      "1028497101-918215283-QDOLAXL14127-1.png --> done\n",
      "4.641316652297974\n"
     ]
    },
    {
     "name": "stderr",
     "output_type": "stream",
     "text": [
      "\r",
      "  7%|▋         | 85/1271 [06:29<1:23:17,  4.21s/it]"
     ]
    },
    {
     "name": "stdout",
     "output_type": "stream",
     "text": [
      "102938595-1442625694-XLSX-Inv1620019770-1.png --> done\n",
      "3.6569790840148926\n"
     ]
    },
    {
     "name": "stderr",
     "output_type": "stream",
     "text": [
      "\r",
      "  7%|▋         | 86/1271 [06:34<1:25:34,  4.33s/it]"
     ]
    },
    {
     "name": "stdout",
     "output_type": "stream",
     "text": [
      "102938595-1442632023-Inv16200197711-1.png --> done\n",
      "4.61220908164978\n"
     ]
    },
    {
     "name": "stderr",
     "output_type": "stream",
     "text": [
      "\r",
      "  7%|▋         | 87/1271 [06:35<1:08:47,  3.49s/it]"
     ]
    },
    {
     "name": "stdout",
     "output_type": "stream",
     "text": [
      "10308622-10306349-DRAFTBL-PIFD20-2463POPO001339PG2-1.png --> done\n",
      "1.5084969997406006\n"
     ]
    },
    {
     "name": "stderr",
     "output_type": "stream",
     "text": [
      "\r",
      "  7%|▋         | 88/1271 [06:41<1:20:31,  4.08s/it]"
     ]
    },
    {
     "name": "stdout",
     "output_type": "stream",
     "text": [
      "1031038851-1031038897-KX-O3A5-337-CAN-1.png --> done\n",
      "5.480373859405518\n"
     ]
    },
    {
     "name": "stderr",
     "output_type": "stream",
     "text": [
      "\r",
      "  7%|▋         | 89/1271 [06:47<1:32:24,  4.69s/it]"
     ]
    },
    {
     "name": "stdout",
     "output_type": "stream",
     "text": [
      "103181614-1116994062-COMMERCIALINVOICE6PAGE-1.png --> done\n",
      "6.106809377670288\n"
     ]
    },
    {
     "name": "stderr",
     "output_type": "stream",
     "text": [
      "\r",
      "  7%|▋         | 90/1271 [06:50<1:23:36,  4.25s/it]"
     ]
    },
    {
     "name": "stdout",
     "output_type": "stream",
     "text": [
      "103232477-724954821-KX-G5A4-2-doc009047202102051119361-1.png --> done\n",
      "3.2076122760772705\n"
     ]
    },
    {
     "name": "stderr",
     "output_type": "stream",
     "text": [
      "\r",
      "  7%|▋         | 91/1271 [06:58<1:44:26,  5.31s/it]"
     ]
    },
    {
     "name": "stdout",
     "output_type": "stream",
     "text": [
      "1033071151-1033071480-Scan2021-03-01_0830321-1.png --> done\n",
      "7.790191888809204\n"
     ]
    },
    {
     "name": "stderr",
     "output_type": "stream",
     "text": [
      "\r",
      "  7%|▋         | 92/1271 [07:02<1:34:54,  4.83s/it]"
     ]
    },
    {
     "name": "stdout",
     "output_type": "stream",
     "text": [
      "1033868228-922600563-ArrivalNotice-1.png --> done\n",
      "3.7072885036468506\n"
     ]
    },
    {
     "name": "stderr",
     "output_type": "stream",
     "text": [
      "\r",
      "  7%|▋         | 93/1271 [07:10<1:56:09,  5.92s/it]"
     ]
    },
    {
     "name": "stdout",
     "output_type": "stream",
     "text": [
      "1034055330-1279736061-WOLFFINALDOCUMENTS-1.png --> done\n",
      "8.451303958892822\n"
     ]
    },
    {
     "name": "stderr",
     "output_type": "stream",
     "text": [
      "\r",
      "  7%|▋         | 94/1271 [07:16<1:55:25,  5.88s/it]"
     ]
    },
    {
     "name": "stdout",
     "output_type": "stream",
     "text": [
      "1035123412-68635436-205266-INVOICE-OCURAUK-1.png --> done\n",
      "5.809250116348267\n"
     ]
    },
    {
     "name": "stderr",
     "output_type": "stream",
     "text": [
      "\r",
      "  7%|▋         | 95/1271 [07:20<1:43:31,  5.28s/it]"
     ]
    },
    {
     "name": "stdout",
     "output_type": "stream",
     "text": [
      "103808872-134286164-FATTURAPROF2-60DEL08032021-1.png --> done\n",
      "3.8745760917663574\n"
     ]
    },
    {
     "name": "stderr",
     "output_type": "stream",
     "text": [
      "\r",
      "  8%|▊         | 96/1271 [07:23<1:32:33,  4.73s/it]"
     ]
    },
    {
     "name": "stdout",
     "output_type": "stream",
     "text": [
      "103833032-103833127-Binder1-3.png --> done\n",
      "3.4323890209198\n"
     ]
    },
    {
     "name": "stderr",
     "output_type": "stream",
     "text": [
      "\r",
      "  8%|▊         | 97/1271 [07:31<1:51:10,  5.68s/it]"
     ]
    },
    {
     "name": "stdout",
     "output_type": "stream",
     "text": [
      "1038552608-1267626488-KX-H1H3-10-ArrivalNotice-4-27-14h52m3s-PDF-1.png --> done\n",
      "7.909036159515381\n"
     ]
    },
    {
     "name": "stderr",
     "output_type": "stream",
     "text": [
      "\r",
      "  8%|▊         | 98/1271 [07:35<1:39:10,  5.07s/it]"
     ]
    },
    {
     "name": "stdout",
     "output_type": "stream",
     "text": [
      "1038839767-708020006-IN22-0064-1.png --> done\n",
      "3.6531741619110107\n"
     ]
    },
    {
     "name": "stderr",
     "output_type": "stream",
     "text": [
      "\r",
      "  8%|▊         | 99/1271 [07:40<1:39:08,  5.08s/it]"
     ]
    },
    {
     "name": "stdout",
     "output_type": "stream",
     "text": [
      "1039049680-1039049001-ASHLEY_20210607122918_OIDV21E118_DEVEX21051021_OIH_AN-1.png --> done\n",
      "5.079805612564087\n"
     ]
    },
    {
     "name": "stderr",
     "output_type": "stream",
     "text": [
      "\r",
      "  8%|▊         | 100/1271 [07:51<2:17:12,  7.03s/it]"
     ]
    },
    {
     "name": "stdout",
     "output_type": "stream",
     "text": [
      "1040281359-1040280599-CMACGM_Notice_of_Arrival_CMA_CGM_G_WASHINGTON__0TX88W1MA_9305159726005000-2.png --> done\n",
      "11.591615915298462\n"
     ]
    },
    {
     "name": "stderr",
     "output_type": "stream",
     "text": [
      "\r",
      "  8%|▊         | 101/1271 [07:56<2:02:12,  6.27s/it]"
     ]
    },
    {
     "name": "stdout",
     "output_type": "stream",
     "text": [
      "1041072496-1342550969-SHA202011193MANIFEST-1.png --> done\n",
      "4.487552881240845\n"
     ]
    },
    {
     "name": "stderr",
     "output_type": "stream",
     "text": [
      "\r",
      "  8%|▊         | 102/1271 [07:59<1:41:08,  5.19s/it]"
     ]
    },
    {
     "name": "stdout",
     "output_type": "stream",
     "text": [
      "1041698232-1041698105-NH202103195-1.png --> done\n",
      "2.679823160171509\n"
     ]
    },
    {
     "name": "stderr",
     "output_type": "stream",
     "text": [
      "\r",
      "  8%|▊         | 103/1271 [08:04<1:44:26,  5.37s/it]"
     ]
    },
    {
     "name": "stdout",
     "output_type": "stream",
     "text": [
      "104212634-104213339-KX-W2H6-4456-BL2655157713-1.png --> done\n",
      "5.7713611125946045\n"
     ]
    },
    {
     "name": "stderr",
     "output_type": "stream",
     "text": [
      "\r",
      "  8%|▊         | 104/1271 [08:08<1:33:52,  4.83s/it]"
     ]
    },
    {
     "name": "stdout",
     "output_type": "stream",
     "text": [
      "104305140-104304901-KX-B7H7-81-WHS-17912-8576436Invoice-1.png --> done\n",
      "3.569430351257324\n"
     ]
    },
    {
     "name": "stderr",
     "output_type": "stream",
     "text": [
      "\r",
      "  8%|▊         | 105/1271 [08:11<1:24:39,  4.36s/it]"
     ]
    },
    {
     "name": "stdout",
     "output_type": "stream",
     "text": [
      "1043372622-1568438189-E054636285-1.png --> done\n",
      "3.2525460720062256\n"
     ]
    },
    {
     "name": "stderr",
     "output_type": "stream",
     "text": [
      "\r",
      "  8%|▊         | 106/1271 [08:18<1:40:04,  5.15s/it]"
     ]
    },
    {
     "name": "stdout",
     "output_type": "stream",
     "text": [
      "1043467844-1043468036-Scan2021-04-07_085522-1.png --> done\n",
      "7.014829635620117\n"
     ]
    },
    {
     "name": "stderr",
     "output_type": "stream",
     "text": [
      "\r",
      "  8%|▊         | 107/1271 [08:23<1:35:15,  4.91s/it]"
     ]
    },
    {
     "name": "stdout",
     "output_type": "stream",
     "text": [
      "1044605830-786986321-MEDUCR244780-1.png --> done\n",
      "4.339319944381714\n"
     ]
    },
    {
     "name": "stderr",
     "output_type": "stream",
     "text": [
      "\r",
      "  8%|▊         | 108/1271 [08:26<1:26:44,  4.48s/it]"
     ]
    },
    {
     "name": "stdout",
     "output_type": "stream",
     "text": [
      "1045471554-1045471257-ANMA0101_337485247-1.png --> done\n",
      "3.458789825439453\n"
     ]
    },
    {
     "name": "stderr",
     "output_type": "stream",
     "text": [
      "\r",
      "  9%|▊         | 109/1271 [08:30<1:23:10,  4.29s/it]"
     ]
    },
    {
     "name": "stdout",
     "output_type": "stream",
     "text": [
      "1046926072-159880082-IN22-0054-1.png --> done\n",
      "3.866595506668091\n"
     ]
    },
    {
     "name": "stderr",
     "output_type": "stream",
     "text": [
      "\r",
      "  9%|▊         | 110/1271 [08:34<1:20:55,  4.18s/it]"
     ]
    },
    {
     "name": "stdout",
     "output_type": "stream",
     "text": [
      "1047600351-1047600218-ANGZSE20100205-1.png --> done\n",
      "3.918736457824707\n"
     ]
    },
    {
     "name": "stderr",
     "output_type": "stream",
     "text": [
      "\r",
      "  9%|▊         | 111/1271 [08:39<1:27:13,  4.51s/it]"
     ]
    },
    {
     "name": "stdout",
     "output_type": "stream",
     "text": [
      "104814952-104814602-BILLOFLADING-54BOM0011713-1.png --> done\n",
      "5.279160261154175\n"
     ]
    },
    {
     "name": "stderr",
     "output_type": "stream",
     "text": [
      "\r",
      "  9%|▉         | 112/1271 [08:43<1:22:33,  4.27s/it]"
     ]
    },
    {
     "name": "stdout",
     "output_type": "stream",
     "text": [
      "104840296-104840405-InvoiceAlpan-1.png --> done\n",
      "3.7171502113342285\n"
     ]
    },
    {
     "name": "stderr",
     "output_type": "stream",
     "text": [
      "\r",
      "  9%|▉         | 113/1271 [08:48<1:25:29,  4.43s/it]"
     ]
    },
    {
     "name": "stdout",
     "output_type": "stream",
     "text": [
      "1048928884-649817004-KX-L4H6-65-ARRIVALNOTICEFREIGHTINVOICE-SH2104019262-PDF-1.png --> done\n",
      "4.793428421020508\n"
     ]
    },
    {
     "name": "stderr",
     "output_type": "stream",
     "text": [
      "\r",
      "  9%|▉         | 114/1271 [08:52<1:24:58,  4.41s/it]"
     ]
    },
    {
     "name": "stdout",
     "output_type": "stream",
     "text": [
      "1049220374-1049220136-ARRIVALNOTICECHARGEABLEITEMSHBLSE2103-0196-01A-FMBLOOLU2661598690-1.png --> done\n",
      "4.3516459465026855\n"
     ]
    },
    {
     "name": "stderr",
     "output_type": "stream",
     "text": [
      "\r",
      "  9%|▉         | 115/1271 [08:55<1:19:17,  4.12s/it]"
     ]
    },
    {
     "name": "stdout",
     "output_type": "stream",
     "text": [
      "1050157570-1050157814-ANMA0101_337597604-1.png --> done\n",
      "3.435305595397949\n"
     ]
    },
    {
     "name": "stderr",
     "output_type": "stream",
     "text": [
      "\r",
      "  9%|▉         | 116/1271 [08:59<1:16:18,  3.96s/it]"
     ]
    },
    {
     "name": "stdout",
     "output_type": "stream",
     "text": [
      "1050912480-2145090237-ARRIVALNOTICE-NOBILLINGPO1-1.png --> done\n",
      "3.602383852005005\n"
     ]
    },
    {
     "name": "stderr",
     "output_type": "stream",
     "text": [
      "\r",
      "  9%|▉         | 117/1271 [09:02<1:10:48,  3.68s/it]"
     ]
    },
    {
     "name": "stdout",
     "output_type": "stream",
     "text": [
      "105102653-1735796378-ndip-029invpli-2.png --> done\n",
      "3.0221095085144043\n"
     ]
    },
    {
     "name": "stderr",
     "output_type": "stream",
     "text": [
      "\r",
      "  9%|▉         | 118/1271 [09:05<1:05:40,  3.42s/it]"
     ]
    },
    {
     "name": "stdout",
     "output_type": "stream",
     "text": [
      "1051761237-640996483-NoticeofArrivalOPDR21OLK003466AA000036_1055_26_0-1.png --> done\n",
      "2.802340269088745\n"
     ]
    },
    {
     "name": "stderr",
     "output_type": "stream",
     "text": [
      "\r",
      "  9%|▉         | 119/1271 [09:11<1:21:07,  4.23s/it]"
     ]
    },
    {
     "name": "stdout",
     "output_type": "stream",
     "text": [
      "1052157049-163651663-20220513110141482-1.png --> done\n",
      "6.109421730041504\n"
     ]
    },
    {
     "name": "stderr",
     "output_type": "stream",
     "text": [
      "\r",
      "  9%|▉         | 120/1271 [09:17<1:30:14,  4.70s/it]"
     ]
    },
    {
     "name": "stdout",
     "output_type": "stream",
     "text": [
      "1052482283-1039247821-SKM_C3851FS21050717490-1.png --> done\n",
      "5.820867538452148\n"
     ]
    },
    {
     "name": "stderr",
     "output_type": "stream",
     "text": [
      "\r",
      " 10%|▉         | 121/1271 [09:22<1:32:26,  4.82s/it]"
     ]
    },
    {
     "name": "stdout",
     "output_type": "stream",
     "text": [
      "1052669454-1052670337-FRPT317185-1.png --> done\n",
      "5.1006691455841064\n"
     ]
    },
    {
     "name": "stderr",
     "output_type": "stream",
     "text": [
      "\r",
      " 10%|▉         | 122/1271 [09:25<1:25:07,  4.44s/it]"
     ]
    },
    {
     "name": "stdout",
     "output_type": "stream",
     "text": [
      "1053319967-794379280-ArrivalNotice-S00009414-1.png --> done\n",
      "3.5613226890563965\n"
     ]
    },
    {
     "name": "stderr",
     "output_type": "stream",
     "text": [
      "\r",
      " 10%|▉         | 123/1271 [09:31<1:32:29,  4.83s/it]"
     ]
    },
    {
     "name": "stdout",
     "output_type": "stream",
     "text": [
      "1054030031-1054030528-Scan2021-04-07_0917071-1.png --> done\n",
      "5.743237495422363\n"
     ]
    },
    {
     "name": "stderr",
     "output_type": "stream",
     "text": [
      "\r",
      " 10%|▉         | 124/1271 [09:34<1:19:43,  4.17s/it]"
     ]
    },
    {
     "name": "stdout",
     "output_type": "stream",
     "text": [
      "1054316381-1054314698-BookingNoticeofArrival5765799210205142159_220_9_0-1.png --> done\n",
      "2.619825839996338\n"
     ]
    },
    {
     "name": "stderr",
     "output_type": "stream",
     "text": [
      "\r",
      " 10%|▉         | 125/1271 [09:37<1:14:59,  3.93s/it]"
     ]
    },
    {
     "name": "stdout",
     "output_type": "stream",
     "text": [
      "1055349464-2073048362-KX-S6H3-44-USLAX-1-691049-PreAlertofArrivalUSA-1.png --> done\n",
      "3.3583292961120605\n"
     ]
    },
    {
     "name": "stderr",
     "output_type": "stream",
     "text": [
      "\r",
      " 10%|▉         | 126/1271 [09:41<1:17:32,  4.06s/it]"
     ]
    },
    {
     "name": "stdout",
     "output_type": "stream",
     "text": [
      "1056070924-2033604119-ARVNOT_05644567-1.png --> done\n",
      "4.375647068023682\n"
     ]
    },
    {
     "name": "stderr",
     "output_type": "stream",
     "text": [
      "\r",
      " 10%|▉         | 127/1271 [09:46<1:22:18,  4.32s/it]"
     ]
    },
    {
     "name": "stdout",
     "output_type": "stream",
     "text": [
      "1057579621-1057579976-Scan2021-04-01_124740-rotated-1.png --> done\n",
      "4.907028913497925\n"
     ]
    },
    {
     "name": "stderr",
     "output_type": "stream",
     "text": [
      "\r",
      " 10%|█         | 128/1271 [09:50<1:20:03,  4.20s/it]"
     ]
    },
    {
     "name": "stdout",
     "output_type": "stream",
     "text": [
      "105933643-1529064147-YANGMINGMANIFEST-1.png --> done\n",
      "3.935697555541992\n"
     ]
    },
    {
     "name": "stderr",
     "output_type": "stream",
     "text": [
      "\r",
      " 10%|█         | 129/1271 [09:55<1:23:27,  4.38s/it]"
     ]
    },
    {
     "name": "stdout",
     "output_type": "stream",
     "text": [
      "105958527-1562109580-BLKLLAX2106184-1.png --> done\n",
      "4.809765815734863\n"
     ]
    },
    {
     "name": "stderr",
     "output_type": "stream",
     "text": [
      "\r",
      " 10%|█         | 130/1271 [10:04<1:51:37,  5.87s/it]"
     ]
    },
    {
     "name": "stdout",
     "output_type": "stream",
     "text": [
      "105958527-819539355-CIPL_BLKLLAX2106184-1.png --> done\n",
      "9.334604978561401\n"
     ]
    },
    {
     "name": "stderr",
     "output_type": "stream",
     "text": [
      "\r",
      " 10%|█         | 131/1271 [10:09<1:43:09,  5.43s/it]"
     ]
    },
    {
     "name": "stdout",
     "output_type": "stream",
     "text": [
      "1060983608-827633678-SHA210053000_BNV21AN00131-1.png --> done\n",
      "4.402006149291992\n"
     ]
    },
    {
     "name": "stderr",
     "output_type": "stream",
     "text": [
      "\r",
      " 10%|█         | 132/1271 [10:17<2:00:55,  6.37s/it]"
     ]
    },
    {
     "name": "stdout",
     "output_type": "stream",
     "text": [
      "1061326761-135245176-Scan2021-02-02_182415-1.png --> done\n",
      "8.563198804855347\n"
     ]
    },
    {
     "name": "stderr",
     "output_type": "stream",
     "text": [
      "\r",
      " 10%|█         | 133/1271 [10:29<2:32:04,  8.02s/it]"
     ]
    },
    {
     "name": "stdout",
     "output_type": "stream",
     "text": [
      "1062398017-1062398702-Scan2021-04-07_114952-1.png --> done\n",
      "11.864084959030151\n"
     ]
    },
    {
     "name": "stderr",
     "output_type": "stream",
     "text": [
      "\r",
      " 11%|█         | 134/1271 [10:33<2:09:10,  6.82s/it]"
     ]
    },
    {
     "name": "stdout",
     "output_type": "stream",
     "text": [
      "1062480833-736266537-ArrivalNotice-S00008098-1.png --> done\n",
      "4.013414144515991\n"
     ]
    },
    {
     "name": "stderr",
     "output_type": "stream",
     "text": [
      "\r",
      " 11%|█         | 135/1271 [10:37<1:48:56,  5.75s/it]"
     ]
    },
    {
     "name": "stdout",
     "output_type": "stream",
     "text": [
      "1062833677-1062834136-Scan2021-01-08_112145-1.png --> done\n",
      "3.2755558490753174\n"
     ]
    },
    {
     "name": "stderr",
     "output_type": "stream",
     "text": [
      "\r",
      " 11%|█         | 136/1271 [10:40<1:35:06,  5.03s/it]"
     ]
    },
    {
     "name": "stdout",
     "output_type": "stream",
     "text": [
      "1063508040-1063508150-NoticeofArrivalOPDR21CFH00203177500240_1097_42_0-1.png --> done\n",
      "3.331125497817993\n"
     ]
    },
    {
     "name": "stderr",
     "output_type": "stream",
     "text": [
      "\r",
      " 11%|█         | 137/1271 [10:48<1:51:49,  5.92s/it]"
     ]
    },
    {
     "name": "stdout",
     "output_type": "stream",
     "text": [
      "106427687-1911119930-4069HMES1096130954-3.png --> done\n",
      "7.989822626113892\n"
     ]
    },
    {
     "name": "stderr",
     "output_type": "stream",
     "text": [
      "\r",
      " 11%|█         | 138/1271 [10:54<1:54:56,  6.09s/it]"
     ]
    },
    {
     "name": "stdout",
     "output_type": "stream",
     "text": [
      "106456353-10994494-INVOICE1064-1.png --> done\n",
      "6.484610080718994\n"
     ]
    },
    {
     "name": "stderr",
     "output_type": "stream",
     "text": [
      "\r",
      " 11%|█         | 139/1271 [11:03<2:10:24,  6.91s/it]"
     ]
    },
    {
     "name": "stdout",
     "output_type": "stream",
     "text": [
      "106456353-10994494-INVOICE1064-2.png --> done\n",
      "8.836994886398315\n"
     ]
    },
    {
     "name": "stderr",
     "output_type": "stream",
     "text": [
      "\r",
      " 11%|█         | 140/1271 [11:06<1:47:34,  5.71s/it]"
     ]
    },
    {
     "name": "stdout",
     "output_type": "stream",
     "text": [
      "106456353-1268500740-XLSX-LOG9197-1.png --> done\n",
      "2.895075798034668\n"
     ]
    },
    {
     "name": "stderr",
     "output_type": "stream",
     "text": [
      "\r",
      " 11%|█         | 141/1271 [11:09<1:32:40,  4.92s/it]"
     ]
    },
    {
     "name": "stdout",
     "output_type": "stream",
     "text": [
      "1064835022-836351625-Invoiceno331220780510121492-1.png --> done\n",
      "3.086747407913208\n"
     ]
    },
    {
     "name": "stderr",
     "output_type": "stream",
     "text": [
      "\r",
      " 11%|█         | 142/1271 [11:12<1:18:52,  4.19s/it]"
     ]
    },
    {
     "name": "stdout",
     "output_type": "stream",
     "text": [
      "1064835022-836351625-Invoiceno331220780510121492-2.png --> done\n",
      "2.489532470703125\n"
     ]
    },
    {
     "name": "stderr",
     "output_type": "stream",
     "text": [
      "\r",
      " 11%|█▏        | 143/1271 [11:16<1:17:14,  4.11s/it]"
     ]
    },
    {
     "name": "stdout",
     "output_type": "stream",
     "text": [
      "1065595261-1065594936-ANLIFESTYLEDGS-210093S-1.png --> done\n",
      "3.9134232997894287\n"
     ]
    },
    {
     "name": "stderr",
     "output_type": "stream",
     "text": [
      "\r",
      " 11%|█▏        | 144/1271 [11:23<1:35:26,  5.08s/it]"
     ]
    },
    {
     "name": "stdout",
     "output_type": "stream",
     "text": [
      "1066095922-1370694776-Scan2021-05-06_202439-1.png --> done\n",
      "7.345175743103027\n"
     ]
    },
    {
     "name": "stderr",
     "output_type": "stream",
     "text": [
      "\r",
      " 11%|█▏        | 145/1271 [11:27<1:29:02,  4.74s/it]"
     ]
    },
    {
     "name": "stdout",
     "output_type": "stream",
     "text": [
      "106645743-1074379438-MRT-REV1BOLSGLAX2108675-PO0000080281-2-1CMAU6200079-TC-ETDAUG-09-2021-1.png --> done\n",
      "3.958104372024536\n"
     ]
    },
    {
     "name": "stderr",
     "output_type": "stream",
     "text": [
      "\r",
      " 11%|█▏        | 146/1271 [11:30<1:20:17,  4.28s/it]"
     ]
    },
    {
     "name": "stdout",
     "output_type": "stream",
     "text": [
      "1068201599-1447785290-BrokerArrivalNotice-CHRRef352071444-1.png --> done\n",
      "3.2030436992645264\n"
     ]
    },
    {
     "name": "stderr",
     "output_type": "stream",
     "text": [
      "\r",
      " 12%|█▏        | 147/1271 [11:36<1:31:23,  4.88s/it]"
     ]
    },
    {
     "name": "stdout",
     "output_type": "stream",
     "text": [
      "107012010-2108785077-KX-T0B3-17-PreAdviceArrivalNoticeStatusUpdate_9Z8298_20210324_170018-1.png --> done\n",
      "6.267439603805542\n"
     ]
    },
    {
     "name": "stderr",
     "output_type": "stream",
     "text": [
      "\r",
      " 12%|█▏        | 148/1271 [11:46<1:58:28,  6.33s/it]"
     ]
    },
    {
     "name": "stdout",
     "output_type": "stream",
     "text": [
      "1070314746-1070315127-Scan2021-01-08_180033-1.png --> done\n",
      "9.716578483581543\n"
     ]
    },
    {
     "name": "stderr",
     "output_type": "stream",
     "text": [
      "\r",
      " 12%|█▏        | 149/1271 [11:50<1:44:50,  5.61s/it]"
     ]
    },
    {
     "name": "stdout",
     "output_type": "stream",
     "text": [
      "107114862-707255583-ArrivalNotice-S20I095224-1.png --> done\n",
      "3.9181771278381348\n"
     ]
    },
    {
     "name": "stderr",
     "output_type": "stream",
     "text": [
      "\r",
      " 12%|█▏        | 150/1271 [11:57<1:52:36,  6.03s/it]"
     ]
    },
    {
     "name": "stdout",
     "output_type": "stream",
     "text": [
      "1071258219-1467089849-ENGO21010538-1.png --> done\n",
      "7.0094153881073\n"
     ]
    },
    {
     "name": "stderr",
     "output_type": "stream",
     "text": [
      "\r",
      " 12%|█▏        | 151/1271 [12:02<1:47:27,  5.76s/it]"
     ]
    },
    {
     "name": "stdout",
     "output_type": "stream",
     "text": [
      "1071783224-1413678347-UWBQLO_16180650_ARN_210312502101_20210302203328-1.png --> done\n",
      "5.125104188919067\n"
     ]
    },
    {
     "name": "stderr",
     "output_type": "stream",
     "text": [
      "\r",
      " 12%|█▏        | 152/1271 [12:07<1:41:10,  5.42s/it]"
     ]
    },
    {
     "name": "stdout",
     "output_type": "stream",
     "text": [
      "1071783224-1413678347-UWBQLO_16180650_ARN_210312502101_20210302203328-3.png --> done\n",
      "4.648797273635864\n"
     ]
    },
    {
     "name": "stderr",
     "output_type": "stream",
     "text": [
      "\r",
      " 12%|█▏        | 153/1271 [12:09<1:23:25,  4.48s/it]"
     ]
    },
    {
     "name": "stdout",
     "output_type": "stream",
     "text": [
      "1072302338-1072302586-ArrivalNoticePRIM5X21030135-1.png --> done\n",
      "2.2572169303894043\n"
     ]
    },
    {
     "name": "stderr",
     "output_type": "stream",
     "text": [
      "\r",
      " 12%|█▏        | 154/1271 [12:12<1:14:59,  4.03s/it]"
     ]
    },
    {
     "name": "stdout",
     "output_type": "stream",
     "text": [
      "1072915572-1709337583-BL2662718520-2.png --> done\n",
      "2.9803307056427\n"
     ]
    },
    {
     "name": "stderr",
     "output_type": "stream",
     "text": [
      "\r",
      " 12%|█▏        | 155/1271 [12:17<1:20:00,  4.30s/it]"
     ]
    },
    {
     "name": "stdout",
     "output_type": "stream",
     "text": [
      "1074911304-1793067270-ARRIVALNOTICECHARGEABLEITEMSHBLSE2102-0708-01A-FMBLMEDUT0482678-1.png --> done\n",
      "4.9383039474487305\n"
     ]
    },
    {
     "name": "stderr",
     "output_type": "stream",
     "text": [
      "\r",
      " 12%|█▏        | 156/1271 [12:23<1:30:05,  4.85s/it]"
     ]
    },
    {
     "name": "stdout",
     "output_type": "stream",
     "text": [
      "1075920880-439773012-WWTinvoice32179-1.png --> done\n",
      "6.124602794647217\n"
     ]
    },
    {
     "name": "stderr",
     "output_type": "stream",
     "text": [
      "\r",
      " 12%|█▏        | 157/1271 [12:27<1:23:17,  4.49s/it]"
     ]
    },
    {
     "name": "stdout",
     "output_type": "stream",
     "text": [
      "1076840779-405396836-139838inv-1.png --> done\n",
      "3.6408352851867676\n"
     ]
    },
    {
     "name": "stderr",
     "output_type": "stream",
     "text": [
      "\r",
      " 12%|█▏        | 158/1271 [12:32<1:26:48,  4.68s/it]"
     ]
    },
    {
     "name": "stdout",
     "output_type": "stream",
     "text": [
      "107749774-107749682-KX-T0B3-2-UEJDYC_16098600_ARN_210102504109_20210106173444-1.png --> done\n",
      "5.1305811405181885\n"
     ]
    },
    {
     "name": "stderr",
     "output_type": "stream",
     "text": [
      "\r",
      " 13%|█▎        | 159/1271 [12:37<1:30:27,  4.88s/it]"
     ]
    },
    {
     "name": "stdout",
     "output_type": "stream",
     "text": [
      "107815527-107815707-SECAN2102052-HBL-1.png --> done\n",
      "5.349793910980225\n"
     ]
    },
    {
     "name": "stderr",
     "output_type": "stream",
     "text": [
      "\r",
      " 13%|█▎        | 160/1271 [12:41<1:22:35,  4.46s/it]"
     ]
    },
    {
     "name": "stdout",
     "output_type": "stream",
     "text": [
      "1079187988-699596146-Avebe1932146_7353-3.png --> done\n",
      "3.477447032928467\n"
     ]
    },
    {
     "name": "stderr",
     "output_type": "stream",
     "text": [
      "\r",
      " 13%|█▎        | 161/1271 [12:46<1:24:29,  4.57s/it]"
     ]
    },
    {
     "name": "stdout",
     "output_type": "stream",
     "text": [
      "1079284629-289871553-scannervenbroscouk_20220311_124401-1.png --> done\n",
      "4.81735897064209\n"
     ]
    },
    {
     "name": "stderr",
     "output_type": "stream",
     "text": [
      "\r",
      " 13%|█▎        | 162/1271 [12:50<1:22:02,  4.44s/it]"
     ]
    },
    {
     "name": "stdout",
     "output_type": "stream",
     "text": [
      "1079284629-289871553-scannervenbroscouk_20220311_124401-2.png --> done\n",
      "4.138181924819946\n"
     ]
    },
    {
     "name": "stderr",
     "output_type": "stream",
     "text": [
      "\r",
      " 13%|█▎        | 163/1271 [12:57<1:39:28,  5.39s/it]"
     ]
    },
    {
     "name": "stdout",
     "output_type": "stream",
     "text": [
      "1079360801-1364398511-144045976876AN-1.png --> done\n",
      "7.595957279205322\n"
     ]
    },
    {
     "name": "stderr",
     "output_type": "stream",
     "text": [
      "\r",
      " 13%|█▎        | 164/1271 [13:01<1:30:39,  4.91s/it]"
     ]
    },
    {
     "name": "stdout",
     "output_type": "stream",
     "text": [
      "1080740360-1474267312-ScannedfromaXeroxMultifunctionPrinter-1.png --> done\n",
      "3.8118417263031006\n"
     ]
    },
    {
     "name": "stderr",
     "output_type": "stream",
     "text": [
      "\r",
      " 13%|█▎        | 165/1271 [13:04<1:21:29,  4.42s/it]"
     ]
    },
    {
     "name": "stdout",
     "output_type": "stream",
     "text": [
      "108135054-1779543688-3809PARS388054215pkg-7.png --> done\n",
      "3.2704575061798096\n"
     ]
    },
    {
     "name": "stderr",
     "output_type": "stream",
     "text": [
      "\r",
      " 13%|█▎        | 166/1271 [13:11<1:33:11,  5.06s/it]"
     ]
    },
    {
     "name": "stdout",
     "output_type": "stream",
     "text": [
      "1083880494-1374258423-Scan2021-02-05_191026-1.png --> done\n",
      "6.552301406860352\n"
     ]
    },
    {
     "name": "stderr",
     "output_type": "stream",
     "text": [
      "\r",
      " 13%|█▎        | 167/1271 [13:16<1:31:03,  4.95s/it]"
     ]
    },
    {
     "name": "stdout",
     "output_type": "stream",
     "text": [
      "1085086867-1085086867-KX-R2A9-53-CI-PDF-1.png --> done\n",
      "4.687899589538574\n"
     ]
    },
    {
     "name": "stderr",
     "output_type": "stream",
     "text": [
      "\r",
      " 13%|█▎        | 168/1271 [13:22<1:36:16,  5.24s/it]"
     ]
    },
    {
     "name": "stdout",
     "output_type": "stream",
     "text": [
      "108567711-1388091412-BL_LSZ-LLLCLO21615311SZ1-1.png --> done\n",
      "5.909192800521851\n"
     ]
    },
    {
     "name": "stderr",
     "output_type": "stream",
     "text": [
      "\r",
      " 13%|█▎        | 169/1271 [13:25<1:28:59,  4.85s/it]"
     ]
    },
    {
     "name": "stdout",
     "output_type": "stream",
     "text": [
      "1085987332-400758504-KX-T1J1-2-ArrivalNoticeSGSHA003443-1.png --> done\n",
      "3.9315388202667236\n"
     ]
    },
    {
     "name": "stderr",
     "output_type": "stream",
     "text": [
      "\r",
      " 13%|█▎        | 170/1271 [13:28<1:15:26,  4.11s/it]"
     ]
    },
    {
     "name": "stdout",
     "output_type": "stream",
     "text": [
      "1089576633-819016139-SelectedDesignAntiques-InvoiceSarahTWoods31-1.png --> done\n",
      "2.3982043266296387\n"
     ]
    },
    {
     "name": "stderr",
     "output_type": "stream",
     "text": [
      "\r",
      " 13%|█▎        | 171/1271 [13:33<1:20:12,  4.38s/it]"
     ]
    },
    {
     "name": "stdout",
     "output_type": "stream",
     "text": [
      "1091095008-1091094883-FRPT291820-1.png --> done\n",
      "4.98425817489624\n"
     ]
    },
    {
     "name": "stderr",
     "output_type": "stream",
     "text": [
      "\r",
      " 14%|█▎        | 172/1271 [13:36<1:13:35,  4.02s/it]"
     ]
    },
    {
     "name": "stdout",
     "output_type": "stream",
     "text": [
      "1092915912-1413890547-3Shippingdocuments100308100_P41657MrsMcMillanA1Sheds-1.png --> done\n",
      "3.1849653720855713\n"
     ]
    },
    {
     "name": "stderr",
     "output_type": "stream",
     "text": [
      "\r",
      " 14%|█▎        | 173/1271 [13:41<1:21:20,  4.44s/it]"
     ]
    },
    {
     "name": "stdout",
     "output_type": "stream",
     "text": [
      "1093287827-1093287430-ARRIVAL_NOTICE___FREIGHT_INVOICE_SH2101972-1.png --> done\n",
      "5.440606117248535\n"
     ]
    },
    {
     "name": "stderr",
     "output_type": "stream",
     "text": [
      "\r",
      " 14%|█▎        | 174/1271 [13:45<1:15:53,  4.15s/it]"
     ]
    },
    {
     "name": "stdout",
     "output_type": "stream",
     "text": [
      "1094322763-1094322902-ANMA0101_416674788-1.png --> done\n",
      "3.4652435779571533\n"
     ]
    },
    {
     "name": "stderr",
     "output_type": "stream",
     "text": [
      "\r",
      " 14%|█▍        | 175/1271 [13:51<1:26:44,  4.75s/it]"
     ]
    },
    {
     "name": "stdout",
     "output_type": "stream",
     "text": [
      "1099131981-368385589-IMG_20210128_0001-2.png --> done\n",
      "6.134477138519287\n"
     ]
    },
    {
     "name": "stderr",
     "output_type": "stream",
     "text": [
      "\r",
      " 14%|█▍        | 176/1271 [13:54<1:19:02,  4.33s/it]"
     ]
    },
    {
     "name": "stdout",
     "output_type": "stream",
     "text": [
      "1099225122-1099225074-ANMA0101_324369468-1.png --> done\n",
      "3.3559556007385254\n"
     ]
    },
    {
     "name": "stderr",
     "output_type": "stream",
     "text": [
      "\r",
      " 14%|█▍        | 177/1271 [13:58<1:14:52,  4.11s/it]"
     ]
    },
    {
     "name": "stdout",
     "output_type": "stream",
     "text": [
      "1100027347-1100026971-AN-005282-1.png --> done\n",
      "3.583299160003662\n"
     ]
    },
    {
     "name": "stderr",
     "output_type": "stream",
     "text": [
      "\r",
      " 14%|█▍        | 178/1271 [14:02<1:13:01,  4.01s/it]"
     ]
    },
    {
     "name": "stdout",
     "output_type": "stream",
     "text": [
      "1100600055-73283669-ANMA0101_507785781-1.png --> done\n",
      "3.779442310333252\n"
     ]
    },
    {
     "name": "stderr",
     "output_type": "stream",
     "text": [
      "\r",
      " 14%|█▍        | 179/1271 [14:05<1:10:29,  3.87s/it]"
     ]
    },
    {
     "name": "stdout",
     "output_type": "stream",
     "text": [
      "110143730-110135524-110143730-110143721-WAYFAIRINVOICEPACKINGLISTB190522HWHSZ17912Z8576436-XLS-1.png --> done\n",
      "3.556119203567505\n"
     ]
    },
    {
     "name": "stderr",
     "output_type": "stream",
     "text": [
      "\r",
      " 14%|█▍        | 180/1271 [14:17<1:53:16,  6.23s/it]"
     ]
    },
    {
     "name": "stdout",
     "output_type": "stream",
     "text": [
      "110146129-597341960-FRACOMERCIAL-1.png --> done\n",
      "11.730204582214355\n"
     ]
    },
    {
     "name": "stderr",
     "output_type": "stream",
     "text": [
      "\r",
      " 14%|█▍        | 181/1271 [14:37<3:10:09, 10.47s/it]"
     ]
    },
    {
     "name": "stdout",
     "output_type": "stream",
     "text": [
      "110178640-1316651897-KX-E4I8-12-InvoiceBedrosians013-1.png --> done\n",
      "20.355552673339844\n"
     ]
    },
    {
     "name": "stderr",
     "output_type": "stream",
     "text": [
      "\r",
      " 14%|█▍        | 182/1271 [14:43<2:44:21,  9.06s/it]"
     ]
    },
    {
     "name": "stdout",
     "output_type": "stream",
     "text": [
      "110291173-1583557414-SZWS2009030SZ2F20091928-1.png --> done\n",
      "5.759292125701904\n"
     ]
    },
    {
     "name": "stderr",
     "output_type": "stream",
     "text": [
      "\r",
      " 14%|█▍        | 183/1271 [14:47<2:16:10,  7.51s/it]"
     ]
    },
    {
     "name": "stdout",
     "output_type": "stream",
     "text": [
      "1103813412-1081893650-BdpInvoice7-1.png --> done\n",
      "3.9031870365142822\n"
     ]
    },
    {
     "name": "stderr",
     "output_type": "stream",
     "text": [
      "\r",
      " 14%|█▍        | 184/1271 [14:51<1:56:04,  6.41s/it]"
     ]
    },
    {
     "name": "stdout",
     "output_type": "stream",
     "text": [
      "1105260277-162720682-ArrivalNotice-S00020062-1.png --> done\n",
      "3.8337674140930176\n"
     ]
    },
    {
     "name": "stderr",
     "output_type": "stream",
     "text": [
      "\r",
      " 15%|█▍        | 185/1271 [14:55<1:45:05,  5.81s/it]"
     ]
    },
    {
     "name": "stdout",
     "output_type": "stream",
     "text": [
      "11065619-11065495-VNLGB2106013-1.png --> done\n",
      "4.402460098266602\n"
     ]
    },
    {
     "name": "stderr",
     "output_type": "stream",
     "text": [
      "\r",
      " 15%|█▍        | 186/1271 [15:00<1:38:18,  5.44s/it]"
     ]
    },
    {
     "name": "stdout",
     "output_type": "stream",
     "text": [
      "11081622-11081756-29558shippingdocument-4.png --> done\n",
      "4.57371187210083\n"
     ]
    },
    {
     "name": "stderr",
     "output_type": "stream",
     "text": [
      "\r",
      " 15%|█▍        | 187/1271 [15:04<1:28:21,  4.89s/it]"
     ]
    },
    {
     "name": "stdout",
     "output_type": "stream",
     "text": [
      "110920249-110935712-110920249-110920525-160504documents-XLS-1.png --> done\n",
      "3.614748001098633\n"
     ]
    },
    {
     "name": "stderr",
     "output_type": "stream",
     "text": [
      "\r",
      " 15%|█▍        | 188/1271 [15:15<2:01:34,  6.74s/it]"
     ]
    },
    {
     "name": "stdout",
     "output_type": "stream",
     "text": [
      "1111503645-806200669-Scan2021-05-12_093359-1.png --> done\n",
      "11.039372205734253\n"
     ]
    },
    {
     "name": "stderr",
     "output_type": "stream",
     "text": [
      "\r",
      " 15%|█▍        | 189/1271 [15:18<1:43:45,  5.75s/it]"
     ]
    },
    {
     "name": "stdout",
     "output_type": "stream",
     "text": [
      "1112030806-162682742-010722TORREFORNELOINVOICEILTASTEVIN-1.png --> done\n",
      "3.462256669998169\n"
     ]
    },
    {
     "name": "stderr",
     "output_type": "stream",
     "text": [
      "\r",
      " 15%|█▍        | 190/1271 [15:23<1:37:05,  5.39s/it]"
     ]
    },
    {
     "name": "stdout",
     "output_type": "stream",
     "text": [
      "1112146827-1588687472-ANTwysyka25112021-1.png --> done\n",
      "4.537299394607544\n"
     ]
    },
    {
     "name": "stderr",
     "output_type": "stream",
     "text": [
      "\r",
      " 15%|█▌        | 191/1271 [15:25<1:22:20,  4.57s/it]"
     ]
    },
    {
     "name": "stdout",
     "output_type": "stream",
     "text": [
      "1112146827-1588687472-ANTwysyka25112021-2.png --> done\n",
      "2.6744656562805176\n"
     ]
    },
    {
     "name": "stderr",
     "output_type": "stream",
     "text": [
      "\r",
      " 15%|█▌        | 192/1271 [15:29<1:20:19,  4.47s/it]"
     ]
    },
    {
     "name": "stdout",
     "output_type": "stream",
     "text": [
      "1112146827-1588687472-ANTwysyka25112021-3.png --> done\n",
      "4.215602159500122\n"
     ]
    },
    {
     "name": "stderr",
     "output_type": "stream",
     "text": [
      "\r",
      " 15%|█▌        | 193/1271 [15:34<1:19:15,  4.41s/it]"
     ]
    },
    {
     "name": "stdout",
     "output_type": "stream",
     "text": [
      "1113293211-710356758-010722BORGOSANDANIELEINVOICEILTASTEVIN-1.png --> done\n",
      "4.281206846237183\n"
     ]
    },
    {
     "name": "stderr",
     "output_type": "stream",
     "text": [
      "\r",
      " 15%|█▌        | 194/1271 [15:38<1:19:09,  4.41s/it]"
     ]
    },
    {
     "name": "stdout",
     "output_type": "stream",
     "text": [
      "1115355635-1115355211-BVOI17414ARRIVALNOTICECHARGEABLEITEMSHBLWXMN0100526MBLCMDUXIA0594648-1.png --> done\n",
      "4.406698226928711\n"
     ]
    },
    {
     "name": "stderr",
     "output_type": "stream",
     "text": [
      "\r",
      " 15%|█▌        | 195/1271 [15:41<1:13:21,  4.09s/it]"
     ]
    },
    {
     "name": "stdout",
     "output_type": "stream",
     "text": [
      "1115477643-467736096-faktura654ant-1.png --> done\n",
      "3.3446195125579834\n"
     ]
    },
    {
     "name": "stderr",
     "output_type": "stream",
     "text": [
      "\r",
      " 15%|█▌        | 196/1271 [15:45<1:08:57,  3.85s/it]"
     ]
    },
    {
     "name": "stdout",
     "output_type": "stream",
     "text": [
      "1115477643-467736096-faktura654ant-2.png --> done\n",
      "3.283067464828491\n"
     ]
    },
    {
     "name": "stderr",
     "output_type": "stream",
     "text": [
      "\r",
      " 15%|█▌        | 197/1271 [15:50<1:15:55,  4.24s/it]"
     ]
    },
    {
     "name": "stdout",
     "output_type": "stream",
     "text": [
      "1116108926-1116108857-ARRIVALNOTICE-CHARGEABLEITEMSHBLNB2011AC263MBLZIMUNGB9533698-1.png --> done\n",
      "5.158326864242554\n"
     ]
    },
    {
     "name": "stderr",
     "output_type": "stream",
     "text": [
      "\r",
      " 16%|█▌        | 198/1271 [15:56<1:24:49,  4.74s/it]"
     ]
    },
    {
     "name": "stdout",
     "output_type": "stream",
     "text": [
      "1118473149-1697792727-COMMIN-1.png --> done\n",
      "5.906749963760376\n"
     ]
    },
    {
     "name": "stderr",
     "output_type": "stream",
     "text": [
      "\r",
      " 16%|█▌        | 199/1271 [16:00<1:22:14,  4.60s/it]"
     ]
    },
    {
     "name": "stdout",
     "output_type": "stream",
     "text": [
      "1118879185-1118879090-OceanImportArrivalNotice63744323851-1.png --> done\n",
      "4.275002956390381\n"
     ]
    },
    {
     "name": "stderr",
     "output_type": "stream",
     "text": [
      "\r",
      " 16%|█▌        | 200/1271 [16:05<1:23:38,  4.69s/it]"
     ]
    },
    {
     "name": "stdout",
     "output_type": "stream",
     "text": [
      "1118906367-851772755-ARRIVALNOTICEFREIGHTINVOICE-3SE21020005-1.png --> done\n",
      "4.879169225692749\n"
     ]
    },
    {
     "name": "stderr",
     "output_type": "stream",
     "text": [
      "\r",
      " 16%|█▌        | 201/1271 [16:13<1:38:53,  5.54s/it]"
     ]
    },
    {
     "name": "stdout",
     "output_type": "stream",
     "text": [
      "1119227666-1896201650-doc16768720211126124802-5.png --> done\n",
      "7.549307107925415\n"
     ]
    },
    {
     "name": "stderr",
     "output_type": "stream",
     "text": [
      "\r",
      " 16%|█▌        | 202/1271 [16:18<1:39:08,  5.56s/it]"
     ]
    },
    {
     "name": "stdout",
     "output_type": "stream",
     "text": [
      "1119482451-1604585976-BL6288059000-1.png --> done\n",
      "5.610360383987427\n"
     ]
    },
    {
     "name": "stderr",
     "output_type": "stream",
     "text": [
      "\r",
      " 16%|█▌        | 203/1271 [16:22<1:29:15,  5.01s/it]"
     ]
    },
    {
     "name": "stdout",
     "output_type": "stream",
     "text": [
      "1123593628-1123593273-17756868-2.png --> done\n",
      "3.7293922901153564\n"
     ]
    },
    {
     "name": "stderr",
     "output_type": "stream",
     "text": [
      "\r",
      " 16%|█▌        | 204/1271 [16:28<1:33:11,  5.24s/it]"
     ]
    },
    {
     "name": "stdout",
     "output_type": "stream",
     "text": [
      "1125172143-1125171262-23451923-1.png --> done\n",
      "5.7678515911102295\n"
     ]
    },
    {
     "name": "stderr",
     "output_type": "stream",
     "text": [
      "\r",
      " 16%|█▌        | 205/1271 [16:33<1:31:48,  5.17s/it]"
     ]
    },
    {
     "name": "stdout",
     "output_type": "stream",
     "text": [
      "1126717970-902674143-144045961012_KWEAN-1.png --> done\n",
      "4.996330738067627\n"
     ]
    },
    {
     "name": "stderr",
     "output_type": "stream",
     "text": [
      "\r",
      " 16%|█▌        | 206/1271 [16:40<1:43:29,  5.83s/it]"
     ]
    },
    {
     "name": "stdout",
     "output_type": "stream",
     "text": [
      "1128064423-1177729339-Scan2021-03-05_201549-1.png --> done\n",
      "7.37874174118042\n"
     ]
    },
    {
     "name": "stderr",
     "output_type": "stream",
     "text": [
      "\r",
      " 16%|█▋        | 207/1271 [16:47<1:47:57,  6.09s/it]"
     ]
    },
    {
     "name": "stdout",
     "output_type": "stream",
     "text": [
      "1128406001-1128405824-B_02-CIPL-Freight611-1.png --> done\n",
      "6.686324596405029\n"
     ]
    },
    {
     "name": "stderr",
     "output_type": "stream",
     "text": [
      "\r",
      " 16%|█▋        | 208/1271 [16:53<1:48:58,  6.15s/it]"
     ]
    },
    {
     "name": "stdout",
     "output_type": "stream",
     "text": [
      "1128406001-1128405831-BL6288138340-1.png --> done\n",
      "6.297052383422852\n"
     ]
    },
    {
     "name": "stderr",
     "output_type": "stream",
     "text": [
      "\r",
      " 16%|█▋        | 209/1271 [16:56<1:31:37,  5.18s/it]"
     ]
    },
    {
     "name": "stdout",
     "output_type": "stream",
     "text": [
      "1134171933-1240292705-IN21-0004-1.png --> done\n",
      "2.9036991596221924\n"
     ]
    },
    {
     "name": "stderr",
     "output_type": "stream",
     "text": [
      "\r",
      " 17%|█▋        | 210/1271 [16:59<1:21:39,  4.62s/it]"
     ]
    },
    {
     "name": "stdout",
     "output_type": "stream",
     "text": [
      "1135999516-1542242152-HH_B18750_FAS101551-1.png --> done\n",
      "3.3133127689361572\n"
     ]
    },
    {
     "name": "stderr",
     "output_type": "stream",
     "text": [
      "\r",
      " 17%|█▋        | 211/1271 [17:02<1:12:09,  4.08s/it]"
     ]
    },
    {
     "name": "stdout",
     "output_type": "stream",
     "text": [
      "1135999516-224095658-HH_B18750_PAS35483-1.png --> done\n",
      "2.838679790496826\n"
     ]
    },
    {
     "name": "stderr",
     "output_type": "stream",
     "text": [
      "\r",
      " 17%|█▋        | 212/1271 [17:05<1:07:31,  3.83s/it]"
     ]
    },
    {
     "name": "stdout",
     "output_type": "stream",
     "text": [
      "1136705311-429721833-ArrivalNotice-S00347704-2.png --> done\n",
      "3.2213215827941895\n"
     ]
    },
    {
     "name": "stderr",
     "output_type": "stream",
     "text": [
      "\r",
      " 17%|█▋        | 213/1271 [17:10<1:12:25,  4.11s/it]"
     ]
    },
    {
     "name": "stdout",
     "output_type": "stream",
     "text": [
      "113936030-113936267-NSGN20120502Nbrk1944-1.png --> done\n",
      "4.761789560317993\n"
     ]
    },
    {
     "name": "stderr",
     "output_type": "stream",
     "text": [
      "\r",
      " 17%|█▋        | 214/1271 [17:15<1:15:25,  4.28s/it]"
     ]
    },
    {
     "name": "stdout",
     "output_type": "stream",
     "text": [
      "1139683528-1862777580-Scan2021-03-11_0954203-1.png --> done\n",
      "4.685612678527832\n"
     ]
    },
    {
     "name": "stderr",
     "output_type": "stream",
     "text": [
      "\r",
      " 17%|█▋        | 215/1271 [17:18<1:08:36,  3.90s/it]"
     ]
    },
    {
     "name": "stdout",
     "output_type": "stream",
     "text": [
      "114126834-114124912-FRPT762095-1.png --> done\n",
      "3.002540111541748\n"
     ]
    },
    {
     "name": "stderr",
     "output_type": "stream",
     "text": [
      "\r",
      " 17%|█▋        | 216/1271 [17:22<1:08:57,  3.92s/it]"
     ]
    },
    {
     "name": "stdout",
     "output_type": "stream",
     "text": [
      "1141635331-651478651-invoiceF22-0999-1.png --> done\n",
      "3.976121425628662\n"
     ]
    },
    {
     "name": "stderr",
     "output_type": "stream",
     "text": [
      "\r",
      " 17%|█▋        | 217/1271 [17:27<1:15:39,  4.31s/it]"
     ]
    },
    {
     "name": "stdout",
     "output_type": "stream",
     "text": [
      "1143866910-1282942016-Scan2021-03-23_133926-1.png --> done\n",
      "5.205520868301392\n"
     ]
    },
    {
     "name": "stderr",
     "output_type": "stream",
     "text": [
      "\r",
      " 17%|█▋        | 218/1271 [17:30<1:09:46,  3.98s/it]"
     ]
    },
    {
     "name": "stdout",
     "output_type": "stream",
     "text": [
      "114888003-1774859489-ArrivalNotice-SATLIS037789-1.png --> done\n",
      "3.2010929584503174\n"
     ]
    },
    {
     "name": "stderr",
     "output_type": "stream",
     "text": [
      "\r",
      " 17%|█▋        | 219/1271 [17:33<1:02:18,  3.55s/it]"
     ]
    },
    {
     "name": "stdout",
     "output_type": "stream",
     "text": [
      "1150805760-1990575651-CommercialInvoice187498-1.png --> done\n",
      "2.568136692047119\n"
     ]
    },
    {
     "name": "stderr",
     "output_type": "stream",
     "text": [
      "\r",
      " 17%|█▋        | 220/1271 [17:37<1:06:43,  3.81s/it]"
     ]
    },
    {
     "name": "stdout",
     "output_type": "stream",
     "text": [
      "11538998-11539787-EET210375934-11.png --> done\n",
      "4.4048449993133545\n"
     ]
    },
    {
     "name": "stderr",
     "output_type": "stream",
     "text": [
      "\r",
      " 17%|█▋        | 221/1271 [17:42<1:10:57,  4.05s/it]"
     ]
    },
    {
     "name": "stdout",
     "output_type": "stream",
     "text": [
      "1154514805-521032020-KX-O8A9-25-arrivalnotice-1.png --> done\n",
      "4.626040458679199\n"
     ]
    },
    {
     "name": "stderr",
     "output_type": "stream",
     "text": [
      "\r",
      " 17%|█▋        | 222/1271 [17:44<1:02:14,  3.56s/it]"
     ]
    },
    {
     "name": "stdout",
     "output_type": "stream",
     "text": [
      "1154995553-903895528-imp06049351-an-1.png --> done\n",
      "2.4067156314849854\n"
     ]
    },
    {
     "name": "stderr",
     "output_type": "stream",
     "text": [
      "\r",
      " 18%|█▊        | 223/1271 [17:46<53:04,  3.04s/it]  "
     ]
    },
    {
     "name": "stdout",
     "output_type": "stream",
     "text": [
      "1155117195-218361542-KX-X3C0-39-7075898723_ArrivalNoticeExpeditors-2.png --> done\n",
      "1.8194096088409424\n"
     ]
    },
    {
     "name": "stderr",
     "output_type": "stream",
     "text": [
      "\r",
      " 18%|█▊        | 224/1271 [17:50<1:00:16,  3.45s/it]"
     ]
    },
    {
     "name": "stdout",
     "output_type": "stream",
     "text": [
      "1155585280-708332790-20220426123211425-3.png --> done\n",
      "4.423947095870972\n"
     ]
    },
    {
     "name": "stderr",
     "output_type": "stream",
     "text": [
      "\r",
      " 18%|█▊        | 225/1271 [17:53<57:32,  3.30s/it]  "
     ]
    },
    {
     "name": "stdout",
     "output_type": "stream",
     "text": [
      "115869336-18614020-SQINS0010295AN-1.png --> done\n",
      "2.940730094909668\n"
     ]
    },
    {
     "name": "stderr",
     "output_type": "stream",
     "text": [
      "\r",
      " 18%|█▊        | 226/1271 [17:57<58:32,  3.36s/it]"
     ]
    },
    {
     "name": "stdout",
     "output_type": "stream",
     "text": [
      "1161902573-1117004434-ArrivalNotice-S00009655-1.png --> done\n",
      "3.501023769378662\n"
     ]
    },
    {
     "name": "stderr",
     "output_type": "stream",
     "text": [
      "\r",
      " 18%|█▊        | 227/1271 [18:02<1:07:54,  3.90s/it]"
     ]
    },
    {
     "name": "stdout",
     "output_type": "stream",
     "text": [
      "1161958802-237275829-KX-K8D1-67-CI-PDF-1.png --> done\n",
      "5.166177034378052\n"
     ]
    },
    {
     "name": "stderr",
     "output_type": "stream",
     "text": [
      "\r",
      " 18%|█▊        | 228/1271 [18:08<1:19:13,  4.56s/it]"
     ]
    },
    {
     "name": "stdout",
     "output_type": "stream",
     "text": [
      "1161959859-1161959473-BL2662597230-1.png --> done\n",
      "6.083146810531616\n"
     ]
    },
    {
     "name": "stderr",
     "output_type": "stream",
     "text": [
      "\r",
      " 18%|█▊        | 229/1271 [18:15<1:29:21,  5.15s/it]"
     ]
    },
    {
     "name": "stdout",
     "output_type": "stream",
     "text": [
      "1164485953-1675132657-WWTinvoice32105-1.png --> done\n",
      "6.516163110733032\n"
     ]
    },
    {
     "name": "stderr",
     "output_type": "stream",
     "text": [
      "\r",
      " 18%|█▊        | 230/1271 [18:19<1:24:13,  4.85s/it]"
     ]
    },
    {
     "name": "stdout",
     "output_type": "stream",
     "text": [
      "1165245929-1455613707-bez_rabatu_SFSE-15_04_2022_EXP_20220422_12-06-39-1.png --> done\n",
      "4.172487735748291\n"
     ]
    },
    {
     "name": "stderr",
     "output_type": "stream",
     "text": [
      "\r",
      " 18%|█▊        | 231/1271 [18:25<1:29:48,  5.18s/it]"
     ]
    },
    {
     "name": "stdout",
     "output_type": "stream",
     "text": [
      "1165559968-1721714077-Scan2021-03-23_110606-1.png --> done\n",
      "5.9420387744903564\n"
     ]
    },
    {
     "name": "stderr",
     "output_type": "stream",
     "text": [
      "\r",
      " 18%|█▊        | 232/1271 [18:29<1:25:19,  4.93s/it]"
     ]
    },
    {
     "name": "stdout",
     "output_type": "stream",
     "text": [
      "116556927-116557240-KX-W2H6-4331-FRPT874195-1.png --> done\n",
      "4.333728313446045\n"
     ]
    },
    {
     "name": "stderr",
     "output_type": "stream",
     "text": [
      "\r",
      " 18%|█▊        | 233/1271 [18:32<1:16:47,  4.44s/it]"
     ]
    },
    {
     "name": "stdout",
     "output_type": "stream",
     "text": [
      "1167277812-1359022235-20220222-DURABEDS-620220248-7.png --> done\n",
      "3.297107696533203\n"
     ]
    },
    {
     "name": "stderr",
     "output_type": "stream",
     "text": [
      "\r",
      " 18%|█▊        | 234/1271 [18:34<1:01:48,  3.58s/it]"
     ]
    },
    {
     "name": "stdout",
     "output_type": "stream",
     "text": [
      "1167327320-1619567691-XLSX-HANDELCZKLEARNOWINFO-1.png --> done\n",
      "1.563518762588501\n"
     ]
    },
    {
     "name": "stderr",
     "output_type": "stream",
     "text": [
      "\r",
      " 18%|█▊        | 235/1271 [18:36<55:57,  3.24s/it]  "
     ]
    },
    {
     "name": "stdout",
     "output_type": "stream",
     "text": [
      "1167327320-304054625-HANDELCZINVOICE-1.png --> done\n",
      "2.455702066421509\n"
     ]
    },
    {
     "name": "stderr",
     "output_type": "stream",
     "text": [
      "\r",
      " 19%|█▊        | 236/1271 [18:42<1:06:28,  3.85s/it]"
     ]
    },
    {
     "name": "stdout",
     "output_type": "stream",
     "text": [
      "1167471737-1167471890-PKLUHZ_66559224_ARN_210418513614_20210409003149-1.png --> done\n",
      "5.282756090164185\n"
     ]
    },
    {
     "name": "stderr",
     "output_type": "stream",
     "text": [
      "\r",
      " 19%|█▊        | 237/1271 [18:45<1:03:10,  3.67s/it]"
     ]
    },
    {
     "name": "stdout",
     "output_type": "stream",
     "text": [
      "1167887943-1167888049-ArrivalNotice-1.png --> done\n",
      "3.2267682552337646\n"
     ]
    },
    {
     "name": "stderr",
     "output_type": "stream",
     "text": [
      "\r",
      " 19%|█▊        | 238/1271 [18:49<1:07:35,  3.93s/it]"
     ]
    },
    {
     "name": "stdout",
     "output_type": "stream",
     "text": [
      "1169107853-847981380-ARRIVALNOTICE-FREIGHTBILL-1.png --> done\n",
      "4.533338308334351\n"
     ]
    },
    {
     "name": "stderr",
     "output_type": "stream",
     "text": [
      "\r",
      " 19%|█▉        | 239/1271 [18:54<1:13:10,  4.25s/it]"
     ]
    },
    {
     "name": "stdout",
     "output_type": "stream",
     "text": [
      "1173662831-1173663617-MSE21032087_202104052011_1-1.png --> done\n",
      "5.0201098918914795\n"
     ]
    },
    {
     "name": "stderr",
     "output_type": "stream",
     "text": [
      "\r",
      " 19%|█▉        | 240/1271 [18:58<1:10:29,  4.10s/it]"
     ]
    },
    {
     "name": "stdout",
     "output_type": "stream",
     "text": [
      "1173662831-1173663645-AN-MBLWHLC025BG017731-1.png --> done\n",
      "3.7452797889709473\n"
     ]
    },
    {
     "name": "stderr",
     "output_type": "stream",
     "text": [
      "\r",
      " 19%|█▉        | 241/1271 [19:02<1:07:46,  3.95s/it]"
     ]
    },
    {
     "name": "stdout",
     "output_type": "stream",
     "text": [
      "1175110562-2070298728-ANGZSE20100204-3.png --> done\n",
      "3.5883426666259766\n"
     ]
    },
    {
     "name": "stderr",
     "output_type": "stream",
     "text": [
      "\r",
      " 19%|█▉        | 242/1271 [19:07<1:16:47,  4.48s/it]"
     ]
    },
    {
     "name": "stdout",
     "output_type": "stream",
     "text": [
      "11781574-453849711-33634shippingdocument-4.png --> done\n",
      "5.710196256637573\n"
     ]
    },
    {
     "name": "stderr",
     "output_type": "stream",
     "text": [
      "\r",
      " 19%|█▉        | 243/1271 [19:12<1:14:55,  4.37s/it]"
     ]
    },
    {
     "name": "stdout",
     "output_type": "stream",
     "text": [
      "118125807-313983259-AN_TYOB32427500-1.png --> done\n",
      "4.129655599594116\n"
     ]
    },
    {
     "name": "stderr",
     "output_type": "stream",
     "text": [
      "\r",
      " 19%|█▉        | 244/1271 [19:16<1:15:43,  4.42s/it]"
     ]
    },
    {
     "name": "stdout",
     "output_type": "stream",
     "text": [
      "1181983006-1181983149-ArrivalNotice-ConsigneeofSLSLAX14663X-1.png --> done\n",
      "4.541417360305786\n"
     ]
    },
    {
     "name": "stderr",
     "output_type": "stream",
     "text": [
      "\r",
      " 19%|█▉        | 245/1271 [19:19<1:05:41,  3.84s/it]"
     ]
    },
    {
     "name": "stdout",
     "output_type": "stream",
     "text": [
      "1182458417-1182458344-x-scope_air-import-customs-instruction-request-1.png --> done\n",
      "2.480501174926758\n"
     ]
    },
    {
     "name": "stderr",
     "output_type": "stream",
     "text": [
      "\r",
      " 19%|█▉        | 246/1271 [19:22<1:04:23,  3.77s/it]"
     ]
    },
    {
     "name": "stdout",
     "output_type": "stream",
     "text": [
      "1184024677-547947086-SEAArrivalNoticeSIH-EWRG210039805Feb20210225PM-1.png --> done\n",
      "3.5998730659484863\n"
     ]
    },
    {
     "name": "stderr",
     "output_type": "stream",
     "text": [
      "\r",
      " 19%|█▉        | 247/1271 [19:25<58:16,  3.41s/it]  "
     ]
    },
    {
     "name": "stdout",
     "output_type": "stream",
     "text": [
      "1191365431-1202450170-invoice_27576851-1.png --> done\n",
      "2.5852468013763428\n"
     ]
    },
    {
     "name": "stderr",
     "output_type": "stream",
     "text": [
      "\r",
      " 20%|█▉        | 248/1271 [19:28<55:01,  3.23s/it]"
     ]
    },
    {
     "name": "stdout",
     "output_type": "stream",
     "text": [
      "1191365431-1623373026-invoice_27591701-1.png --> done\n",
      "2.7906534671783447\n"
     ]
    },
    {
     "name": "stderr",
     "output_type": "stream",
     "text": [
      "\r",
      " 20%|█▉        | 249/1271 [19:30<50:11,  2.95s/it]"
     ]
    },
    {
     "name": "stdout",
     "output_type": "stream",
     "text": [
      "1191365431-1655844646-invoice_2972392951-1.png --> done\n",
      "2.291395902633667\n"
     ]
    },
    {
     "name": "stderr",
     "output_type": "stream",
     "text": [
      "\r",
      " 20%|█▉        | 250/1271 [19:32<45:54,  2.70s/it]"
     ]
    },
    {
     "name": "stdout",
     "output_type": "stream",
     "text": [
      "119373-66252353.png --> done\n",
      "2.115584373474121\n"
     ]
    },
    {
     "name": "stderr",
     "output_type": "stream",
     "text": [
      "\r",
      " 20%|█▉        | 251/1271 [19:36<54:34,  3.21s/it]"
     ]
    },
    {
     "name": "stdout",
     "output_type": "stream",
     "text": [
      "119493517-1448490666-arrivalnotice-1.png --> done\n",
      "4.4067089557647705\n"
     ]
    },
    {
     "name": "stderr",
     "output_type": "stream",
     "text": [
      "\r",
      " 20%|█▉        | 252/1271 [19:41<1:01:19,  3.61s/it]"
     ]
    },
    {
     "name": "stdout",
     "output_type": "stream",
     "text": [
      "119791765-680113306-119791765-COSU6291632970_20210425163618_DOC-1.png --> done\n",
      "4.544720888137817\n"
     ]
    },
    {
     "name": "stderr",
     "output_type": "stream",
     "text": [
      "\r",
      " 20%|█▉        | 253/1271 [19:44<59:52,  3.53s/it]  "
     ]
    },
    {
     "name": "stdout",
     "output_type": "stream",
     "text": [
      "1198019749-1198019374-KX-A0I4-200-ARRIVALNOTICE-HBLHMLGB2105023-1.png --> done\n",
      "3.3351776599884033\n"
     ]
    },
    {
     "name": "stderr",
     "output_type": "stream",
     "text": [
      "\r",
      " 20%|█▉        | 254/1271 [19:46<52:09,  3.08s/it]"
     ]
    },
    {
     "name": "stdout",
     "output_type": "stream",
     "text": [
      "119873-654498088.png --> done\n",
      "2.0246877670288086\n"
     ]
    },
    {
     "name": "stderr",
     "output_type": "stream",
     "text": [
      "\r",
      " 20%|██        | 255/1271 [19:55<1:20:15,  4.74s/it]"
     ]
    },
    {
     "name": "stdout",
     "output_type": "stream",
     "text": [
      "1199818737-522192537-Scan2021-05-04_145108-1.png --> done\n",
      "8.61846923828125\n"
     ]
    },
    {
     "name": "stderr",
     "output_type": "stream",
     "text": [
      "\r",
      " 20%|██        | 256/1271 [19:58<1:11:57,  4.25s/it]"
     ]
    },
    {
     "name": "stdout",
     "output_type": "stream",
     "text": [
      "120287048-120286914-ArrivalNotice-S00570111-1.png --> done\n",
      "3.115903377532959\n"
     ]
    },
    {
     "name": "stderr",
     "output_type": "stream",
     "text": [
      "\r",
      " 20%|██        | 257/1271 [20:02<1:07:37,  4.00s/it]"
     ]
    },
    {
     "name": "stdout",
     "output_type": "stream",
     "text": [
      "1208644533-1208644134-ArrivalNotice-S2124770-1.png --> done\n",
      "3.4135470390319824\n"
     ]
    },
    {
     "name": "stderr",
     "output_type": "stream",
     "text": [
      "\r",
      " 20%|██        | 258/1271 [20:10<1:32:16,  5.47s/it]"
     ]
    },
    {
     "name": "stdout",
     "output_type": "stream",
     "text": [
      "1208752116-1208750106-Scan2021-04-05_173405-1.png --> done\n",
      "8.877992630004883\n"
     ]
    },
    {
     "name": "stderr",
     "output_type": "stream",
     "text": [
      "\r",
      " 20%|██        | 259/1271 [20:16<1:31:35,  5.43s/it]"
     ]
    },
    {
     "name": "stdout",
     "output_type": "stream",
     "text": [
      "1211790979-376056090-ShippingdocumentsBONA19thAugust-1.png --> done\n",
      "5.346398591995239\n"
     ]
    },
    {
     "name": "stderr",
     "output_type": "stream",
     "text": [
      "\r",
      " 20%|██        | 260/1271 [20:20<1:26:15,  5.12s/it]"
     ]
    },
    {
     "name": "stdout",
     "output_type": "stream",
     "text": [
      "1212859206-1212859185-ARRIVALNOTICE-NOBILLINGPO-1.png --> done\n",
      "4.392879009246826\n"
     ]
    },
    {
     "name": "stderr",
     "output_type": "stream",
     "text": [
      "\r",
      " 21%|██        | 261/1271 [20:24<1:18:32,  4.67s/it]"
     ]
    },
    {
     "name": "stdout",
     "output_type": "stream",
     "text": [
      "1214052842-1214053092-ARRIVALNOTICEHBLKCUSZ21020801MBLEGLV149100715990CNTRBMOU4462797-EGHU9845085-EISU9997568-TGBU86767014X40HQETA4-85844CTNS-FLORABUNDA-1.png --> done\n",
      "3.6083192825317383\n"
     ]
    },
    {
     "name": "stderr",
     "output_type": "stream",
     "text": [
      "\r",
      " 21%|██        | 262/1271 [20:27<1:09:03,  4.11s/it]"
     ]
    },
    {
     "name": "stdout",
     "output_type": "stream",
     "text": [
      "12146222-809006716-KX-H1H3-15-ZIMUGOA1041497-PDF-1.png --> done\n",
      "2.8010237216949463\n"
     ]
    },
    {
     "name": "stderr",
     "output_type": "stream",
     "text": [
      "\r",
      " 21%|██        | 263/1271 [20:30<1:05:27,  3.90s/it]"
     ]
    },
    {
     "name": "stdout",
     "output_type": "stream",
     "text": [
      "1215796888-1110592121-FakturawalutowanrFW_0953_03_2022-1.png --> done\n",
      "3.4061853885650635\n"
     ]
    },
    {
     "name": "stderr",
     "output_type": "stream",
     "text": [
      "\r",
      " 21%|██        | 264/1271 [20:32<53:47,  3.21s/it]  "
     ]
    },
    {
     "name": "stdout",
     "output_type": "stream",
     "text": [
      "1215796888-1110681712-XLSX-H120222KLEARNOWINFO-1.png --> done\n",
      "1.591932773590088\n"
     ]
    },
    {
     "name": "stderr",
     "output_type": "stream",
     "text": [
      "\r",
      " 21%|██        | 265/1271 [20:38<1:10:23,  4.20s/it]"
     ]
    },
    {
     "name": "stdout",
     "output_type": "stream",
     "text": [
      "1216797913-2112170686-InvoiceDavilina-1.png --> done\n",
      "6.515133619308472\n"
     ]
    },
    {
     "name": "stderr",
     "output_type": "stream",
     "text": [
      "\r",
      " 21%|██        | 266/1271 [20:43<1:15:45,  4.52s/it]"
     ]
    },
    {
     "name": "stdout",
     "output_type": "stream",
     "text": [
      "1219490518-1616277761-AN115731-1.png --> done\n",
      "5.279553174972534\n"
     ]
    },
    {
     "name": "stderr",
     "output_type": "stream",
     "text": [
      "\r",
      " 21%|██        | 267/1271 [20:50<1:26:38,  5.18s/it]"
     ]
    },
    {
     "name": "stdout",
     "output_type": "stream",
     "text": [
      "1220410567-1220409671-Scan2021-04-02_081013-1.png --> done\n",
      "6.704877614974976\n"
     ]
    },
    {
     "name": "stderr",
     "output_type": "stream",
     "text": [
      "\r",
      " 21%|██        | 268/1271 [20:52<1:11:24,  4.27s/it]"
     ]
    },
    {
     "name": "stdout",
     "output_type": "stream",
     "text": [
      "1220438435-1220439675-ARRIVALNOTICEPRIM1F104303-1.png --> done\n",
      "2.1545426845550537\n"
     ]
    },
    {
     "name": "stderr",
     "output_type": "stream",
     "text": [
      "\r",
      " 21%|██        | 269/1271 [20:56<1:09:25,  4.16s/it]"
     ]
    },
    {
     "name": "stdout",
     "output_type": "stream",
     "text": [
      "1230859554-1230860014-Importnoticeofarrival_SANELLIS_210331124201010-1.png --> done\n",
      "3.889065980911255\n"
     ]
    },
    {
     "name": "stderr",
     "output_type": "stream",
     "text": [
      "\r",
      " 21%|██        | 270/1271 [21:00<1:06:05,  3.96s/it]"
     ]
    },
    {
     "name": "stdout",
     "output_type": "stream",
     "text": [
      "1231008641-1231008638-PKG20100051AN-1.png --> done\n",
      "3.503072500228882\n"
     ]
    },
    {
     "name": "stderr",
     "output_type": "stream",
     "text": [
      "\r",
      " 21%|██▏       | 271/1271 [21:05<1:12:12,  4.33s/it]"
     ]
    },
    {
     "name": "stdout",
     "output_type": "stream",
     "text": [
      "1233736435-914715464-BL4113135750-1.png --> done\n",
      "5.197842836380005\n"
     ]
    },
    {
     "name": "stderr",
     "output_type": "stream",
     "text": [
      "\r",
      " 21%|██▏       | 272/1271 [21:08<1:06:08,  3.97s/it]"
     ]
    },
    {
     "name": "stdout",
     "output_type": "stream",
     "text": [
      "1234799771-863980901-USLAX-1-694586-ArrivalNoticewithinvoiceitem-1.png --> done\n",
      "3.129744529724121\n"
     ]
    },
    {
     "name": "stderr",
     "output_type": "stream",
     "text": [
      "\r",
      " 21%|██▏       | 273/1271 [21:11<1:03:02,  3.79s/it]"
     ]
    },
    {
     "name": "stdout",
     "output_type": "stream",
     "text": [
      "1235397362-1235397240-AN3300718IFE_AUTO-1.png --> done\n",
      "3.3667187690734863\n"
     ]
    },
    {
     "name": "stderr",
     "output_type": "stream",
     "text": [
      "\r",
      " 22%|██▏       | 274/1271 [21:16<1:06:50,  4.02s/it]"
     ]
    },
    {
     "name": "stdout",
     "output_type": "stream",
     "text": [
      "1237453423-303328506-525097-1.png --> done\n",
      "4.564684152603149\n"
     ]
    },
    {
     "name": "stderr",
     "output_type": "stream",
     "text": [
      "\r",
      " 22%|██▏       | 275/1271 [21:18<56:30,  3.40s/it]  "
     ]
    },
    {
     "name": "stdout",
     "output_type": "stream",
     "text": [
      "1237453423-303328506-525097-2.png --> done\n",
      "1.959686279296875\n"
     ]
    },
    {
     "name": "stderr",
     "output_type": "stream",
     "text": [
      "\r",
      " 22%|██▏       | 276/1271 [21:21<57:35,  3.47s/it]"
     ]
    },
    {
     "name": "stdout",
     "output_type": "stream",
     "text": [
      "1240976002-2123326421-c1_20201027133200-1.png --> done\n",
      "3.632251024246216\n"
     ]
    },
    {
     "name": "stderr",
     "output_type": "stream",
     "text": [
      "\r",
      " 22%|██▏       | 277/1271 [21:25<58:52,  3.55s/it]"
     ]
    },
    {
     "name": "stdout",
     "output_type": "stream",
     "text": [
      "1245162835-1348236296-1245162835-1346297406-KX-C8B5-237-Manifest-C21002415711-XLS-1.png --> done\n",
      "3.742539644241333\n"
     ]
    },
    {
     "name": "stderr",
     "output_type": "stream",
     "text": [
      "\r",
      " 22%|██▏       | 278/1271 [21:30<1:05:46,  3.97s/it]"
     ]
    },
    {
     "name": "stdout",
     "output_type": "stream",
     "text": [
      "12474399-1493813278-PO31420BILL-1.png --> done\n",
      "4.956075429916382\n"
     ]
    },
    {
     "name": "stderr",
     "output_type": "stream",
     "text": [
      "\r",
      " 22%|██▏       | 279/1271 [21:34<1:06:40,  4.03s/it]"
     ]
    },
    {
     "name": "stdout",
     "output_type": "stream",
     "text": [
      "1248533382-1248534510-IarrivalNotice-1.png --> done\n",
      "4.167026042938232\n"
     ]
    },
    {
     "name": "stderr",
     "output_type": "stream",
     "text": [
      "\r",
      " 22%|██▏       | 280/1271 [21:37<58:30,  3.54s/it]  "
     ]
    },
    {
     "name": "stdout",
     "output_type": "stream",
     "text": [
      "1249444908-1249450770-HDMUOSAM10213500-1.png --> done\n",
      "2.396967887878418\n"
     ]
    },
    {
     "name": "stderr",
     "output_type": "stream",
     "text": [
      "\r",
      " 22%|██▏       | 281/1271 [21:42<1:04:52,  3.93s/it]"
     ]
    },
    {
     "name": "stdout",
     "output_type": "stream",
     "text": [
      "1249564740-1249566260-ARRIVALNOTICE-KCUSZ21041577-1.png --> done\n",
      "4.839181184768677\n"
     ]
    },
    {
     "name": "stderr",
     "output_type": "stream",
     "text": [
      "\r",
      " 22%|██▏       | 282/1271 [21:46<1:06:13,  4.02s/it]"
     ]
    },
    {
     "name": "stdout",
     "output_type": "stream",
     "text": [
      "1249926923-1724104230-PAINANIP532711MAR22-1.png --> done\n",
      "4.216527223587036\n"
     ]
    },
    {
     "name": "stderr",
     "output_type": "stream",
     "text": [
      "\r",
      " 22%|██▏       | 283/1271 [21:48<59:48,  3.63s/it]  "
     ]
    },
    {
     "name": "stdout",
     "output_type": "stream",
     "text": [
      "1249926923-1724104230-PAINANIP532711MAR22-3.png --> done\n",
      "2.7310423851013184\n"
     ]
    },
    {
     "name": "stderr",
     "output_type": "stream",
     "text": [
      "\r",
      " 22%|██▏       | 284/1271 [21:53<1:06:16,  4.03s/it]"
     ]
    },
    {
     "name": "stdout",
     "output_type": "stream",
     "text": [
      "1251032070-1970894397-0988_001-5.png --> done\n",
      "4.953382968902588\n"
     ]
    },
    {
     "name": "stderr",
     "output_type": "stream",
     "text": [
      "\r",
      " 22%|██▏       | 285/1271 [21:56<1:01:13,  3.73s/it]"
     ]
    },
    {
     "name": "stdout",
     "output_type": "stream",
     "text": [
      "1251469774-960801301-42104153AN-1.png --> done\n",
      "3.0167837142944336\n"
     ]
    },
    {
     "name": "stderr",
     "output_type": "stream",
     "text": [
      "\r",
      " 23%|██▎       | 286/1271 [21:59<56:54,  3.47s/it]  "
     ]
    },
    {
     "name": "stdout",
     "output_type": "stream",
     "text": [
      "1251820009-277985796-faktura315ant-1.png --> done\n",
      "2.8590450286865234\n"
     ]
    },
    {
     "name": "stderr",
     "output_type": "stream",
     "text": [
      "\r",
      " 23%|██▎       | 287/1271 [22:01<46:10,  2.82s/it]"
     ]
    },
    {
     "name": "stdout",
     "output_type": "stream",
     "text": [
      "12539877-834052839-XLS-ShipDocsBLSGSHA004197PO43080-1.png --> done\n",
      "1.2949237823486328\n"
     ]
    },
    {
     "name": "stderr",
     "output_type": "stream",
     "text": [
      "\r",
      " 23%|██▎       | 288/1271 [22:04<46:50,  2.86s/it]"
     ]
    },
    {
     "name": "stdout",
     "output_type": "stream",
     "text": [
      "1254486288-1254486149-ArrivalNotice-SLAXSI21F042941-1.png --> done\n",
      "2.960585117340088\n"
     ]
    },
    {
     "name": "stderr",
     "output_type": "stream",
     "text": [
      "\r",
      " 23%|██▎       | 289/1271 [22:08<52:31,  3.21s/it]"
     ]
    },
    {
     "name": "stdout",
     "output_type": "stream",
     "text": [
      "1255210-612689121-KX-C3A3-26-350749512-PDF-1.png --> done\n",
      "4.025001049041748\n"
     ]
    },
    {
     "name": "stderr",
     "output_type": "stream",
     "text": [
      "\r",
      " 23%|██▎       | 290/1271 [22:20<1:38:00,  5.99s/it]"
     ]
    },
    {
     "name": "stdout",
     "output_type": "stream",
     "text": [
      "1259632420-289609345-Scan2021-05-13_173324-1.png --> done\n",
      "12.493769407272339\n"
     ]
    },
    {
     "name": "stderr",
     "output_type": "stream",
     "text": [
      "\r",
      " 23%|██▎       | 291/1271 [22:25<1:31:11,  5.58s/it]"
     ]
    },
    {
     "name": "stdout",
     "output_type": "stream",
     "text": [
      "1260229958-42462897-Scan2021-02-01_164323-2.png --> done\n",
      "4.622779846191406\n"
     ]
    },
    {
     "name": "stderr",
     "output_type": "stream",
     "text": [
      "\r",
      " 23%|██▎       | 292/1271 [22:28<1:20:21,  4.93s/it]"
     ]
    },
    {
     "name": "stdout",
     "output_type": "stream",
     "text": [
      "1261163962-99667976-0020_001-2.png --> done\n",
      "3.3881428241729736\n"
     ]
    },
    {
     "name": "stderr",
     "output_type": "stream",
     "text": [
      "\r",
      " 23%|██▎       | 293/1271 [22:30<1:07:44,  4.16s/it]"
     ]
    },
    {
     "name": "stdout",
     "output_type": "stream",
     "text": [
      "1266110551-193295849-0050-ORANGE-PACK-LTD-1.png --> done\n",
      "2.361096143722534\n"
     ]
    },
    {
     "name": "stderr",
     "output_type": "stream",
     "text": [
      "\r",
      " 23%|██▎       | 294/1271 [22:34<1:04:06,  3.94s/it]"
     ]
    },
    {
     "name": "stdout",
     "output_type": "stream",
     "text": [
      "1266569479-1537083390-ArrivalNotice-S01816265-1.png --> done\n",
      "3.4234347343444824\n"
     ]
    },
    {
     "name": "stderr",
     "output_type": "stream",
     "text": [
      "\r",
      " 23%|██▎       | 295/1271 [22:36<54:40,  3.36s/it]  "
     ]
    },
    {
     "name": "stdout",
     "output_type": "stream",
     "text": [
      "1266811399-1267059788-VIL30008765Vitcas2022-01-13-1.png --> done\n",
      "2.0180182456970215\n"
     ]
    },
    {
     "name": "stderr",
     "output_type": "stream",
     "text": [
      "\r",
      " 23%|██▎       | 296/1271 [22:40<58:26,  3.60s/it]"
     ]
    },
    {
     "name": "stdout",
     "output_type": "stream",
     "text": [
      "1269641083-959389087-COMMERCIALINVOICE-1.png --> done\n",
      "4.144341945648193\n"
     ]
    },
    {
     "name": "stderr",
     "output_type": "stream",
     "text": [
      "\r",
      " 23%|██▎       | 297/1271 [22:44<1:01:25,  3.78s/it]"
     ]
    },
    {
     "name": "stdout",
     "output_type": "stream",
     "text": [
      "1272949996-1272950173-CMAAN-1.png --> done\n",
      "4.219491004943848\n"
     ]
    },
    {
     "name": "stderr",
     "output_type": "stream",
     "text": [
      "\r",
      " 23%|██▎       | 298/1271 [22:50<1:09:17,  4.27s/it]"
     ]
    },
    {
     "name": "stdout",
     "output_type": "stream",
     "text": [
      "1273071393-1273071361-EFSVMZ209010A-1.png --> done\n",
      "5.41457724571228\n"
     ]
    },
    {
     "name": "stderr",
     "output_type": "stream",
     "text": [
      "\r",
      " 24%|██▎       | 299/1271 [22:58<1:28:45,  5.48s/it]"
     ]
    },
    {
     "name": "stdout",
     "output_type": "stream",
     "text": [
      "1274727636-1055436587-Scan2021-05-05_144632-1.png --> done\n",
      "8.290966033935547\n"
     ]
    },
    {
     "name": "stderr",
     "output_type": "stream",
     "text": [
      "\r",
      " 24%|██▎       | 300/1271 [23:03<1:24:34,  5.23s/it]"
     ]
    },
    {
     "name": "stdout",
     "output_type": "stream",
     "text": [
      "1275159939-2008054252-COSU6291273040_20210322101344-1.png --> done\n",
      "4.63544774055481\n"
     ]
    },
    {
     "name": "stderr",
     "output_type": "stream",
     "text": [
      "\r",
      " 24%|██▎       | 301/1271 [23:06<1:16:36,  4.74s/it]"
     ]
    },
    {
     "name": "stdout",
     "output_type": "stream",
     "text": [
      "1277475799-1277474844-KX-Q1E6-16-DB_aabgaeichfja0x00CF-1.png --> done\n",
      "3.60066556930542\n"
     ]
    },
    {
     "name": "stderr",
     "output_type": "stream",
     "text": [
      "\r",
      " 24%|██▍       | 302/1271 [23:10<1:11:41,  4.44s/it]"
     ]
    },
    {
     "name": "stdout",
     "output_type": "stream",
     "text": [
      "1279362906-923757130-629440710-2130010950-6504327261usa-2.png --> done\n",
      "3.737926721572876\n"
     ]
    },
    {
     "name": "stderr",
     "output_type": "stream",
     "text": [
      "\r",
      " 24%|██▍       | 303/1271 [23:16<1:16:56,  4.77s/it]"
     ]
    },
    {
     "name": "stdout",
     "output_type": "stream",
     "text": [
      "1279362906-923757130-629440710-2130010950-6504327261usa-3.png --> done\n",
      "5.53762149810791\n"
     ]
    },
    {
     "name": "stderr",
     "output_type": "stream",
     "text": [
      "\r",
      " 24%|██▍       | 304/1271 [23:20<1:14:57,  4.65s/it]"
     ]
    },
    {
     "name": "stdout",
     "output_type": "stream",
     "text": [
      "1279865216-1279865392-DB455THU1-2.png --> done\n",
      "4.375251293182373\n"
     ]
    },
    {
     "name": "stderr",
     "output_type": "stream",
     "text": [
      "\r",
      " 24%|██▍       | 305/1271 [23:23<1:08:24,  4.25s/it]"
     ]
    },
    {
     "name": "stdout",
     "output_type": "stream",
     "text": [
      "1280616938-1162330992-AN-1-1.png --> done\n",
      "3.3087217807769775\n"
     ]
    },
    {
     "name": "stderr",
     "output_type": "stream",
     "text": [
      "\r",
      " 24%|██▍       | 306/1271 [23:28<1:12:44,  4.52s/it]"
     ]
    },
    {
     "name": "stdout",
     "output_type": "stream",
     "text": [
      "1281676621-1512380509-MainInvoice-1.png --> done\n",
      "5.1594555377960205\n"
     ]
    },
    {
     "name": "stderr",
     "output_type": "stream",
     "text": [
      "\r",
      " 24%|██▍       | 307/1271 [23:34<1:18:18,  4.87s/it]"
     ]
    },
    {
     "name": "stdout",
     "output_type": "stream",
     "text": [
      "1285360431-211563173-KX-E5G4-77-AN-1.png --> done\n",
      "5.695845127105713\n"
     ]
    },
    {
     "name": "stderr",
     "output_type": "stream",
     "text": [
      "\r",
      " 24%|██▍       | 308/1271 [23:38<1:13:15,  4.56s/it]"
     ]
    },
    {
     "name": "stdout",
     "output_type": "stream",
     "text": [
      "1289282240-2124114800-ArrivalNotice-SLAXSI21145692-1.png --> done\n",
      "3.8392226696014404\n"
     ]
    },
    {
     "name": "stderr",
     "output_type": "stream",
     "text": [
      "\r",
      " 24%|██▍       | 309/1271 [23:43<1:16:02,  4.74s/it]"
     ]
    },
    {
     "name": "stdout",
     "output_type": "stream",
     "text": [
      "1291595077-1291595247-KX-E4I8-20-AN-1.png --> done\n",
      "5.157022476196289\n"
     ]
    },
    {
     "name": "stderr",
     "output_type": "stream",
     "text": [
      "\r",
      " 24%|██▍       | 310/1271 [23:48<1:15:17,  4.70s/it]"
     ]
    },
    {
     "name": "stdout",
     "output_type": "stream",
     "text": [
      "1292222074-1873734195-KX-L4H6-37-AN_NB107303-PDF-1.png --> done\n",
      "4.602507829666138\n"
     ]
    },
    {
     "name": "stderr",
     "output_type": "stream",
     "text": [
      "\r",
      " 24%|██▍       | 311/1271 [23:58<1:43:57,  6.50s/it]"
     ]
    },
    {
     "name": "stdout",
     "output_type": "stream",
     "text": [
      "1294929323-1045422988-Scan2021-rotated-1.png --> done\n",
      "10.688387632369995\n"
     ]
    },
    {
     "name": "stderr",
     "output_type": "stream",
     "text": [
      "\r",
      " 25%|██▍       | 312/1271 [24:00<1:22:35,  5.17s/it]"
     ]
    },
    {
     "name": "stdout",
     "output_type": "stream",
     "text": [
      "129828644-546505445-IHR2022000000049-CI-1.png --> done\n",
      "2.0616941452026367\n"
     ]
    },
    {
     "name": "stderr",
     "output_type": "stream",
     "text": [
      "\r",
      " 25%|██▍       | 313/1271 [24:04<1:13:51,  4.63s/it]"
     ]
    },
    {
     "name": "stdout",
     "output_type": "stream",
     "text": [
      "1300128611-1300128940-AN50-082490-1.png --> done\n",
      "3.362474203109741\n"
     ]
    },
    {
     "name": "stderr",
     "output_type": "stream",
     "text": [
      "\r",
      " 25%|██▍       | 314/1271 [24:05<59:46,  3.75s/it]  "
     ]
    },
    {
     "name": "stdout",
     "output_type": "stream",
     "text": [
      "1304522044-923037654-8452224Invoice13446-37-1.png --> done\n",
      "1.6967496871948242\n"
     ]
    },
    {
     "name": "stderr",
     "output_type": "stream",
     "text": [
      "\r",
      " 25%|██▍       | 315/1271 [24:10<1:04:39,  4.06s/it]"
     ]
    },
    {
     "name": "stdout",
     "output_type": "stream",
     "text": [
      "1305214890-1944808360-ARRIVALNOTICEFREIGHTINVOICE-SZOE21020838-1.png --> done\n",
      "4.780083179473877\n"
     ]
    },
    {
     "name": "stderr",
     "output_type": "stream",
     "text": [
      "\r",
      " 25%|██▍       | 316/1271 [24:17<1:17:50,  4.89s/it]"
     ]
    },
    {
     "name": "stdout",
     "output_type": "stream",
     "text": [
      "13090596-1276463433-KX-W2H6-4317-31136shippingdocuments-4.png --> done\n",
      "6.832254648208618\n"
     ]
    },
    {
     "name": "stderr",
     "output_type": "stream",
     "text": [
      "\r",
      " 25%|██▍       | 317/1271 [24:20<1:08:33,  4.31s/it]"
     ]
    },
    {
     "name": "stdout",
     "output_type": "stream",
     "text": [
      "1309389360-669567215-ANMA0101_437829264-1.png --> done\n",
      "2.9603559970855713\n"
     ]
    },
    {
     "name": "stderr",
     "output_type": "stream",
     "text": [
      "\r",
      " 25%|██▌       | 318/1271 [24:24<1:06:37,  4.19s/it]"
     ]
    },
    {
     "name": "stdout",
     "output_type": "stream",
     "text": [
      "1314777692-1087137070-CommercialInvoice_439410439380445490445800-1.png --> done\n",
      "3.921194314956665\n"
     ]
    },
    {
     "name": "stderr",
     "output_type": "stream",
     "text": [
      "\r",
      " 25%|██▌       | 319/1271 [24:28<1:06:55,  4.22s/it]"
     ]
    },
    {
     "name": "stdout",
     "output_type": "stream",
     "text": [
      "131689581-225226943-ArrivalNotice-ConsigneeofHBLSLSLAX14594X-1.png --> done\n",
      "4.271362781524658\n"
     ]
    },
    {
     "name": "stderr",
     "output_type": "stream",
     "text": [
      "\r",
      " 25%|██▌       | 320/1271 [24:32<1:06:40,  4.21s/it]"
     ]
    },
    {
     "name": "stdout",
     "output_type": "stream",
     "text": [
      "1320951431-1738211773-KX-K3D8-5-ARRIVALNOTICEFREIGHTINVOICE-ANWMS100124-1.png --> done\n",
      "4.1796276569366455\n"
     ]
    },
    {
     "name": "stderr",
     "output_type": "stream",
     "text": [
      "\r",
      " 25%|██▌       | 321/1271 [24:37<1:09:54,  4.42s/it]"
     ]
    },
    {
     "name": "stdout",
     "output_type": "stream",
     "text": [
      "1321951944-132588713-CCE_000877-1.png --> done\n",
      "4.902215480804443\n"
     ]
    },
    {
     "name": "stderr",
     "output_type": "stream",
     "text": [
      "\r",
      " 25%|██▌       | 322/1271 [24:39<57:33,  3.64s/it]  "
     ]
    },
    {
     "name": "stdout",
     "output_type": "stream",
     "text": [
      "1321951944-132619683-XLSX-COMMERCIALINVOICEBRAMBLE20226pallets-1.png --> done\n",
      "1.8270139694213867\n"
     ]
    },
    {
     "name": "stderr",
     "output_type": "stream",
     "text": [
      "\r",
      " 25%|██▌       | 323/1271 [24:44<1:04:28,  4.08s/it]"
     ]
    },
    {
     "name": "stdout",
     "output_type": "stream",
     "text": [
      "1322307732-1322308008-TMA20110131-ARRIVALNOTICE-1.png --> done\n",
      "5.1073524951934814\n"
     ]
    },
    {
     "name": "stderr",
     "output_type": "stream",
     "text": [
      "\r",
      " 25%|██▌       | 324/1271 [24:47<57:57,  3.67s/it]  "
     ]
    },
    {
     "name": "stdout",
     "output_type": "stream",
     "text": [
      "1323287205-1323287341-ARRIVALNOTICE-BSIU2182133-1.png --> done\n",
      "2.717839241027832\n"
     ]
    },
    {
     "name": "stderr",
     "output_type": "stream",
     "text": [
      "\r",
      " 26%|██▌       | 325/1271 [24:51<59:12,  3.76s/it]"
     ]
    },
    {
     "name": "stdout",
     "output_type": "stream",
     "text": [
      "1323449009-651337845-CWSB71-CI409049-1.png --> done\n",
      "3.948338747024536\n"
     ]
    },
    {
     "name": "stderr",
     "output_type": "stream",
     "text": [
      "\r",
      " 26%|██▌       | 326/1271 [24:54<57:47,  3.67s/it]"
     ]
    },
    {
     "name": "stdout",
     "output_type": "stream",
     "text": [
      "1324480817-1338348735-HBLANREF2051997-1.png --> done\n",
      "3.468951940536499\n"
     ]
    },
    {
     "name": "stderr",
     "output_type": "stream",
     "text": [
      "\r",
      " 26%|██▌       | 327/1271 [24:58<58:43,  3.73s/it]"
     ]
    },
    {
     "name": "stdout",
     "output_type": "stream",
     "text": [
      "1326544313-1326544329-24258-1.png --> done\n",
      "3.8767292499542236\n"
     ]
    },
    {
     "name": "stderr",
     "output_type": "stream",
     "text": [
      "\r",
      " 26%|██▌       | 328/1271 [25:02<56:24,  3.59s/it]"
     ]
    },
    {
     "name": "stdout",
     "output_type": "stream",
     "text": [
      "1326665441-1997220364-SampleInvoice-1.png --> done\n",
      "3.2548258304595947\n"
     ]
    },
    {
     "name": "stderr",
     "output_type": "stream",
     "text": [
      "\r",
      " 26%|██▌       | 329/1271 [25:09<1:12:23,  4.61s/it]"
     ]
    },
    {
     "name": "stdout",
     "output_type": "stream",
     "text": [
      "1327259815-1327259797-KX-A5H9-201-new-1.png --> done\n",
      "6.9926369190216064\n"
     ]
    },
    {
     "name": "stderr",
     "output_type": "stream",
     "text": [
      "\r",
      " 26%|██▌       | 330/1271 [25:11<1:00:01,  3.83s/it]"
     ]
    },
    {
     "name": "stdout",
     "output_type": "stream",
     "text": [
      "132923023-1821215007-CIFinvoicesuns-1.png --> done\n",
      "1.9992296695709229\n"
     ]
    },
    {
     "name": "stderr",
     "output_type": "stream",
     "text": [
      "\r",
      " 26%|██▌       | 331/1271 [25:17<1:14:06,  4.73s/it]"
     ]
    },
    {
     "name": "stdout",
     "output_type": "stream",
     "text": [
      "1331191300-1575917197-Scan2021-03-19_082036-1.png --> done\n",
      "6.834268808364868\n"
     ]
    },
    {
     "name": "stderr",
     "output_type": "stream",
     "text": [
      "\r",
      " 26%|██▌       | 332/1271 [25:21<1:11:00,  4.54s/it]"
     ]
    },
    {
     "name": "stdout",
     "output_type": "stream",
     "text": [
      "1331337634-1396424042-BLOOLU4051646510-ArrivalNotice-1.png --> done\n",
      "4.0868470668792725\n"
     ]
    },
    {
     "name": "stderr",
     "output_type": "stream",
     "text": [
      "\r",
      " 26%|██▌       | 333/1271 [25:25<1:06:36,  4.26s/it]"
     ]
    },
    {
     "name": "stdout",
     "output_type": "stream",
     "text": [
      "13332333-13332199-COMBINEDTRANSPORTBILLOFLADING-SGN0146179-1.png --> done\n",
      "3.6134591102600098\n"
     ]
    },
    {
     "name": "stderr",
     "output_type": "stream",
     "text": [
      "\r",
      " 26%|██▋       | 334/1271 [25:30<1:09:40,  4.46s/it]"
     ]
    },
    {
     "name": "stdout",
     "output_type": "stream",
     "text": [
      "1336470418-1811157267-Emag180822-2.png --> done\n",
      "4.928831338882446\n"
     ]
    },
    {
     "name": "stderr",
     "output_type": "stream",
     "text": [
      "\r",
      " 26%|██▋       | 335/1271 [25:34<1:09:19,  4.44s/it]"
     ]
    },
    {
     "name": "stdout",
     "output_type": "stream",
     "text": [
      "1338228539-517982105-KX-N8I2-8-SUDUN0KSZ108092X-1.png --> done\n",
      "4.4012110233306885\n"
     ]
    },
    {
     "name": "stderr",
     "output_type": "stream",
     "text": [
      "\r",
      " 26%|██▋       | 336/1271 [25:39<1:10:48,  4.54s/it]"
     ]
    },
    {
     "name": "stdout",
     "output_type": "stream",
     "text": [
      "13384050-13384693-PO28250UPDATEDBILL-1.png --> done\n",
      "4.776220083236694\n"
     ]
    },
    {
     "name": "stderr",
     "output_type": "stream",
     "text": [
      "\r",
      " 27%|██▋       | 337/1271 [25:41<59:09,  3.80s/it]  "
     ]
    },
    {
     "name": "stdout",
     "output_type": "stream",
     "text": [
      "1339280231-628665981-customs309442-1.png --> done\n",
      "2.0638856887817383\n"
     ]
    },
    {
     "name": "stderr",
     "output_type": "stream",
     "text": [
      "\r",
      " 27%|██▋       | 338/1271 [25:49<1:16:14,  4.90s/it]"
     ]
    },
    {
     "name": "stdout",
     "output_type": "stream",
     "text": [
      "1340168476-1340169772-Scan2021-04-05_180031-1.png --> done\n",
      "7.4748382568359375\n"
     ]
    },
    {
     "name": "stderr",
     "output_type": "stream",
     "text": [
      "\r",
      " 27%|██▋       | 339/1271 [25:52<1:09:59,  4.51s/it]"
     ]
    },
    {
     "name": "stdout",
     "output_type": "stream",
     "text": [
      "1340782223-255157147-CBAINVOICE25072022-1.png --> done\n",
      "3.5768213272094727\n"
     ]
    },
    {
     "name": "stderr",
     "output_type": "stream",
     "text": [
      "\r",
      " 27%|██▋       | 340/1271 [25:58<1:17:34,  5.00s/it]"
     ]
    },
    {
     "name": "stdout",
     "output_type": "stream",
     "text": [
      "1341907184-1341907847-Scan2021-04-05_174607-1.png --> done\n",
      "6.151188611984253\n"
     ]
    },
    {
     "name": "stderr",
     "output_type": "stream",
     "text": [
      "\r",
      " 27%|██▋       | 341/1271 [26:04<1:18:17,  5.05s/it]"
     ]
    },
    {
     "name": "stdout",
     "output_type": "stream",
     "text": [
      "134419120-2093658328-Scan2021-05-07_193737-1.png --> done\n",
      "5.169772148132324\n"
     ]
    },
    {
     "name": "stderr",
     "output_type": "stream",
     "text": [
      "\r",
      " 27%|██▋       | 342/1271 [26:09<1:20:42,  5.21s/it]"
     ]
    },
    {
     "name": "stdout",
     "output_type": "stream",
     "text": [
      "1346694174-1346693861-Scan2021-04-21_083057-1.png --> done\n",
      "5.590479373931885\n"
     ]
    },
    {
     "name": "stderr",
     "output_type": "stream",
     "text": [
      "\r",
      " 27%|██▋       | 343/1271 [26:13<1:13:51,  4.78s/it]"
     ]
    },
    {
     "name": "stdout",
     "output_type": "stream",
     "text": [
      "1349656817-2047877278-Invoice3069-PEX6688-1.png --> done\n",
      "3.7533345222473145\n"
     ]
    },
    {
     "name": "stderr",
     "output_type": "stream",
     "text": [
      "\r",
      " 27%|██▋       | 344/1271 [26:18<1:14:41,  4.83s/it]"
     ]
    },
    {
     "name": "stdout",
     "output_type": "stream",
     "text": [
      "1349656817-989180142-SUDUB2SCL009418X_FREIGHTED_SWB-1.png --> done\n",
      "4.97196888923645\n"
     ]
    },
    {
     "name": "stderr",
     "output_type": "stream",
     "text": [
      "\r",
      " 27%|██▋       | 345/1271 [26:21<1:07:51,  4.40s/it]"
     ]
    },
    {
     "name": "stdout",
     "output_type": "stream",
     "text": [
      "1350799941-1350800439-FLEX-1110179_Arrival-Notice_B575076_20210420T165930-1.png --> done\n",
      "3.373208999633789\n"
     ]
    },
    {
     "name": "stderr",
     "output_type": "stream",
     "text": [
      "\r",
      " 27%|██▋       | 346/1271 [26:27<1:15:06,  4.87s/it]"
     ]
    },
    {
     "name": "stdout",
     "output_type": "stream",
     "text": [
      "1353161509-1353161664-KX-R6F8-142-AN-1.png --> done\n",
      "5.981673240661621\n"
     ]
    },
    {
     "name": "stderr",
     "output_type": "stream",
     "text": [
      "\r",
      " 27%|██▋       | 347/1271 [26:32<1:14:23,  4.83s/it]"
     ]
    },
    {
     "name": "stdout",
     "output_type": "stream",
     "text": [
      "13560835-1046331421-Inv20032020002652-3.png --> done\n",
      "4.733940839767456\n"
     ]
    },
    {
     "name": "stderr",
     "output_type": "stream",
     "text": [
      "\r",
      " 27%|██▋       | 348/1271 [26:43<1:44:28,  6.79s/it]"
     ]
    },
    {
     "name": "stdout",
     "output_type": "stream",
     "text": [
      "1359003788-1359004327-Scan2021-04-21_115148-1.png --> done\n",
      "11.363880157470703\n"
     ]
    },
    {
     "name": "stderr",
     "output_type": "stream",
     "text": [
      "\r",
      " 27%|██▋       | 349/1271 [26:52<1:51:47,  7.27s/it]"
     ]
    },
    {
     "name": "stdout",
     "output_type": "stream",
     "text": [
      "1364962248-1600196833-Scan2021-03-17_174807-1.png --> done\n",
      "8.400715351104736\n"
     ]
    },
    {
     "name": "stderr",
     "output_type": "stream",
     "text": [
      "\r",
      " 28%|██▊       | 350/1271 [26:55<1:34:27,  6.15s/it]"
     ]
    },
    {
     "name": "stdout",
     "output_type": "stream",
     "text": [
      "1366337253-1917484761-ArrivalNotice-S104531460-1.png --> done\n",
      "3.5385899543762207\n"
     ]
    },
    {
     "name": "stderr",
     "output_type": "stream",
     "text": [
      "\r",
      " 28%|██▊       | 351/1271 [27:04<1:46:48,  6.97s/it]"
     ]
    },
    {
     "name": "stdout",
     "output_type": "stream",
     "text": [
      "1368337115-5998859-52052GH-1.png --> done\n",
      "8.85953974723816\n"
     ]
    },
    {
     "name": "stderr",
     "output_type": "stream",
     "text": [
      "\r",
      " 28%|██▊       | 352/1271 [27:09<1:38:02,  6.40s/it]"
     ]
    },
    {
     "name": "stdout",
     "output_type": "stream",
     "text": [
      "1369367555-1369368009-SWLIRN_66561144_ARN_210418505306_20210420211104-1.png --> done\n",
      "5.081787586212158\n"
     ]
    },
    {
     "name": "stderr",
     "output_type": "stream",
     "text": [
      "\r",
      " 28%|██▊       | 353/1271 [27:14<1:29:20,  5.84s/it]"
     ]
    },
    {
     "name": "stdout",
     "output_type": "stream",
     "text": [
      "1369367555-1369368009-SWLIRN_66561144_ARN_210418505306_20210420211104-3.png --> done\n",
      "4.529191017150879\n"
     ]
    },
    {
     "name": "stderr",
     "output_type": "stream",
     "text": [
      "\r",
      " 28%|██▊       | 354/1271 [27:18<1:20:27,  5.26s/it]"
     ]
    },
    {
     "name": "stdout",
     "output_type": "stream",
     "text": [
      "1371494043-1340304870-XLSX-ARSENALKLEARNOWINFO-1.png --> done\n",
      "3.9221720695495605\n"
     ]
    },
    {
     "name": "stderr",
     "output_type": "stream",
     "text": [
      "\r",
      " 28%|██▊       | 355/1271 [27:21<1:13:14,  4.80s/it]"
     ]
    },
    {
     "name": "stdout",
     "output_type": "stream",
     "text": [
      "137604555-393823897-ANLIFESTYLESOLUTIONSDGSS2021279DGS-210095S-1.png --> done\n",
      "3.707308530807495\n"
     ]
    },
    {
     "name": "stderr",
     "output_type": "stream",
     "text": [
      "\r",
      " 28%|██▊       | 356/1271 [27:30<1:31:37,  6.01s/it]"
     ]
    },
    {
     "name": "stdout",
     "output_type": "stream",
     "text": [
      "1376572046-2028505422-KX-I0H6-13-AN-1.png --> done\n",
      "8.832287549972534\n"
     ]
    },
    {
     "name": "stderr",
     "output_type": "stream",
     "text": [
      "\r",
      " 28%|██▊       | 357/1271 [27:33<1:17:07,  5.06s/it]"
     ]
    },
    {
     "name": "stdout",
     "output_type": "stream",
     "text": [
      "1378830491-1511819774-arrivalnoticeTS20110061-1.png --> done\n",
      "2.8568062782287598\n"
     ]
    },
    {
     "name": "stderr",
     "output_type": "stream",
     "text": [
      "\r",
      " 28%|██▊       | 358/1271 [27:36<1:08:30,  4.50s/it]"
     ]
    },
    {
     "name": "stdout",
     "output_type": "stream",
     "text": [
      "1380505201-1198600155-proformacld-1.png --> done\n",
      "3.192420721054077\n"
     ]
    },
    {
     "name": "stderr",
     "output_type": "stream",
     "text": [
      "\r",
      " 28%|██▊       | 359/1271 [27:40<1:04:17,  4.23s/it]"
     ]
    },
    {
     "name": "stdout",
     "output_type": "stream",
     "text": [
      "1383519142-1383519131-KX-A0I4-45-DBB4G4PT1-1.png --> done\n",
      "3.5904338359832764\n"
     ]
    },
    {
     "name": "stderr",
     "output_type": "stream",
     "text": [
      "\r",
      " 28%|██▊       | 360/1271 [27:44<1:05:32,  4.32s/it]"
     ]
    },
    {
     "name": "stdout",
     "output_type": "stream",
     "text": [
      "1384622794-1384622648-KX-Q1G6-433-ki-1.png --> done\n",
      "4.517843961715698\n"
     ]
    },
    {
     "name": "stderr",
     "output_type": "stream",
     "text": [
      "\r",
      " 28%|██▊       | 361/1271 [27:50<1:11:44,  4.73s/it]"
     ]
    },
    {
     "name": "stdout",
     "output_type": "stream",
     "text": [
      "1388465258-510415201-Scan2021-03-17_093431-1.png --> done\n",
      "5.698035001754761\n"
     ]
    },
    {
     "name": "stderr",
     "output_type": "stream",
     "text": [
      "\r",
      " 28%|██▊       | 362/1271 [27:54<1:05:35,  4.33s/it]"
     ]
    },
    {
     "name": "stdout",
     "output_type": "stream",
     "text": [
      "1399697817-1613238090-KX-O3A5-303-ArrivalNotice-CSEMUM2102502-1.png --> done\n",
      "3.3925015926361084\n"
     ]
    },
    {
     "name": "stderr",
     "output_type": "stream",
     "text": [
      "\r",
      " 29%|██▊       | 363/1271 [27:56<58:54,  3.89s/it]  "
     ]
    },
    {
     "name": "stdout",
     "output_type": "stream",
     "text": [
      "1401243138-80423119-RA22_1802-1.png --> done\n",
      "2.871134042739868\n"
     ]
    },
    {
     "name": "stderr",
     "output_type": "stream",
     "text": [
      "\r",
      " 29%|██▊       | 364/1271 [28:04<1:14:03,  4.90s/it]"
     ]
    },
    {
     "name": "stdout",
     "output_type": "stream",
     "text": [
      "1401838653-337868209-138525-1.png --> done\n",
      "7.24837589263916\n"
     ]
    },
    {
     "name": "stderr",
     "output_type": "stream",
     "text": [
      "\r",
      " 29%|██▊       | 365/1271 [28:09<1:15:02,  4.97s/it]"
     ]
    },
    {
     "name": "stdout",
     "output_type": "stream",
     "text": [
      "14053614-1559346934-AFXMF21005585HBL-1.png --> done\n",
      "5.132869243621826\n"
     ]
    },
    {
     "name": "stderr",
     "output_type": "stream",
     "text": [
      "\r",
      " 29%|██▉       | 366/1271 [28:14<1:17:06,  5.11s/it]"
     ]
    },
    {
     "name": "stdout",
     "output_type": "stream",
     "text": [
      "14107210-1316367213-HNVSK2100120_HBL-1.png --> done\n",
      "5.444507598876953\n"
     ]
    },
    {
     "name": "stderr",
     "output_type": "stream",
     "text": [
      "\r",
      " 29%|██▉       | 367/1271 [28:17<1:05:58,  4.38s/it]"
     ]
    },
    {
     "name": "stdout",
     "output_type": "stream",
     "text": [
      "1411406971-2087564100-FA_11-2022_Orygina_3-1.png --> done\n",
      "2.6678624153137207\n"
     ]
    },
    {
     "name": "stderr",
     "output_type": "stream",
     "text": [
      "\r",
      " 29%|██▉       | 368/1271 [28:25<1:20:47,  5.37s/it]"
     ]
    },
    {
     "name": "stdout",
     "output_type": "stream",
     "text": [
      "1412180489-293628600-XLSX-CBAKLEARNOWINFO-1.png --> done\n",
      "7.674808025360107\n"
     ]
    },
    {
     "name": "stderr",
     "output_type": "stream",
     "text": [
      "\r",
      " 29%|██▉       | 369/1271 [28:29<1:14:26,  4.95s/it]"
     ]
    },
    {
     "name": "stdout",
     "output_type": "stream",
     "text": [
      "14140465-31043587-HBL_2021GTG09640_1-1.png --> done\n",
      "3.9787230491638184\n"
     ]
    },
    {
     "name": "stderr",
     "output_type": "stream",
     "text": [
      "\r",
      " 29%|██▉       | 370/1271 [28:32<1:08:34,  4.57s/it]"
     ]
    },
    {
     "name": "stdout",
     "output_type": "stream",
     "text": [
      "1418198317-1259453666-InvoiceAlpan-1.png --> done\n",
      "3.666529655456543\n"
     ]
    },
    {
     "name": "stderr",
     "output_type": "stream",
     "text": [
      "\r",
      " 29%|██▉       | 371/1271 [28:36<1:05:23,  4.36s/it]"
     ]
    },
    {
     "name": "stdout",
     "output_type": "stream",
     "text": [
      "1418198317-1804168510-InvoiceDega-1.png --> done\n",
      "3.8732845783233643\n"
     ]
    },
    {
     "name": "stderr",
     "output_type": "stream",
     "text": [
      "\r",
      " 29%|██▉       | 372/1271 [28:45<1:26:21,  5.76s/it]"
     ]
    },
    {
     "name": "stdout",
     "output_type": "stream",
     "text": [
      "1418198317-198243226-InvoiceSOT-1.png --> done\n",
      "9.037864446640015\n"
     ]
    },
    {
     "name": "stderr",
     "output_type": "stream",
     "text": [
      "\r",
      " 29%|██▉       | 373/1271 [28:50<1:21:41,  5.46s/it]"
     ]
    },
    {
     "name": "stdout",
     "output_type": "stream",
     "text": [
      "1418198317-719647189-InvoicePoldrob-1.png --> done\n",
      "4.73549747467041\n"
     ]
    },
    {
     "name": "stderr",
     "output_type": "stream",
     "text": [
      "\r",
      " 29%|██▉       | 374/1271 [28:53<1:12:14,  4.83s/it]"
     ]
    },
    {
     "name": "stdout",
     "output_type": "stream",
     "text": [
      "1418869970-1418866945-ArrivalNotice-S00060280-1.png --> done\n",
      "3.37319278717041\n"
     ]
    },
    {
     "name": "stderr",
     "output_type": "stream",
     "text": [
      "\r",
      " 30%|██▉       | 375/1271 [28:59<1:17:00,  5.16s/it]"
     ]
    },
    {
     "name": "stdout",
     "output_type": "stream",
     "text": [
      "1420059633-808652339-29072022_v2_FV_59_2022_PUE-1.png --> done\n",
      "5.911567449569702\n"
     ]
    },
    {
     "name": "stderr",
     "output_type": "stream",
     "text": [
      "\r",
      " 30%|██▉       | 376/1271 [29:03<1:12:22,  4.85s/it]"
     ]
    },
    {
     "name": "stdout",
     "output_type": "stream",
     "text": [
      "1420059633-808652339-29072022_v2_FV_59_2022_PUE-2.png --> done\n",
      "4.14055323600769\n"
     ]
    },
    {
     "name": "stderr",
     "output_type": "stream",
     "text": [
      "\r",
      " 30%|██▉       | 377/1271 [29:08<1:12:10,  4.84s/it]"
     ]
    },
    {
     "name": "stdout",
     "output_type": "stream",
     "text": [
      "1420059633-808670294-XLSX-29072022_v2_comm-inv-import_29-1.png --> done\n",
      "4.826265096664429\n"
     ]
    },
    {
     "name": "stderr",
     "output_type": "stream",
     "text": [
      "\r",
      " 30%|██▉       | 378/1271 [29:12<1:08:39,  4.61s/it]"
     ]
    },
    {
     "name": "stdout",
     "output_type": "stream",
     "text": [
      "1421667137-1421666237-Scan2020-12-21_145933-1.png --> done\n",
      "4.073598623275757\n"
     ]
    },
    {
     "name": "stderr",
     "output_type": "stream",
     "text": [
      "\r",
      " 30%|██▉       | 379/1271 [29:19<1:19:48,  5.37s/it]"
     ]
    },
    {
     "name": "stdout",
     "output_type": "stream",
     "text": [
      "1425559172-35642738-InvoiceMaspex-1.png --> done\n",
      "7.130002975463867\n"
     ]
    },
    {
     "name": "stderr",
     "output_type": "stream",
     "text": [
      "\r",
      " 30%|██▉       | 380/1271 [29:25<1:19:17,  5.34s/it]"
     ]
    },
    {
     "name": "stdout",
     "output_type": "stream",
     "text": [
      "1425559172-35642738-InvoiceMaspex-2.png --> done\n",
      "5.270344257354736\n"
     ]
    },
    {
     "name": "stderr",
     "output_type": "stream",
     "text": [
      "\r",
      " 30%|██▉       | 381/1271 [29:26<1:03:29,  4.28s/it]"
     ]
    },
    {
     "name": "stdout",
     "output_type": "stream",
     "text": [
      "1426490552-1605821871-BrokerArrivalNotice-CHRRef351101959-2.png --> done\n",
      "1.8103086948394775\n"
     ]
    },
    {
     "name": "stderr",
     "output_type": "stream",
     "text": [
      "\r",
      " 30%|███       | 382/1271 [29:31<1:04:44,  4.37s/it]"
     ]
    },
    {
     "name": "stdout",
     "output_type": "stream",
     "text": [
      "1428535-912110963-138542-5.png --> done\n",
      "4.567422866821289\n"
     ]
    },
    {
     "name": "stderr",
     "output_type": "stream",
     "text": [
      "\r",
      " 30%|███       | 383/1271 [29:37<1:10:01,  4.73s/it]"
     ]
    },
    {
     "name": "stdout",
     "output_type": "stream",
     "text": [
      "1429827902-1115611960-Scan2021-05-11_144832-1.png --> done\n",
      "5.576201438903809\n"
     ]
    },
    {
     "name": "stderr",
     "output_type": "stream",
     "text": [
      "\r",
      " 30%|███       | 384/1271 [29:43<1:16:39,  5.19s/it]"
     ]
    },
    {
     "name": "stdout",
     "output_type": "stream",
     "text": [
      "1433298764-1287876068-SKMBT_C28022061616430-1.png --> done\n",
      "6.245968580245972\n"
     ]
    },
    {
     "name": "stderr",
     "output_type": "stream",
     "text": [
      "\r",
      " 30%|███       | 385/1271 [29:47<1:10:14,  4.76s/it]"
     ]
    },
    {
     "name": "stdout",
     "output_type": "stream",
     "text": [
      "14336791-316656427-75723H-1.png --> done\n",
      "3.755138397216797\n"
     ]
    },
    {
     "name": "stderr",
     "output_type": "stream",
     "text": [
      "\r",
      " 30%|███       | 386/1271 [29:51<1:06:44,  4.52s/it]"
     ]
    },
    {
     "name": "stdout",
     "output_type": "stream",
     "text": [
      "1437906540-1223392111-KRASNOINVOICE15082022FAKTURA-1.png --> done\n",
      "3.982541084289551\n"
     ]
    },
    {
     "name": "stderr",
     "output_type": "stream",
     "text": [
      "\r",
      " 30%|███       | 387/1271 [29:54<1:03:49,  4.33s/it]"
     ]
    },
    {
     "name": "stdout",
     "output_type": "stream",
     "text": [
      "1437906540-1223392111-KRASNOINVOICE15082022FAKTURA-2.png --> done\n",
      "3.8824784755706787\n"
     ]
    },
    {
     "name": "stderr",
     "output_type": "stream",
     "text": [
      "\r",
      " 31%|███       | 388/1271 [29:58<1:00:59,  4.14s/it]"
     ]
    },
    {
     "name": "stdout",
     "output_type": "stream",
     "text": [
      "1437906540-1223392111-KRASNOINVOICE15082022FAKTURA-3.png --> done\n",
      "3.706589937210083\n"
     ]
    },
    {
     "name": "stderr",
     "output_type": "stream",
     "text": [
      "\r",
      " 31%|███       | 389/1271 [30:00<50:30,  3.44s/it]  "
     ]
    },
    {
     "name": "stdout",
     "output_type": "stream",
     "text": [
      "1437906540-1223392111-KRASNOINVOICE15082022FAKTURA-4.png --> done\n",
      "1.773303747177124\n"
     ]
    },
    {
     "name": "stderr",
     "output_type": "stream",
     "text": [
      "\r",
      " 31%|███       | 390/1271 [30:06<1:02:37,  4.26s/it]"
     ]
    },
    {
     "name": "stdout",
     "output_type": "stream",
     "text": [
      "1437906540-1223406688-XLSX-KRASNOKLEARNOWINFO-1.png --> done\n",
      "6.198208332061768\n"
     ]
    },
    {
     "name": "stderr",
     "output_type": "stream",
     "text": [
      "\r",
      " 31%|███       | 391/1271 [30:09<56:41,  3.87s/it]  "
     ]
    },
    {
     "name": "stdout",
     "output_type": "stream",
     "text": [
      "1439306151-1884556990-KX-E5G4-1862-EET210678570-PDF-6.png --> done\n",
      "2.933034658432007\n"
     ]
    },
    {
     "name": "stderr",
     "output_type": "stream",
     "text": [
      "\r",
      " 31%|███       | 392/1271 [30:17<1:14:40,  5.10s/it]"
     ]
    },
    {
     "name": "stdout",
     "output_type": "stream",
     "text": [
      "144211819-144210523-Scan2021-05-24_073103-1.png --> done\n",
      "7.9722723960876465\n"
     ]
    },
    {
     "name": "stderr",
     "output_type": "stream",
     "text": [
      "\r",
      " 31%|███       | 393/1271 [30:19<1:02:59,  4.31s/it]"
     ]
    },
    {
     "name": "stdout",
     "output_type": "stream",
     "text": [
      "1444620961-346778329-invoice-1.png --> done\n",
      "2.4569382667541504\n"
     ]
    },
    {
     "name": "stderr",
     "output_type": "stream",
     "text": [
      "\r",
      " 31%|███       | 394/1271 [30:24<1:02:15,  4.26s/it]"
     ]
    },
    {
     "name": "stdout",
     "output_type": "stream",
     "text": [
      "1449489298-1413848362-ARRIVAL_NOTICE_LI229748-1.png --> done\n",
      "4.1503894329071045\n"
     ]
    },
    {
     "name": "stderr",
     "output_type": "stream",
     "text": [
      "\r",
      " 31%|███       | 395/1271 [30:28<1:02:46,  4.30s/it]"
     ]
    },
    {
     "name": "stdout",
     "output_type": "stream",
     "text": [
      "146286567-568487939-2476_001-3.png --> done\n",
      "4.395241022109985\n"
     ]
    },
    {
     "name": "stderr",
     "output_type": "stream",
     "text": [
      "\r",
      " 31%|███       | 396/1271 [30:33<1:04:27,  4.42s/it]"
     ]
    },
    {
     "name": "stdout",
     "output_type": "stream",
     "text": [
      "1463457618-1463457007-ScannedImage-1.png --> done\n",
      "4.699598073959351\n"
     ]
    },
    {
     "name": "stderr",
     "output_type": "stream",
     "text": [
      "\r",
      " 31%|███       | 397/1271 [30:39<1:13:34,  5.05s/it]"
     ]
    },
    {
     "name": "stdout",
     "output_type": "stream",
     "text": [
      "14639178-14639345-8d29969d-5ab7-9632-488d-3330be9fc99a-3.png --> done\n",
      "6.52415657043457\n"
     ]
    },
    {
     "name": "stderr",
     "output_type": "stream",
     "text": [
      "\r",
      " 31%|███▏      | 398/1271 [30:42<1:05:28,  4.50s/it]"
     ]
    },
    {
     "name": "stdout",
     "output_type": "stream",
     "text": [
      "1465036829-1465037817-invoice4411834-1.png --> done\n",
      "3.211670160293579\n"
     ]
    },
    {
     "name": "stderr",
     "output_type": "stream",
     "text": [
      "\r",
      " 31%|███▏      | 399/1271 [30:46<1:02:02,  4.27s/it]"
     ]
    },
    {
     "name": "stdout",
     "output_type": "stream",
     "text": [
      "1466635954-1491591030-Invoice118of05-08-2022DRINKITALIAN-1.png --> done\n",
      "3.729900360107422\n"
     ]
    },
    {
     "name": "stderr",
     "output_type": "stream",
     "text": [
      "\r",
      " 31%|███▏      | 400/1271 [30:49<56:30,  3.89s/it]  "
     ]
    },
    {
     "name": "stdout",
     "output_type": "stream",
     "text": [
      "1466854368-1466832018-ANMA0101_410918310-1.png --> done\n",
      "3.013916254043579\n"
     ]
    },
    {
     "name": "stderr",
     "output_type": "stream",
     "text": [
      "\r",
      " 32%|███▏      | 401/1271 [30:52<51:57,  3.58s/it]"
     ]
    },
    {
     "name": "stdout",
     "output_type": "stream",
     "text": [
      "1470934605-1033690434-30915960_2_CLDinv-1.png --> done\n",
      "2.860673666000366\n"
     ]
    },
    {
     "name": "stderr",
     "output_type": "stream",
     "text": [
      "\r",
      " 32%|███▏      | 402/1271 [30:56<55:23,  3.82s/it]"
     ]
    },
    {
     "name": "stdout",
     "output_type": "stream",
     "text": [
      "147126340-147127027-ARRIVALNOTICEHBLDGSS2021713CustRefPO32394MBLMAEU1KT102431-1.png --> done\n",
      "4.387185573577881\n"
     ]
    },
    {
     "name": "stderr",
     "output_type": "stream",
     "text": [
      "\r",
      " 32%|███▏      | 403/1271 [31:01<1:00:08,  4.16s/it]"
     ]
    },
    {
     "name": "stdout",
     "output_type": "stream",
     "text": [
      "147230781-147231655-ARRIVALNOTICEHBLDGSS2021710CustRefPO32396323973239832388MBLMAEU1KT102644-1.png --> done\n",
      "4.934139251708984\n"
     ]
    },
    {
     "name": "stderr",
     "output_type": "stream",
     "text": [
      "\r",
      " 32%|███▏      | 404/1271 [31:04<54:05,  3.74s/it]  "
     ]
    },
    {
     "name": "stdout",
     "output_type": "stream",
     "text": [
      "1472486448-1472486643-191021ALDRIGHETTIINOICEILTASTEVIN-1.png --> done\n",
      "2.7766242027282715\n"
     ]
    },
    {
     "name": "stderr",
     "output_type": "stream",
     "text": [
      "\r",
      " 32%|███▏      | 405/1271 [31:09<58:13,  4.03s/it]"
     ]
    },
    {
     "name": "stdout",
     "output_type": "stream",
     "text": [
      "1473773172-1473773259-20210203125143-1.png --> done\n",
      "4.710616111755371\n"
     ]
    },
    {
     "name": "stderr",
     "output_type": "stream",
     "text": [
      "\r",
      " 32%|███▏      | 406/1271 [31:13<57:07,  3.96s/it]"
     ]
    },
    {
     "name": "stdout",
     "output_type": "stream",
     "text": [
      "147473668-147473792-ArrivalNotice-SEWRS0300004430-1.png --> done\n",
      "3.7974565029144287\n"
     ]
    },
    {
     "name": "stderr",
     "output_type": "stream",
     "text": [
      "\r",
      " 32%|███▏      | 407/1271 [31:19<1:05:46,  4.57s/it]"
     ]
    },
    {
     "name": "stdout",
     "output_type": "stream",
     "text": [
      "1475574062-1475573954-BL6285828010-1.png --> done\n",
      "5.976441144943237\n"
     ]
    },
    {
     "name": "stderr",
     "output_type": "stream",
     "text": [
      "\r",
      " 32%|███▏      | 408/1271 [31:24<1:07:17,  4.68s/it]"
     ]
    },
    {
     "name": "stdout",
     "output_type": "stream",
     "text": [
      "147708304-555142386-JUSTPAPERTUBES-1.png --> done\n",
      "4.936800003051758\n"
     ]
    },
    {
     "name": "stderr",
     "output_type": "stream",
     "text": [
      "\r",
      " 32%|███▏      | 409/1271 [31:28<1:07:57,  4.73s/it]"
     ]
    },
    {
     "name": "stdout",
     "output_type": "stream",
     "text": [
      "147708304-555142386-JUSTPAPERTUBES-2.png --> done\n",
      "4.852943658828735\n"
     ]
    },
    {
     "name": "stderr",
     "output_type": "stream",
     "text": [
      "\r",
      " 32%|███▏      | 410/1271 [31:31<58:59,  4.11s/it]  "
     ]
    },
    {
     "name": "stdout",
     "output_type": "stream",
     "text": [
      "1484175359-1484175151-AR214081-500Kg-1.png --> done\n",
      "2.662804365158081\n"
     ]
    },
    {
     "name": "stderr",
     "output_type": "stream",
     "text": [
      "\r",
      " 32%|███▏      | 411/1271 [31:35<58:59,  4.12s/it]"
     ]
    },
    {
     "name": "stdout",
     "output_type": "stream",
     "text": [
      "1485346632-1485346000-CCF_000098-1.png --> done\n",
      "4.128559827804565\n"
     ]
    },
    {
     "name": "stderr",
     "output_type": "stream",
     "text": [
      "\r",
      " 32%|███▏      | 412/1271 [31:39<59:20,  4.14s/it]"
     ]
    },
    {
     "name": "stdout",
     "output_type": "stream",
     "text": [
      "1485416149-1485415543-CCF_000096-1.png --> done\n",
      "4.21181058883667\n"
     ]
    },
    {
     "name": "stderr",
     "output_type": "stream",
     "text": [
      "\r",
      " 32%|███▏      | 413/1271 [31:43<57:15,  4.00s/it]"
     ]
    },
    {
     "name": "stdout",
     "output_type": "stream",
     "text": [
      "1487287821-152415636-RatedArrivalNoticeOPPDF-NCZLSZ21040158-202104250008-1.png --> done\n",
      "3.675448417663574\n"
     ]
    },
    {
     "name": "stderr",
     "output_type": "stream",
     "text": [
      "\r",
      " 33%|███▎      | 414/1271 [31:47<55:53,  3.91s/it]"
     ]
    },
    {
     "name": "stdout",
     "output_type": "stream",
     "text": [
      "1489345803-1489345972-FRPT628001-1.png --> done\n",
      "3.696467161178589\n"
     ]
    },
    {
     "name": "stderr",
     "output_type": "stream",
     "text": [
      "\r",
      " 33%|███▎      | 415/1271 [31:51<55:32,  3.89s/it]"
     ]
    },
    {
     "name": "stdout",
     "output_type": "stream",
     "text": [
      "14899361-14899194-68400HBILL-1.png --> done\n",
      "3.8394267559051514\n"
     ]
    },
    {
     "name": "stderr",
     "output_type": "stream",
     "text": [
      "\r",
      " 33%|███▎      | 416/1271 [31:55<55:53,  3.92s/it]"
     ]
    },
    {
     "name": "stdout",
     "output_type": "stream",
     "text": [
      "1491120280-1491120995-ARRIVALNOTICE-FREIGHTBILL-1.png --> done\n",
      "3.9911699295043945\n"
     ]
    },
    {
     "name": "stderr",
     "output_type": "stream",
     "text": [
      "\r",
      " 33%|███▎      | 417/1271 [32:00<59:55,  4.21s/it]"
     ]
    },
    {
     "name": "stdout",
     "output_type": "stream",
     "text": [
      "1493225124-100653409-InvoiceMaspex-2 (1).png --> done\n",
      "4.880207061767578\n"
     ]
    },
    {
     "name": "stderr",
     "output_type": "stream",
     "text": [
      "\r",
      " 33%|███▎      | 418/1271 [32:05<1:03:03,  4.44s/it]"
     ]
    },
    {
     "name": "stdout",
     "output_type": "stream",
     "text": [
      "1495886225-279641772-ft3estaries-1.png --> done\n",
      "4.960934400558472\n"
     ]
    },
    {
     "name": "stderr",
     "output_type": "stream",
     "text": [
      "\r",
      " 33%|███▎      | 419/1271 [32:10<1:05:50,  4.64s/it]"
     ]
    },
    {
     "name": "stdout",
     "output_type": "stream",
     "text": [
      "1495886225-279641772-ft3estaries-2.png --> done\n",
      "5.09998631477356\n"
     ]
    },
    {
     "name": "stderr",
     "output_type": "stream",
     "text": [
      "\r",
      " 33%|███▎      | 420/1271 [32:13<1:01:57,  4.37s/it]"
     ]
    },
    {
     "name": "stdout",
     "output_type": "stream",
     "text": [
      "149619586-149619714-MSC_Arrival_Notice_MEDUV2729154_2020-12-30-03-24-15-5731_page_5-1.png --> done\n",
      "3.7410080432891846\n"
     ]
    },
    {
     "name": "stderr",
     "output_type": "stream",
     "text": [
      "\r",
      " 33%|███▎      | 421/1271 [32:22<1:20:08,  5.66s/it]"
     ]
    },
    {
     "name": "stdout",
     "output_type": "stream",
     "text": [
      "1497137823-1718226848-42EST-1.png --> done\n",
      "8.6630117893219\n"
     ]
    },
    {
     "name": "stderr",
     "output_type": "stream",
     "text": [
      "\r",
      " 33%|███▎      | 422/1271 [32:28<1:21:27,  5.76s/it]"
     ]
    },
    {
     "name": "stdout",
     "output_type": "stream",
     "text": [
      "1497531622-1497531732-FRPT422356-1.png --> done\n",
      "5.986710548400879\n"
     ]
    },
    {
     "name": "stderr",
     "output_type": "stream",
     "text": [
      "\r",
      " 33%|███▎      | 423/1271 [32:34<1:20:36,  5.70s/it]"
     ]
    },
    {
     "name": "stdout",
     "output_type": "stream",
     "text": [
      "1502767883-2124028379-Scan_MbaeAnissa_20220816-152226_1877_001-2.png --> done\n",
      "5.57602071762085\n"
     ]
    },
    {
     "name": "stderr",
     "output_type": "stream",
     "text": [
      "\r",
      " 33%|███▎      | 424/1271 [32:37<1:10:53,  5.02s/it]"
     ]
    },
    {
     "name": "stdout",
     "output_type": "stream",
     "text": [
      "1502778708-1502778884-ArrivalNotice-SSZX04390634-1.png --> done\n",
      "3.4286346435546875\n"
     ]
    },
    {
     "name": "stderr",
     "output_type": "stream",
     "text": [
      "\r",
      " 33%|███▎      | 425/1271 [32:42<1:10:55,  5.03s/it]"
     ]
    },
    {
     "name": "stdout",
     "output_type": "stream",
     "text": [
      "1508903878-576061713-KX-O3A5-348-WDMFT505_AN_USPHX01_US01000147_0507_001228_067BX21455-MAIL-1.png --> done\n",
      "5.051861524581909\n"
     ]
    },
    {
     "name": "stderr",
     "output_type": "stream",
     "text": [
      "\r",
      " 34%|███▎      | 426/1271 [32:47<1:09:55,  4.96s/it]"
     ]
    },
    {
     "name": "stdout",
     "output_type": "stream",
     "text": [
      "1513066678-1032065842-INV-1.png --> done\n",
      "4.8117897510528564\n"
     ]
    },
    {
     "name": "stderr",
     "output_type": "stream",
     "text": [
      "\r",
      " 34%|███▎      | 427/1271 [32:53<1:15:47,  5.39s/it]"
     ]
    },
    {
     "name": "stdout",
     "output_type": "stream",
     "text": [
      "1513073322-104257102-139473-5.png --> done\n",
      "6.374499797821045\n"
     ]
    },
    {
     "name": "stderr",
     "output_type": "stream",
     "text": [
      "\r",
      " 34%|███▎      | 428/1271 [32:55<1:00:46,  4.33s/it]"
     ]
    },
    {
     "name": "stdout",
     "output_type": "stream",
     "text": [
      "1514110080-474845055-COMMERCIALINVOICECLDUNICASO24664-1.png --> done\n",
      "1.8464181423187256\n"
     ]
    },
    {
     "name": "stderr",
     "output_type": "stream",
     "text": [
      "\r",
      " 34%|███▍      | 429/1271 [33:04<1:21:43,  5.82s/it]"
     ]
    },
    {
     "name": "stdout",
     "output_type": "stream",
     "text": [
      "1521926056-46350042-KX-H1H3-26-GLOBALORGANICS001000010900000040871FCLWEEK16-PDF-6.png --> done\n",
      "9.320510387420654\n"
     ]
    },
    {
     "name": "stderr",
     "output_type": "stream",
     "text": [
      "\r",
      " 34%|███▍      | 430/1271 [33:08<1:13:18,  5.23s/it]"
     ]
    },
    {
     "name": "stdout",
     "output_type": "stream",
     "text": [
      "1528206537-437647026-20220428100951089-1.png --> done\n",
      "3.8452348709106445\n"
     ]
    },
    {
     "name": "stderr",
     "output_type": "stream",
     "text": [
      "\r",
      " 34%|███▍      | 431/1271 [33:11<1:04:44,  4.62s/it]"
     ]
    },
    {
     "name": "stdout",
     "output_type": "stream",
     "text": [
      "1531452871-1588183398-9_10_d-2.png --> done\n",
      "3.2019851207733154\n"
     ]
    },
    {
     "name": "stderr",
     "output_type": "stream",
     "text": [
      "\r",
      " 34%|███▍      | 432/1271 [33:15<1:00:03,  4.30s/it]"
     ]
    },
    {
     "name": "stdout",
     "output_type": "stream",
     "text": [
      "1531452871-1588183398-9_10_d-3.png --> done\n",
      "3.526163101196289\n"
     ]
    },
    {
     "name": "stderr",
     "output_type": "stream",
     "text": [
      "\r",
      " 34%|███▍      | 433/1271 [33:20<1:03:38,  4.56s/it]"
     ]
    },
    {
     "name": "stdout",
     "output_type": "stream",
     "text": [
      "153186854-2096013020-ALEXSPECIFICATION7THFEB-1.png --> done\n",
      "5.166128158569336\n"
     ]
    },
    {
     "name": "stderr",
     "output_type": "stream",
     "text": [
      "\r",
      " 34%|███▍      | 434/1271 [33:27<1:12:53,  5.23s/it]"
     ]
    },
    {
     "name": "stdout",
     "output_type": "stream",
     "text": [
      "153186854-2096088021-KACZOCHACMRANDINVOICE7THFEB-1.png --> done\n",
      "6.781626462936401\n"
     ]
    },
    {
     "name": "stderr",
     "output_type": "stream",
     "text": [
      "\r",
      " 34%|███▍      | 435/1271 [33:32<1:11:09,  5.11s/it]"
     ]
    },
    {
     "name": "stdout",
     "output_type": "stream",
     "text": [
      "1533836-1906039754-PX2281-0515COPYBL-1.png --> done\n",
      "4.831717014312744\n"
     ]
    },
    {
     "name": "stderr",
     "output_type": "stream",
     "text": [
      "\r",
      " 34%|███▍      | 436/1271 [33:36<1:09:18,  4.98s/it]"
     ]
    },
    {
     "name": "stdout",
     "output_type": "stream",
     "text": [
      "1540501649-91633652-ARRIVALNOTICE-FREIGHTBILLPO-1.png --> done\n",
      "4.683602571487427\n"
     ]
    },
    {
     "name": "stderr",
     "output_type": "stream",
     "text": [
      "\r",
      " 34%|███▍      | 437/1271 [33:44<1:18:10,  5.62s/it]"
     ]
    },
    {
     "name": "stdout",
     "output_type": "stream",
     "text": [
      "15430385-15431039-AMS21050036-1.png --> done\n",
      "7.126195907592773\n"
     ]
    },
    {
     "name": "stderr",
     "output_type": "stream",
     "text": [
      "\r",
      " 34%|███▍      | 438/1271 [33:49<1:16:01,  5.48s/it]"
     ]
    },
    {
     "name": "stdout",
     "output_type": "stream",
     "text": [
      "1545571983-1545572073-REVISEDARRIVALNOTICEFREIGHTINVOICE-SZXF20120241-1.png --> done\n",
      "5.12942910194397\n"
     ]
    },
    {
     "name": "stderr",
     "output_type": "stream",
     "text": [
      "\r",
      " 35%|███▍      | 439/1271 [33:53<1:10:27,  5.08s/it]"
     ]
    },
    {
     "name": "stdout",
     "output_type": "stream",
     "text": [
      "15476033-15476374-33485shippingdocument-4.png --> done\n",
      "4.160510540008545\n"
     ]
    },
    {
     "name": "stderr",
     "output_type": "stream",
     "text": [
      "\r",
      " 35%|███▍      | 440/1271 [33:54<54:37,  3.94s/it]  "
     ]
    },
    {
     "name": "stdout",
     "output_type": "stream",
     "text": [
      "1547688361-1284584919-0053-ORANGE-PACK-LTD-2.png --> done\n",
      "1.2894384860992432\n"
     ]
    },
    {
     "name": "stderr",
     "output_type": "stream",
     "text": [
      "\r",
      " 35%|███▍      | 441/1271 [33:58<51:54,  3.75s/it]"
     ]
    },
    {
     "name": "stdout",
     "output_type": "stream",
     "text": [
      "1547776968-1547775162-ARRIVALNOTICEFREIGHTINVOICE-MSE21012454-1.png --> done\n",
      "3.3045339584350586\n"
     ]
    },
    {
     "name": "stderr",
     "output_type": "stream",
     "text": [
      "\r",
      " 35%|███▍      | 442/1271 [34:03<59:12,  4.29s/it]"
     ]
    },
    {
     "name": "stdout",
     "output_type": "stream",
     "text": [
      "1548826973-316374380-21040720AN-1.png --> done\n",
      "5.53024959564209\n"
     ]
    },
    {
     "name": "stderr",
     "output_type": "stream",
     "text": [
      "\r",
      " 35%|███▍      | 443/1271 [34:06<55:03,  3.99s/it]"
     ]
    },
    {
     "name": "stdout",
     "output_type": "stream",
     "text": [
      "1551953583-1836948530-IMABARILOGGERJBHUNTNOA-1.png --> done\n",
      "3.300934076309204\n"
     ]
    },
    {
     "name": "stderr",
     "output_type": "stream",
     "text": [
      "\r",
      " 35%|███▍      | 444/1271 [34:11<59:25,  4.31s/it]"
     ]
    },
    {
     "name": "stdout",
     "output_type": "stream",
     "text": [
      "1552790613-734483697-383199390-1467775770-IBDEMN2-1.png --> done\n",
      "5.059706926345825\n"
     ]
    },
    {
     "name": "stderr",
     "output_type": "stream",
     "text": [
      "\r",
      " 35%|███▌      | 445/1271 [34:16<59:53,  4.35s/it]"
     ]
    },
    {
     "name": "stdout",
     "output_type": "stream",
     "text": [
      "1557700667-330548296-ARRIVALNOTICE-FREIGHTBILL-1.png --> done\n",
      "4.4344401359558105\n"
     ]
    },
    {
     "name": "stderr",
     "output_type": "stream",
     "text": [
      "\r",
      " 35%|███▌      | 446/1271 [34:19<56:58,  4.14s/it]"
     ]
    },
    {
     "name": "stdout",
     "output_type": "stream",
     "text": [
      "1561312267-841249368-ARRIVALNOTICE-1.png --> done\n",
      "3.6600513458251953\n"
     ]
    },
    {
     "name": "stderr",
     "output_type": "stream",
     "text": [
      "\r",
      " 35%|███▌      | 447/1271 [34:27<1:10:25,  5.13s/it]"
     ]
    },
    {
     "name": "stdout",
     "output_type": "stream",
     "text": [
      "1563331062-1460459493-Scan2021-05-17_152934-1.png --> done\n",
      "7.424350261688232\n"
     ]
    },
    {
     "name": "stderr",
     "output_type": "stream",
     "text": [
      "\r",
      " 35%|███▌      | 448/1271 [34:32<1:09:41,  5.08s/it]"
     ]
    },
    {
     "name": "stdout",
     "output_type": "stream",
     "text": [
      "1564216027-657596825-Scan2021-02-03_100942-1.png --> done\n",
      "4.972463846206665\n"
     ]
    },
    {
     "name": "stderr",
     "output_type": "stream",
     "text": [
      "\r",
      " 35%|███▌      | 449/1271 [34:37<1:11:37,  5.23s/it]"
     ]
    },
    {
     "name": "stdout",
     "output_type": "stream",
     "text": [
      "1564216027-657596825-Scan2021-02-03_100942-2.png --> done\n",
      "5.56391167640686\n"
     ]
    },
    {
     "name": "stderr",
     "output_type": "stream",
     "text": [
      "\r",
      " 35%|███▌      | 450/1271 [34:40<58:41,  4.29s/it]  "
     ]
    },
    {
     "name": "stdout",
     "output_type": "stream",
     "text": [
      "1565011436-389285403-PAINANIP536910MAR22-4.png --> done\n",
      "2.098478078842163\n"
     ]
    },
    {
     "name": "stderr",
     "output_type": "stream",
     "text": [
      "\r",
      " 35%|███▌      | 451/1271 [34:42<50:10,  3.67s/it]"
     ]
    },
    {
     "name": "stdout",
     "output_type": "stream",
     "text": [
      "1565011436-389285403-PAINANIP536910MAR22-5.png --> done\n",
      "2.229090452194214\n"
     ]
    },
    {
     "name": "stderr",
     "output_type": "stream",
     "text": [
      "\r",
      " 36%|███▌      | 452/1271 [34:44<44:30,  3.26s/it]"
     ]
    },
    {
     "name": "stdout",
     "output_type": "stream",
     "text": [
      "1565011436-389285403-PAINANIP536910MAR22-7.png --> done\n",
      "2.3003013134002686\n"
     ]
    },
    {
     "name": "stderr",
     "output_type": "stream",
     "text": [
      "\r",
      " 36%|███▌      | 453/1271 [34:51<59:39,  4.38s/it]"
     ]
    },
    {
     "name": "stdout",
     "output_type": "stream",
     "text": [
      "1574228177-1021448534-20220808113452-3.png --> done\n",
      "6.980562686920166\n"
     ]
    },
    {
     "name": "stderr",
     "output_type": "stream",
     "text": [
      "\r",
      " 36%|███▌      | 454/1271 [34:55<57:09,  4.20s/it]"
     ]
    },
    {
     "name": "stdout",
     "output_type": "stream",
     "text": [
      "1574243242-533795867-Invoice-Quercetin-1.png --> done\n",
      "3.7727179527282715\n"
     ]
    },
    {
     "name": "stderr",
     "output_type": "stream",
     "text": [
      "\r",
      " 36%|███▌      | 455/1271 [35:00<1:01:55,  4.55s/it]"
     ]
    },
    {
     "name": "stdout",
     "output_type": "stream",
     "text": [
      "1574243242-533818144-Invoice-BSO-0722-1.png --> done\n",
      "5.385329008102417\n"
     ]
    },
    {
     "name": "stderr",
     "output_type": "stream",
     "text": [
      "\r",
      " 36%|███▌      | 456/1271 [35:06<1:06:04,  4.86s/it]"
     ]
    },
    {
     "name": "stdout",
     "output_type": "stream",
     "text": [
      "1574243242-533832513-Invoice-BIO-0722-1.png --> done\n",
      "5.589867353439331\n"
     ]
    },
    {
     "name": "stderr",
     "output_type": "stream",
     "text": [
      "\r",
      " 36%|███▌      | 457/1271 [35:13<1:15:35,  5.57s/it]"
     ]
    },
    {
     "name": "stdout",
     "output_type": "stream",
     "text": [
      "1578288628-1731427786-Scan2021-02-04_162524-1.png --> done\n",
      "7.222437381744385\n"
     ]
    },
    {
     "name": "stderr",
     "output_type": "stream",
     "text": [
      "\r",
      " 36%|███▌      | 458/1271 [35:17<1:09:25,  5.12s/it]"
     ]
    },
    {
     "name": "stdout",
     "output_type": "stream",
     "text": [
      "1578389109-1059028780-AR2021-400577-1.png --> done\n",
      "4.076115131378174\n"
     ]
    },
    {
     "name": "stderr",
     "output_type": "stream",
     "text": [
      "\r",
      " 36%|███▌      | 459/1271 [35:19<58:00,  4.29s/it]  "
     ]
    },
    {
     "name": "stdout",
     "output_type": "stream",
     "text": [
      "1578389109-1059028780-AR2021-400577-2.png --> done\n",
      "2.3322863578796387\n"
     ]
    },
    {
     "name": "stderr",
     "output_type": "stream",
     "text": [
      "\r",
      " 36%|███▌      | 460/1271 [35:24<57:05,  4.22s/it]"
     ]
    },
    {
     "name": "stdout",
     "output_type": "stream",
     "text": [
      "1578716718-1578725626-KX-I7E7-6-ArrNoticeOOLU2661826290-1.png --> done\n",
      "4.069837808609009\n"
     ]
    },
    {
     "name": "stderr",
     "output_type": "stream",
     "text": [
      "\r",
      " 36%|███▋      | 461/1271 [35:26<50:07,  3.71s/it]"
     ]
    },
    {
     "name": "stdout",
     "output_type": "stream",
     "text": [
      "1581678190-1581676930-BANWYFA00001470150010709421FRD25400894000342809-3 - Copy.png --> done\n",
      "2.519529104232788\n"
     ]
    },
    {
     "name": "stderr",
     "output_type": "stream",
     "text": [
      "\r",
      " 36%|███▋      | 462/1271 [35:30<51:01,  3.78s/it]"
     ]
    },
    {
     "name": "stdout",
     "output_type": "stream",
     "text": [
      "1581678190-1581676930-BANWYFA00001470150010709421FRD25400894000342809-4 - Copy.png --> done\n",
      "3.950524091720581\n"
     ]
    },
    {
     "name": "stderr",
     "output_type": "stream",
     "text": [
      "\r",
      " 36%|███▋      | 463/1271 [35:33<48:49,  3.63s/it]"
     ]
    },
    {
     "name": "stdout",
     "output_type": "stream",
     "text": [
      "1582364026-466944273-CI04-03-34468-1.png --> done\n",
      "3.252903461456299\n"
     ]
    },
    {
     "name": "stderr",
     "output_type": "stream",
     "text": [
      "\r",
      " 37%|███▋      | 464/1271 [35:36<43:16,  3.22s/it]"
     ]
    },
    {
     "name": "stdout",
     "output_type": "stream",
     "text": [
      "1582364026-466965848-PL34468-1.png --> done\n",
      "2.2674334049224854\n"
     ]
    },
    {
     "name": "stderr",
     "output_type": "stream",
     "text": [
      "\r",
      " 37%|███▋      | 465/1271 [35:43<1:01:21,  4.57s/it]"
     ]
    },
    {
     "name": "stdout",
     "output_type": "stream",
     "text": [
      "15847918-205061547-KX-W2H6-6067-SWB35525-PDF-1.png --> done\n",
      "7.71408224105835\n"
     ]
    },
    {
     "name": "stderr",
     "output_type": "stream",
     "text": [
      "\r",
      " 37%|███▋      | 466/1271 [35:47<59:41,  4.45s/it]  "
     ]
    },
    {
     "name": "stdout",
     "output_type": "stream",
     "text": [
      "15847918-205061547-KX-W2H6-6067-SWB35525-PDF-2.png --> done\n",
      "4.173887491226196\n"
     ]
    },
    {
     "name": "stderr",
     "output_type": "stream",
     "text": [
      "\r",
      " 37%|███▋      | 467/1271 [35:51<57:32,  4.29s/it]"
     ]
    },
    {
     "name": "stdout",
     "output_type": "stream",
     "text": [
      "15862330-15863252-AN-6CNT-1.png --> done\n",
      "3.931381940841675\n"
     ]
    },
    {
     "name": "stderr",
     "output_type": "stream",
     "text": [
      "\r",
      " 37%|███▋      | 468/1271 [35:54<49:42,  3.71s/it]"
     ]
    },
    {
     "name": "stdout",
     "output_type": "stream",
     "text": [
      "1586252728-1586252560-00364012-1.png --> done\n",
      "2.3625054359436035\n"
     ]
    },
    {
     "name": "stderr",
     "output_type": "stream",
     "text": [
      "\r",
      " 37%|███▋      | 469/1271 [35:57<46:24,  3.47s/it]"
     ]
    },
    {
     "name": "stdout",
     "output_type": "stream",
     "text": [
      "1599340722-1599340577-FRPT91548-1.png --> done\n",
      "2.901559352874756\n"
     ]
    },
    {
     "name": "stderr",
     "output_type": "stream",
     "text": [
      "\r",
      " 37%|███▋      | 470/1271 [36:03<57:36,  4.32s/it]"
     ]
    },
    {
     "name": "stdout",
     "output_type": "stream",
     "text": [
      "1601808682-62155468-Scan2021-03-18_091830-1.png --> done\n",
      "6.283302545547485\n"
     ]
    },
    {
     "name": "stderr",
     "output_type": "stream",
     "text": [
      "\r",
      " 37%|███▋      | 471/1271 [36:09<1:05:03,  4.88s/it]"
     ]
    },
    {
     "name": "stdout",
     "output_type": "stream",
     "text": [
      "16043673-312464670-KX-H3H4-181-0928085-PDF-1.png --> done\n",
      "6.1952691078186035\n"
     ]
    },
    {
     "name": "stderr",
     "output_type": "stream",
     "text": [
      "\r",
      " 37%|███▋      | 472/1271 [36:16<1:11:20,  5.36s/it]"
     ]
    },
    {
     "name": "stdout",
     "output_type": "stream",
     "text": [
      "160490621-839746407-KX-E3E0-902-Arsenalpreferencialnote-PDF-1.png --> done\n",
      "6.471176624298096\n"
     ]
    },
    {
     "name": "stderr",
     "output_type": "stream",
     "text": [
      "\r",
      " 37%|███▋      | 473/1271 [36:21<1:09:50,  5.25s/it]"
     ]
    },
    {
     "name": "stdout",
     "output_type": "stream",
     "text": [
      "160490621-839746407-KX-E3E0-902-Arsenalpreferencialnote-PDF-2.png --> done\n",
      "4.997610092163086\n"
     ]
    },
    {
     "name": "stderr",
     "output_type": "stream",
     "text": [
      "\r",
      " 37%|███▋      | 474/1271 [36:24<1:03:42,  4.80s/it]"
     ]
    },
    {
     "name": "stdout",
     "output_type": "stream",
     "text": [
      "1609685184-1189568399-OOCLMANIFEST-1.png --> done\n",
      "3.733743906021118\n"
     ]
    },
    {
     "name": "stderr",
     "output_type": "stream",
     "text": [
      "\r",
      " 37%|███▋      | 475/1271 [36:28<59:02,  4.45s/it]  "
     ]
    },
    {
     "name": "stdout",
     "output_type": "stream",
     "text": [
      "1610975467-24161777-KX-V0D6-7-ANforCTRCCLU7956005-1.png --> done\n",
      "3.641357183456421\n"
     ]
    },
    {
     "name": "stderr",
     "output_type": "stream",
     "text": [
      "\r",
      " 37%|███▋      | 476/1271 [36:34<1:04:59,  4.91s/it]"
     ]
    },
    {
     "name": "stdout",
     "output_type": "stream",
     "text": [
      "1611587701-685129059-COSU6288203830_20210226153512-1.png --> done\n",
      "5.968854665756226\n"
     ]
    },
    {
     "name": "stderr",
     "output_type": "stream",
     "text": [
      "\r",
      " 38%|███▊      | 477/1271 [36:47<1:38:14,  7.42s/it]"
     ]
    },
    {
     "name": "stdout",
     "output_type": "stream",
     "text": [
      "16231805-1260705932-WLC10723136-1.png --> done\n",
      "13.299421310424805\n"
     ]
    },
    {
     "name": "stderr",
     "output_type": "stream",
     "text": [
      "\r",
      " 38%|███▊      | 478/1271 [36:52<1:28:04,  6.66s/it]"
     ]
    },
    {
     "name": "stdout",
     "output_type": "stream",
     "text": [
      "1623349122-1190693277-2103_001-1.png --> done\n",
      "4.890200614929199\n"
     ]
    },
    {
     "name": "stderr",
     "output_type": "stream",
     "text": [
      "\r",
      " 38%|███▊      | 479/1271 [37:00<1:32:39,  7.02s/it]"
     ]
    },
    {
     "name": "stdout",
     "output_type": "stream",
     "text": [
      "1624798592-1168456566-Scan2021-02-05_211956-1.png --> done\n",
      "7.850941181182861\n"
     ]
    },
    {
     "name": "stderr",
     "output_type": "stream",
     "text": [
      "\r",
      " 38%|███▊      | 480/1271 [37:01<1:09:27,  5.27s/it]"
     ]
    },
    {
     "name": "stdout",
     "output_type": "stream",
     "text": [
      "16287662-1831314988-ARRIVALNOTICECHARGEABLEITEMSHBLSE2103-0163-01A-FMBLHDMUBKKM65606700-2.png --> done\n",
      "1.1761348247528076\n"
     ]
    },
    {
     "name": "stderr",
     "output_type": "stream",
     "text": [
      "\r",
      " 38%|███▊      | 481/1271 [37:05<1:04:41,  4.91s/it]"
     ]
    },
    {
     "name": "stdout",
     "output_type": "stream",
     "text": [
      "16319232-16319030-ArrNoticeOOLU2661826290-1.png --> done\n",
      "4.084221839904785\n"
     ]
    },
    {
     "name": "stderr",
     "output_type": "stream",
     "text": [
      "\r",
      " 38%|███▊      | 482/1271 [37:09<59:18,  4.51s/it]  "
     ]
    },
    {
     "name": "stdout",
     "output_type": "stream",
     "text": [
      "16319232-16319031-AAR35100442-1.png --> done\n",
      "3.5664479732513428\n"
     ]
    },
    {
     "name": "stderr",
     "output_type": "stream",
     "text": [
      "\r",
      " 38%|███▊      | 483/1271 [37:13<58:25,  4.45s/it]"
     ]
    },
    {
     "name": "stdout",
     "output_type": "stream",
     "text": [
      "163654935-163654742-BdpInvoice4-1.png --> done\n",
      "4.3049476146698\n"
     ]
    },
    {
     "name": "stderr",
     "output_type": "stream",
     "text": [
      "\r",
      " 38%|███▊      | 484/1271 [37:17<56:59,  4.34s/it]"
     ]
    },
    {
     "name": "stdout",
     "output_type": "stream",
     "text": [
      "1637658904-1927716677-ArrivalNotice-SSITUL200991578-1.png --> done\n",
      "4.102642297744751\n"
     ]
    },
    {
     "name": "stderr",
     "output_type": "stream",
     "text": [
      "\r",
      " 38%|███▊      | 485/1271 [37:24<1:04:43,  4.94s/it]"
     ]
    },
    {
     "name": "stdout",
     "output_type": "stream",
     "text": [
      "1639801688-1916216609-invWWT310542-1.png --> done\n",
      "6.333136558532715\n"
     ]
    },
    {
     "name": "stderr",
     "output_type": "stream",
     "text": [
      "\r",
      " 38%|███▊      | 486/1271 [37:26<55:53,  4.27s/it]  "
     ]
    },
    {
     "name": "stdout",
     "output_type": "stream",
     "text": [
      "1643335271-1613412946-ANMA0101_460570654-1.png --> done\n",
      "2.7113401889801025\n"
     ]
    },
    {
     "name": "stderr",
     "output_type": "stream",
     "text": [
      "\r",
      " 38%|███▊      | 487/1271 [37:30<52:17,  4.00s/it]"
     ]
    },
    {
     "name": "stdout",
     "output_type": "stream",
     "text": [
      "1645265361-1645265202-29570813-1.png --> done\n",
      "3.3694968223571777\n"
     ]
    },
    {
     "name": "stderr",
     "output_type": "stream",
     "text": [
      "\r",
      " 38%|███▊      | 488/1271 [37:32<47:45,  3.66s/it]"
     ]
    },
    {
     "name": "stdout",
     "output_type": "stream",
     "text": [
      "1648065682-1139207311-KX-R2A9-1-Commercial-Invoice4-1.png --> done\n",
      "2.858410596847534\n"
     ]
    },
    {
     "name": "stderr",
     "output_type": "stream",
     "text": [
      "\r",
      " 38%|███▊      | 489/1271 [37:36<46:54,  3.60s/it]"
     ]
    },
    {
     "name": "stdout",
     "output_type": "stream",
     "text": [
      "1652011155-1652011523-20210405135846243-1.png --> done\n",
      "3.460062026977539\n"
     ]
    },
    {
     "name": "stderr",
     "output_type": "stream",
     "text": [
      "\r",
      " 39%|███▊      | 490/1271 [37:44<1:04:30,  4.96s/it]"
     ]
    },
    {
     "name": "stdout",
     "output_type": "stream",
     "text": [
      "1666999379-1666999986-Scan2021-04-08_155421-1.png --> done\n",
      "8.119997024536133\n"
     ]
    },
    {
     "name": "stderr",
     "output_type": "stream",
     "text": [
      "\r",
      " 39%|███▊      | 491/1271 [37:47<57:02,  4.39s/it]  "
     ]
    },
    {
     "name": "stdout",
     "output_type": "stream",
     "text": [
      "167109821-167109687-ANSE0101_545071762-1.png --> done\n",
      "3.0631611347198486\n"
     ]
    },
    {
     "name": "stderr",
     "output_type": "stream",
     "text": [
      "\r",
      " 39%|███▊      | 492/1271 [37:52<57:01,  4.39s/it]"
     ]
    },
    {
     "name": "stdout",
     "output_type": "stream",
     "text": [
      "1678538943-1941331147-AN-WHLC025BG01389CTN-1.png --> done\n",
      "4.403193712234497\n"
     ]
    },
    {
     "name": "stderr",
     "output_type": "stream",
     "text": [
      "\r",
      " 39%|███▉      | 493/1271 [37:56<57:14,  4.41s/it]"
     ]
    },
    {
     "name": "stdout",
     "output_type": "stream",
     "text": [
      "1679519139-1679519066-ANONEYTA0PTL518600-1.png --> done\n",
      "4.463869333267212\n"
     ]
    },
    {
     "name": "stderr",
     "output_type": "stream",
     "text": [
      "\r",
      " 39%|███▉      | 494/1271 [38:02<1:01:27,  4.75s/it]"
     ]
    },
    {
     "name": "stdout",
     "output_type": "stream",
     "text": [
      "1683112279-1683112459-ARRIVAL_NOTICE___FREIGHT_INVOICE_ENGO21030068-1.png --> done\n",
      "5.517578363418579\n"
     ]
    },
    {
     "name": "stderr",
     "output_type": "stream",
     "text": [
      "\r",
      " 39%|███▉      | 495/1271 [38:06<59:20,  4.59s/it]  "
     ]
    },
    {
     "name": "stdout",
     "output_type": "stream",
     "text": [
      "1687789108-398089983-ARRIVALNOTICEFREIGHTINVOICE-AE20100016-1.png --> done\n",
      "4.223695755004883\n"
     ]
    },
    {
     "name": "stderr",
     "output_type": "stream",
     "text": [
      "\r",
      " 39%|███▉      | 496/1271 [38:12<1:03:55,  4.95s/it]"
     ]
    },
    {
     "name": "stdout",
     "output_type": "stream",
     "text": [
      "1687935138-913462293-RSTRANSFER2044T07APR22-1.png --> done\n",
      "5.786988019943237\n"
     ]
    },
    {
     "name": "stderr",
     "output_type": "stream",
     "text": [
      "\r",
      " 39%|███▉      | 497/1271 [38:16<1:03:40,  4.94s/it]"
     ]
    },
    {
     "name": "stdout",
     "output_type": "stream",
     "text": [
      "1687935138-913462293-RSTRANSFER2044T07APR22-2.png --> done\n",
      "4.9083709716796875\n"
     ]
    },
    {
     "name": "stderr",
     "output_type": "stream",
     "text": [
      "\r",
      " 39%|███▉      | 498/1271 [38:22<1:04:07,  4.98s/it]"
     ]
    },
    {
     "name": "stdout",
     "output_type": "stream",
     "text": [
      "1688162539-1609089411-CI_16652008833-2.png --> done\n",
      "5.072819232940674\n"
     ]
    },
    {
     "name": "stderr",
     "output_type": "stream",
     "text": [
      "\r",
      " 39%|███▉      | 499/1271 [38:27<1:04:32,  5.02s/it]"
     ]
    },
    {
     "name": "stdout",
     "output_type": "stream",
     "text": [
      "1691679965-1691679776-13697750-1.png --> done\n",
      "5.104748010635376\n"
     ]
    },
    {
     "name": "stderr",
     "output_type": "stream",
     "text": [
      "\r",
      " 39%|███▉      | 500/1271 [38:33<1:10:19,  5.47s/it]"
     ]
    },
    {
     "name": "stdout",
     "output_type": "stream",
     "text": [
      "1693731372-1693734679-Scan2021-05-20_103225-1.png --> done\n",
      "6.538945436477661\n"
     ]
    },
    {
     "name": "stderr",
     "output_type": "stream",
     "text": [
      "\r",
      " 39%|███▉      | 501/1271 [38:36<59:35,  4.64s/it]  "
     ]
    },
    {
     "name": "stdout",
     "output_type": "stream",
     "text": [
      "1693850628-1693850241-L00002398214FNA-5.png --> done\n",
      "2.7011895179748535\n"
     ]
    },
    {
     "name": "stderr",
     "output_type": "stream",
     "text": [
      "\r",
      " 39%|███▉      | 502/1271 [38:37<47:57,  3.74s/it]"
     ]
    },
    {
     "name": "stdout",
     "output_type": "stream",
     "text": [
      "1697121866-2006679343-XLSX-29072022_comm-inv-import_28-1.png --> done\n",
      "1.6371803283691406\n"
     ]
    },
    {
     "name": "stderr",
     "output_type": "stream",
     "text": [
      "\r",
      " 40%|███▉      | 503/1271 [38:42<50:12,  3.92s/it]"
     ]
    },
    {
     "name": "stdout",
     "output_type": "stream",
     "text": [
      "1698462789-1698463022-BL6294479710-1.png --> done\n",
      "4.342626333236694\n"
     ]
    },
    {
     "name": "stderr",
     "output_type": "stream",
     "text": [
      "\r",
      " 40%|███▉      | 504/1271 [38:49<1:02:42,  4.91s/it]"
     ]
    },
    {
     "name": "stdout",
     "output_type": "stream",
     "text": [
      "1702154259-76533387-Scan2021-01-20_190930-1.png --> done\n",
      "7.187243938446045\n"
     ]
    },
    {
     "name": "stderr",
     "output_type": "stream",
     "text": [
      "\r",
      " 40%|███▉      | 505/1271 [38:55<1:07:03,  5.25s/it]"
     ]
    },
    {
     "name": "stdout",
     "output_type": "stream",
     "text": [
      "1702866735-1702863000-SKM_36820012713370-2.png --> done\n",
      "6.061952829360962\n"
     ]
    },
    {
     "name": "stderr",
     "output_type": "stream",
     "text": [
      "\r",
      " 40%|███▉      | 506/1271 [39:03<1:18:28,  6.15s/it]"
     ]
    },
    {
     "name": "stdout",
     "output_type": "stream",
     "text": [
      "1702866735-1702863000-SKM_36820012713370-3.png --> done\n",
      "8.25745701789856\n"
     ]
    },
    {
     "name": "stderr",
     "output_type": "stream",
     "text": [
      "\r",
      " 40%|███▉      | 507/1271 [39:09<1:16:36,  6.02s/it]"
     ]
    },
    {
     "name": "stdout",
     "output_type": "stream",
     "text": [
      "1702866735-1702863000-SKM_36820012713370-4.png --> done\n",
      "5.684060335159302\n"
     ]
    },
    {
     "name": "stderr",
     "output_type": "stream",
     "text": [
      "\r",
      " 40%|███▉      | 508/1271 [39:14<1:12:01,  5.66s/it]"
     ]
    },
    {
     "name": "stdout",
     "output_type": "stream",
     "text": [
      "1703889377-807656548-KX-K2C8-23-AN-HBLFSYT1003100104211-1.png --> done\n",
      "4.84329628944397\n"
     ]
    },
    {
     "name": "stderr",
     "output_type": "stream",
     "text": [
      "\r",
      " 40%|████      | 509/1271 [39:19<1:08:52,  5.42s/it]"
     ]
    },
    {
     "name": "stdout",
     "output_type": "stream",
     "text": [
      "17045717-558688891-ANTKONTENERDOKUMENTY-1.png --> done\n",
      "4.856171369552612\n"
     ]
    },
    {
     "name": "stderr",
     "output_type": "stream",
     "text": [
      "\r",
      " 40%|████      | 510/1271 [39:22<1:00:24,  4.76s/it]"
     ]
    },
    {
     "name": "stdout",
     "output_type": "stream",
     "text": [
      "1706644352-1463465846-FactuurHNR-2021-2-0252-1.png --> done\n",
      "3.2119174003601074\n"
     ]
    },
    {
     "name": "stderr",
     "output_type": "stream",
     "text": [
      "\r",
      " 40%|████      | 511/1271 [39:27<1:00:08,  4.75s/it]"
     ]
    },
    {
     "name": "stdout",
     "output_type": "stream",
     "text": [
      "172051870-172051988-ARRIVALNOTICE-1.png --> done\n",
      "4.703758478164673\n"
     ]
    },
    {
     "name": "stderr",
     "output_type": "stream",
     "text": [
      "\r",
      " 40%|████      | 512/1271 [39:33<1:05:25,  5.17s/it]"
     ]
    },
    {
     "name": "stdout",
     "output_type": "stream",
     "text": [
      "1721610269-977693939-Scan2021-03-23_135516-1.png --> done\n",
      "6.1620941162109375\n"
     ]
    },
    {
     "name": "stderr",
     "output_type": "stream",
     "text": [
      "\r",
      " 40%|████      | 513/1271 [39:38<1:04:18,  5.09s/it]"
     ]
    },
    {
     "name": "stdout",
     "output_type": "stream",
     "text": [
      "1724894866-370508849-DELPHINE_000001296900001_PR1-1.png --> done\n",
      "4.901463985443115\n"
     ]
    },
    {
     "name": "stderr",
     "output_type": "stream",
     "text": [
      "\r",
      " 40%|████      | 514/1271 [39:40<55:18,  4.38s/it]  "
     ]
    },
    {
     "name": "stdout",
     "output_type": "stream",
     "text": [
      "1726021332-1762035995-XLSX-COMMERCIALINVOICECustoms-FruitChews450g-Amesbury-1.png --> done\n",
      "2.735323429107666\n"
     ]
    },
    {
     "name": "stderr",
     "output_type": "stream",
     "text": [
      "\r",
      " 41%|████      | 515/1271 [39:45<55:39,  4.42s/it]"
     ]
    },
    {
     "name": "stdout",
     "output_type": "stream",
     "text": [
      "1726021332-872116681-Invoice10-SE1-2022-1.png --> done\n",
      "4.495970010757446\n"
     ]
    },
    {
     "name": "stderr",
     "output_type": "stream",
     "text": [
      "\r",
      " 41%|████      | 516/1271 [39:50<59:38,  4.74s/it]"
     ]
    },
    {
     "name": "stdout",
     "output_type": "stream",
     "text": [
      "1726557264-1726557383-ARRIVALNOTICEFREIGHTINVOICE-SZLAX2120758-1.png --> done\n",
      "5.491286516189575\n"
     ]
    },
    {
     "name": "stderr",
     "output_type": "stream",
     "text": [
      "\r",
      " 41%|████      | 517/1271 [39:56<1:04:06,  5.10s/it]"
     ]
    },
    {
     "name": "stdout",
     "output_type": "stream",
     "text": [
      "1726668937-1726669503-Scan2021-04-09_083549-1.png --> done\n",
      "5.9460368156433105\n"
     ]
    },
    {
     "name": "stderr",
     "output_type": "stream",
     "text": [
      "\r",
      " 41%|████      | 518/1271 [39:59<55:50,  4.45s/it]  "
     ]
    },
    {
     "name": "stdout",
     "output_type": "stream",
     "text": [
      "1726912964-2006950536-Printdata1-1.png --> done\n",
      "2.922818183898926\n"
     ]
    },
    {
     "name": "stderr",
     "output_type": "stream",
     "text": [
      "\r",
      " 41%|████      | 519/1271 [40:05<58:59,  4.71s/it]"
     ]
    },
    {
     "name": "stdout",
     "output_type": "stream",
     "text": [
      "1732053371-1732053378-ARRIVALNOTICE-FREIGHTINVOICEHBLVNOAK2102563MBLOOLU2659229501-1.png --> done\n",
      "5.305183410644531\n"
     ]
    },
    {
     "name": "stderr",
     "output_type": "stream",
     "text": [
      "\r",
      " 41%|████      | 520/1271 [40:10<1:03:05,  5.04s/it]"
     ]
    },
    {
     "name": "stdout",
     "output_type": "stream",
     "text": [
      "1732183118-1732183331-REVISEDARRIVALNOTICEFREIGHTINVOICE-SE0112059Y-1.png --> done\n",
      "5.818755388259888\n"
     ]
    },
    {
     "name": "stderr",
     "output_type": "stream",
     "text": [
      "\r",
      " 41%|████      | 521/1271 [40:15<1:00:35,  4.85s/it]"
     ]
    },
    {
     "name": "stdout",
     "output_type": "stream",
     "text": [
      "1734158218-1734157322-SML202101133_CargoArrivalNotice-1.png --> done\n",
      "4.3952038288116455\n"
     ]
    },
    {
     "name": "stderr",
     "output_type": "stream",
     "text": [
      "\r",
      " 41%|████      | 522/1271 [40:19<59:00,  4.73s/it]  "
     ]
    },
    {
     "name": "stdout",
     "output_type": "stream",
     "text": [
      "1735954026-1560095238-ARRIVALNOTICE-1.png --> done\n",
      "4.444594144821167\n"
     ]
    },
    {
     "name": "stderr",
     "output_type": "stream",
     "text": [
      "\r",
      " 41%|████      | 523/1271 [40:23<56:34,  4.54s/it]"
     ]
    },
    {
     "name": "stdout",
     "output_type": "stream",
     "text": [
      "1737336846-2120680353-ArrivalNotice-S00001220-1.png --> done\n",
      "4.098848342895508\n"
     ]
    },
    {
     "name": "stderr",
     "output_type": "stream",
     "text": [
      "\r",
      " 41%|████      | 524/1271 [40:31<1:06:35,  5.35s/it]"
     ]
    },
    {
     "name": "stdout",
     "output_type": "stream",
     "text": [
      "1737845433-1737846171-BL4051262490-1.png --> done\n",
      "7.238988161087036\n"
     ]
    },
    {
     "name": "stderr",
     "output_type": "stream",
     "text": [
      "\r",
      " 41%|████▏     | 525/1271 [40:35<1:03:00,  5.07s/it]"
     ]
    },
    {
     "name": "stdout",
     "output_type": "stream",
     "text": [
      "17388341-17386671-FRPT243634-1.png --> done\n",
      "4.405102252960205\n"
     ]
    },
    {
     "name": "stderr",
     "output_type": "stream",
     "text": [
      "\r",
      " 41%|████▏     | 526/1271 [40:44<1:16:41,  6.18s/it]"
     ]
    },
    {
     "name": "stdout",
     "output_type": "stream",
     "text": [
      "1742298915-1061142832-SKM_C224e22021617171-1.png --> done\n",
      "8.763856172561646\n"
     ]
    },
    {
     "name": "stderr",
     "output_type": "stream",
     "text": [
      "\r",
      " 41%|████▏     | 527/1271 [40:48<1:07:59,  5.48s/it]"
     ]
    },
    {
     "name": "stdout",
     "output_type": "stream",
     "text": [
      "174318290-848978841-SFSE-23202200000001-1.png --> done\n",
      "3.8649559020996094\n"
     ]
    },
    {
     "name": "stderr",
     "output_type": "stream",
     "text": [
      "\r",
      " 42%|████▏     | 528/1271 [40:51<59:59,  4.84s/it]  "
     ]
    },
    {
     "name": "stdout",
     "output_type": "stream",
     "text": [
      "1745536233-1745536187-KX-E5G4-1181-ARV-1.png --> done\n",
      "3.35429310798645\n"
     ]
    },
    {
     "name": "stderr",
     "output_type": "stream",
     "text": [
      "\r",
      " 42%|████▏     | 529/1271 [40:55<55:05,  4.46s/it]"
     ]
    },
    {
     "name": "stdout",
     "output_type": "stream",
     "text": [
      "1745854845-400640758-arrivalnotice-1.png --> done\n",
      "3.5458478927612305\n"
     ]
    },
    {
     "name": "stderr",
     "output_type": "stream",
     "text": [
      "\r",
      " 42%|████▏     | 530/1271 [40:58<50:51,  4.12s/it]"
     ]
    },
    {
     "name": "stdout",
     "output_type": "stream",
     "text": [
      "1748813693-1811244025-KX-R8I5-26-FLEX-1010865_Arrival-Notice_B570872_20210503T212738-1.png --> done\n",
      "3.330327033996582\n"
     ]
    },
    {
     "name": "stderr",
     "output_type": "stream",
     "text": [
      "\r",
      " 42%|████▏     | 531/1271 [41:02<49:10,  3.99s/it]"
     ]
    },
    {
     "name": "stdout",
     "output_type": "stream",
     "text": [
      "1749396778-1749396968-ArrivalNotice-SHOU19008328-1.png --> done\n",
      "3.6829521656036377\n"
     ]
    },
    {
     "name": "stderr",
     "output_type": "stream",
     "text": [
      "\r",
      " 42%|████▏     | 532/1271 [41:12<1:12:09,  5.86s/it]"
     ]
    },
    {
     "name": "stdout",
     "output_type": "stream",
     "text": [
      "1750097680-1750097038-IMG_20210203_0002-1.png --> done\n",
      "10.221859693527222\n"
     ]
    },
    {
     "name": "stderr",
     "output_type": "stream",
     "text": [
      "\r",
      " 42%|████▏     | 533/1271 [41:20<1:19:59,  6.50s/it]"
     ]
    },
    {
     "name": "stdout",
     "output_type": "stream",
     "text": [
      "1750243985-1750243932-IMG_20210203_0004-1.png --> done\n",
      "8.008107900619507\n"
     ]
    },
    {
     "name": "stderr",
     "output_type": "stream",
     "text": [
      "\r",
      " 42%|████▏     | 534/1271 [41:24<1:09:59,  5.70s/it]"
     ]
    },
    {
     "name": "stdout",
     "output_type": "stream",
     "text": [
      "1751176107-1751175917-ArrivalNotice-S00083424-1.png --> done\n",
      "3.8132433891296387\n"
     ]
    },
    {
     "name": "stderr",
     "output_type": "stream",
     "text": [
      "\r",
      " 42%|████▏     | 535/1271 [41:28<1:05:16,  5.32s/it]"
     ]
    },
    {
     "name": "stdout",
     "output_type": "stream",
     "text": [
      "1752750015-1752749285-AN-D210312-1.png --> done\n",
      "4.442686080932617\n"
     ]
    },
    {
     "name": "stderr",
     "output_type": "stream",
     "text": [
      "\r",
      " 42%|████▏     | 536/1271 [41:31<54:54,  4.48s/it]  "
     ]
    },
    {
     "name": "stdout",
     "output_type": "stream",
     "text": [
      "1753556349-561697908-IMP06049368-C-1.png --> done\n",
      "2.5211949348449707\n"
     ]
    },
    {
     "name": "stderr",
     "output_type": "stream",
     "text": [
      "\r",
      " 42%|████▏     | 537/1271 [41:35<52:39,  4.30s/it]"
     ]
    },
    {
     "name": "stdout",
     "output_type": "stream",
     "text": [
      "1756762938-713692462-sokolowinvoice21062022-1.png --> done\n",
      "3.8887455463409424\n"
     ]
    },
    {
     "name": "stderr",
     "output_type": "stream",
     "text": [
      "\r",
      " 42%|████▏     | 538/1271 [41:39<52:48,  4.32s/it]"
     ]
    },
    {
     "name": "stdout",
     "output_type": "stream",
     "text": [
      "1763347630-2100686576-KNBrokerHandoverAdvice-1.png --> done\n",
      "4.367503643035889\n"
     ]
    },
    {
     "name": "stderr",
     "output_type": "stream",
     "text": [
      "\r",
      " 42%|████▏     | 539/1271 [41:42<47:12,  3.87s/it]"
     ]
    },
    {
     "name": "stdout",
     "output_type": "stream",
     "text": [
      "1765547543-1057977419-NoticeofArrivalOPDR21OLK00188640200139_588_28_0-1.png --> done\n",
      "2.8101320266723633\n"
     ]
    },
    {
     "name": "stderr",
     "output_type": "stream",
     "text": [
      "\r",
      " 42%|████▏     | 540/1271 [41:47<50:55,  4.18s/it]"
     ]
    },
    {
     "name": "stdout",
     "output_type": "stream",
     "text": [
      "1771235536-102948892-Scan2021-01-20_091028-1.png --> done\n",
      "4.89861536026001\n"
     ]
    },
    {
     "name": "stderr",
     "output_type": "stream",
     "text": [
      "\r",
      " 43%|████▎     | 541/1271 [41:50<48:10,  3.96s/it]"
     ]
    },
    {
     "name": "stdout",
     "output_type": "stream",
     "text": [
      "1774532608-1774533471-ANSNGB000386454-1.png --> done\n",
      "3.443356990814209\n"
     ]
    },
    {
     "name": "stderr",
     "output_type": "stream",
     "text": [
      "\r",
      " 43%|████▎     | 542/1271 [41:55<53:32,  4.41s/it]"
     ]
    },
    {
     "name": "stdout",
     "output_type": "stream",
     "text": [
      "177460951-380440588-Scan2021-03-12_135135-2.png --> done\n",
      "5.45215630531311\n"
     ]
    },
    {
     "name": "stderr",
     "output_type": "stream",
     "text": [
      "\r",
      " 43%|████▎     | 543/1271 [42:00<52:56,  4.36s/it]"
     ]
    },
    {
     "name": "stdout",
     "output_type": "stream",
     "text": [
      "1777060159-1150525506-CFPL6-1.png --> done\n",
      "4.260153293609619\n"
     ]
    },
    {
     "name": "stderr",
     "output_type": "stream",
     "text": [
      "\r",
      " 43%|████▎     | 544/1271 [42:04<50:40,  4.18s/it]"
     ]
    },
    {
     "name": "stdout",
     "output_type": "stream",
     "text": [
      "1793660600-1793660633-KX-W2H6-6374-DocSetPO33898-PDF-2.png --> done\n",
      "3.760286569595337\n"
     ]
    },
    {
     "name": "stderr",
     "output_type": "stream",
     "text": [
      "\r",
      " 43%|████▎     | 545/1271 [42:08<52:04,  4.30s/it]"
     ]
    },
    {
     "name": "stdout",
     "output_type": "stream",
     "text": [
      "1793660600-1793660744-KX-W2H6-6374-DocSetPO33921-PDF-1.png --> done\n",
      "4.586755037307739\n"
     ]
    },
    {
     "name": "stderr",
     "output_type": "stream",
     "text": [
      "\r",
      " 43%|████▎     | 546/1271 [42:11<46:53,  3.88s/it]"
     ]
    },
    {
     "name": "stdout",
     "output_type": "stream",
     "text": [
      "179373870-179373149-NoticeofArrivalOPDR21OLK003052AA000035_1124_28_0-1.png --> done\n",
      "2.893615245819092\n"
     ]
    },
    {
     "name": "stderr",
     "output_type": "stream",
     "text": [
      "\r",
      " 43%|████▎     | 547/1271 [42:14<45:16,  3.75s/it]"
     ]
    },
    {
     "name": "stdout",
     "output_type": "stream",
     "text": [
      "1798592566-593810255-FVS020127WG-1.png --> done\n",
      "3.450554132461548\n"
     ]
    },
    {
     "name": "stderr",
     "output_type": "stream",
     "text": [
      "\r",
      " 43%|████▎     | 548/1271 [42:18<42:56,  3.56s/it]"
     ]
    },
    {
     "name": "stdout",
     "output_type": "stream",
     "text": [
      "1800524626-1190704491-BANWYCC0000223844162240-4.png --> done\n",
      "3.125699758529663\n"
     ]
    },
    {
     "name": "stderr",
     "output_type": "stream",
     "text": [
      "\r",
      " 43%|████▎     | 549/1271 [42:20<39:08,  3.25s/it]"
     ]
    },
    {
     "name": "stdout",
     "output_type": "stream",
     "text": [
      "18040538-1194506006-NL_EXP_L321061019150-3.png --> done\n",
      "2.523831367492676\n"
     ]
    },
    {
     "name": "stderr",
     "output_type": "stream",
     "text": [
      "\r",
      " 43%|████▎     | 550/1271 [42:28<56:11,  4.68s/it]"
     ]
    },
    {
     "name": "stdout",
     "output_type": "stream",
     "text": [
      "1804352671-749212275-Scan2021-03-16_185756-1.png --> done\n",
      "7.999286651611328\n"
     ]
    },
    {
     "name": "stderr",
     "output_type": "stream",
     "text": [
      "\r",
      " 43%|████▎     | 551/1271 [42:32<53:07,  4.43s/it]"
     ]
    },
    {
     "name": "stdout",
     "output_type": "stream",
     "text": [
      "1807685236-1982424671-JOE_20210328140607_OIL2103524_0000120_OIH_ANPAYCARGO-1.png --> done\n",
      "3.8317525386810303\n"
     ]
    },
    {
     "name": "stderr",
     "output_type": "stream",
     "text": [
      "\r",
      " 43%|████▎     | 552/1271 [42:34<46:14,  3.86s/it]"
     ]
    },
    {
     "name": "stdout",
     "output_type": "stream",
     "text": [
      "1808445814-1309659403-IN62943795-1.png --> done\n",
      "2.531754493713379\n"
     ]
    },
    {
     "name": "stderr",
     "output_type": "stream",
     "text": [
      "\r",
      " 44%|████▎     | 553/1271 [42:40<53:14,  4.45s/it]"
     ]
    },
    {
     "name": "stdout",
     "output_type": "stream",
     "text": [
      "1808769542-512590620-BL9014741920-1.png --> done\n",
      "5.827236175537109\n"
     ]
    },
    {
     "name": "stderr",
     "output_type": "stream",
     "text": [
      "\r",
      " 44%|████▎     | 554/1271 [42:43<46:53,  3.92s/it]"
     ]
    },
    {
     "name": "stdout",
     "output_type": "stream",
     "text": [
      "1816741482-2030915771-HENKELP92Bill1887803371-1.png --> done\n",
      "2.698568820953369\n"
     ]
    },
    {
     "name": "stderr",
     "output_type": "stream",
     "text": [
      "\r",
      " 44%|████▎     | 555/1271 [42:47<46:36,  3.91s/it]"
     ]
    },
    {
     "name": "stdout",
     "output_type": "stream",
     "text": [
      "1819577419-310681407-KlearNow-2.png --> done\n",
      "3.8621222972869873\n"
     ]
    },
    {
     "name": "stderr",
     "output_type": "stream",
     "text": [
      "\r",
      " 44%|████▎     | 556/1271 [42:51<47:39,  4.00s/it]"
     ]
    },
    {
     "name": "stdout",
     "output_type": "stream",
     "text": [
      "1835840991-1835829905-SE210120A-ARRIVALNOTICE-1.png --> done\n",
      "4.216576337814331\n"
     ]
    },
    {
     "name": "stderr",
     "output_type": "stream",
     "text": [
      "\r",
      " 44%|████▍     | 557/1271 [42:54<42:55,  3.61s/it]"
     ]
    },
    {
     "name": "stdout",
     "output_type": "stream",
     "text": [
      "1837071960-625308790-Nagel-SarikhaniRe3-1.png --> done\n",
      "2.6925315856933594\n"
     ]
    },
    {
     "name": "stderr",
     "output_type": "stream",
     "text": [
      "\r",
      " 44%|████▍     | 558/1271 [42:56<38:40,  3.25s/it]"
     ]
    },
    {
     "name": "stdout",
     "output_type": "stream",
     "text": [
      "1841096622-1529607698-CI-1.png --> done\n",
      "2.4304099082946777\n"
     ]
    },
    {
     "name": "stderr",
     "output_type": "stream",
     "text": [
      "\r",
      " 44%|████▍     | 559/1271 [42:59<38:03,  3.21s/it]"
     ]
    },
    {
     "name": "stdout",
     "output_type": "stream",
     "text": [
      "1844308944-1310022344-FA_6_2022-1.png --> done\n",
      "3.0993714332580566\n"
     ]
    },
    {
     "name": "stderr",
     "output_type": "stream",
     "text": [
      "\r",
      " 44%|████▍     | 560/1271 [43:03<41:23,  3.49s/it]"
     ]
    },
    {
     "name": "stdout",
     "output_type": "stream",
     "text": [
      "1844843898-671883330-979547053-1554098886-ANTdokumenty-1.png --> done\n",
      "4.155425310134888\n"
     ]
    },
    {
     "name": "stderr",
     "output_type": "stream",
     "text": [
      "\r",
      " 44%|████▍     | 561/1271 [43:08<43:39,  3.69s/it]"
     ]
    },
    {
     "name": "stdout",
     "output_type": "stream",
     "text": [
      "1844843898-671883330-979547053-1554098886-ANTdokumenty-2.png --> done\n",
      "4.146807670593262\n"
     ]
    },
    {
     "name": "stderr",
     "output_type": "stream",
     "text": [
      "\r",
      " 44%|████▍     | 562/1271 [43:16<1:01:29,  5.20s/it]"
     ]
    },
    {
     "name": "stdout",
     "output_type": "stream",
     "text": [
      "1853174665-2002504896-Scan2021-01-19_161156-1.png --> done\n",
      "8.738068342208862\n"
     ]
    },
    {
     "name": "stderr",
     "output_type": "stream",
     "text": [
      "\r",
      " 44%|████▍     | 563/1271 [43:19<52:06,  4.42s/it]  "
     ]
    },
    {
     "name": "stdout",
     "output_type": "stream",
     "text": [
      "1853728175-623970145-FV-2-1.png --> done\n",
      "2.575869083404541\n"
     ]
    },
    {
     "name": "stderr",
     "output_type": "stream",
     "text": [
      "\r",
      " 44%|████▍     | 564/1271 [43:22<46:28,  3.94s/it]"
     ]
    },
    {
     "name": "stdout",
     "output_type": "stream",
     "text": [
      "1857277260-1118616086-INV-220024-1.png --> done\n",
      "2.8445019721984863\n"
     ]
    },
    {
     "name": "stderr",
     "output_type": "stream",
     "text": [
      "\r",
      " 44%|████▍     | 565/1271 [43:27<51:16,  4.36s/it]"
     ]
    },
    {
     "name": "stdout",
     "output_type": "stream",
     "text": [
      "1858453926-1742985684-PAINANIP404206ABR2022-1.png --> done\n",
      "5.322397470474243\n"
     ]
    },
    {
     "name": "stderr",
     "output_type": "stream",
     "text": [
      "\r",
      " 45%|████▍     | 566/1271 [43:31<50:01,  4.26s/it]"
     ]
    },
    {
     "name": "stdout",
     "output_type": "stream",
     "text": [
      "1858453926-1742985684-PAINANIP404206ABR2022-2.png --> done\n",
      "4.0219292640686035\n"
     ]
    },
    {
     "name": "stderr",
     "output_type": "stream",
     "text": [
      "\r",
      " 45%|████▍     | 567/1271 [43:35<49:06,  4.19s/it]"
     ]
    },
    {
     "name": "stdout",
     "output_type": "stream",
     "text": [
      "1859344429-1446801693-HNR-2022-0002-1.png --> done\n",
      "4.017077445983887\n"
     ]
    },
    {
     "name": "stderr",
     "output_type": "stream",
     "text": [
      "\r",
      " 45%|████▍     | 568/1271 [43:37<40:53,  3.49s/it]"
     ]
    },
    {
     "name": "stdout",
     "output_type": "stream",
     "text": [
      "1863758358-61382739-InvoiceBeaumonde-1.png --> done\n",
      "1.8679895401000977\n"
     ]
    },
    {
     "name": "stderr",
     "output_type": "stream",
     "text": [
      "\r",
      " 45%|████▍     | 569/1271 [43:41<42:47,  3.66s/it]"
     ]
    },
    {
     "name": "stdout",
     "output_type": "stream",
     "text": [
      "18652150-1636926137-GetCartPDFGlobal-8.png --> done\n",
      "4.046001672744751\n"
     ]
    },
    {
     "name": "stderr",
     "output_type": "stream",
     "text": [
      "\r",
      " 45%|████▍     | 570/1271 [43:47<51:11,  4.38s/it]"
     ]
    },
    {
     "name": "stdout",
     "output_type": "stream",
     "text": [
      "1869528567-291983162-KX-H1H3-19-GLOBALORGANICS001000010900000039941FCLWEEK13-PDF-6.png --> done\n",
      "6.071614503860474\n"
     ]
    },
    {
     "name": "stderr",
     "output_type": "stream",
     "text": [
      "\r",
      " 45%|████▍     | 571/1271 [43:53<57:58,  4.97s/it]"
     ]
    },
    {
     "name": "stdout",
     "output_type": "stream",
     "text": [
      "1869622352-1869623144-Scan2021-05-20_190253-1.png --> done\n",
      "6.339291095733643\n"
     ]
    },
    {
     "name": "stderr",
     "output_type": "stream",
     "text": [
      "\r",
      " 45%|████▌     | 572/1271 [43:57<54:10,  4.65s/it]"
     ]
    },
    {
     "name": "stdout",
     "output_type": "stream",
     "text": [
      "1871891528-933158168-RSTRANSFER2043T25FEB22-2.png --> done\n",
      "3.9018664360046387\n"
     ]
    },
    {
     "name": "stderr",
     "output_type": "stream",
     "text": [
      "\r",
      " 45%|████▌     | 573/1271 [44:00<45:26,  3.91s/it]"
     ]
    },
    {
     "name": "stdout",
     "output_type": "stream",
     "text": [
      "1872734016-580965535-COMMERCIALINVOICECLDVKESX1206-1.png --> done\n",
      "2.1688289642333984\n"
     ]
    },
    {
     "name": "stderr",
     "output_type": "stream",
     "text": [
      "\r",
      " 45%|████▌     | 574/1271 [44:04<45:40,  3.93s/it]"
     ]
    },
    {
     "name": "stdout",
     "output_type": "stream",
     "text": [
      "1875576708-1191814261-MSC_Arrival_Notice_MEDULD146832_2021-03-10-07-07-19-3286-5.png --> done\n",
      "3.9891538619995117\n"
     ]
    },
    {
     "name": "stderr",
     "output_type": "stream",
     "text": [
      "\r",
      " 45%|████▌     | 575/1271 [44:09<49:34,  4.27s/it]"
     ]
    },
    {
     "name": "stdout",
     "output_type": "stream",
     "text": [
      "1875576708-1191814261-MSC_Arrival_Notice_MEDULD146832_2021-03-10-07-07-19-3286-6.png --> done\n",
      "5.074037790298462\n"
     ]
    },
    {
     "name": "stderr",
     "output_type": "stream",
     "text": [
      "\r",
      " 45%|████▌     | 576/1271 [44:12<45:44,  3.95s/it]"
     ]
    },
    {
     "name": "stdout",
     "output_type": "stream",
     "text": [
      "1878402634-1005813408-KX-O2E8-29-703380664-550879452-Invoice-220059-PDF-1.png --> done\n",
      "3.1897711753845215\n"
     ]
    },
    {
     "name": "stderr",
     "output_type": "stream",
     "text": [
      "\r",
      " 45%|████▌     | 577/1271 [44:16<45:13,  3.91s/it]"
     ]
    },
    {
     "name": "stdout",
     "output_type": "stream",
     "text": [
      "187918075-446999753-TransportationInvoice-LubriageINV-220055-1.png --> done\n",
      "3.820068120956421\n"
     ]
    },
    {
     "name": "stderr",
     "output_type": "stream",
     "text": [
      "\r",
      " 45%|████▌     | 578/1271 [44:19<44:53,  3.89s/it]"
     ]
    },
    {
     "name": "stdout",
     "output_type": "stream",
     "text": [
      "1880771011-2088652337-scannervenbroscouk_20220311_140822-1.png --> done\n",
      "3.8319878578186035\n"
     ]
    },
    {
     "name": "stderr",
     "output_type": "stream",
     "text": [
      "\r",
      " 46%|████▌     | 579/1271 [44:23<44:31,  3.86s/it]"
     ]
    },
    {
     "name": "stdout",
     "output_type": "stream",
     "text": [
      "18940808-1457978987-arrivalnotice-1.png --> done\n",
      "3.798983097076416\n"
     ]
    },
    {
     "name": "stderr",
     "output_type": "stream",
     "text": [
      "\r",
      " 46%|████▌     | 580/1271 [44:28<47:10,  4.10s/it]"
     ]
    },
    {
     "name": "stdout",
     "output_type": "stream",
     "text": [
      "189444718-195689366-0134_001-1.png --> done\n",
      "4.643420934677124\n"
     ]
    },
    {
     "name": "stderr",
     "output_type": "stream",
     "text": [
      "\r",
      " 46%|████▌     | 581/1271 [44:33<49:34,  4.31s/it]"
     ]
    },
    {
     "name": "stdout",
     "output_type": "stream",
     "text": [
      "1902152-1902367-BL235101010945-1.png --> done\n",
      "4.810579061508179\n"
     ]
    },
    {
     "name": "stderr",
     "output_type": "stream",
     "text": [
      "\r",
      " 46%|████▌     | 582/1271 [44:38<53:23,  4.65s/it]"
     ]
    },
    {
     "name": "stdout",
     "output_type": "stream",
     "text": [
      "1906518533-1906519462-BL6291037540-1.png --> done\n",
      "5.432363271713257\n"
     ]
    },
    {
     "name": "stderr",
     "output_type": "stream",
     "text": [
      "\r",
      " 46%|████▌     | 583/1271 [44:47<1:07:08,  5.86s/it]"
     ]
    },
    {
     "name": "stdout",
     "output_type": "stream",
     "text": [
      "1907397030-1328276838-Sofaluxshippingdocuments12thJuly-5.png --> done\n",
      "8.669583082199097\n"
     ]
    },
    {
     "name": "stderr",
     "output_type": "stream",
     "text": [
      "\r",
      " 46%|████▌     | 584/1271 [44:50<58:37,  5.12s/it]  "
     ]
    },
    {
     "name": "stdout",
     "output_type": "stream",
     "text": [
      "191037442-1541535690-ArrivalNoticeforBrokerage-SCAN0244252-1.png --> done\n",
      "3.403094530105591\n"
     ]
    },
    {
     "name": "stderr",
     "output_type": "stream",
     "text": [
      "\r",
      " 46%|████▌     | 585/1271 [44:54<53:33,  4.68s/it]"
     ]
    },
    {
     "name": "stdout",
     "output_type": "stream",
     "text": [
      "1910600337-2087567950-SSNZ0021134ARRIVALNOTICE-1.png --> done\n",
      "3.667170763015747\n"
     ]
    },
    {
     "name": "stderr",
     "output_type": "stream",
     "text": [
      "\r",
      " 46%|████▌     | 586/1271 [44:59<55:59,  4.90s/it]"
     ]
    },
    {
     "name": "stdout",
     "output_type": "stream",
     "text": [
      "1916447989-2023516748-F190912AARCHS02755-1.png --> done\n",
      "5.416204929351807\n"
     ]
    },
    {
     "name": "stderr",
     "output_type": "stream",
     "text": [
      "\r",
      " 46%|████▌     | 587/1271 [45:05<56:59,  5.00s/it]"
     ]
    },
    {
     "name": "stdout",
     "output_type": "stream",
     "text": [
      "1916562364-1916562255-OI-21119-1.png --> done\n",
      "5.221580982208252\n"
     ]
    },
    {
     "name": "stderr",
     "output_type": "stream",
     "text": [
      "\r",
      " 46%|████▋     | 588/1271 [45:10<58:46,  5.16s/it]"
     ]
    },
    {
     "name": "stdout",
     "output_type": "stream",
     "text": [
      "1919622628-497968336-ARRIVALNOTICEFREIGHTINVOICE-YTN21023337-1.png --> done\n",
      "5.5464465618133545\n"
     ]
    },
    {
     "name": "stderr",
     "output_type": "stream",
     "text": [
      "\r",
      " 46%|████▋     | 589/1271 [45:14<55:01,  4.84s/it]"
     ]
    },
    {
     "name": "stdout",
     "output_type": "stream",
     "text": [
      "19219845-1215188377-NL_EXP_L322040511320-4.png --> done\n",
      "4.0885398387908936\n"
     ]
    },
    {
     "name": "stderr",
     "output_type": "stream",
     "text": [
      "\r",
      " 46%|████▋     | 590/1271 [45:16<46:07,  4.06s/it]"
     ]
    },
    {
     "name": "stdout",
     "output_type": "stream",
     "text": [
      "1923371561-1923371578-KX-H1H3-13-52-042mDraft_BL_ZIMUGOA1041494-PDF-2.png --> done\n",
      "2.2491469383239746\n"
     ]
    },
    {
     "name": "stderr",
     "output_type": "stream",
     "text": [
      "\r",
      " 46%|████▋     | 591/1271 [45:21<48:27,  4.28s/it]"
     ]
    },
    {
     "name": "stdout",
     "output_type": "stream",
     "text": [
      "1924142776-1924142684-CCF_000045-1.png --> done\n",
      "4.770692825317383\n"
     ]
    },
    {
     "name": "stderr",
     "output_type": "stream",
     "text": [
      "\r",
      " 47%|████▋     | 592/1271 [45:25<45:46,  4.04s/it]"
     ]
    },
    {
     "name": "stdout",
     "output_type": "stream",
     "text": [
      "1928355789-1928355614-10675905-1.png --> done\n",
      "3.4959654808044434\n"
     ]
    },
    {
     "name": "stderr",
     "output_type": "stream",
     "text": [
      "\r",
      " 47%|████▋     | 593/1271 [45:29<46:06,  4.08s/it]"
     ]
    },
    {
     "name": "stdout",
     "output_type": "stream",
     "text": [
      "193069202-193071025-ARRIVAL_NOTICE____TEMU7749090-1.png --> done\n",
      "4.162811994552612\n"
     ]
    },
    {
     "name": "stderr",
     "output_type": "stream",
     "text": [
      "\r",
      " 47%|████▋     | 594/1271 [45:37<1:00:25,  5.36s/it]"
     ]
    },
    {
     "name": "stdout",
     "output_type": "stream",
     "text": [
      "1930706241-1930706017-Scan2021-05-18_120231-1.png --> done\n",
      "8.329598188400269\n"
     ]
    },
    {
     "name": "stderr",
     "output_type": "stream",
     "text": [
      "\r",
      " 47%|████▋     | 595/1271 [45:41<55:02,  4.89s/it]  "
     ]
    },
    {
     "name": "stdout",
     "output_type": "stream",
     "text": [
      "193077724-1395061483-AN3300706IFE_AUTO-1.png --> done\n",
      "3.78920578956604\n"
     ]
    },
    {
     "name": "stderr",
     "output_type": "stream",
     "text": [
      "\r",
      " 47%|████▋     | 596/1271 [45:45<50:51,  4.52s/it]"
     ]
    },
    {
     "name": "stdout",
     "output_type": "stream",
     "text": [
      "1932480976-2008867518-FactureSurLivraisonVente-FA00002250-UBERBUS-1 - Copy.png --> done\n",
      "3.6710727214813232\n"
     ]
    },
    {
     "name": "stderr",
     "output_type": "stream",
     "text": [
      "\r",
      " 47%|████▋     | 597/1271 [45:47<44:19,  3.95s/it]"
     ]
    },
    {
     "name": "stdout",
     "output_type": "stream",
     "text": [
      "1932480976-2008867518-FactureSurLivraisonVente-FA00002250-UBERBUS-2 - Copy.png --> done\n",
      "2.602464437484741\n"
     ]
    },
    {
     "name": "stderr",
     "output_type": "stream",
     "text": [
      "\r",
      " 47%|████▋     | 598/1271 [45:51<42:29,  3.79s/it]"
     ]
    },
    {
     "name": "stdout",
     "output_type": "stream",
     "text": [
      "1933229934-493870429-202103151804-1.png --> done\n",
      "3.4219491481781006\n"
     ]
    },
    {
     "name": "stderr",
     "output_type": "stream",
     "text": [
      "\r",
      " 47%|████▋     | 599/1271 [45:55<44:47,  4.00s/it]"
     ]
    },
    {
     "name": "stdout",
     "output_type": "stream",
     "text": [
      "193417535-193417345-ARRIVALNOTICE-NOBILLINGPO2-1.png --> done\n",
      "4.488577365875244\n"
     ]
    },
    {
     "name": "stderr",
     "output_type": "stream",
     "text": [
      "\r",
      " 47%|████▋     | 600/1271 [45:59<42:44,  3.82s/it]"
     ]
    },
    {
     "name": "stdout",
     "output_type": "stream",
     "text": [
      "1934540000-1003367067-2022-064AlphaCoatingsCapellaadjsurcharge-1.png --> done\n",
      "3.4097626209259033\n"
     ]
    },
    {
     "name": "stderr",
     "output_type": "stream",
     "text": [
      "\r",
      " 47%|████▋     | 601/1271 [46:05<51:14,  4.59s/it]"
     ]
    },
    {
     "name": "stdout",
     "output_type": "stream",
     "text": [
      "1935377860-1935378027-WWTAN_C20A89F152F64DA49511845D9437DAD0-1.png --> done\n",
      "6.378237962722778\n"
     ]
    },
    {
     "name": "stderr",
     "output_type": "stream",
     "text": [
      "\r",
      " 47%|████▋     | 602/1271 [46:10<54:15,  4.87s/it]"
     ]
    },
    {
     "name": "stdout",
     "output_type": "stream",
     "text": [
      "1940264312-1948920261-Scan2021-05-05_105549-1.png --> done\n",
      "5.505507707595825\n"
     ]
    },
    {
     "name": "stderr",
     "output_type": "stream",
     "text": [
      "\r",
      " 47%|████▋     | 603/1271 [46:14<48:30,  4.36s/it]"
     ]
    },
    {
     "name": "stdout",
     "output_type": "stream",
     "text": [
      "1940268975-897218760-NL_EXP_L322060210320-1.png --> done\n",
      "3.170720100402832\n"
     ]
    },
    {
     "name": "stderr",
     "output_type": "stream",
     "text": [
      "\r",
      " 48%|████▊     | 604/1271 [46:16<40:30,  3.64s/it]"
     ]
    },
    {
     "name": "stdout",
     "output_type": "stream",
     "text": [
      "1940268975-897218760-NL_EXP_L322060210320-2.png --> done\n",
      "1.9788684844970703\n"
     ]
    },
    {
     "name": "stderr",
     "output_type": "stream",
     "text": [
      "\r",
      " 48%|████▊     | 605/1271 [46:20<44:28,  4.01s/it]"
     ]
    },
    {
     "name": "stdout",
     "output_type": "stream",
     "text": [
      "1947552394-731099996-PAINANI530511MAR22-13.png --> done\n",
      "4.848796367645264\n"
     ]
    },
    {
     "name": "stderr",
     "output_type": "stream",
     "text": [
      "\r",
      " 48%|████▊     | 606/1271 [46:24<42:36,  3.84s/it]"
     ]
    },
    {
     "name": "stdout",
     "output_type": "stream",
     "text": [
      "1947958904-1947958974-ANMA0101_540887642-1.png --> done\n",
      "3.4671900272369385\n"
     ]
    },
    {
     "name": "stderr",
     "output_type": "stream",
     "text": [
      "\r",
      " 48%|████▊     | 607/1271 [46:35<1:07:22,  6.09s/it]"
     ]
    },
    {
     "name": "stdout",
     "output_type": "stream",
     "text": [
      "194833178-194833368-34DMZ605YCELMOBLYAUK-2.png --> done\n",
      "11.323850631713867\n"
     ]
    },
    {
     "name": "stderr",
     "output_type": "stream",
     "text": [
      "\r",
      " 48%|████▊     | 608/1271 [46:45<1:19:36,  7.20s/it]"
     ]
    },
    {
     "name": "stdout",
     "output_type": "stream",
     "text": [
      "194833178-194833368-34DMZ605YCELMOBLYAUK-8.png --> done\n",
      "9.8061842918396\n"
     ]
    },
    {
     "name": "stderr",
     "output_type": "stream",
     "text": [
      "\r",
      " 48%|████▊     | 609/1271 [46:49<1:08:27,  6.20s/it]"
     ]
    },
    {
     "name": "stdout",
     "output_type": "stream",
     "text": [
      "19533035-818594716-911549989HBL-1.png --> done\n",
      "3.871533155441284\n"
     ]
    },
    {
     "name": "stderr",
     "output_type": "stream",
     "text": [
      "\r",
      " 48%|████▊     | 610/1271 [46:52<56:54,  5.17s/it]  "
     ]
    },
    {
     "name": "stdout",
     "output_type": "stream",
     "text": [
      "1957721738-95202868-Invoice-1.png --> done\n",
      "2.7420780658721924\n"
     ]
    },
    {
     "name": "stderr",
     "output_type": "stream",
     "text": [
      "\r",
      " 48%|████▊     | 611/1271 [46:59<1:05:13,  5.93s/it]"
     ]
    },
    {
     "name": "stdout",
     "output_type": "stream",
     "text": [
      "1958645022-947296232-1052157049-163651663-20220513110141482-19.png --> done\n",
      "7.711222887039185\n"
     ]
    },
    {
     "name": "stderr",
     "output_type": "stream",
     "text": [
      "\r",
      " 48%|████▊     | 612/1271 [47:04<1:01:27,  5.60s/it]"
     ]
    },
    {
     "name": "stdout",
     "output_type": "stream",
     "text": [
      "195874488-195874612-Scansione_20210823_153350-1.png --> done\n",
      "4.818124294281006\n"
     ]
    },
    {
     "name": "stderr",
     "output_type": "stream",
     "text": [
      "\r",
      " 48%|████▊     | 613/1271 [47:10<1:02:51,  5.73s/it]"
     ]
    },
    {
     "name": "stdout",
     "output_type": "stream",
     "text": [
      "1960340347-1165369174-WWTAN_8F1A5FDBBB174754AB1F4BDA0EF5DFAA-1.png --> done\n",
      "6.047757387161255\n"
     ]
    },
    {
     "name": "stderr",
     "output_type": "stream",
     "text": [
      "\r",
      " 48%|████▊     | 614/1271 [47:20<1:15:23,  6.89s/it]"
     ]
    },
    {
     "name": "stdout",
     "output_type": "stream",
     "text": [
      "19609149-19609570-BrokerFaxCoversheet-2.png --> done\n",
      "9.577428340911865\n"
     ]
    },
    {
     "name": "stderr",
     "output_type": "stream",
     "text": [
      "\r",
      " 48%|████▊     | 615/1271 [47:28<1:20:59,  7.41s/it]"
     ]
    },
    {
     "name": "stdout",
     "output_type": "stream",
     "text": [
      "1964135892-1964136303-KX-S9B1-57-29_EST-PDF-1.png --> done\n",
      "8.628446578979492\n"
     ]
    },
    {
     "name": "stderr",
     "output_type": "stream",
     "text": [
      "\r",
      " 48%|████▊     | 616/1271 [47:37<1:24:14,  7.72s/it]"
     ]
    },
    {
     "name": "stdout",
     "output_type": "stream",
     "text": [
      "1964135892-1964136303-KX-S9B1-57-29_EST-PDF-2.png --> done\n",
      "8.43772554397583\n"
     ]
    },
    {
     "name": "stderr",
     "output_type": "stream",
     "text": [
      "\r",
      " 49%|████▊     | 617/1271 [47:40<1:08:32,  6.29s/it]"
     ]
    },
    {
     "name": "stdout",
     "output_type": "stream",
     "text": [
      "1969738146-691378388-KX-O3A5-174-1.png --> done\n",
      "2.9531991481781006\n"
     ]
    },
    {
     "name": "stderr",
     "output_type": "stream",
     "text": [
      "\r",
      " 49%|████▊     | 618/1271 [47:43<58:51,  5.41s/it]  "
     ]
    },
    {
     "name": "stdout",
     "output_type": "stream",
     "text": [
      "1971167142-357273695-KX-H1H3-10-20220314DRAFTPAPERWORKGOEH2.8PO9077-PDF-1.png --> done\n",
      "3.350461959838867\n"
     ]
    },
    {
     "name": "stderr",
     "output_type": "stream",
     "text": [
      "\r",
      " 49%|████▊     | 619/1271 [47:46<51:43,  4.76s/it]"
     ]
    },
    {
     "name": "stdout",
     "output_type": "stream",
     "text": [
      "1980868490-1980868345-SSNZS0021135JBHAN-1.png --> done\n",
      "3.2479617595672607\n"
     ]
    },
    {
     "name": "stderr",
     "output_type": "stream",
     "text": [
      "\r",
      " 49%|████▉     | 620/1271 [47:51<50:48,  4.68s/it]"
     ]
    },
    {
     "name": "stdout",
     "output_type": "stream",
     "text": [
      "19821492-815085954-ARVNOT_05972390-1.png --> done\n",
      "4.503777742385864\n"
     ]
    },
    {
     "name": "stderr",
     "output_type": "stream",
     "text": [
      "\r",
      " 49%|████▉     | 621/1271 [47:56<52:44,  4.87s/it]"
     ]
    },
    {
     "name": "stdout",
     "output_type": "stream",
     "text": [
      "1993983245-45464270-ARRIVAL-NOTICE-SZLAX2120078-1.png --> done\n",
      "5.298482894897461\n"
     ]
    },
    {
     "name": "stderr",
     "output_type": "stream",
     "text": [
      "\r",
      " 49%|████▉     | 622/1271 [47:58<43:34,  4.03s/it]"
     ]
    },
    {
     "name": "stdout",
     "output_type": "stream",
     "text": [
      "2011488343-1923289578-InvoiceHipro-1.png --> done\n",
      "2.066718578338623\n"
     ]
    },
    {
     "name": "stderr",
     "output_type": "stream",
     "text": [
      "\r",
      " 49%|████▉     | 623/1271 [48:05<51:45,  4.79s/it]"
     ]
    },
    {
     "name": "stdout",
     "output_type": "stream",
     "text": [
      "2012577248-1915199609-Scan2021-05-17_143503-1.png --> done\n",
      "6.5764875411987305\n"
     ]
    },
    {
     "name": "stderr",
     "output_type": "stream",
     "text": [
      "\r",
      " 49%|████▉     | 624/1271 [48:15<1:10:30,  6.54s/it]"
     ]
    },
    {
     "name": "stdout",
     "output_type": "stream",
     "text": [
      "201365068-201369879-Scan2021-04-01_171942-1.png --> done\n",
      "10.613205194473267\n"
     ]
    },
    {
     "name": "stderr",
     "output_type": "stream",
     "text": [
      "\r",
      " 49%|████▉     | 625/1271 [48:18<56:59,  5.29s/it]  "
     ]
    },
    {
     "name": "stdout",
     "output_type": "stream",
     "text": [
      "2014348738-534203518-ANTdokumenty-2.png --> done\n",
      "2.388780117034912\n"
     ]
    },
    {
     "name": "stderr",
     "output_type": "stream",
     "text": [
      "\r",
      " 49%|████▉     | 626/1271 [48:22<53:23,  4.97s/it]"
     ]
    },
    {
     "name": "stdout",
     "output_type": "stream",
     "text": [
      "201575301-201575102-PKL-Packing_List-63024401-1.png --> done\n",
      "4.200860261917114\n"
     ]
    },
    {
     "name": "stderr",
     "output_type": "stream",
     "text": [
      "\r",
      " 49%|████▉     | 627/1271 [48:26<48:45,  4.54s/it]"
     ]
    },
    {
     "name": "stdout",
     "output_type": "stream",
     "text": [
      "2018236980-2018237121-ArrivalNotice-SASI21040314-1.png --> done\n",
      "3.552628517150879\n"
     ]
    },
    {
     "name": "stderr",
     "output_type": "stream",
     "text": [
      "\r",
      " 49%|████▉     | 628/1271 [48:35<1:05:32,  6.12s/it]"
     ]
    },
    {
     "name": "stdout",
     "output_type": "stream",
     "text": [
      "2026483596-2026482166-Scan2021-06-01_151858-1.png --> done\n",
      "9.786699295043945\n"
     ]
    },
    {
     "name": "stderr",
     "output_type": "stream",
     "text": [
      "\r",
      " 49%|████▉     | 629/1271 [48:39<55:42,  5.21s/it]  "
     ]
    },
    {
     "name": "stdout",
     "output_type": "stream",
     "text": [
      "2029141241-375729785-ArrivalNotice-S210049927-1.png --> done\n",
      "3.082318067550659\n"
     ]
    },
    {
     "name": "stderr",
     "output_type": "stream",
     "text": [
      "\r",
      " 50%|████▉     | 630/1271 [48:42<51:28,  4.82s/it]"
     ]
    },
    {
     "name": "stdout",
     "output_type": "stream",
     "text": [
      "2030505301-2142605480-04-03-33874-2.png --> done\n",
      "3.916039228439331\n"
     ]
    },
    {
     "name": "stderr",
     "output_type": "stream",
     "text": [
      "\r",
      " 50%|████▉     | 631/1271 [48:55<1:16:39,  7.19s/it]"
     ]
    },
    {
     "name": "stdout",
     "output_type": "stream",
     "text": [
      "2033025371-796021719-20220705192046-2.png --> done\n",
      "12.712400674819946\n"
     ]
    },
    {
     "name": "stderr",
     "output_type": "stream",
     "text": [
      "\r",
      " 50%|████▉     | 632/1271 [48:59<1:05:58,  6.19s/it]"
     ]
    },
    {
     "name": "stdout",
     "output_type": "stream",
     "text": [
      "203333157-986236439-KX-R6F8-57-Scan2021-01-21_085610-1-1.png --> done\n",
      "3.8779115676879883\n"
     ]
    },
    {
     "name": "stderr",
     "output_type": "stream",
     "text": [
      "\r",
      " 50%|████▉     | 633/1271 [49:03<58:05,  5.46s/it]  "
     ]
    },
    {
     "name": "stdout",
     "output_type": "stream",
     "text": [
      "2038239125-2038235434-ArrivalNotice-S21050021443-1.png --> done\n",
      "3.7577481269836426\n"
     ]
    },
    {
     "name": "stderr",
     "output_type": "stream",
     "text": [
      "\r",
      " 50%|████▉     | 634/1271 [49:07<53:24,  5.03s/it]"
     ]
    },
    {
     "name": "stdout",
     "output_type": "stream",
     "text": [
      "2038428703-2038429083-ArrivalNotice-S21050021332-1.png --> done\n",
      "4.018170118331909\n"
     ]
    },
    {
     "name": "stderr",
     "output_type": "stream",
     "text": [
      "\r",
      " 50%|████▉     | 635/1271 [49:10<47:14,  4.46s/it]"
     ]
    },
    {
     "name": "stdout",
     "output_type": "stream",
     "text": [
      "2042544-1330689760-2042544-1904918288-FUZ10185002RHBL-XLS-1.png --> done\n",
      "3.116050958633423\n"
     ]
    },
    {
     "name": "stderr",
     "output_type": "stream",
     "text": [
      "\r",
      " 50%|█████     | 636/1271 [49:16<53:31,  5.06s/it]"
     ]
    },
    {
     "name": "stdout",
     "output_type": "stream",
     "text": [
      "2042544-1498003508-AMS21040045-1.png --> done\n",
      "6.457241058349609\n"
     ]
    },
    {
     "name": "stderr",
     "output_type": "stream",
     "text": [
      "\r",
      " 50%|█████     | 637/1271 [49:19<44:21,  4.20s/it]"
     ]
    },
    {
     "name": "stdout",
     "output_type": "stream",
     "text": [
      "204278075-1174210101-PL34273-1.png --> done\n",
      "2.1935558319091797\n"
     ]
    },
    {
     "name": "stderr",
     "output_type": "stream",
     "text": [
      "\r",
      " 50%|█████     | 638/1271 [49:21<38:40,  3.67s/it]"
     ]
    },
    {
     "name": "stdout",
     "output_type": "stream",
     "text": [
      "204278075-2021192630-CI04-03-34273-2.png --> done\n",
      "2.4201276302337646\n"
     ]
    },
    {
     "name": "stderr",
     "output_type": "stream",
     "text": [
      "\r",
      " 50%|█████     | 639/1271 [49:24<37:26,  3.55s/it]"
     ]
    },
    {
     "name": "stdout",
     "output_type": "stream",
     "text": [
      "204278075-818728224-04-03-34273-2.png --> done\n",
      "3.294924020767212\n"
     ]
    },
    {
     "name": "stderr",
     "output_type": "stream",
     "text": [
      "\r",
      " 50%|█████     | 640/1271 [49:32<49:23,  4.70s/it]"
     ]
    },
    {
     "name": "stdout",
     "output_type": "stream",
     "text": [
      "2065964756-555178643-InvoiceEurobrands-1.png --> done\n",
      "7.363675117492676\n"
     ]
    },
    {
     "name": "stderr",
     "output_type": "stream",
     "text": [
      "\r",
      " 50%|█████     | 641/1271 [49:37<51:13,  4.88s/it]"
     ]
    },
    {
     "name": "stdout",
     "output_type": "stream",
     "text": [
      "2066211451-1330833142-InvoiceContimax-1.png --> done\n",
      "5.302693605422974\n"
     ]
    },
    {
     "name": "stderr",
     "output_type": "stream",
     "text": [
      "\r",
      " 51%|█████     | 642/1271 [49:39<40:57,  3.91s/it]"
     ]
    },
    {
     "name": "stdout",
     "output_type": "stream",
     "text": [
      "2066211451-1330833142-InvoiceContimax-2.png --> done\n",
      "1.6394660472869873\n"
     ]
    },
    {
     "name": "stderr",
     "output_type": "stream",
     "text": [
      "\r",
      " 51%|█████     | 643/1271 [49:48<56:56,  5.44s/it]"
     ]
    },
    {
     "name": "stdout",
     "output_type": "stream",
     "text": [
      "2071338780-757679340-Scan2021-02-06_121154-1.png --> done\n",
      "9.015909194946289\n"
     ]
    },
    {
     "name": "stderr",
     "output_type": "stream",
     "text": [
      "\r",
      " 51%|█████     | 644/1271 [49:55<1:02:32,  5.99s/it]"
     ]
    },
    {
     "name": "stdout",
     "output_type": "stream",
     "text": [
      "2073709724-1865859294-NewDocument-2.png --> done\n",
      "7.257134437561035\n"
     ]
    },
    {
     "name": "stderr",
     "output_type": "stream",
     "text": [
      "\r",
      " 51%|█████     | 645/1271 [49:59<57:39,  5.53s/it]  "
     ]
    },
    {
     "name": "stdout",
     "output_type": "stream",
     "text": [
      "2079596994-880861409-KX-W2H6-4503-NOA_-_CMACGM_-_Notice_of_Arrival_-_OOCL_ANTWERP__-_0TP7YW1MA_3973600941850000-1.png --> done\n",
      "4.457987070083618\n"
     ]
    },
    {
     "name": "stderr",
     "output_type": "stream",
     "text": [
      "\r",
      " 51%|█████     | 646/1271 [50:04<53:43,  5.16s/it]"
     ]
    },
    {
     "name": "stdout",
     "output_type": "stream",
     "text": [
      "2079596994-880861409-KX-W2H6-4503-NOA_-_CMACGM_-_Notice_of_Arrival_-_OOCL_ANTWERP__-_0TP7YW1MA_3973600941850000-3.png --> done\n",
      "4.293278694152832\n"
     ]
    },
    {
     "name": "stderr",
     "output_type": "stream",
     "text": [
      "\r",
      " 51%|█████     | 647/1271 [50:07<49:13,  4.73s/it]"
     ]
    },
    {
     "name": "stdout",
     "output_type": "stream",
     "text": [
      "2079596994-880861409-KX-W2H6-4503-NOA_-_CMACGM_-_Notice_of_Arrival_-_OOCL_ANTWERP__-_0TP7YW1MA_3973600941850000-4.png --> done\n",
      "3.743239402770996\n"
     ]
    },
    {
     "name": "stderr",
     "output_type": "stream",
     "text": [
      "\r",
      " 51%|█████     | 648/1271 [50:09<40:10,  3.87s/it]"
     ]
    },
    {
     "name": "stdout",
     "output_type": "stream",
     "text": [
      "2084497985-2084498007-KX-H9E3-26-43706311-869245457-FACTURA-00016-Banwy_Leisure_LTD-PDF-1 - Copy.png --> done\n",
      "1.8509724140167236\n"
     ]
    },
    {
     "name": "stderr",
     "output_type": "stream",
     "text": [
      "\r",
      " 51%|█████     | 649/1271 [50:12<37:21,  3.60s/it]"
     ]
    },
    {
     "name": "stdout",
     "output_type": "stream",
     "text": [
      "208461014-1070062843-4122S02518GuIndulgentInvoice-1.png --> done\n",
      "2.983560800552368\n"
     ]
    },
    {
     "name": "stderr",
     "output_type": "stream",
     "text": [
      "\r",
      " 51%|█████     | 650/1271 [50:17<39:38,  3.83s/it]"
     ]
    },
    {
     "name": "stdout",
     "output_type": "stream",
     "text": [
      "2088650072-2088650180-Scan2021-04-12_100356-1.png --> done\n",
      "4.3610217571258545\n"
     ]
    },
    {
     "name": "stderr",
     "output_type": "stream",
     "text": [
      "\r",
      " 51%|█████     | 651/1271 [50:21<42:57,  4.16s/it]"
     ]
    },
    {
     "name": "stdout",
     "output_type": "stream",
     "text": [
      "2091225978-2091225849-ARRIVALNOTICEFREIGHTINVOICE-FS21050108-1.png --> done\n",
      "4.921669960021973\n"
     ]
    },
    {
     "name": "stderr",
     "output_type": "stream",
     "text": [
      "\r",
      " 51%|█████▏    | 652/1271 [50:26<44:44,  4.34s/it]"
     ]
    },
    {
     "name": "stdout",
     "output_type": "stream",
     "text": [
      "2093970853-2093971006-ArrivalNoticeOIM10696-1.png --> done\n",
      "4.7457051277160645\n"
     ]
    },
    {
     "name": "stderr",
     "output_type": "stream",
     "text": [
      "\r",
      " 51%|█████▏    | 653/1271 [50:34<56:02,  5.44s/it]"
     ]
    },
    {
     "name": "stdout",
     "output_type": "stream",
     "text": [
      "2094375147-132724421-IMG_20210419_0012-1.png --> done\n",
      "8.019319295883179\n"
     ]
    },
    {
     "name": "stderr",
     "output_type": "stream",
     "text": [
      "\r",
      " 51%|█████▏    | 654/1271 [50:39<54:39,  5.32s/it]"
     ]
    },
    {
     "name": "stdout",
     "output_type": "stream",
     "text": [
      "2098684414-2098685605-BL6298661480-2.png --> done\n",
      "5.013896703720093\n"
     ]
    },
    {
     "name": "stderr",
     "output_type": "stream",
     "text": [
      "\r",
      " 52%|█████▏    | 655/1271 [50:45<54:17,  5.29s/it]"
     ]
    },
    {
     "name": "stdout",
     "output_type": "stream",
     "text": [
      "2099550877-2099551278-Scan2021-04-12_134009-1.png --> done\n",
      "5.225078344345093\n"
     ]
    },
    {
     "name": "stderr",
     "output_type": "stream",
     "text": [
      "\r",
      " 52%|█████▏    | 656/1271 [50:50<56:20,  5.50s/it]"
     ]
    },
    {
     "name": "stdout",
     "output_type": "stream",
     "text": [
      "20996040-20992353-6534212-04-13.png --> done\n",
      "5.9814612865448\n"
     ]
    },
    {
     "name": "stderr",
     "output_type": "stream",
     "text": [
      "\r",
      " 52%|█████▏    | 657/1271 [51:02<1:15:39,  7.39s/it]"
     ]
    },
    {
     "name": "stdout",
     "output_type": "stream",
     "text": [
      "2100304559-2100305400-Scan2021-04-12_132046-1.png --> done\n",
      "11.809747219085693\n"
     ]
    },
    {
     "name": "stderr",
     "output_type": "stream",
     "text": [
      "\r",
      " 52%|█████▏    | 658/1271 [51:06<1:05:40,  6.43s/it]"
     ]
    },
    {
     "name": "stdout",
     "output_type": "stream",
     "text": [
      "2100728089-2100728467-AN-PPILNGB62105024-1.png --> done\n",
      "4.179774761199951\n"
     ]
    },
    {
     "name": "stderr",
     "output_type": "stream",
     "text": [
      "\r",
      " 52%|█████▏    | 659/1271 [51:13<1:04:43,  6.35s/it]"
     ]
    },
    {
     "name": "stdout",
     "output_type": "stream",
     "text": [
      "2108863922-2108864466-Scan2020-12-29_140404-1.png --> done\n",
      "6.151577472686768\n"
     ]
    },
    {
     "name": "stderr",
     "output_type": "stream",
     "text": [
      "\r",
      " 52%|█████▏    | 660/1271 [51:16<56:00,  5.50s/it]  "
     ]
    },
    {
     "name": "stdout",
     "output_type": "stream",
     "text": [
      "2109567243-1230231467-KX-W2H6-5133-KX-W2H6-5133-PDF-1.png --> done\n",
      "3.5279617309570312\n"
     ]
    },
    {
     "name": "stderr",
     "output_type": "stream",
     "text": [
      "\r",
      " 52%|█████▏    | 661/1271 [51:21<55:06,  5.42s/it]"
     ]
    },
    {
     "name": "stdout",
     "output_type": "stream",
     "text": [
      "2111644587-2111644710-PRE_ARRIVAL_NOTICE___FREIGHT_INVOICE_ENGO21030256-1.png --> done\n",
      "5.231889963150024\n"
     ]
    },
    {
     "name": "stderr",
     "output_type": "stream",
     "text": [
      "\r",
      " 52%|█████▏    | 662/1271 [51:24<47:46,  4.71s/it]"
     ]
    },
    {
     "name": "stdout",
     "output_type": "stream",
     "text": [
      "2111863197-621808460-CMDUSHZ3191310SZX0L001744-2.png --> done\n",
      "3.041419744491577\n"
     ]
    },
    {
     "name": "stderr",
     "output_type": "stream",
     "text": [
      "\r",
      " 52%|█████▏    | 663/1271 [51:32<55:07,  5.44s/it]"
     ]
    },
    {
     "name": "stdout",
     "output_type": "stream",
     "text": [
      "21189922-1609550659-CMR-1.png --> done\n",
      "7.1499927043914795\n"
     ]
    },
    {
     "name": "stderr",
     "output_type": "stream",
     "text": [
      "\r",
      " 52%|█████▏    | 664/1271 [51:39<1:01:36,  6.09s/it]"
     ]
    },
    {
     "name": "stdout",
     "output_type": "stream",
     "text": [
      "2127900824-1342353335-AN-1.png --> done\n",
      "7.596007823944092\n"
     ]
    },
    {
     "name": "stderr",
     "output_type": "stream",
     "text": [
      "\r",
      " 52%|█████▏    | 665/1271 [51:43<55:12,  5.47s/it]  "
     ]
    },
    {
     "name": "stdout",
     "output_type": "stream",
     "text": [
      "2128818057-2128818141-KX-Q1E6-30-ANMA0101_373784461-1.png --> done\n",
      "4.013612747192383\n"
     ]
    },
    {
     "name": "stderr",
     "output_type": "stream",
     "text": [
      "\r",
      " 52%|█████▏    | 666/1271 [51:45<44:44,  4.44s/it]"
     ]
    },
    {
     "name": "stdout",
     "output_type": "stream",
     "text": [
      "2128824068-644420252-Proforma-No872TransitGT08062022-1.png --> done\n",
      "2.037780523300171\n"
     ]
    },
    {
     "name": "stderr",
     "output_type": "stream",
     "text": [
      "\r",
      " 52%|█████▏    | 667/1271 [51:58<1:09:17,  6.88s/it]"
     ]
    },
    {
     "name": "stdout",
     "output_type": "stream",
     "text": [
      "2129063375-119894818-SKMBT_C22021080511090-1.png --> done\n",
      "12.590504169464111\n"
     ]
    },
    {
     "name": "stderr",
     "output_type": "stream",
     "text": [
      "\r",
      " 53%|█████▎    | 668/1271 [52:01<58:38,  5.84s/it]  "
     ]
    },
    {
     "name": "stdout",
     "output_type": "stream",
     "text": [
      "2134900506-1773605405-BLCIPL-9.png --> done\n",
      "3.382838249206543\n"
     ]
    },
    {
     "name": "stderr",
     "output_type": "stream",
     "text": [
      "\r",
      " 53%|█████▎    | 669/1271 [52:05<51:08,  5.10s/it]"
     ]
    },
    {
     "name": "stdout",
     "output_type": "stream",
     "text": [
      "2138220104-1707161545-ArrivalNotice-SHOR0524476-1.png --> done\n",
      "3.375655174255371\n"
     ]
    },
    {
     "name": "stderr",
     "output_type": "stream",
     "text": [
      "\r",
      " 53%|█████▎    | 670/1271 [52:10<51:14,  5.12s/it]"
     ]
    },
    {
     "name": "stdout",
     "output_type": "stream",
     "text": [
      "2142605613-250424219-LIBEXDRYINVOICE08082022-1.png --> done\n",
      "5.159096956253052\n"
     ]
    },
    {
     "name": "stderr",
     "output_type": "stream",
     "text": [
      "\r",
      " 53%|█████▎    | 671/1271 [52:24<1:19:33,  7.96s/it]"
     ]
    },
    {
     "name": "stdout",
     "output_type": "stream",
     "text": [
      "2142605613-250466109-XLSX-LIBEXDRYKLEARNOWINFO-1.png --> done\n",
      "14.577653646469116\n"
     ]
    },
    {
     "name": "stderr",
     "output_type": "stream",
     "text": [
      "\r",
      " 53%|█████▎    | 672/1271 [52:31<1:14:42,  7.48s/it]"
     ]
    },
    {
     "name": "stdout",
     "output_type": "stream",
     "text": [
      "21566615-2109808590-BLVNSGN0000109454ETD28APR-1.png --> done\n",
      "6.379742622375488\n"
     ]
    },
    {
     "name": "stderr",
     "output_type": "stream",
     "text": [
      "\r",
      " 53%|█████▎    | 673/1271 [52:32<56:55,  5.71s/it]  "
     ]
    },
    {
     "name": "stdout",
     "output_type": "stream",
     "text": [
      "21566615-2109808590-BLVNSGN0000109454ETD28APR-2.png --> done\n",
      "1.5685193538665771\n"
     ]
    },
    {
     "name": "stderr",
     "output_type": "stream",
     "text": [
      "\r",
      " 53%|█████▎    | 674/1271 [52:38<56:04,  5.64s/it]"
     ]
    },
    {
     "name": "stdout",
     "output_type": "stream",
     "text": [
      "215992870-215993051-Scan2021-04-01_182525-1.png --> done\n",
      "5.459576845169067\n"
     ]
    },
    {
     "name": "stderr",
     "output_type": "stream",
     "text": [
      "\r",
      " 53%|█████▎    | 675/1271 [52:46<1:03:57,  6.44s/it]"
     ]
    },
    {
     "name": "stdout",
     "output_type": "stream",
     "text": [
      "21654199-1399344469-IntlHouse-BillofLadingTelexRelease-1.png --> done\n",
      "8.311629295349121\n"
     ]
    },
    {
     "name": "stderr",
     "output_type": "stream",
     "text": [
      "\r",
      " 53%|█████▎    | 676/1271 [52:52<1:01:11,  6.17s/it]"
     ]
    },
    {
     "name": "stdout",
     "output_type": "stream",
     "text": [
      "218124217-218124164-KX-F3G6-1-ARRIVALNOTICEFREIGHTINVOICE-CCFNBSEA2100015-1.png --> done\n",
      "5.546234130859375\n"
     ]
    },
    {
     "name": "stderr",
     "output_type": "stream",
     "text": [
      "\r",
      " 53%|█████▎    | 677/1271 [52:55<52:35,  5.31s/it]  "
     ]
    },
    {
     "name": "stdout",
     "output_type": "stream",
     "text": [
      "220897608-220897709-MED201171-8AN1-1.png --> done\n",
      "3.3085789680480957\n"
     ]
    },
    {
     "name": "stderr",
     "output_type": "stream",
     "text": [
      "\r",
      " 53%|█████▎    | 678/1271 [52:59<49:46,  5.04s/it]"
     ]
    },
    {
     "name": "stdout",
     "output_type": "stream",
     "text": [
      "22172490-451902626-FRPT47027-1.png --> done\n",
      "4.389280796051025\n"
     ]
    },
    {
     "name": "stderr",
     "output_type": "stream",
     "text": [
      "\r",
      " 53%|█████▎    | 679/1271 [53:05<50:27,  5.11s/it]"
     ]
    },
    {
     "name": "stdout",
     "output_type": "stream",
     "text": [
      "224605887-224605717-DB_aabgcbidecia0x02F5-1.png --> done\n",
      "5.295846700668335\n"
     ]
    },
    {
     "name": "stderr",
     "output_type": "stream",
     "text": [
      "\r",
      " 54%|█████▎    | 680/1271 [53:09<49:11,  4.99s/it]"
     ]
    },
    {
     "name": "stdout",
     "output_type": "stream",
     "text": [
      "224616250-224622050-224616250-COSU6294881470_20210524111719_DOC-1.png --> done\n",
      "4.717539548873901\n"
     ]
    },
    {
     "name": "stderr",
     "output_type": "stream",
     "text": [
      "\r",
      " 54%|█████▎    | 681/1271 [53:13<45:47,  4.66s/it]"
     ]
    },
    {
     "name": "stdout",
     "output_type": "stream",
     "text": [
      "2276001-1084130767-PPILNGB62105024BL-1.png --> done\n",
      "3.869907855987549\n"
     ]
    },
    {
     "name": "stderr",
     "output_type": "stream",
     "text": [
      "\r",
      " 54%|█████▎    | 682/1271 [53:17<43:17,  4.41s/it]"
     ]
    },
    {
     "name": "stdout",
     "output_type": "stream",
     "text": [
      "228314740-559718516-20210508171950731-1.png --> done\n",
      "3.8315823078155518\n"
     ]
    },
    {
     "name": "stderr",
     "output_type": "stream",
     "text": [
      "\r",
      " 54%|█████▎    | 683/1271 [53:20<40:25,  4.13s/it]"
     ]
    },
    {
     "name": "stdout",
     "output_type": "stream",
     "text": [
      "229629585-493663125-FT369DEL200622DRINKITALIANLTD-1.png --> done\n",
      "3.4597699642181396\n"
     ]
    },
    {
     "name": "stderr",
     "output_type": "stream",
     "text": [
      "\r",
      " 54%|█████▍    | 684/1271 [53:24<39:38,  4.05s/it]"
     ]
    },
    {
     "name": "stdout",
     "output_type": "stream",
     "text": [
      "231173422-231173330-KX-O3A5-339-ArrivalNotice-SMUM74772-1.png --> done\n",
      "3.8832170963287354\n"
     ]
    },
    {
     "name": "stderr",
     "output_type": "stream",
     "text": [
      "\r",
      " 54%|█████▍    | 685/1271 [53:28<38:33,  3.95s/it]"
     ]
    },
    {
     "name": "stdout",
     "output_type": "stream",
     "text": [
      "231173422-231173330-KX-O3A5-339-ArrivalNotice-SMUM74772-2.png --> done\n",
      "3.7015433311462402\n"
     ]
    },
    {
     "name": "stderr",
     "output_type": "stream",
     "text": [
      "\r",
      " 54%|█████▍    | 686/1271 [53:36<50:51,  5.22s/it]"
     ]
    },
    {
     "name": "stdout",
     "output_type": "stream",
     "text": [
      "232064186-1504445230-33700shippingdocuments-1.png --> done\n",
      "8.176500082015991\n"
     ]
    },
    {
     "name": "stderr",
     "output_type": "stream",
     "text": [
      "\r",
      " 54%|█████▍    | 687/1271 [53:39<43:55,  4.51s/it]"
     ]
    },
    {
     "name": "stdout",
     "output_type": "stream",
     "text": [
      "232064186-1504445230-33700shippingdocuments-2.png --> done\n",
      "2.869997262954712\n"
     ]
    },
    {
     "name": "stderr",
     "output_type": "stream",
     "text": [
      "\r",
      " 54%|█████▍    | 688/1271 [54:45<3:41:34, 22.80s/it]"
     ]
    },
    {
     "name": "stdout",
     "output_type": "stream",
     "text": [
      "234224850-134947221-CCF_000239-1.png --> done\n",
      "65.48271560668945\n"
     ]
    },
    {
     "name": "stderr",
     "output_type": "stream",
     "text": [
      "\r",
      " 54%|█████▍    | 689/1271 [54:51<2:52:17, 17.76s/it]"
     ]
    },
    {
     "name": "stdout",
     "output_type": "stream",
     "text": [
      "2349245-22882178-MRT-BOLHMLAX2106544-PO0000078668-1012-SS-ETD29JUN2021-1.png --> done\n",
      "6.000044107437134\n"
     ]
    },
    {
     "name": "stderr",
     "output_type": "stream",
     "text": [
      "\r",
      " 54%|█████▍    | 690/1271 [54:56<2:14:40, 13.91s/it]"
     ]
    },
    {
     "name": "stdout",
     "output_type": "stream",
     "text": [
      "235746027-275161022-ARRIVALNOTICEWITHATTACHEDINVOICEHBLSHE21030299MBLZIMUSNH1297699-1.png --> done\n",
      "4.9114906787872314\n"
     ]
    },
    {
     "name": "stderr",
     "output_type": "stream",
     "text": [
      "\r",
      " 54%|█████▍    | 691/1271 [55:01<1:50:24, 11.42s/it]"
     ]
    },
    {
     "name": "stdout",
     "output_type": "stream",
     "text": [
      "241351846-1678765262-KX-A1G5-11-BL9014741920-1.png --> done\n",
      "5.6200947761535645\n"
     ]
    },
    {
     "name": "stderr",
     "output_type": "stream",
     "text": [
      "\r",
      " 54%|█████▍    | 692/1271 [55:05<1:29:38,  9.29s/it]"
     ]
    },
    {
     "name": "stdout",
     "output_type": "stream",
     "text": [
      "24494698-24494957-ArrivalNotice2-1.png --> done\n",
      "4.31654691696167\n"
     ]
    },
    {
     "name": "stderr",
     "output_type": "stream",
     "text": [
      "\r",
      " 55%|█████▍    | 693/1271 [55:22<1:51:20, 11.56s/it]"
     ]
    },
    {
     "name": "stdout",
     "output_type": "stream",
     "text": [
      "24494698-24494958-L00000304218CNA-5.png --> done\n",
      "16.850932359695435\n"
     ]
    },
    {
     "name": "stderr",
     "output_type": "stream",
     "text": [
      "\r",
      " 55%|█████▍    | 694/1271 [55:30<1:39:24, 10.34s/it]"
     ]
    },
    {
     "name": "stdout",
     "output_type": "stream",
     "text": [
      "2462214-2462685-EGLV143166061301HBL-1.png --> done\n",
      "7.488067388534546\n"
     ]
    },
    {
     "name": "stderr",
     "output_type": "stream",
     "text": [
      "\r",
      " 55%|█████▍    | 695/1271 [55:35<1:25:07,  8.87s/it]"
     ]
    },
    {
     "name": "stdout",
     "output_type": "stream",
     "text": [
      "24649801-1228991610-EET210175101-7.png --> done\n",
      "5.4380879402160645\n"
     ]
    },
    {
     "name": "stderr",
     "output_type": "stream",
     "text": [
      "\r",
      " 55%|█████▍    | 696/1271 [55:39<1:11:05,  7.42s/it]"
     ]
    },
    {
     "name": "stdout",
     "output_type": "stream",
     "text": [
      "250524773-250525150-KX-K3D8-14-1.png --> done\n",
      "4.035383701324463\n"
     ]
    },
    {
     "name": "stderr",
     "output_type": "stream",
     "text": [
      "\r",
      " 55%|█████▍    | 697/1271 [55:45<1:05:42,  6.87s/it]"
     ]
    },
    {
     "name": "stdout",
     "output_type": "stream",
     "text": [
      "25086116-827425656-HLCUIZ1210849959-1.png --> done\n",
      "5.587087154388428\n"
     ]
    },
    {
     "name": "stderr",
     "output_type": "stream",
     "text": [
      "\r",
      " 55%|█████▍    | 698/1271 [55:49<57:22,  6.01s/it]  "
     ]
    },
    {
     "name": "stdout",
     "output_type": "stream",
     "text": [
      "25112477-25112398-OIArrivalNotice63754091821-1.png --> done\n",
      "3.997260332107544\n"
     ]
    },
    {
     "name": "stderr",
     "output_type": "stream",
     "text": [
      "\r",
      " 55%|█████▍    | 699/1271 [55:53<51:39,  5.42s/it]"
     ]
    },
    {
     "name": "stdout",
     "output_type": "stream",
     "text": [
      "25291181-25291423-SMLMNJPF0A9777002-1.png --> done\n",
      "4.043654680252075\n"
     ]
    },
    {
     "name": "stderr",
     "output_type": "stream",
     "text": [
      "\r",
      " 55%|█████▌    | 700/1271 [55:59<52:50,  5.55s/it]"
     ]
    },
    {
     "name": "stdout",
     "output_type": "stream",
     "text": [
      "25385969-1428048911-KX-W2H6-5681-DocSetPO32738-PDF-4.png --> done\n",
      "5.865586757659912\n"
     ]
    },
    {
     "name": "stderr",
     "output_type": "stream",
     "text": [
      "\r",
      " 55%|█████▌    | 701/1271 [56:04<53:14,  5.60s/it]"
     ]
    },
    {
     "name": "stdout",
     "output_type": "stream",
     "text": [
      "254926514-1195207493-KX-E5G4-57-AN-1.png --> done\n",
      "5.722527027130127\n"
     ]
    },
    {
     "name": "stderr",
     "output_type": "stream",
     "text": [
      "\r",
      " 55%|█████▌    | 702/1271 [56:10<52:09,  5.50s/it]"
     ]
    },
    {
     "name": "stdout",
     "output_type": "stream",
     "text": [
      "25693101-1106324092-OBVNLAX21062surPO33867-1.png --> done\n",
      "5.25621771812439\n"
     ]
    },
    {
     "name": "stderr",
     "output_type": "stream",
     "text": [
      "\r",
      " 55%|█████▌    | 703/1271 [56:12<43:17,  4.57s/it]"
     ]
    },
    {
     "name": "stdout",
     "output_type": "stream",
     "text": [
      "259306670-983413357-KM_C650i22081008270-15.png --> done\n",
      "2.408728837966919\n"
     ]
    },
    {
     "name": "stderr",
     "output_type": "stream",
     "text": [
      "\r",
      " 55%|█████▌    | 704/1271 [56:17<42:55,  4.54s/it]"
     ]
    },
    {
     "name": "stdout",
     "output_type": "stream",
     "text": [
      "2593777-497138564-IntlHouse-BillofLadingDraft-1.png --> done\n",
      "4.470108270645142\n"
     ]
    },
    {
     "name": "stderr",
     "output_type": "stream",
     "text": [
      "\r",
      " 55%|█████▌    | 705/1271 [56:20<40:41,  4.31s/it]"
     ]
    },
    {
     "name": "stdout",
     "output_type": "stream",
     "text": [
      "25972805-1082704041-ANLIFESTYLEDGSS2021626DGS-210135S-1.png --> done\n",
      "3.7791929244995117\n"
     ]
    },
    {
     "name": "stderr",
     "output_type": "stream",
     "text": [
      "\r",
      " 56%|█████▌    | 706/1271 [56:27<46:03,  4.89s/it]"
     ]
    },
    {
     "name": "stdout",
     "output_type": "stream",
     "text": [
      "25987566-693054891-Scan-1.png --> done\n",
      "6.239448547363281\n"
     ]
    },
    {
     "name": "stderr",
     "output_type": "stream",
     "text": [
      "\r",
      " 56%|█████▌    | 707/1271 [56:28<36:28,  3.88s/it]"
     ]
    },
    {
     "name": "stdout",
     "output_type": "stream",
     "text": [
      "262371656-969391988-31236480Invoce13603-21-22-23-1.png --> done\n",
      "1.5232126712799072\n"
     ]
    },
    {
     "name": "stderr",
     "output_type": "stream",
     "text": [
      "\r",
      " 56%|█████▌    | 708/1271 [56:32<37:06,  3.95s/it]"
     ]
    },
    {
     "name": "stdout",
     "output_type": "stream",
     "text": [
      "26589727-1955912523-CCF_000064-1.png --> done\n",
      "4.124129056930542\n"
     ]
    },
    {
     "name": "stderr",
     "output_type": "stream",
     "text": [
      "\r",
      " 56%|█████▌    | 709/1271 [56:59<1:41:55, 10.88s/it]"
     ]
    },
    {
     "name": "stdout",
     "output_type": "stream",
     "text": [
      "26589727-1955912523-CCF_000064-2.png --> done\n",
      "27.044018030166626\n"
     ]
    },
    {
     "name": "stderr",
     "output_type": "stream",
     "text": [
      "\r",
      " 56%|█████▌    | 710/1271 [57:06<1:30:52,  9.72s/it]"
     ]
    },
    {
     "name": "stdout",
     "output_type": "stream",
     "text": [
      "26589727-1955912523-CCF_000064-3.png --> done\n",
      "7.007894992828369\n"
     ]
    },
    {
     "name": "stderr",
     "output_type": "stream",
     "text": [
      "\r",
      " 56%|█████▌    | 711/1271 [57:10<1:14:01,  7.93s/it]"
     ]
    },
    {
     "name": "stdout",
     "output_type": "stream",
     "text": [
      "27004419-27004584-34165shippingdocument-4.png --> done\n",
      "3.755241870880127\n"
     ]
    },
    {
     "name": "stderr",
     "output_type": "stream",
     "text": [
      "\r",
      " 56%|█████▌    | 712/1271 [57:14<1:02:37,  6.72s/it]"
     ]
    },
    {
     "name": "stdout",
     "output_type": "stream",
     "text": [
      "27060660-602115388-Inv2463-3.png --> done\n",
      "3.8995962142944336\n"
     ]
    },
    {
     "name": "stderr",
     "output_type": "stream",
     "text": [
      "\r",
      " 56%|█████▌    | 713/1271 [57:18<54:22,  5.85s/it]  "
     ]
    },
    {
     "name": "stdout",
     "output_type": "stream",
     "text": [
      "270741201-1651582800-MEDUG0570523-1.png --> done\n",
      "3.8083698749542236\n"
     ]
    },
    {
     "name": "stderr",
     "output_type": "stream",
     "text": [
      "\r",
      " 56%|█████▌    | 714/1271 [57:22<48:22,  5.21s/it]"
     ]
    },
    {
     "name": "stdout",
     "output_type": "stream",
     "text": [
      "270741201-1651582800-MEDUG0570523-2.png --> done\n",
      "3.723663330078125\n"
     ]
    },
    {
     "name": "stderr",
     "output_type": "stream",
     "text": [
      "\r",
      " 56%|█████▋    | 715/1271 [57:27<50:15,  5.42s/it]"
     ]
    },
    {
     "name": "stdout",
     "output_type": "stream",
     "text": [
      "271814050-271813863-BL6293151240-1.png --> done\n",
      "5.921469449996948\n"
     ]
    },
    {
     "name": "stderr",
     "output_type": "stream",
     "text": [
      "\r",
      " 56%|█████▋    | 716/1271 [57:32<47:48,  5.17s/it]"
     ]
    },
    {
     "name": "stdout",
     "output_type": "stream",
     "text": [
      "27237611-27231069-BrokerArrivalNotice-CHRRef351243146-1.png --> done\n",
      "4.57114315032959\n"
     ]
    },
    {
     "name": "stderr",
     "output_type": "stream",
     "text": [
      "\r",
      " 56%|█████▋    | 717/1271 [57:35<42:29,  4.60s/it]"
     ]
    },
    {
     "name": "stdout",
     "output_type": "stream",
     "text": [
      "27351491-27351422-USLAX-1-693526-ArrivalNoticewithinvoiceitem-1.png --> done\n",
      "3.282193183898926\n"
     ]
    },
    {
     "name": "stderr",
     "output_type": "stream",
     "text": [
      "\r",
      " 56%|█████▋    | 718/1271 [57:40<42:00,  4.56s/it]"
     ]
    },
    {
     "name": "stdout",
     "output_type": "stream",
     "text": [
      "276688697-1247742029-ArrivalNoticeOIM10701-1.png --> done\n",
      "4.4511964321136475\n"
     ]
    },
    {
     "name": "stderr",
     "output_type": "stream",
     "text": [
      "\r",
      " 57%|█████▋    | 719/1271 [57:45<43:03,  4.68s/it]"
     ]
    },
    {
     "name": "stdout",
     "output_type": "stream",
     "text": [
      "2804702-1574569685-KX-E5G4-1970-M00005020215DNA-PDF-2.png --> done\n",
      "4.964783430099487\n"
     ]
    },
    {
     "name": "stderr",
     "output_type": "stream",
     "text": [
      "\r",
      " 57%|█████▋    | 720/1271 [57:47<37:04,  4.04s/it]"
     ]
    },
    {
     "name": "stdout",
     "output_type": "stream",
     "text": [
      "2804702-1574569685-KX-E5G4-1970-M00005020215DNA-PDF-3.png --> done\n",
      "2.535078287124634\n"
     ]
    },
    {
     "name": "stderr",
     "output_type": "stream",
     "text": [
      "\r",
      " 57%|█████▋    | 721/1271 [57:56<50:13,  5.48s/it]"
     ]
    },
    {
     "name": "stdout",
     "output_type": "stream",
     "text": [
      "281063889-1111685089-Scan2021-04-27_150119-1.png --> done\n",
      "8.845842123031616\n"
     ]
    },
    {
     "name": "stderr",
     "output_type": "stream",
     "text": [
      "\r",
      " 57%|█████▋    | 722/1271 [58:01<49:09,  5.37s/it]"
     ]
    },
    {
     "name": "stdout",
     "output_type": "stream",
     "text": [
      "28530217-1436340240-KX-H3H4-237-RX-20121460-12DraftBL-PDF-1.png --> done\n",
      "5.122395277023315\n"
     ]
    },
    {
     "name": "stderr",
     "output_type": "stream",
     "text": [
      "\r",
      " 57%|█████▋    | 723/1271 [58:06<47:36,  5.21s/it]"
     ]
    },
    {
     "name": "stdout",
     "output_type": "stream",
     "text": [
      "28599852-611953829-NBLY010208-1.png --> done\n",
      "4.838084697723389\n"
     ]
    },
    {
     "name": "stderr",
     "output_type": "stream",
     "text": [
      "\r",
      " 57%|█████▋    | 724/1271 [58:10<44:47,  4.91s/it]"
     ]
    },
    {
     "name": "stdout",
     "output_type": "stream",
     "text": [
      "288465966-1432750368-WWTinvoice32009-1.png --> done\n",
      "4.215847015380859\n"
     ]
    },
    {
     "name": "stderr",
     "output_type": "stream",
     "text": [
      "\r",
      " 57%|█████▋    | 725/1271 [58:15<43:35,  4.79s/it]"
     ]
    },
    {
     "name": "stdout",
     "output_type": "stream",
     "text": [
      "28947280-555944870-SLOAK100593SUR_DK7EF941JHRA-1.png --> done\n",
      "4.500043630599976\n"
     ]
    },
    {
     "name": "stderr",
     "output_type": "stream",
     "text": [
      "\r",
      " 57%|█████▋    | 726/1271 [58:21<46:37,  5.13s/it]"
     ]
    },
    {
     "name": "stdout",
     "output_type": "stream",
     "text": [
      "2901083-2901199-BL6289359020-1.png --> done\n",
      "5.93190336227417\n"
     ]
    },
    {
     "name": "stderr",
     "output_type": "stream",
     "text": [
      "\r",
      " 57%|█████▋    | 727/1271 [58:26<47:47,  5.27s/it]"
     ]
    },
    {
     "name": "stdout",
     "output_type": "stream",
     "text": [
      "290677152-290676944-1113124-1.png --> done\n",
      "5.594357967376709\n"
     ]
    },
    {
     "name": "stderr",
     "output_type": "stream",
     "text": [
      "\r",
      " 57%|█████▋    | 728/1271 [58:33<51:17,  5.67s/it]"
     ]
    },
    {
     "name": "stdout",
     "output_type": "stream",
     "text": [
      "290967770-652764262-KX-E5G4-1671-A09USA211529-PDF-5.png --> done\n",
      "6.591928005218506\n"
     ]
    },
    {
     "name": "stderr",
     "output_type": "stream",
     "text": [
      "\r",
      " 57%|█████▋    | 729/1271 [58:36<43:36,  4.83s/it]"
     ]
    },
    {
     "name": "stdout",
     "output_type": "stream",
     "text": [
      "290967770-652764262-KX-E5G4-1671-A09USA211529-PDF-7.png --> done\n",
      "2.857435941696167\n"
     ]
    },
    {
     "name": "stderr",
     "output_type": "stream",
     "text": [
      "\r",
      " 57%|█████▋    | 730/1271 [58:45<56:33,  6.27s/it]"
     ]
    },
    {
     "name": "stdout",
     "output_type": "stream",
     "text": [
      "295245142-904923625-Scan2021-03-19_174133-1.png --> done\n",
      "9.64657187461853\n"
     ]
    },
    {
     "name": "stderr",
     "output_type": "stream",
     "text": [
      "\r",
      " 58%|█████▊    | 731/1271 [58:53<1:00:03,  6.67s/it]"
     ]
    },
    {
     "name": "stdout",
     "output_type": "stream",
     "text": [
      "29705062-1883874407-STL21011868TLX-1.png --> done\n",
      "7.603995084762573\n"
     ]
    },
    {
     "name": "stderr",
     "output_type": "stream",
     "text": [
      "\r",
      " 58%|█████▊    | 732/1271 [58:58<55:17,  6.15s/it]  "
     ]
    },
    {
     "name": "stdout",
     "output_type": "stream",
     "text": [
      "29742877-793000589-KCUSZ21052097-1.png --> done\n",
      "4.943977117538452\n"
     ]
    },
    {
     "name": "stderr",
     "output_type": "stream",
     "text": [
      "\r",
      " 58%|█████▊    | 733/1271 [59:21<1:41:11, 11.29s/it]"
     ]
    },
    {
     "name": "stdout",
     "output_type": "stream",
     "text": [
      "297487975-297489083-Scan2021-05-19_151943-1.png --> done\n",
      "23.258389472961426\n"
     ]
    },
    {
     "name": "stderr",
     "output_type": "stream",
     "text": [
      "\r",
      " 58%|█████▊    | 734/1271 [59:27<1:26:31,  9.67s/it]"
     ]
    },
    {
     "name": "stdout",
     "output_type": "stream",
     "text": [
      "29947750-1964623307-HBL_LYAE21030012-1.png --> done\n",
      "5.885117530822754\n"
     ]
    },
    {
     "name": "stderr",
     "output_type": "stream",
     "text": [
      "\r",
      " 58%|█████▊    | 735/1271 [59:34<1:17:35,  8.68s/it]"
     ]
    },
    {
     "name": "stdout",
     "output_type": "stream",
     "text": [
      "300217013-300217310-Scan2021-05-19_161636-1.png --> done\n",
      "6.387028455734253\n"
     ]
    },
    {
     "name": "stderr",
     "output_type": "stream",
     "text": [
      "\r",
      " 58%|█████▊    | 736/1271 [59:36<1:01:45,  6.93s/it]"
     ]
    },
    {
     "name": "stdout",
     "output_type": "stream",
     "text": [
      "30276804-30276673-Invoice022021UPPERCANAD-1.png --> done\n",
      "2.8196091651916504\n"
     ]
    },
    {
     "name": "stderr",
     "output_type": "stream",
     "text": [
      "\r",
      " 58%|█████▊    | 737/1271 [59:43<1:00:01,  6.75s/it]"
     ]
    },
    {
     "name": "stdout",
     "output_type": "stream",
     "text": [
      "30364409-1234766345-BLVNLGB2108135-1.png --> done\n",
      "6.324025630950928\n"
     ]
    },
    {
     "name": "stderr",
     "output_type": "stream",
     "text": [
      "\r",
      " 58%|█████▊    | 738/1271 [59:45<47:09,  5.31s/it]  "
     ]
    },
    {
     "name": "stdout",
     "output_type": "stream",
     "text": [
      "3085252-3085183-HBLCSZ21006421-2.png --> done\n",
      "1.9539356231689453\n"
     ]
    },
    {
     "name": "stderr",
     "output_type": "stream",
     "text": [
      "\r",
      " 58%|█████▊    | 739/1271 [59:57<1:05:40,  7.41s/it]"
     ]
    },
    {
     "name": "stdout",
     "output_type": "stream",
     "text": [
      "31240650-532342613-HBL-MJOAK2101037-1.png --> done\n",
      "12.301804304122925\n"
     ]
    },
    {
     "name": "stderr",
     "output_type": "stream",
     "text": [
      "\r",
      " 58%|█████▊    | 740/1271 [1:00:03<1:01:04,  6.90s/it]"
     ]
    },
    {
     "name": "stdout",
     "output_type": "stream",
     "text": [
      "312878214-1191989469-SKM_C3851FS21051418220-1.png --> done\n",
      "5.725837707519531\n"
     ]
    },
    {
     "name": "stderr",
     "output_type": "stream",
     "text": [
      "\r",
      " 58%|█████▊    | 741/1271 [1:00:09<58:57,  6.67s/it]  "
     ]
    },
    {
     "name": "stdout",
     "output_type": "stream",
     "text": [
      "31330931-1492204822-IMG_0005-1.png --> done\n",
      "6.138080358505249\n"
     ]
    },
    {
     "name": "stderr",
     "output_type": "stream",
     "text": [
      "\r",
      " 58%|█████▊    | 742/1271 [1:00:13<51:39,  5.86s/it]"
     ]
    },
    {
     "name": "stdout",
     "output_type": "stream",
     "text": [
      "31435626-1898720048-281221PRATOALPOZZOINVOICEILTASTEVIN.png --> done\n",
      "3.9582583904266357\n"
     ]
    },
    {
     "name": "stderr",
     "output_type": "stream",
     "text": [
      "\r",
      " 58%|█████▊    | 743/1271 [1:00:18<48:48,  5.55s/it]"
     ]
    },
    {
     "name": "stdout",
     "output_type": "stream",
     "text": [
      "315171467-315172177-ARRIVALNOTICEWITHATTACHEDINVOICEHBLDGSS2021478MBLWHLC039BX14326-1.png --> done\n",
      "4.817021369934082\n"
     ]
    },
    {
     "name": "stderr",
     "output_type": "stream",
     "text": [
      "\r",
      " 59%|█████▊    | 744/1271 [1:00:21<42:43,  4.86s/it]"
     ]
    },
    {
     "name": "stdout",
     "output_type": "stream",
     "text": [
      "31552090-1263358144-EET210376487-16.png --> done\n",
      "3.2623424530029297\n"
     ]
    },
    {
     "name": "stderr",
     "output_type": "stream",
     "text": [
      "\r",
      " 59%|█████▊    | 745/1271 [1:00:26<43:01,  4.91s/it]"
     ]
    },
    {
     "name": "stdout",
     "output_type": "stream",
     "text": [
      "317650667-317650972-DOC051921-05192021101114-1.png --> done\n",
      "5.01164174079895\n"
     ]
    },
    {
     "name": "stderr",
     "output_type": "stream",
     "text": [
      "\r",
      " 59%|█████▊    | 746/1271 [1:00:32<45:42,  5.22s/it]"
     ]
    },
    {
     "name": "stdout",
     "output_type": "stream",
     "text": [
      "317650667-317650972-DOC051921-05192021101114-2.png --> done\n",
      "5.962631702423096\n"
     ]
    },
    {
     "name": "stderr",
     "output_type": "stream",
     "text": [
      "\r",
      " 59%|█████▉    | 747/1271 [1:00:35<40:13,  4.61s/it]"
     ]
    },
    {
     "name": "stdout",
     "output_type": "stream",
     "text": [
      "318424090-763323463-KX-K9A0-313-1750728535-1457853366-95244_INVvatDIGraborek_0699741-PDF-1.png --> done\n",
      "3.1645495891571045\n"
     ]
    },
    {
     "name": "stderr",
     "output_type": "stream",
     "text": [
      "\r",
      " 59%|█████▉    | 748/1271 [1:00:55<1:19:59,  9.18s/it]"
     ]
    },
    {
     "name": "stdout",
     "output_type": "stream",
     "text": [
      "32250174-769613547-InvoiceRolnik-1.png --> done\n",
      "19.837719917297363\n"
     ]
    },
    {
     "name": "stderr",
     "output_type": "stream",
     "text": [
      "\r",
      " 59%|█████▉    | 749/1271 [1:01:08<1:31:16, 10.49s/it]"
     ]
    },
    {
     "name": "stdout",
     "output_type": "stream",
     "text": [
      "32250174-769613547-InvoiceRolnik-2.png --> done\n",
      "13.559643030166626\n"
     ]
    },
    {
     "name": "stderr",
     "output_type": "stream",
     "text": [
      "\r",
      " 59%|█████▉    | 750/1271 [1:01:12<1:13:02,  8.41s/it]"
     ]
    },
    {
     "name": "stdout",
     "output_type": "stream",
     "text": [
      "331238858-1507103723-NaturaCustoms21-01-2022-1.png --> done\n",
      "3.5588746070861816\n"
     ]
    },
    {
     "name": "stderr",
     "output_type": "stream",
     "text": [
      "\r",
      " 59%|█████▉    | 751/1271 [1:01:16<1:00:53,  7.03s/it]"
     ]
    },
    {
     "name": "stdout",
     "output_type": "stream",
     "text": [
      "331238858-197011187-Badge4UCustoms049-1-2022-1.png --> done\n",
      "3.7896196842193604\n"
     ]
    },
    {
     "name": "stderr",
     "output_type": "stream",
     "text": [
      "\r",
      " 59%|█████▉    | 752/1271 [1:01:20<52:56,  6.12s/it]  "
     ]
    },
    {
     "name": "stdout",
     "output_type": "stream",
     "text": [
      "3327958-1122975666-BLA2104531974HTelexreleased-1.png --> done\n",
      "4.011131048202515\n"
     ]
    },
    {
     "name": "stderr",
     "output_type": "stream",
     "text": [
      "\r",
      " 59%|█████▉    | 753/1271 [1:01:25<49:57,  5.79s/it]"
     ]
    },
    {
     "name": "stdout",
     "output_type": "stream",
     "text": [
      "3349024-178079144-KX-J2I2-55-HBLCOPY_DSDSE21050730-OOLU2919051-1.png --> done\n",
      "5.003455877304077\n"
     ]
    },
    {
     "name": "stderr",
     "output_type": "stream",
     "text": [
      "\r",
      " 59%|█████▉    | 754/1271 [1:01:35<1:00:35,  7.03s/it]"
     ]
    },
    {
     "name": "stdout",
     "output_type": "stream",
     "text": [
      "33687226-33687481-CCF_000140-6.png --> done\n",
      "9.933814287185669\n"
     ]
    },
    {
     "name": "stderr",
     "output_type": "stream",
     "text": [
      "\r",
      " 59%|█████▉    | 755/1271 [1:01:39<52:31,  6.11s/it]  "
     ]
    },
    {
     "name": "stdout",
     "output_type": "stream",
     "text": [
      "34006478-1637529308-INV-1.png --> done\n",
      "3.9506967067718506\n"
     ]
    },
    {
     "name": "stderr",
     "output_type": "stream",
     "text": [
      "\r",
      " 59%|█████▉    | 756/1271 [1:01:41<43:32,  5.07s/it]"
     ]
    },
    {
     "name": "stdout",
     "output_type": "stream",
     "text": [
      "34006478-1637529308-INV-2.png --> done\n",
      "2.6575469970703125\n"
     ]
    },
    {
     "name": "stderr",
     "output_type": "stream",
     "text": [
      "\r",
      " 60%|█████▉    | 757/1271 [1:01:55<1:06:44,  7.79s/it]"
     ]
    },
    {
     "name": "stdout",
     "output_type": "stream",
     "text": [
      "34147204-1739727891-CMRMaspex-1.png --> done\n",
      "14.127818822860718\n"
     ]
    },
    {
     "name": "stderr",
     "output_type": "stream",
     "text": [
      "\r",
      " 60%|█████▉    | 758/1271 [1:01:59<56:53,  6.65s/it]  "
     ]
    },
    {
     "name": "stdout",
     "output_type": "stream",
     "text": [
      "34233053-832504077-4651_001-1.png --> done\n",
      "4.001874685287476\n"
     ]
    },
    {
     "name": "stderr",
     "output_type": "stream",
     "text": [
      "\r",
      " 60%|█████▉    | 759/1271 [1:02:04<51:17,  6.01s/it]"
     ]
    },
    {
     "name": "stdout",
     "output_type": "stream",
     "text": [
      "342548389-342548258-BL6298979200-6.png --> done\n",
      "4.506563186645508\n"
     ]
    },
    {
     "name": "stderr",
     "output_type": "stream",
     "text": [
      "\r",
      " 60%|█████▉    | 760/1271 [1:02:07<43:52,  5.15s/it]"
     ]
    },
    {
     "name": "stdout",
     "output_type": "stream",
     "text": [
      "344667038-931872875-1550_001-1.png --> done\n",
      "3.145827531814575\n"
     ]
    },
    {
     "name": "stderr",
     "output_type": "stream",
     "text": [
      "\r",
      " 60%|█████▉    | 761/1271 [1:02:18<59:35,  7.01s/it]"
     ]
    },
    {
     "name": "stdout",
     "output_type": "stream",
     "text": [
      "345734626-345733815-Scan2021-01-04_165004-1.png --> done\n",
      "11.351281642913818\n"
     ]
    },
    {
     "name": "stderr",
     "output_type": "stream",
     "text": [
      "\r",
      " 60%|█████▉    | 762/1271 [1:02:36<1:27:13, 10.28s/it]"
     ]
    },
    {
     "name": "stdout",
     "output_type": "stream",
     "text": [
      "34681225-34721392-KX-E5G4-1399-L000019252163NA-4.png --> done\n",
      "17.91647458076477\n"
     ]
    },
    {
     "name": "stderr",
     "output_type": "stream",
     "text": [
      "\r",
      " 60%|██████    | 763/1271 [1:02:38<1:05:39,  7.75s/it]"
     ]
    },
    {
     "name": "stdout",
     "output_type": "stream",
     "text": [
      "3483803-3483720-HBLCSZ21006422-2.png --> done\n",
      "1.855062484741211\n"
     ]
    },
    {
     "name": "stderr",
     "output_type": "stream",
     "text": [
      "\r",
      " 60%|██████    | 764/1271 [1:02:41<52:28,  6.21s/it]  "
     ]
    },
    {
     "name": "stdout",
     "output_type": "stream",
     "text": [
      "35432876-654341905-PO34643Tivany-1.png --> done\n",
      "2.6039860248565674\n"
     ]
    },
    {
     "name": "stderr",
     "output_type": "stream",
     "text": [
      "\r",
      " 60%|██████    | 765/1271 [1:02:47<52:59,  6.28s/it]"
     ]
    },
    {
     "name": "stdout",
     "output_type": "stream",
     "text": [
      "35454408-1663083281-VNLAX2104975-1.png --> done\n",
      "6.455778360366821\n"
     ]
    },
    {
     "name": "stderr",
     "output_type": "stream",
     "text": [
      "\r",
      " 60%|██████    | 766/1271 [1:02:51<46:25,  5.52s/it]"
     ]
    },
    {
     "name": "stdout",
     "output_type": "stream",
     "text": [
      "35661491-1542245431-DGSS20211328SURPo33162PO33170-1.png --> done\n",
      "3.7259268760681152\n"
     ]
    },
    {
     "name": "stderr",
     "output_type": "stream",
     "text": [
      "\r",
      " 60%|██████    | 767/1271 [1:02:55<42:06,  5.01s/it]"
     ]
    },
    {
     "name": "stdout",
     "output_type": "stream",
     "text": [
      "35680744-35655415-FMLUAMUM21220036-1.png --> done\n",
      "3.8397586345672607\n"
     ]
    },
    {
     "name": "stderr",
     "output_type": "stream",
     "text": [
      "\r",
      " 60%|██████    | 768/1271 [1:02:58<38:27,  4.59s/it]"
     ]
    },
    {
     "name": "stdout",
     "output_type": "stream",
     "text": [
      "35920400-35921392-32726-1.png --> done\n",
      "3.590825319290161\n"
     ]
    },
    {
     "name": "stderr",
     "output_type": "stream",
     "text": [
      "\r",
      " 61%|██████    | 769/1271 [1:03:02<35:48,  4.28s/it]"
     ]
    },
    {
     "name": "stdout",
     "output_type": "stream",
     "text": [
      "361680149-2042537647-KNFreightHandoverInstructions-3.png --> done\n",
      "3.566525936126709\n"
     ]
    },
    {
     "name": "stderr",
     "output_type": "stream",
     "text": [
      "\r",
      " 61%|██████    | 770/1271 [1:03:07<36:58,  4.43s/it]"
     ]
    },
    {
     "name": "stdout",
     "output_type": "stream",
     "text": [
      "36188170-36188570-WFSOB2100728HBL-1.png --> done\n",
      "4.771645545959473\n"
     ]
    },
    {
     "name": "stderr",
     "output_type": "stream",
     "text": [
      "\r",
      " 61%|██████    | 771/1271 [1:03:09<30:51,  3.70s/it]"
     ]
    },
    {
     "name": "stdout",
     "output_type": "stream",
     "text": [
      "36188170-36188570-WFSOB2100728HBL-2.png --> done\n",
      "2.0097768306732178\n"
     ]
    },
    {
     "name": "stderr",
     "output_type": "stream",
     "text": [
      "\r",
      " 61%|██████    | 772/1271 [1:03:12<30:53,  3.71s/it]"
     ]
    },
    {
     "name": "stdout",
     "output_type": "stream",
     "text": [
      "36188170-36188571-ArrivalNotice-Consol-SPHL12023604-1.png --> done\n",
      "3.7370564937591553\n"
     ]
    },
    {
     "name": "stderr",
     "output_type": "stream",
     "text": [
      "\r",
      " 61%|██████    | 773/1271 [1:03:16<31:18,  3.77s/it]"
     ]
    },
    {
     "name": "stdout",
     "output_type": "stream",
     "text": [
      "36314475-308146082-DRAFT-CSHSE1078529-1.png --> done\n",
      "3.906831979751587\n"
     ]
    },
    {
     "name": "stderr",
     "output_type": "stream",
     "text": [
      "\r",
      " 61%|██████    | 774/1271 [1:03:21<33:07,  4.00s/it]"
     ]
    },
    {
     "name": "stdout",
     "output_type": "stream",
     "text": [
      "36370564-36370991-CCF_000139-25.png --> done\n",
      "4.53045916557312\n"
     ]
    },
    {
     "name": "stderr",
     "output_type": "stream",
     "text": [
      "\r",
      " 61%|██████    | 775/1271 [1:03:29<43:23,  5.25s/it]"
     ]
    },
    {
     "name": "stdout",
     "output_type": "stream",
     "text": [
      "3673060-295927782-HBL-1.png --> done\n",
      "8.162297248840332\n"
     ]
    },
    {
     "name": "stderr",
     "output_type": "stream",
     "text": [
      "\r",
      " 61%|██████    | 776/1271 [1:03:31<35:44,  4.33s/it]"
     ]
    },
    {
     "name": "stdout",
     "output_type": "stream",
     "text": [
      "3673060-295927782-HBL-2.png --> done\n",
      "2.195465087890625\n"
     ]
    },
    {
     "name": "stderr",
     "output_type": "stream",
     "text": [
      "\r",
      " 61%|██████    | 777/1271 [1:03:36<37:02,  4.50s/it]"
     ]
    },
    {
     "name": "stdout",
     "output_type": "stream",
     "text": [
      "36907366-1114205724-XLSX-E1212E1217-PetstopDiscountWarehouse-3007-1 - Copy (2).png --> done\n",
      "4.885220527648926\n"
     ]
    },
    {
     "name": "stderr",
     "output_type": "stream",
     "text": [
      "\r",
      " 61%|██████    | 778/1271 [1:03:41<38:15,  4.66s/it]"
     ]
    },
    {
     "name": "stdout",
     "output_type": "stream",
     "text": [
      "36907366-1114205724-XLSX-E1212E1217-PetstopDiscountWarehouse-3007-1 - Copy.png --> done\n",
      "5.02062463760376\n"
     ]
    },
    {
     "name": "stderr",
     "output_type": "stream",
     "text": [
      "\r",
      " 61%|██████▏   | 779/1271 [1:03:46<39:23,  4.80s/it]"
     ]
    },
    {
     "name": "stdout",
     "output_type": "stream",
     "text": [
      "36907366-1114205724-XLSX-E1212E1217-PetstopDiscountWarehouse-3007-1.png --> done\n",
      "5.139890432357788\n"
     ]
    },
    {
     "name": "stderr",
     "output_type": "stream",
     "text": [
      "\r",
      " 61%|██████▏   | 780/1271 [1:03:50<36:12,  4.42s/it]"
     ]
    },
    {
     "name": "stdout",
     "output_type": "stream",
     "text": [
      "36952694-36952583-KX-A5H9-383-02231882343BLCOPY-1.png --> done\n",
      "3.5385079383850098\n"
     ]
    },
    {
     "name": "stderr",
     "output_type": "stream",
     "text": [
      "\r",
      " 61%|██████▏   | 781/1271 [1:03:57<43:44,  5.36s/it]"
     ]
    },
    {
     "name": "stdout",
     "output_type": "stream",
     "text": [
      "37041777-37091183-KX-A5H9-396-583086BLCOPY-1.png --> done\n",
      "7.5282368659973145\n"
     ]
    },
    {
     "name": "stderr",
     "output_type": "stream",
     "text": [
      "\r",
      " 62%|██████▏   | 782/1271 [1:04:04<46:41,  5.73s/it]"
     ]
    },
    {
     "name": "stdout",
     "output_type": "stream",
     "text": [
      "371978-750856065-AN_LCBB04309400-1.png --> done\n",
      "6.598311185836792\n"
     ]
    },
    {
     "name": "stderr",
     "output_type": "stream",
     "text": [
      "\r",
      " 62%|██████▏   | 783/1271 [1:04:09<44:25,  5.46s/it]"
     ]
    },
    {
     "name": "stdout",
     "output_type": "stream",
     "text": [
      "37217000-37217632-OI-21220-1.png --> done\n",
      "4.843974828720093\n"
     ]
    },
    {
     "name": "stderr",
     "output_type": "stream",
     "text": [
      "\r",
      " 62%|██████▏   | 784/1271 [1:04:14<42:23,  5.22s/it]"
     ]
    },
    {
     "name": "stdout",
     "output_type": "stream",
     "text": [
      "37524779-1601164110-HBL-MJLAX2108012-1.png --> done\n",
      "4.660732269287109\n"
     ]
    },
    {
     "name": "stderr",
     "output_type": "stream",
     "text": [
      "\r",
      " 62%|██████▏   | 785/1271 [1:04:20<44:32,  5.50s/it]"
     ]
    },
    {
     "name": "stdout",
     "output_type": "stream",
     "text": [
      "3763588-3754758-KX-W2H6-4401-DocSetPO31800-4.png --> done\n",
      "6.141206741333008\n"
     ]
    },
    {
     "name": "stderr",
     "output_type": "stream",
     "text": [
      "\r",
      " 62%|██████▏   | 786/1271 [1:04:24<40:41,  5.03s/it]"
     ]
    },
    {
     "name": "stdout",
     "output_type": "stream",
     "text": [
      "381383048-1436051523-QDOLAXL34657-1.png --> done\n",
      "3.950021982192993\n"
     ]
    },
    {
     "name": "stderr",
     "output_type": "stream",
     "text": [
      "\r",
      " 62%|██████▏   | 787/1271 [1:04:28<38:18,  4.75s/it]"
     ]
    },
    {
     "name": "stdout",
     "output_type": "stream",
     "text": [
      "383069324-383069406-KX-Q1E6-55-DB69WYX11-rotated-1.png --> done\n",
      "4.078964948654175\n"
     ]
    },
    {
     "name": "stderr",
     "output_type": "stream",
     "text": [
      "\r",
      " 62%|██████▏   | 788/1271 [1:04:33<39:41,  4.93s/it]"
     ]
    },
    {
     "name": "stdout",
     "output_type": "stream",
     "text": [
      "3835012-1673741437-BOLTELEX-1205796SAM-1.png --> done\n",
      "5.349713325500488\n"
     ]
    },
    {
     "name": "stderr",
     "output_type": "stream",
     "text": [
      "\r",
      " 62%|██████▏   | 789/1271 [1:04:42<48:52,  6.08s/it]"
     ]
    },
    {
     "name": "stdout",
     "output_type": "stream",
     "text": [
      "383837225-549973317-doc08577720220316105705-1.png --> done\n",
      "8.777897357940674\n"
     ]
    },
    {
     "name": "stderr",
     "output_type": "stream",
     "text": [
      "\r",
      " 62%|██████▏   | 790/1271 [1:04:46<45:08,  5.63s/it]"
     ]
    },
    {
     "name": "stdout",
     "output_type": "stream",
     "text": [
      "3929545-1550117204-ONEYHKGBD0383602forPO27962797-1.png --> done\n",
      "4.571150064468384\n"
     ]
    },
    {
     "name": "stderr",
     "output_type": "stream",
     "text": [
      "\r",
      " 62%|██████▏   | 791/1271 [1:04:50<41:02,  5.13s/it]"
     ]
    },
    {
     "name": "stdout",
     "output_type": "stream",
     "text": [
      "39433889-39433767-6209540-1.png --> done\n",
      "3.9616944789886475\n"
     ]
    },
    {
     "name": "stderr",
     "output_type": "stream",
     "text": [
      "\r",
      " 62%|██████▏   | 792/1271 [1:04:54<36:40,  4.59s/it]"
     ]
    },
    {
     "name": "stdout",
     "output_type": "stream",
     "text": [
      "39673405-937510181-JD1-1.png --> done\n",
      "3.3454723358154297\n"
     ]
    },
    {
     "name": "stderr",
     "output_type": "stream",
     "text": [
      "\r",
      " 62%|██████▏   | 793/1271 [1:05:00<40:49,  5.12s/it]"
     ]
    },
    {
     "name": "stdout",
     "output_type": "stream",
     "text": [
      "397025-397240-098-88584576-1.png --> done\n",
      "6.357674837112427\n"
     ]
    },
    {
     "name": "stderr",
     "output_type": "stream",
     "text": [
      "\r",
      " 62%|██████▏   | 794/1271 [1:05:09<49:41,  6.25s/it]"
     ]
    },
    {
     "name": "stdout",
     "output_type": "stream",
     "text": [
      "39840166-39839958-BLOPDR21CPG008806-ENCOUNTER-00259-210611-134347_1484_9_0-1.png --> done\n",
      "8.874241352081299\n"
     ]
    },
    {
     "name": "stderr",
     "output_type": "stream",
     "text": [
      "\r",
      " 63%|██████▎   | 795/1271 [1:05:14<47:11,  5.95s/it]"
     ]
    },
    {
     "name": "stdout",
     "output_type": "stream",
     "text": [
      "398406404-398406542-CMPR0102_543426438-1.png --> done\n",
      "5.242992401123047\n"
     ]
    },
    {
     "name": "stderr",
     "output_type": "stream",
     "text": [
      "\r",
      " 63%|██████▎   | 796/1271 [1:05:19<44:19,  5.60s/it]"
     ]
    },
    {
     "name": "stdout",
     "output_type": "stream",
     "text": [
      "398762477-1002563861-Importnoticeofarrival_SANELLIS_210429115931870-1.png --> done\n",
      "4.7859203815460205\n"
     ]
    },
    {
     "name": "stderr",
     "output_type": "stream",
     "text": [
      "\r",
      " 63%|██████▎   | 797/1271 [1:05:28<53:04,  6.72s/it]"
     ]
    },
    {
     "name": "stdout",
     "output_type": "stream",
     "text": [
      "399374953-1166100132-Scan2021-01-25_140716-1.png --> done\n",
      "9.326192140579224\n"
     ]
    },
    {
     "name": "stderr",
     "output_type": "stream",
     "text": [
      "\r",
      " 63%|██████▎   | 798/1271 [1:05:39<1:02:14,  7.90s/it]"
     ]
    },
    {
     "name": "stdout",
     "output_type": "stream",
     "text": [
      "40100372-40101281-ilovepdf_merged-2021-04-09T1637526291-2.png --> done\n",
      "10.645139694213867\n"
     ]
    },
    {
     "name": "stderr",
     "output_type": "stream",
     "text": [
      "\r",
      " 63%|██████▎   | 799/1271 [1:05:47<1:03:17,  8.05s/it]"
     ]
    },
    {
     "name": "stdout",
     "output_type": "stream",
     "text": [
      "40100372-40101281-ilovepdf_merged-2021-04-09T1637526291-3.png --> done\n",
      "8.387028455734253\n"
     ]
    },
    {
     "name": "stderr",
     "output_type": "stream",
     "text": [
      "\r",
      " 63%|██████▎   | 800/1271 [1:05:53<57:32,  7.33s/it]  "
     ]
    },
    {
     "name": "stdout",
     "output_type": "stream",
     "text": [
      "40148404-40148616-hbl-1.png --> done\n",
      "5.661764144897461\n"
     ]
    },
    {
     "name": "stderr",
     "output_type": "stream",
     "text": [
      "\r",
      " 63%|██████▎   | 801/1271 [1:06:07<1:12:18,  9.23s/it]"
     ]
    },
    {
     "name": "stdout",
     "output_type": "stream",
     "text": [
      "40183432-40183367-KX-O3A5-196-SURRENDER-HBL-MFS23334-1.png --> done\n",
      "13.665342330932617\n"
     ]
    },
    {
     "name": "stderr",
     "output_type": "stream",
     "text": [
      "\r",
      " 63%|██████▎   | 802/1271 [1:06:11<1:00:54,  7.79s/it]"
     ]
    },
    {
     "name": "stdout",
     "output_type": "stream",
     "text": [
      "416784505-416784537-Hyundai2-12-1.png --> done\n",
      "4.432518005371094\n"
     ]
    },
    {
     "name": "stderr",
     "output_type": "stream",
     "text": [
      "\r",
      " 63%|██████▎   | 803/1271 [1:06:15<51:57,  6.66s/it]  "
     ]
    },
    {
     "name": "stdout",
     "output_type": "stream",
     "text": [
      "416784505-416784537-Hyundai2-12-2.png --> done\n",
      "4.021997928619385\n"
     ]
    },
    {
     "name": "stderr",
     "output_type": "stream",
     "text": [
      "\r",
      " 63%|██████▎   | 804/1271 [1:06:18<43:55,  5.64s/it]"
     ]
    },
    {
     "name": "stdout",
     "output_type": "stream",
     "text": [
      "419669735-766910112-Scan2021-01-29_085230-1.png --> done\n",
      "3.2710695266723633\n"
     ]
    },
    {
     "name": "stderr",
     "output_type": "stream",
     "text": [
      "\r",
      " 63%|██████▎   | 805/1271 [1:06:24<43:15,  5.57s/it]"
     ]
    },
    {
     "name": "stdout",
     "output_type": "stream",
     "text": [
      "420563129-1458181473-Scan2021-03-16_165340-1.png --> done\n",
      "5.399001121520996\n"
     ]
    },
    {
     "name": "stderr",
     "output_type": "stream",
     "text": [
      "\r",
      " 63%|██████▎   | 806/1271 [1:06:36<59:23,  7.66s/it]"
     ]
    },
    {
     "name": "stdout",
     "output_type": "stream",
     "text": [
      "420611253-107429069-19AInvoiceConfezioniRossetti_UK-1.png --> done\n",
      "12.54617428779602\n"
     ]
    },
    {
     "name": "stderr",
     "output_type": "stream",
     "text": [
      "\r",
      " 63%|██████▎   | 807/1271 [1:06:43<57:13,  7.40s/it]"
     ]
    },
    {
     "name": "stdout",
     "output_type": "stream",
     "text": [
      "424283603-29570707-211221164312_0001-1.png --> done\n",
      "6.786100149154663\n"
     ]
    },
    {
     "name": "stderr",
     "output_type": "stream",
     "text": [
      "\r",
      " 64%|██████▎   | 808/1271 [1:06:52<59:33,  7.72s/it]"
     ]
    },
    {
     "name": "stdout",
     "output_type": "stream",
     "text": [
      "425034826-1629870990-Scan2021-03-18_113116-1.png --> done\n",
      "8.455827951431274\n"
     ]
    },
    {
     "name": "stderr",
     "output_type": "stream",
     "text": [
      "\r",
      " 64%|██████▎   | 809/1271 [1:06:55<49:20,  6.41s/it]"
     ]
    },
    {
     "name": "stdout",
     "output_type": "stream",
     "text": [
      "42536762-42536563-ndip-036inv1002-1 - Copy.png --> done\n",
      "3.3495371341705322\n"
     ]
    },
    {
     "name": "stderr",
     "output_type": "stream",
     "text": [
      "\r",
      " 64%|██████▎   | 810/1271 [1:06:58<42:00,  5.47s/it]"
     ]
    },
    {
     "name": "stdout",
     "output_type": "stream",
     "text": [
      "42536762-42536563-ndip-036inv1002-1.png --> done\n",
      "3.2706122398376465\n"
     ]
    },
    {
     "name": "stderr",
     "output_type": "stream",
     "text": [
      "\r",
      " 64%|██████▍   | 811/1271 [1:07:03<40:05,  5.23s/it]"
     ]
    },
    {
     "name": "stdout",
     "output_type": "stream",
     "text": [
      "42701565-42701429-144045972492_KWEAN-1.png --> done\n",
      "4.672547817230225\n"
     ]
    },
    {
     "name": "stderr",
     "output_type": "stream",
     "text": [
      "\r",
      " 64%|██████▍   | 812/1271 [1:07:08<38:40,  5.06s/it]"
     ]
    },
    {
     "name": "stdout",
     "output_type": "stream",
     "text": [
      "428971070-2135302620-KX-A5B0-33-KlearNow-3.png --> done\n",
      "4.653549432754517\n"
     ]
    },
    {
     "name": "stderr",
     "output_type": "stream",
     "text": [
      "\r",
      " 64%|██████▍   | 813/1271 [1:07:12<38:03,  4.99s/it]"
     ]
    },
    {
     "name": "stdout",
     "output_type": "stream",
     "text": [
      "429089010-1402734547-21400970-1.png --> done\n",
      "4.81926155090332\n"
     ]
    },
    {
     "name": "stderr",
     "output_type": "stream",
     "text": [
      "\r",
      " 64%|██████▍   | 814/1271 [1:07:16<35:35,  4.67s/it]"
     ]
    },
    {
     "name": "stdout",
     "output_type": "stream",
     "text": [
      "429347477-4886367-CommercialInvoice_409690408820414530413440409700-1.png --> done\n",
      "3.9350104331970215\n"
     ]
    },
    {
     "name": "stderr",
     "output_type": "stream",
     "text": [
      "\r",
      " 64%|██████▍   | 815/1271 [1:07:23<39:54,  5.25s/it]"
     ]
    },
    {
     "name": "stdout",
     "output_type": "stream",
     "text": [
      "431940768-668986628-11082022_FV_67_2022_PUE-2.png --> done\n",
      "6.600289583206177\n"
     ]
    },
    {
     "name": "stderr",
     "output_type": "stream",
     "text": [
      "\r",
      " 64%|██████▍   | 816/1271 [1:07:29<41:08,  5.43s/it]"
     ]
    },
    {
     "name": "stdout",
     "output_type": "stream",
     "text": [
      "433805531-433805527-KX-H1H3-3-81197084-81197070-KX-H1H3-1-GLOBALORCANICS001000010900000038971FCLWEEK10-PDF-PDF-5.png --> done\n",
      "5.83380913734436\n"
     ]
    },
    {
     "name": "stderr",
     "output_type": "stream",
     "text": [
      "\r",
      " 64%|██████▍   | 817/1271 [1:07:31<34:14,  4.53s/it]"
     ]
    },
    {
     "name": "stdout",
     "output_type": "stream",
     "text": [
      "438387920-438387759-CopyofInvoice-packinglist-86882-1.png --> done\n",
      "2.4181151390075684\n"
     ]
    },
    {
     "name": "stderr",
     "output_type": "stream",
     "text": [
      "\r",
      " 64%|██████▍   | 818/1271 [1:07:36<35:26,  4.69s/it]"
     ]
    },
    {
     "name": "stdout",
     "output_type": "stream",
     "text": [
      "440321100-1143755700-RSTRANSFERW1593022APR22-7.png --> done\n",
      "5.080249547958374\n"
     ]
    },
    {
     "name": "stderr",
     "output_type": "stream",
     "text": [
      "\r",
      " 64%|██████▍   | 819/1271 [1:07:53<1:03:09,  8.38s/it]"
     ]
    },
    {
     "name": "stdout",
     "output_type": "stream",
     "text": [
      "44083870-44083291-Scan2021-06-04_162904-1.png --> done\n",
      "16.990337371826172\n"
     ]
    },
    {
     "name": "stderr",
     "output_type": "stream",
     "text": [
      "\r",
      " 65%|██████▍   | 820/1271 [1:07:59<57:59,  7.72s/it]  "
     ]
    },
    {
     "name": "stdout",
     "output_type": "stream",
     "text": [
      "44083870-44083291-Scan2021-06-04_162904-2.png --> done\n",
      "6.147191286087036\n"
     ]
    },
    {
     "name": "stderr",
     "output_type": "stream",
     "text": [
      "\r",
      " 65%|██████▍   | 821/1271 [1:08:07<57:04,  7.61s/it]"
     ]
    },
    {
     "name": "stdout",
     "output_type": "stream",
     "text": [
      "44083870-44083291-Scan2021-06-04_162904-8.png --> done\n",
      "7.361847162246704\n"
     ]
    },
    {
     "name": "stderr",
     "output_type": "stream",
     "text": [
      "\r",
      " 65%|██████▍   | 822/1271 [1:08:10<46:20,  6.19s/it]"
     ]
    },
    {
     "name": "stdout",
     "output_type": "stream",
     "text": [
      "44541086-44547042-x-scope_air-import-advise-of-arrival-1.png --> done\n",
      "2.8890419006347656\n"
     ]
    },
    {
     "name": "stderr",
     "output_type": "stream",
     "text": [
      "\r",
      " 65%|██████▍   | 823/1271 [1:08:15<43:38,  5.85s/it]"
     ]
    },
    {
     "name": "stdout",
     "output_type": "stream",
     "text": [
      "44803112-1995186554-SMMANIFEST-1.png --> done\n",
      "5.031725168228149\n"
     ]
    },
    {
     "name": "stderr",
     "output_type": "stream",
     "text": [
      "\r",
      " 65%|██████▍   | 824/1271 [1:08:18<37:18,  5.01s/it]"
     ]
    },
    {
     "name": "stdout",
     "output_type": "stream",
     "text": [
      "449140620-2055312395-1887901607-1.png --> done\n",
      "3.0536556243896484\n"
     ]
    },
    {
     "name": "stderr",
     "output_type": "stream",
     "text": [
      "\r",
      " 65%|██████▍   | 825/1271 [1:08:21<33:39,  4.53s/it]"
     ]
    },
    {
     "name": "stdout",
     "output_type": "stream",
     "text": [
      "449140620-2055312395-1887901607-2.png --> done\n",
      "3.4110031127929688\n"
     ]
    },
    {
     "name": "stderr",
     "output_type": "stream",
     "text": [
      "\r",
      " 65%|██████▍   | 826/1271 [1:08:27<37:19,  5.03s/it]"
     ]
    },
    {
     "name": "stdout",
     "output_type": "stream",
     "text": [
      "451202402-451202555-WWTAN_4CEA9E0BD9044E0B8D84C4F7E60D3CEA-1.png --> done\n",
      "6.206406831741333\n"
     ]
    },
    {
     "name": "stderr",
     "output_type": "stream",
     "text": [
      "\r",
      " 65%|██████▌   | 827/1271 [1:08:30<33:02,  4.47s/it]"
     ]
    },
    {
     "name": "stdout",
     "output_type": "stream",
     "text": [
      "451202402-451202555-WWTAN_4CEA9E0BD9044E0B8D84C4F7E60D3CEA-2.png --> done\n",
      "3.1431684494018555\n"
     ]
    },
    {
     "name": "stderr",
     "output_type": "stream",
     "text": [
      "\r",
      " 65%|██████▌   | 828/1271 [1:08:35<32:44,  4.43s/it]"
     ]
    },
    {
     "name": "stdout",
     "output_type": "stream",
     "text": [
      "45256246-45256524-OceanImportArrivalNotice63745535223-1.png --> done\n",
      "4.359758615493774\n"
     ]
    },
    {
     "name": "stderr",
     "output_type": "stream",
     "text": [
      "\r",
      " 65%|██████▌   | 829/1271 [1:08:48<51:23,  6.98s/it]"
     ]
    },
    {
     "name": "stdout",
     "output_type": "stream",
     "text": [
      "45532772-1494192085-45532772-KX-X6B8-1-SHIPMENTDOC.png --> done\n",
      "12.904158353805542\n"
     ]
    },
    {
     "name": "stderr",
     "output_type": "stream",
     "text": [
      "\r",
      " 65%|██████▌   | 830/1271 [1:08:52<45:18,  6.16s/it]"
     ]
    },
    {
     "name": "stdout",
     "output_type": "stream",
     "text": [
      "458485322-1792005240-Faktura_eksportowa_ang_kody_ind_kontrah_-_KSI_SFSE-11_03_2022_SE_20220301_12-53-35-1.png --> done\n",
      "4.260790109634399\n"
     ]
    },
    {
     "name": "stderr",
     "output_type": "stream",
     "text": [
      "\r",
      " 65%|██████▌   | 831/1271 [1:08:57<41:33,  5.67s/it]"
     ]
    },
    {
     "name": "stdout",
     "output_type": "stream",
     "text": [
      "458485322-1792005240-Faktura_eksportowa_ang_kody_ind_kontrah_-_KSI_SFSE-11_03_2022_SE_20220301_12-53-35-2.png --> done\n",
      "4.50511360168457\n"
     ]
    },
    {
     "name": "stderr",
     "output_type": "stream",
     "text": [
      "\r",
      " 65%|██████▌   | 832/1271 [1:09:02<40:24,  5.52s/it]"
     ]
    },
    {
     "name": "stdout",
     "output_type": "stream",
     "text": [
      "462208672-1214305972-MAEU-208483918-1.png --> done\n",
      "5.18794584274292\n"
     ]
    },
    {
     "name": "stderr",
     "output_type": "stream",
     "text": [
      "\r",
      " 66%|██████▌   | 833/1271 [1:09:04<33:46,  4.63s/it]"
     ]
    },
    {
     "name": "stdout",
     "output_type": "stream",
     "text": [
      "464799524-1326848820-Invoicefv20228300UK-1.png --> done\n",
      "2.5336759090423584\n"
     ]
    },
    {
     "name": "stderr",
     "output_type": "stream",
     "text": [
      "\r",
      " 66%|██████▌   | 834/1271 [1:09:12<39:28,  5.42s/it]"
     ]
    },
    {
     "name": "stdout",
     "output_type": "stream",
     "text": [
      "465232059-1223539923-KX-E5G4-332-Arrivalnotice-1.png --> done\n",
      "7.270119905471802\n"
     ]
    },
    {
     "name": "stderr",
     "output_type": "stream",
     "text": [
      "\r",
      " 66%|██████▌   | 835/1271 [1:09:32<1:12:55, 10.03s/it]"
     ]
    },
    {
     "name": "stdout",
     "output_type": "stream",
     "text": [
      "466366541-1340366384-ANGZSE20100276-1.png --> done\n",
      "20.802476167678833\n"
     ]
    },
    {
     "name": "stderr",
     "output_type": "stream",
     "text": [
      "\r",
      " 66%|██████▌   | 836/1271 [1:09:38<1:03:16,  8.73s/it]"
     ]
    },
    {
     "name": "stdout",
     "output_type": "stream",
     "text": [
      "466996-1744042798-PO31357-31359BILL-1.png --> done\n",
      "5.675042390823364\n"
     ]
    },
    {
     "name": "stderr",
     "output_type": "stream",
     "text": [
      "\r",
      " 66%|██████▌   | 837/1271 [1:09:40<49:20,  6.82s/it]  "
     ]
    },
    {
     "name": "stdout",
     "output_type": "stream",
     "text": [
      "466996-1744042798-PO31357-31359BILL-2.png --> done\n",
      "2.372270345687866\n"
     ]
    },
    {
     "name": "stderr",
     "output_type": "stream",
     "text": [
      "\r",
      " 66%|██████▌   | 838/1271 [1:09:44<43:06,  5.97s/it]"
     ]
    },
    {
     "name": "stdout",
     "output_type": "stream",
     "text": [
      "46838825-748434314-AN-005391-1.png --> done\n",
      "3.999016046524048\n"
     ]
    },
    {
     "name": "stderr",
     "output_type": "stream",
     "text": [
      "\r",
      " 66%|██████▌   | 839/1271 [1:09:52<46:12,  6.42s/it]"
     ]
    },
    {
     "name": "stdout",
     "output_type": "stream",
     "text": [
      "469551302-1384429194-138524-1.png --> done\n",
      "7.448404312133789\n"
     ]
    },
    {
     "name": "stderr",
     "output_type": "stream",
     "text": [
      "\r",
      " 66%|██████▌   | 840/1271 [1:09:55<39:43,  5.53s/it]"
     ]
    },
    {
     "name": "stdout",
     "output_type": "stream",
     "text": [
      "4708792-4709177-ArrivalNotice-S00558448-1.png --> done\n",
      "3.459942579269409\n"
     ]
    },
    {
     "name": "stderr",
     "output_type": "stream",
     "text": [
      "\r",
      " 66%|██████▌   | 841/1271 [1:09:59<36:17,  5.06s/it]"
     ]
    },
    {
     "name": "stdout",
     "output_type": "stream",
     "text": [
      "4708792-4709178-Copy4-DeliveryReceipt-HAWBNo_AMS00558448-1.png --> done\n",
      "3.978599786758423\n"
     ]
    },
    {
     "name": "stderr",
     "output_type": "stream",
     "text": [
      "\r",
      " 66%|██████▌   | 842/1271 [1:10:02<31:33,  4.41s/it]"
     ]
    },
    {
     "name": "stdout",
     "output_type": "stream",
     "text": [
      "472474189-1209646986-WWTAN_44F34CC5CF3F43A2B89530A91FCDE26A-2.png --> done\n",
      "2.898393154144287\n"
     ]
    },
    {
     "name": "stderr",
     "output_type": "stream",
     "text": [
      "\r",
      " 66%|██████▋   | 843/1271 [1:10:05<29:06,  4.08s/it]"
     ]
    },
    {
     "name": "stdout",
     "output_type": "stream",
     "text": [
      "472904991-472904749-100000BLSInvoice2105000592UK4xPallets-1.png --> done\n",
      "3.29209566116333\n"
     ]
    },
    {
     "name": "stderr",
     "output_type": "stream",
     "text": [
      "\r",
      " 66%|██████▋   | 844/1271 [1:10:12<33:37,  4.72s/it]"
     ]
    },
    {
     "name": "stdout",
     "output_type": "stream",
     "text": [
      "475897-2084538660-KX-W2H6-3660-DocSetPO292421-4.png --> done\n",
      "6.225985527038574\n"
     ]
    },
    {
     "name": "stderr",
     "output_type": "stream",
     "text": [
      "\r",
      " 66%|██████▋   | 845/1271 [1:10:14<27:36,  3.89s/it]"
     ]
    },
    {
     "name": "stdout",
     "output_type": "stream",
     "text": [
      "475897-2084538660-KX-W2H6-3660-DocSetPO292421-5.png --> done\n",
      "1.939990758895874\n"
     ]
    },
    {
     "name": "stderr",
     "output_type": "stream",
     "text": [
      "\r",
      " 67%|██████▋   | 846/1271 [1:10:15<21:49,  3.08s/it]"
     ]
    },
    {
     "name": "stdout",
     "output_type": "stream",
     "text": [
      "476552416-1932162685-0054-ORANGE-PACK-LTD-2.png --> done\n",
      "1.1923985481262207\n"
     ]
    },
    {
     "name": "stderr",
     "output_type": "stream",
     "text": [
      "\r",
      " 67%|██████▋   | 847/1271 [1:10:20<25:17,  3.58s/it]"
     ]
    },
    {
     "name": "stdout",
     "output_type": "stream",
     "text": [
      "47694457-47694535-image2021-05-20-083217-3.png --> done\n",
      "4.7453625202178955\n"
     ]
    },
    {
     "name": "stderr",
     "output_type": "stream",
     "text": [
      "\r",
      " 67%|██████▋   | 848/1271 [1:10:28<36:25,  5.17s/it]"
     ]
    },
    {
     "name": "stdout",
     "output_type": "stream",
     "text": [
      "47753036-47752424-Scan2021-06-04_163940-1.png --> done\n",
      "8.867892742156982\n"
     ]
    },
    {
     "name": "stderr",
     "output_type": "stream",
     "text": [
      "\r",
      " 67%|██████▋   | 849/1271 [1:10:33<34:33,  4.91s/it]"
     ]
    },
    {
     "name": "stdout",
     "output_type": "stream",
     "text": [
      "48282716-48283090-ArrivalNotice-S21I102660-1.png --> done\n",
      "4.323578357696533\n"
     ]
    },
    {
     "name": "stderr",
     "output_type": "stream",
     "text": [
      "\r",
      " 67%|██████▋   | 850/1271 [1:10:36<31:45,  4.53s/it]"
     ]
    },
    {
     "name": "stdout",
     "output_type": "stream",
     "text": [
      "49470928-49470786-HBLPROFORMA0028-1.png --> done\n",
      "3.6253294944763184\n"
     ]
    },
    {
     "name": "stderr",
     "output_type": "stream",
     "text": [
      "\r",
      " 67%|██████▋   | 851/1271 [1:10:40<29:46,  4.25s/it]"
     ]
    },
    {
     "name": "stdout",
     "output_type": "stream",
     "text": [
      "49538296-1605890927-inv1620019998WITHCODES-1.png --> done\n",
      "3.612562417984009\n"
     ]
    },
    {
     "name": "stderr",
     "output_type": "stream",
     "text": [
      "\r",
      " 67%|██████▋   | 852/1271 [1:10:45<30:59,  4.44s/it]"
     ]
    },
    {
     "name": "stdout",
     "output_type": "stream",
     "text": [
      "49538296-818013825-inv1620019995nCORRECTEDWITHCODES-1.png --> done\n",
      "4.866817951202393\n"
     ]
    },
    {
     "name": "stderr",
     "output_type": "stream",
     "text": [
      "\r",
      " 67%|██████▋   | 853/1271 [1:10:48<29:01,  4.17s/it]"
     ]
    },
    {
     "name": "stdout",
     "output_type": "stream",
     "text": [
      "49538296-818013825-inv1620019995nCORRECTEDWITHCODES-4.png --> done\n",
      "3.5312767028808594\n"
     ]
    },
    {
     "name": "stderr",
     "output_type": "stream",
     "text": [
      "\r",
      " 67%|██████▋   | 854/1271 [1:10:52<27:40,  3.98s/it]"
     ]
    },
    {
     "name": "stdout",
     "output_type": "stream",
     "text": [
      "495418194-500030673-KX-P6J9-7-2.png --> done\n",
      "3.5572526454925537\n"
     ]
    },
    {
     "name": "stderr",
     "output_type": "stream",
     "text": [
      "\r",
      " 67%|██████▋   | 855/1271 [1:10:56<28:06,  4.05s/it]"
     ]
    },
    {
     "name": "stdout",
     "output_type": "stream",
     "text": [
      "49630993-1442870884-HBL_SKYSE21060447-1.png --> done\n",
      "4.217822074890137\n"
     ]
    },
    {
     "name": "stderr",
     "output_type": "stream",
     "text": [
      "\r",
      " 67%|██████▋   | 856/1271 [1:11:02<32:16,  4.67s/it]"
     ]
    },
    {
     "name": "stdout",
     "output_type": "stream",
     "text": [
      "497010647-1515791608-Scan2021-01-18_145812-1.png --> done\n",
      "6.09298300743103\n"
     ]
    },
    {
     "name": "stderr",
     "output_type": "stream",
     "text": [
      "\r",
      " 67%|██████▋   | 857/1271 [1:11:06<30:53,  4.48s/it]"
     ]
    },
    {
     "name": "stdout",
     "output_type": "stream",
     "text": [
      "50074901-50075014-ARRIVALNOTICEFREIGHTINVOICE-AE21010004-1.png --> done\n",
      "4.034943342208862\n"
     ]
    },
    {
     "name": "stderr",
     "output_type": "stream",
     "text": [
      "\r",
      " 68%|██████▊   | 858/1271 [1:11:14<37:35,  5.46s/it]"
     ]
    },
    {
     "name": "stdout",
     "output_type": "stream",
     "text": [
      "50394816-50393312-Scan2021-06-04_181254-1.png --> done\n",
      "7.759277820587158\n"
     ]
    },
    {
     "name": "stderr",
     "output_type": "stream",
     "text": [
      "\r",
      " 68%|██████▊   | 859/1271 [1:11:22<43:23,  6.32s/it]"
     ]
    },
    {
     "name": "stdout",
     "output_type": "stream",
     "text": [
      "50394816-50393312-Scan2021-06-04_181254-7.png --> done\n",
      "8.31848430633545\n"
     ]
    },
    {
     "name": "stderr",
     "output_type": "stream",
     "text": [
      "\r",
      " 68%|██████▊   | 860/1271 [1:11:30<46:47,  6.83s/it]"
     ]
    },
    {
     "name": "stdout",
     "output_type": "stream",
     "text": [
      "505450594-1411020952-skan_2022_03_04_12_54_21_275-1.png --> done\n",
      "8.025890827178955\n"
     ]
    },
    {
     "name": "stderr",
     "output_type": "stream",
     "text": [
      "\r",
      " 68%|██████▊   | 861/1271 [1:11:35<42:13,  6.18s/it]"
     ]
    },
    {
     "name": "stdout",
     "output_type": "stream",
     "text": [
      "505450594-1411028459-20220307_MRN0257135-2.png --> done\n",
      "4.659100294113159\n"
     ]
    },
    {
     "name": "stderr",
     "output_type": "stream",
     "text": [
      "\r",
      " 68%|██████▊   | 862/1271 [1:11:40<39:30,  5.79s/it]"
     ]
    },
    {
     "name": "stdout",
     "output_type": "stream",
     "text": [
      "505591876-505592296-EGLV143159813646-1.png --> done\n",
      "4.896788835525513\n"
     ]
    },
    {
     "name": "stderr",
     "output_type": "stream",
     "text": [
      "\r",
      " 68%|██████▊   | 863/1271 [1:11:52<52:10,  7.67s/it]"
     ]
    },
    {
     "name": "stdout",
     "output_type": "stream",
     "text": [
      "50592723-2129271332-KX-X3C0-53-33958BL-6840251524_HouseOceanBill-Unrated_1-1.png --> done\n",
      "12.0562424659729\n"
     ]
    },
    {
     "name": "stderr",
     "output_type": "stream",
     "text": [
      "\r",
      " 68%|██████▊   | 864/1271 [1:11:57<47:07,  6.95s/it]"
     ]
    },
    {
     "name": "stdout",
     "output_type": "stream",
     "text": [
      "5059733-1108571663-L00000852218CNA-5.png --> done\n",
      "5.253283739089966\n"
     ]
    },
    {
     "name": "stderr",
     "output_type": "stream",
     "text": [
      "\r",
      " 68%|██████▊   | 865/1271 [1:12:03<45:14,  6.69s/it]"
     ]
    },
    {
     "name": "stdout",
     "output_type": "stream",
     "text": [
      "508309260-508309379-Scan2021-05-27_163042-1.png --> done\n",
      "6.071206092834473\n"
     ]
    },
    {
     "name": "stderr",
     "output_type": "stream",
     "text": [
      "\r",
      " 68%|██████▊   | 866/1271 [1:12:07<39:10,  5.80s/it]"
     ]
    },
    {
     "name": "stdout",
     "output_type": "stream",
     "text": [
      "509473627-2032478541-ArrivalNotice_OIM10692-1.png --> done\n",
      "3.7438442707061768\n"
     ]
    },
    {
     "name": "stderr",
     "output_type": "stream",
     "text": [
      "\r",
      " 68%|██████▊   | 867/1271 [1:12:10<32:30,  4.83s/it]"
     ]
    },
    {
     "name": "stdout",
     "output_type": "stream",
     "text": [
      "510839105-1602656616-ARRIVALNOTICEPRIM1F104525-1.png --> done\n",
      "2.550468683242798\n"
     ]
    },
    {
     "name": "stderr",
     "output_type": "stream",
     "text": [
      "\r",
      " 68%|██████▊   | 868/1271 [1:12:14<31:06,  4.63s/it]"
     ]
    },
    {
     "name": "stdout",
     "output_type": "stream",
     "text": [
      "51231244-1692287102-HBL_2021GTG1071521-1.png --> done\n",
      "4.169289827346802\n"
     ]
    },
    {
     "name": "stderr",
     "output_type": "stream",
     "text": [
      "\r",
      " 68%|██████▊   | 869/1271 [1:12:18<29:20,  4.38s/it]"
     ]
    },
    {
     "name": "stdout",
     "output_type": "stream",
     "text": [
      "51266139-819081400-HOUSEBILL-1.png --> done\n",
      "3.78649640083313\n"
     ]
    },
    {
     "name": "stderr",
     "output_type": "stream",
     "text": [
      "\r",
      " 68%|██████▊   | 870/1271 [1:12:22<29:53,  4.47s/it]"
     ]
    },
    {
     "name": "stdout",
     "output_type": "stream",
     "text": [
      "514512680-1641641004-20689728-1.png --> done\n",
      "4.693469047546387\n"
     ]
    },
    {
     "name": "stderr",
     "output_type": "stream",
     "text": [
      "\r",
      " 69%|██████▊   | 871/1271 [1:12:28<32:20,  4.85s/it]"
     ]
    },
    {
     "name": "stdout",
     "output_type": "stream",
     "text": [
      "5157113-5157720-17921ALPIDORINVOICECTL-1.png --> done\n",
      "5.7314841747283936\n"
     ]
    },
    {
     "name": "stderr",
     "output_type": "stream",
     "text": [
      "\r",
      " 69%|██████▊   | 872/1271 [1:12:32<31:12,  4.69s/it]"
     ]
    },
    {
     "name": "stdout",
     "output_type": "stream",
     "text": [
      "515874055-112253123-DB1JY8DV1-4.png --> done\n",
      "4.319750547409058\n"
     ]
    },
    {
     "name": "stderr",
     "output_type": "stream",
     "text": [
      "\r",
      " 69%|██████▊   | 873/1271 [1:12:35<27:37,  4.16s/it]"
     ]
    },
    {
     "name": "stdout",
     "output_type": "stream",
     "text": [
      "5193167-1738153494-KX-C8B5-377-DCB41036TJBHTHBLHJBO3302102-PDF-1.png --> done\n",
      "2.931544065475464\n"
     ]
    },
    {
     "name": "stderr",
     "output_type": "stream",
     "text": [
      "\r",
      " 69%|██████▉   | 874/1271 [1:12:38<25:25,  3.84s/it]"
     ]
    },
    {
     "name": "stdout",
     "output_type": "stream",
     "text": [
      "5193167-810225538-KX-C8B5-377-DCB41036T-PDF-1.png --> done\n",
      "3.0919289588928223\n"
     ]
    },
    {
     "name": "stderr",
     "output_type": "stream",
     "text": [
      "\r",
      " 69%|██████▉   | 875/1271 [1:12:43<27:28,  4.16s/it]"
     ]
    },
    {
     "name": "stdout",
     "output_type": "stream",
     "text": [
      "51963693-51963775-KX-V3A1-3-BL6300301601-1.png --> done\n",
      "4.901533842086792\n"
     ]
    },
    {
     "name": "stderr",
     "output_type": "stream",
     "text": [
      "\r",
      " 69%|██████▉   | 876/1271 [1:12:48<28:47,  4.37s/it]"
     ]
    },
    {
     "name": "stdout",
     "output_type": "stream",
     "text": [
      "520566130-520565826-SHA210277800_BNV21AN00908-1.png --> done\n",
      "4.867579936981201\n"
     ]
    },
    {
     "name": "stderr",
     "output_type": "stream",
     "text": [
      "\r",
      " 69%|██████▉   | 877/1271 [1:12:51<25:39,  3.91s/it]"
     ]
    },
    {
     "name": "stdout",
     "output_type": "stream",
     "text": [
      "522827911-1624234119-invoice_2_08_2022-TransitGT-1.png --> done\n",
      "2.8092432022094727\n"
     ]
    },
    {
     "name": "stderr",
     "output_type": "stream",
     "text": [
      "\r",
      " 69%|██████▉   | 878/1271 [1:12:56<26:58,  4.12s/it]"
     ]
    },
    {
     "name": "stdout",
     "output_type": "stream",
     "text": [
      "523530882-1626569542-AN-SSZX5335717-1.png --> done\n",
      "4.613796710968018\n"
     ]
    },
    {
     "name": "stderr",
     "output_type": "stream",
     "text": [
      "\r",
      " 69%|██████▉   | 879/1271 [1:13:00<27:10,  4.16s/it]"
     ]
    },
    {
     "name": "stdout",
     "output_type": "stream",
     "text": [
      "525577189-1196673387-18763498-11.png --> done\n",
      "4.254889011383057\n"
     ]
    },
    {
     "name": "stderr",
     "output_type": "stream",
     "text": [
      "\r",
      " 69%|██████▉   | 880/1271 [1:13:01<22:02,  3.38s/it]"
     ]
    },
    {
     "name": "stdout",
     "output_type": "stream",
     "text": [
      "5264855-5264754-KX-Q1E6-44-207321161-2.png --> done\n",
      "1.5584509372711182\n"
     ]
    },
    {
     "name": "stderr",
     "output_type": "stream",
     "text": [
      "\r",
      " 69%|██████▉   | 881/1271 [1:13:05<22:53,  3.52s/it]"
     ]
    },
    {
     "name": "stdout",
     "output_type": "stream",
     "text": [
      "526861-1952270247-HBL-1.png --> done\n",
      "3.844836711883545\n"
     ]
    },
    {
     "name": "stderr",
     "output_type": "stream",
     "text": [
      "\r",
      " 69%|██████▉   | 882/1271 [1:13:08<22:12,  3.42s/it]"
     ]
    },
    {
     "name": "stdout",
     "output_type": "stream",
     "text": [
      "52866804-1044039342-TELEXPO237384-2.png --> done\n",
      "3.198784828186035\n"
     ]
    },
    {
     "name": "stderr",
     "output_type": "stream",
     "text": [
      "\r",
      " 69%|██████▉   | 883/1271 [1:13:12<22:35,  3.49s/it]"
     ]
    },
    {
     "name": "stdout",
     "output_type": "stream",
     "text": [
      "529360735-529360823-ArrivalNotice-S00012379-1.png --> done\n",
      "3.6564550399780273\n"
     ]
    },
    {
     "name": "stderr",
     "output_type": "stream",
     "text": [
      "\r",
      " 70%|██████▉   | 884/1271 [1:13:15<21:33,  3.34s/it]"
     ]
    },
    {
     "name": "stdout",
     "output_type": "stream",
     "text": [
      "529512198-529511937-x-scope_air-import-customs-instruction-request-1.png --> done\n",
      "2.9875922203063965\n"
     ]
    },
    {
     "name": "stderr",
     "output_type": "stream",
     "text": [
      "\r",
      " 70%|██████▉   | 885/1271 [1:13:23<31:07,  4.84s/it]"
     ]
    },
    {
     "name": "stdout",
     "output_type": "stream",
     "text": [
      "53133323-43485115-Scan2021-06-22_181919-7.png --> done\n",
      "8.32682728767395\n"
     ]
    },
    {
     "name": "stderr",
     "output_type": "stream",
     "text": [
      "\r",
      " 70%|██████▉   | 886/1271 [1:13:28<30:09,  4.70s/it]"
     ]
    },
    {
     "name": "stdout",
     "output_type": "stream",
     "text": [
      "53153794-53154043-ArrivalNotice-SLAXSI21146133-1.png --> done\n",
      "4.379190921783447\n"
     ]
    },
    {
     "name": "stderr",
     "output_type": "stream",
     "text": [
      "\r",
      " 70%|██████▉   | 887/1271 [1:13:32<29:29,  4.61s/it]"
     ]
    },
    {
     "name": "stdout",
     "output_type": "stream",
     "text": [
      "5321104-1405944824-BOLTELEX-1205565REGENCY-1.png --> done\n",
      "4.382579803466797\n"
     ]
    },
    {
     "name": "stderr",
     "output_type": "stream",
     "text": [
      "\r",
      " 70%|██████▉   | 888/1271 [1:13:37<29:34,  4.63s/it]"
     ]
    },
    {
     "name": "stdout",
     "output_type": "stream",
     "text": [
      "533047782-1060423160-ARRIVALNOTICEFREIGHTINVOICE-SZ21021219-1.png --> done\n",
      "4.694075584411621\n"
     ]
    },
    {
     "name": "stderr",
     "output_type": "stream",
     "text": [
      "\r",
      " 70%|██████▉   | 889/1271 [1:13:42<30:37,  4.81s/it]"
     ]
    },
    {
     "name": "stdout",
     "output_type": "stream",
     "text": [
      "534425082-1978568142-KX-I4E3-15-AN_NJBN1C116300-PDF-1.png --> done\n",
      "5.216588735580444\n"
     ]
    },
    {
     "name": "stderr",
     "output_type": "stream",
     "text": [
      "\r",
      " 70%|███████   | 890/1271 [1:13:49<34:57,  5.50s/it]"
     ]
    },
    {
     "name": "stdout",
     "output_type": "stream",
     "text": [
      "53524127-845920541-BillofLading213-1.png --> done\n",
      "7.123680830001831\n"
     ]
    },
    {
     "name": "stderr",
     "output_type": "stream",
     "text": [
      "\r",
      " 70%|███████   | 891/1271 [1:13:52<30:06,  4.76s/it]"
     ]
    },
    {
     "name": "stdout",
     "output_type": "stream",
     "text": [
      "53524127-845920541-BillofLading213-2.png --> done\n",
      "2.9971587657928467\n"
     ]
    },
    {
     "name": "stderr",
     "output_type": "stream",
     "text": [
      "\r",
      " 70%|███████   | 892/1271 [1:14:37<1:45:52, 16.76s/it]"
     ]
    },
    {
     "name": "stdout",
     "output_type": "stream",
     "text": [
      "536085143-536085027-AN_NB106504-1.png --> done\n",
      "44.77346086502075\n"
     ]
    },
    {
     "name": "stderr",
     "output_type": "stream",
     "text": [
      "\r",
      " 70%|███████   | 893/1271 [1:14:44<1:27:33, 13.90s/it]"
     ]
    },
    {
     "name": "stdout",
     "output_type": "stream",
     "text": [
      "53732862-53732701-HB218-1.png --> done\n",
      "7.222697019577026\n"
     ]
    },
    {
     "name": "stderr",
     "output_type": "stream",
     "text": [
      "\r",
      " 70%|███████   | 894/1271 [1:14:48<1:08:32, 10.91s/it]"
     ]
    },
    {
     "name": "stdout",
     "output_type": "stream",
     "text": [
      "542761427-542761556-19728560-1.png --> done\n",
      "3.9267075061798096\n"
     ]
    },
    {
     "name": "stderr",
     "output_type": "stream",
     "text": [
      "\r",
      " 70%|███████   | 895/1271 [1:15:29<2:04:39, 19.89s/it]"
     ]
    },
    {
     "name": "stdout",
     "output_type": "stream",
     "text": [
      "543389867-543389898-KX-U2D1-2-SodaPDF-converted-810124558_H2-SADH_GMKM-1.png --> done\n",
      "40.85788130760193\n"
     ]
    },
    {
     "name": "stderr",
     "output_type": "stream",
     "text": [
      "\r",
      " 70%|███████   | 896/1271 [1:15:36<1:40:51, 16.14s/it]"
     ]
    },
    {
     "name": "stdout",
     "output_type": "stream",
     "text": [
      "54989021-54989120-ONEYNB1BJ3460400HBL-1.png --> done\n",
      "7.371663808822632\n"
     ]
    },
    {
     "name": "stderr",
     "output_type": "stream",
     "text": [
      "\r",
      " 71%|███████   | 897/1271 [1:15:42<1:21:41, 13.11s/it]"
     ]
    },
    {
     "name": "stdout",
     "output_type": "stream",
     "text": [
      "54989021-54989123-ASHLEY_20210604162806_OIDV21E029_DEVEX21041222_OIH_AN-1.png --> done\n",
      "6.028511047363281\n"
     ]
    },
    {
     "name": "stderr",
     "output_type": "stream",
     "text": [
      "\r",
      " 71%|███████   | 898/1271 [1:15:52<1:14:41, 12.02s/it]"
     ]
    },
    {
     "name": "stdout",
     "output_type": "stream",
     "text": [
      "552410829-731352446-DOC-1.png --> done\n",
      "9.468422889709473\n"
     ]
    },
    {
     "name": "stderr",
     "output_type": "stream",
     "text": [
      "\r",
      " 71%|███████   | 899/1271 [1:15:56<59:33,  9.61s/it]  "
     ]
    },
    {
     "name": "stdout",
     "output_type": "stream",
     "text": [
      "555163274-555162062-ARRNOTHTML20210223123852-1.png --> done\n",
      "3.9868576526641846\n"
     ]
    },
    {
     "name": "stderr",
     "output_type": "stream",
     "text": [
      "\r",
      " 71%|███████   | 900/1271 [1:16:01<50:55,  8.24s/it]"
     ]
    },
    {
     "name": "stdout",
     "output_type": "stream",
     "text": [
      "55874855-1139210532-Scan19Mar2021at10_59-2.png --> done\n",
      "5.035080194473267\n"
     ]
    },
    {
     "name": "stderr",
     "output_type": "stream",
     "text": [
      "\r",
      " 71%|███████   | 901/1271 [1:16:06<44:37,  7.24s/it]"
     ]
    },
    {
     "name": "stdout",
     "output_type": "stream",
     "text": [
      "55874855-1139210532-Scan19Mar2021at10_59-3.png --> done\n",
      "4.903672218322754\n"
     ]
    },
    {
     "name": "stderr",
     "output_type": "stream",
     "text": [
      "\r",
      " 71%|███████   | 902/1271 [1:16:13<43:40,  7.10s/it]"
     ]
    },
    {
     "name": "stdout",
     "output_type": "stream",
     "text": [
      "56078175-56077869-202104230056-1.png --> done\n",
      "6.784119129180908\n"
     ]
    },
    {
     "name": "stderr",
     "output_type": "stream",
     "text": [
      "\r",
      " 71%|███████   | 903/1271 [1:16:17<38:46,  6.32s/it]"
     ]
    },
    {
     "name": "stdout",
     "output_type": "stream",
     "text": [
      "56078175-56077869-202104230056-2.png --> done\n",
      "4.508186340332031\n"
     ]
    },
    {
     "name": "stderr",
     "output_type": "stream",
     "text": [
      "\r",
      " 71%|███████   | 904/1271 [1:16:20<32:54,  5.38s/it]"
     ]
    },
    {
     "name": "stdout",
     "output_type": "stream",
     "text": [
      "56078175-56077874-1845012-1.png --> done\n",
      "3.178586006164551\n"
     ]
    },
    {
     "name": "stderr",
     "output_type": "stream",
     "text": [
      "\r",
      " 71%|███████   | 905/1271 [1:16:30<41:35,  6.82s/it]"
     ]
    },
    {
     "name": "stdout",
     "output_type": "stream",
     "text": [
      "56200298-652469467-MSE21010052MAXWIDENew-1.png --> done\n",
      "10.178424596786499\n"
     ]
    },
    {
     "name": "stderr",
     "output_type": "stream",
     "text": [
      "\r",
      " 71%|███████▏  | 906/1271 [1:16:39<44:41,  7.35s/it]"
     ]
    },
    {
     "name": "stdout",
     "output_type": "stream",
     "text": [
      "562294615-1785402601-Scan2021-05-03_201059-1.png --> done\n",
      "8.579247236251831\n"
     ]
    },
    {
     "name": "stderr",
     "output_type": "stream",
     "text": [
      "\r",
      " 71%|███████▏  | 907/1271 [1:16:43<37:45,  6.22s/it]"
     ]
    },
    {
     "name": "stdout",
     "output_type": "stream",
     "text": [
      "5633337-1242119538-KX-W2H6-6120-DocSetPO33951-PDF-5.png --> done\n",
      "3.600893020629883\n"
     ]
    },
    {
     "name": "stderr",
     "output_type": "stream",
     "text": [
      "\r",
      " 71%|███████▏  | 908/1271 [1:16:50<39:37,  6.55s/it]"
     ]
    },
    {
     "name": "stdout",
     "output_type": "stream",
     "text": [
      "56337323-590665138-KX-Z5D4-4-HLCK40345telex-1.png --> done\n",
      "7.312726020812988\n"
     ]
    },
    {
     "name": "stderr",
     "output_type": "stream",
     "text": [
      "\r",
      " 72%|███████▏  | 909/1271 [1:16:59<44:41,  7.41s/it]"
     ]
    },
    {
     "name": "stdout",
     "output_type": "stream",
     "text": [
      "56452-56324-STALLIONOPRDMUMNYC00001-1.png --> done\n",
      "9.403989791870117\n"
     ]
    },
    {
     "name": "stderr",
     "output_type": "stream",
     "text": [
      "\r",
      " 72%|███████▏  | 910/1271 [1:17:04<39:46,  6.61s/it]"
     ]
    },
    {
     "name": "stdout",
     "output_type": "stream",
     "text": [
      "56623867-1726382008-21007145-1.png --> done\n",
      "4.7550389766693115\n"
     ]
    },
    {
     "name": "stderr",
     "output_type": "stream",
     "text": [
      "\r",
      " 72%|███████▏  | 911/1271 [1:17:07<33:04,  5.51s/it]"
     ]
    },
    {
     "name": "stdout",
     "output_type": "stream",
     "text": [
      "56654492-56638021-56654492-56654663-CASJSE2105X185HBLCOPY2021-05-19-XLS-1.png --> done\n",
      "2.950063467025757\n"
     ]
    },
    {
     "name": "stderr",
     "output_type": "stream",
     "text": [
      "\r",
      " 72%|███████▏  | 912/1271 [1:17:14<34:39,  5.79s/it]"
     ]
    },
    {
     "name": "stdout",
     "output_type": "stream",
     "text": [
      "56707097-2037722426-118686COPYOFBL-1.png --> done\n",
      "6.439571857452393\n"
     ]
    },
    {
     "name": "stderr",
     "output_type": "stream",
     "text": [
      "\r",
      " 72%|███████▏  | 913/1271 [1:17:16<29:29,  4.94s/it]"
     ]
    },
    {
     "name": "stdout",
     "output_type": "stream",
     "text": [
      "56776715-1732358103-comminv21012021-1.png --> done\n",
      "2.957345724105835\n"
     ]
    },
    {
     "name": "stderr",
     "output_type": "stream",
     "text": [
      "\r",
      " 72%|███████▏  | 914/1271 [1:17:20<27:04,  4.55s/it]"
     ]
    },
    {
     "name": "stdout",
     "output_type": "stream",
     "text": [
      "567796721-628645734-COPYDOCS-E7422-1.png --> done\n",
      "3.6388497352600098\n"
     ]
    },
    {
     "name": "stderr",
     "output_type": "stream",
     "text": [
      "\r",
      " 72%|███████▏  | 915/1271 [1:17:25<26:55,  4.54s/it]"
     ]
    },
    {
     "name": "stdout",
     "output_type": "stream",
     "text": [
      "567796721-628645734-COPYDOCS-E7422-3.png --> done\n",
      "4.50872278213501\n"
     ]
    },
    {
     "name": "stderr",
     "output_type": "stream",
     "text": [
      "\r",
      " 72%|███████▏  | 916/1271 [1:17:27<22:42,  3.84s/it]"
     ]
    },
    {
     "name": "stdout",
     "output_type": "stream",
     "text": [
      "567796721-628764146-XLSX-LOG8448RenukaNY-1.png --> done\n",
      "2.199923515319824\n"
     ]
    },
    {
     "name": "stderr",
     "output_type": "stream",
     "text": [
      "\r",
      " 72%|███████▏  | 917/1271 [1:17:34<28:55,  4.90s/it]"
     ]
    },
    {
     "name": "stdout",
     "output_type": "stream",
     "text": [
      "56974248-56974039-Scan2021-04-15_082229-1.png --> done\n",
      "7.382911920547485\n"
     ]
    },
    {
     "name": "stderr",
     "output_type": "stream",
     "text": [
      "\r",
      " 72%|███████▏  | 918/1271 [1:17:40<30:00,  5.10s/it]"
     ]
    },
    {
     "name": "stdout",
     "output_type": "stream",
     "text": [
      "56974248-56974039-Scan2021-04-15_082229-6.png --> done\n",
      "5.552907466888428\n"
     ]
    },
    {
     "name": "stderr",
     "output_type": "stream",
     "text": [
      "\r",
      " 72%|███████▏  | 919/1271 [1:17:44<28:16,  4.82s/it]"
     ]
    },
    {
     "name": "stdout",
     "output_type": "stream",
     "text": [
      "570988598-570988732-ArrivalNotice-SASI21040653-1.png --> done\n",
      "4.159782409667969\n"
     ]
    },
    {
     "name": "stderr",
     "output_type": "stream",
     "text": [
      "\r",
      " 72%|███████▏  | 920/1271 [1:17:51<32:39,  5.58s/it]"
     ]
    },
    {
     "name": "stdout",
     "output_type": "stream",
     "text": [
      "571197236-713457985-KX-A5H9-277-Scan2021-05-14_103126-1.png --> done\n",
      "7.359092712402344\n"
     ]
    },
    {
     "name": "stderr",
     "output_type": "stream",
     "text": [
      "\r",
      " 72%|███████▏  | 921/1271 [1:17:55<29:30,  5.06s/it]"
     ]
    },
    {
     "name": "stdout",
     "output_type": "stream",
     "text": [
      "57313681-57314907-KX-W2H6-5072-ArrivalNotice-S01815252-1.png --> done\n",
      "3.835768461227417\n"
     ]
    },
    {
     "name": "stderr",
     "output_type": "stream",
     "text": [
      "\r",
      " 73%|███████▎  | 922/1271 [1:18:00<28:49,  4.96s/it]"
     ]
    },
    {
     "name": "stdout",
     "output_type": "stream",
     "text": [
      "5737575-1838926071-KX-E9G9-8-ONEYOPOB00246700_draft_20210129003029-1.png --> done\n",
      "4.71828818321228\n"
     ]
    },
    {
     "name": "stderr",
     "output_type": "stream",
     "text": [
      "\r",
      " 73%|███████▎  | 923/1271 [1:18:01<22:52,  3.95s/it]"
     ]
    },
    {
     "name": "stdout",
     "output_type": "stream",
     "text": [
      "5737575-1838926071-KX-E9G9-8-ONEYOPOB00246700_draft_20210129003029-2.png --> done\n",
      "1.5848677158355713\n"
     ]
    },
    {
     "name": "stderr",
     "output_type": "stream",
     "text": [
      "\r",
      " 73%|███████▎  | 924/1271 [1:18:05<21:41,  3.75s/it]"
     ]
    },
    {
     "name": "stdout",
     "output_type": "stream",
     "text": [
      "576769171-974699654-Arrival_Notice_-_SDFWAI2100607787-1.png --> done\n",
      "3.298348903656006\n"
     ]
    },
    {
     "name": "stderr",
     "output_type": "stream",
     "text": [
      "\r",
      " 73%|███████▎  | 925/1271 [1:18:09<22:50,  3.96s/it]"
     ]
    },
    {
     "name": "stdout",
     "output_type": "stream",
     "text": [
      "577758353-577758547-KX-O3A5-358-SEAArrivalNoticeDCWPSI21-22_007410Jun20210318PM-1.png --> done\n",
      "4.450288534164429\n"
     ]
    },
    {
     "name": "stderr",
     "output_type": "stream",
     "text": [
      "\r",
      " 73%|███████▎  | 926/1271 [1:18:12<21:26,  3.73s/it]"
     ]
    },
    {
     "name": "stdout",
     "output_type": "stream",
     "text": [
      "578789734-578793387-ARDEL-10545253-1.png --> done\n",
      "3.1888701915740967\n"
     ]
    },
    {
     "name": "stderr",
     "output_type": "stream",
     "text": [
      "\r",
      " 73%|███████▎  | 927/1271 [1:18:18<25:13,  4.40s/it]"
     ]
    },
    {
     "name": "stdout",
     "output_type": "stream",
     "text": [
      "579177465-485890433-ARRIVALNOTICE-FREIGHTBILL-1.png --> done\n",
      "5.964456558227539\n"
     ]
    },
    {
     "name": "stderr",
     "output_type": "stream",
     "text": [
      "\r",
      " 73%|███████▎  | 928/1271 [1:18:26<30:41,  5.37s/it]"
     ]
    },
    {
     "name": "stdout",
     "output_type": "stream",
     "text": [
      "57964514-57964374-bookingnote_USA_No_Stamp3-1.png --> done\n",
      "7.621410608291626\n"
     ]
    },
    {
     "name": "stderr",
     "output_type": "stream",
     "text": [
      "\r",
      " 73%|███████▎  | 929/1271 [1:18:33<33:28,  5.87s/it]"
     ]
    },
    {
     "name": "stdout",
     "output_type": "stream",
     "text": [
      "580159090-1962827930-Scan2021-03-24_1205361-1.png --> done\n",
      "7.049170017242432\n"
     ]
    },
    {
     "name": "stderr",
     "output_type": "stream",
     "text": [
      "\r",
      " 73%|███████▎  | 930/1271 [1:18:37<30:34,  5.38s/it]"
     ]
    },
    {
     "name": "stdout",
     "output_type": "stream",
     "text": [
      "58332266-58332646-r_oih_4210_arrival_notice_no_bill_fclSZX1D003918-1.png --> done\n",
      "4.226087331771851\n"
     ]
    },
    {
     "name": "stderr",
     "output_type": "stream",
     "text": [
      "\r",
      " 73%|███████▎  | 931/1271 [1:18:41<28:29,  5.03s/it]"
     ]
    },
    {
     "name": "stdout",
     "output_type": "stream",
     "text": [
      "5863589-1585765480-ArrivalNotice-SLAXSI21145117-1.png --> done\n",
      "4.2092320919036865\n"
     ]
    },
    {
     "name": "stderr",
     "output_type": "stream",
     "text": [
      "\r",
      " 73%|███████▎  | 932/1271 [1:18:46<27:41,  4.90s/it]"
     ]
    },
    {
     "name": "stdout",
     "output_type": "stream",
     "text": [
      "588023115-430688231-3868170NonRatedPreAdvice-1.png --> done\n",
      "4.601150274276733\n"
     ]
    },
    {
     "name": "stderr",
     "output_type": "stream",
     "text": [
      "\r",
      " 73%|███████▎  | 933/1271 [1:18:52<29:41,  5.27s/it]"
     ]
    },
    {
     "name": "stdout",
     "output_type": "stream",
     "text": [
      "5885212-1281772396-KX-W2H6-5882-DocSetPO33420-PDF-4.png --> done\n",
      "6.131846904754639\n"
     ]
    },
    {
     "name": "stderr",
     "output_type": "stream",
     "text": [
      "\r",
      " 73%|███████▎  | 934/1271 [1:18:57<28:15,  5.03s/it]"
     ]
    },
    {
     "name": "stdout",
     "output_type": "stream",
     "text": [
      "589782234-589782349-BL6300859820-6.png --> done\n",
      "4.474064350128174\n"
     ]
    },
    {
     "name": "stderr",
     "output_type": "stream",
     "text": [
      "\r",
      " 74%|███████▎  | 935/1271 [1:19:04<32:47,  5.86s/it]"
     ]
    },
    {
     "name": "stdout",
     "output_type": "stream",
     "text": [
      "59043962-59044447-KX-H1H3-20-9224_Draft_BL_ZIMUGOA1041692-PDF-1.png --> done\n",
      "7.7753942012786865\n"
     ]
    },
    {
     "name": "stderr",
     "output_type": "stream",
     "text": [
      "\r",
      " 74%|███████▎  | 936/1271 [1:19:07<26:35,  4.76s/it]"
     ]
    },
    {
     "name": "stdout",
     "output_type": "stream",
     "text": [
      "59043962-59044447-KX-H1H3-20-9224_Draft_BL_ZIMUGOA1041692-PDF-2.png --> done\n",
      "2.213404893875122\n"
     ]
    },
    {
     "name": "stderr",
     "output_type": "stream",
     "text": [
      "\r",
      " 74%|███████▎  | 937/1271 [1:19:12<28:08,  5.06s/it]"
     ]
    },
    {
     "name": "stdout",
     "output_type": "stream",
     "text": [
      "59043962-59044843-KX-H1H3-20-9224_INVOICEE1065-PDF-1.png --> done\n",
      "5.738069534301758\n"
     ]
    },
    {
     "name": "stderr",
     "output_type": "stream",
     "text": [
      "\r",
      " 74%|███████▍  | 938/1271 [1:19:17<26:50,  4.84s/it]"
     ]
    },
    {
     "name": "stdout",
     "output_type": "stream",
     "text": [
      "590679772-1233399521-KX-H1H3-11-QFE_27_E_ZIMUGOA1041493_141_gssabhilas_0804_214651_req_1-PDF-1.png --> done\n",
      "4.323329925537109\n"
     ]
    },
    {
     "name": "stderr",
     "output_type": "stream",
     "text": [
      "\r",
      " 74%|███████▍  | 939/1271 [1:19:21<25:22,  4.59s/it]"
     ]
    },
    {
     "name": "stdout",
     "output_type": "stream",
     "text": [
      "59077809-59078421-AuthorityToMakeEntry-SBKK005192-1.png --> done\n",
      "4.004336833953857\n"
     ]
    },
    {
     "name": "stderr",
     "output_type": "stream",
     "text": [
      "\r",
      " 74%|███████▍  | 940/1271 [1:19:31<34:46,  6.31s/it]"
     ]
    },
    {
     "name": "stdout",
     "output_type": "stream",
     "text": [
      "59077809-59078424-Scan2021-01-06_110227-14.png --> done\n",
      "10.307825326919556\n"
     ]
    },
    {
     "name": "stderr",
     "output_type": "stream",
     "text": [
      "\r",
      " 74%|███████▍  | 941/1271 [1:19:35<30:16,  5.51s/it]"
     ]
    },
    {
     "name": "stdout",
     "output_type": "stream",
     "text": [
      "591601502-591601442-63Z8124336-1.png --> done\n",
      "3.638594388961792\n"
     ]
    },
    {
     "name": "stderr",
     "output_type": "stream",
     "text": [
      "\r",
      " 74%|███████▍  | 942/1271 [1:19:45<38:07,  6.95s/it]"
     ]
    },
    {
     "name": "stdout",
     "output_type": "stream",
     "text": [
      "597967066-597967754-Scan2021-03-01_172720-1.png --> done\n",
      "10.335847616195679\n"
     ]
    },
    {
     "name": "stderr",
     "output_type": "stream",
     "text": [
      "\r",
      " 74%|███████▍  | 943/1271 [1:19:52<38:26,  7.03s/it]"
     ]
    },
    {
     "name": "stdout",
     "output_type": "stream",
     "text": [
      "59874265-59873280-59874265-CMRDavilina.png --> done\n",
      "7.210407495498657\n"
     ]
    },
    {
     "name": "stderr",
     "output_type": "stream",
     "text": [
      "\r",
      " 74%|███████▍  | 944/1271 [1:19:56<33:14,  6.10s/it]"
     ]
    },
    {
     "name": "stdout",
     "output_type": "stream",
     "text": [
      "59898891-59899127-Untitled_04092021_065451-1.png --> done\n",
      "3.927854061126709\n"
     ]
    },
    {
     "name": "stderr",
     "output_type": "stream",
     "text": [
      "\r",
      " 74%|███████▍  | 945/1271 [1:19:59<28:12,  5.19s/it]"
     ]
    },
    {
     "name": "stdout",
     "output_type": "stream",
     "text": [
      "59898891-59899127-Untitled_04092021_065451-2.png --> done\n",
      "3.0627052783966064\n"
     ]
    },
    {
     "name": "stderr",
     "output_type": "stream",
     "text": [
      "\r",
      " 74%|███████▍  | 946/1271 [1:20:04<26:43,  4.93s/it]"
     ]
    },
    {
     "name": "stdout",
     "output_type": "stream",
     "text": [
      "59918073-59916414-KX-H1H3-27-InvoceRLG132GlobalOrganics-PDF-1.png --> done\n",
      "4.323433876037598\n"
     ]
    },
    {
     "name": "stderr",
     "output_type": "stream",
     "text": [
      "\r",
      " 75%|███████▍  | 947/1271 [1:20:09<27:25,  5.08s/it]"
     ]
    },
    {
     "name": "stdout",
     "output_type": "stream",
     "text": [
      "59918073-59916547-KX-H1H3-27-MEDUGY206872ROLDEG1-PDF-1.png --> done\n",
      "5.419372797012329\n"
     ]
    },
    {
     "name": "stderr",
     "output_type": "stream",
     "text": [
      "\r",
      " 75%|███████▍  | 948/1271 [1:20:15<28:34,  5.31s/it]"
     ]
    },
    {
     "name": "stdout",
     "output_type": "stream",
     "text": [
      "599804693-359863093-KX-H1H3-11-INVOICE720-PDF-1.png --> done\n",
      "5.846149206161499\n"
     ]
    },
    {
     "name": "stderr",
     "output_type": "stream",
     "text": [
      "\r",
      " 75%|███████▍  | 949/1271 [1:20:19<25:57,  4.84s/it]"
     ]
    },
    {
     "name": "stdout",
     "output_type": "stream",
     "text": [
      "59996539-59996375-210414152758_0001-1.png --> done\n",
      "3.7290804386138916\n"
     ]
    },
    {
     "name": "stderr",
     "output_type": "stream",
     "text": [
      "\r",
      " 75%|███████▍  | 950/1271 [1:20:22<23:59,  4.48s/it]"
     ]
    },
    {
     "name": "stdout",
     "output_type": "stream",
     "text": [
      "600170743-600170746-ARRIVAL_NOTICE___FREIGHT_INVOICE_YHHL21010039-1.png --> done\n",
      "3.6659772396087646\n"
     ]
    },
    {
     "name": "stderr",
     "output_type": "stream",
     "text": [
      "\r",
      " 75%|███████▍  | 951/1271 [1:20:28<25:25,  4.77s/it]"
     ]
    },
    {
     "name": "stdout",
     "output_type": "stream",
     "text": [
      "60225694-60227320-Scan2021-06-04_201822-1.png --> done\n",
      "5.421762704849243\n"
     ]
    },
    {
     "name": "stderr",
     "output_type": "stream",
     "text": [
      "\r",
      " 75%|███████▍  | 952/1271 [1:20:38<33:55,  6.38s/it]"
     ]
    },
    {
     "name": "stdout",
     "output_type": "stream",
     "text": [
      "60225694-60227320-Scan2021-06-04_201822-7.png --> done\n",
      "10.147736072540283\n"
     ]
    },
    {
     "name": "stderr",
     "output_type": "stream",
     "text": [
      "\r",
      " 75%|███████▍  | 953/1271 [1:20:42<30:17,  5.71s/it]"
     ]
    },
    {
     "name": "stdout",
     "output_type": "stream",
     "text": [
      "604412385-1286249132-CIFinvoice-1.png --> done\n",
      "4.159227609634399\n"
     ]
    },
    {
     "name": "stderr",
     "output_type": "stream",
     "text": [
      "\r",
      " 75%|███████▌  | 954/1271 [1:20:48<31:11,  5.90s/it]"
     ]
    },
    {
     "name": "stdout",
     "output_type": "stream",
     "text": [
      "60651588-60652473-Scan2021-04-15_083156-1.png --> done\n",
      "6.348460912704468\n"
     ]
    },
    {
     "name": "stderr",
     "output_type": "stream",
     "text": [
      "\r",
      " 75%|███████▌  | 955/1271 [1:20:54<30:09,  5.73s/it]"
     ]
    },
    {
     "name": "stdout",
     "output_type": "stream",
     "text": [
      "60651588-60652473-Scan2021-04-15_083156-5.png --> done\n",
      "5.311924695968628\n"
     ]
    },
    {
     "name": "stderr",
     "output_type": "stream",
     "text": [
      "\r",
      " 75%|███████▌  | 956/1271 [1:21:00<31:24,  5.98s/it]"
     ]
    },
    {
     "name": "stdout",
     "output_type": "stream",
     "text": [
      "60921381-60921400-KX-W2H6-5674-DocSetPO33177-4.png --> done\n",
      "6.564775228500366\n"
     ]
    },
    {
     "name": "stderr",
     "output_type": "stream",
     "text": [
      "\r",
      " 75%|███████▌  | 957/1271 [1:21:13<41:48,  7.99s/it]"
     ]
    },
    {
     "name": "stdout",
     "output_type": "stream",
     "text": [
      "60959930-60960197-BL-1.png --> done\n",
      "12.677310943603516\n"
     ]
    },
    {
     "name": "stderr",
     "output_type": "stream",
     "text": [
      "\r",
      " 75%|███████▌  | 958/1271 [1:21:18<37:25,  7.17s/it]"
     ]
    },
    {
     "name": "stdout",
     "output_type": "stream",
     "text": [
      "6109180-401186430-AN-1.png --> done\n",
      "5.272157192230225\n"
     ]
    },
    {
     "name": "stderr",
     "output_type": "stream",
     "text": [
      "\r",
      " 75%|███████▌  | 959/1271 [1:21:24<34:57,  6.72s/it]"
     ]
    },
    {
     "name": "stdout",
     "output_type": "stream",
     "text": [
      "61664047-61663592-SKM_C284e21041211070invoice-1.png --> done\n",
      "5.672682285308838\n"
     ]
    },
    {
     "name": "stderr",
     "output_type": "stream",
     "text": [
      "\r",
      " 76%|███████▌  | 960/1271 [1:21:28<31:02,  5.99s/it]"
     ]
    },
    {
     "name": "stdout",
     "output_type": "stream",
     "text": [
      "617375387-1131823756-20220510131132343-3.png --> done\n",
      "4.2763097286224365\n"
     ]
    },
    {
     "name": "stderr",
     "output_type": "stream",
     "text": [
      "\r",
      " 76%|███████▌  | 961/1271 [1:21:32<28:20,  5.49s/it]"
     ]
    },
    {
     "name": "stdout",
     "output_type": "stream",
     "text": [
      "62114404-62114555-TSL-XMOE21040217HBL-1.png --> done\n",
      "4.310498952865601\n"
     ]
    },
    {
     "name": "stderr",
     "output_type": "stream",
     "text": [
      "\r",
      " 76%|███████▌  | 962/1271 [1:21:36<25:45,  5.00s/it]"
     ]
    },
    {
     "name": "stdout",
     "output_type": "stream",
     "text": [
      "62206595-62207029-202104296NY-1.png --> done\n",
      "3.87583065032959\n"
     ]
    },
    {
     "name": "stderr",
     "output_type": "stream",
     "text": [
      "\r",
      " 76%|███████▌  | 963/1271 [1:21:44<29:09,  5.68s/it]"
     ]
    },
    {
     "name": "stdout",
     "output_type": "stream",
     "text": [
      "626813039-626813411-Scan2021-02-11_144135-1.png --> done\n",
      "7.2598042488098145\n"
     ]
    },
    {
     "name": "stderr",
     "output_type": "stream",
     "text": [
      "\r",
      " 76%|███████▌  | 964/1271 [1:21:49<29:22,  5.74s/it]"
     ]
    },
    {
     "name": "stdout",
     "output_type": "stream",
     "text": [
      "629440710-2130010950-6504327261usa-4.png --> done\n",
      "5.882835626602173\n"
     ]
    },
    {
     "name": "stderr",
     "output_type": "stream",
     "text": [
      "\r",
      " 76%|███████▌  | 965/1271 [1:21:53<25:28,  4.99s/it]"
     ]
    },
    {
     "name": "stdout",
     "output_type": "stream",
     "text": [
      "631216042-433961583-0804_001-1.png --> done\n",
      "3.250689744949341\n"
     ]
    },
    {
     "name": "stderr",
     "output_type": "stream",
     "text": [
      "\r",
      " 76%|███████▌  | 966/1271 [1:21:56<22:10,  4.36s/it]"
     ]
    },
    {
     "name": "stdout",
     "output_type": "stream",
     "text": [
      "63157643-63157582-KX-M8C1-2-CorgianArricalNotice-1.png --> done\n",
      "2.892686605453491\n"
     ]
    },
    {
     "name": "stderr",
     "output_type": "stream",
     "text": [
      "\r",
      " 76%|███████▌  | 967/1271 [1:21:59<20:45,  4.10s/it]"
     ]
    },
    {
     "name": "stdout",
     "output_type": "stream",
     "text": [
      "636189098-636189004-NoticeofArrivalOPDR21CFH00037677500235_960_34_0-1.png --> done\n",
      "3.4701504707336426\n"
     ]
    },
    {
     "name": "stderr",
     "output_type": "stream",
     "text": [
      "\r",
      " 76%|███████▌  | 968/1271 [1:22:03<20:18,  4.02s/it]"
     ]
    },
    {
     "name": "stdout",
     "output_type": "stream",
     "text": [
      "63843329-289977514-KX-S6H3-160-20210508171950731-1.png --> done\n",
      "3.851679801940918\n"
     ]
    },
    {
     "name": "stderr",
     "output_type": "stream",
     "text": [
      "\r",
      " 76%|███████▌  | 969/1271 [1:22:08<22:24,  4.45s/it]"
     ]
    },
    {
     "name": "stdout",
     "output_type": "stream",
     "text": [
      "63885900-63886114-BLMNLGB2106622WITHAMSINFO-1.png --> done\n",
      "5.4530463218688965\n"
     ]
    },
    {
     "name": "stderr",
     "output_type": "stream",
     "text": [
      "\r",
      " 76%|███████▋  | 970/1271 [1:22:10<17:52,  3.56s/it]"
     ]
    },
    {
     "name": "stdout",
     "output_type": "stream",
     "text": [
      "6403355-6403433-KX-R9E2-41-339570569-2.png --> done\n",
      "1.492570400238037\n"
     ]
    },
    {
     "name": "stderr",
     "output_type": "stream",
     "text": [
      "\r",
      " 76%|███████▋  | 971/1271 [1:22:19<26:27,  5.29s/it]"
     ]
    },
    {
     "name": "stdout",
     "output_type": "stream",
     "text": [
      "642145653-326825975-Scan2021-05-06_092348-1.png --> done\n",
      "9.319755792617798\n"
     ]
    },
    {
     "name": "stderr",
     "output_type": "stream",
     "text": [
      "\r",
      " 76%|███████▋  | 972/1271 [1:22:24<25:54,  5.20s/it]"
     ]
    },
    {
     "name": "stdout",
     "output_type": "stream",
     "text": [
      "642827384-642827248-ARRIVALNOTICE-CHARGEABLEITEMSHBLRFB2102026MBLMEDUCR302471-1.png --> done\n",
      "4.97886848449707\n"
     ]
    },
    {
     "name": "stderr",
     "output_type": "stream",
     "text": [
      "\r",
      " 77%|███████▋  | 973/1271 [1:22:28<24:01,  4.84s/it]"
     ]
    },
    {
     "name": "stdout",
     "output_type": "stream",
     "text": [
      "643474844-2050745161-BONAdocuments15thJune-2.png --> done\n",
      "3.989593267440796\n"
     ]
    },
    {
     "name": "stderr",
     "output_type": "stream",
     "text": [
      "\r",
      " 77%|███████▋  | 974/1271 [1:22:32<22:29,  4.54s/it]"
     ]
    },
    {
     "name": "stdout",
     "output_type": "stream",
     "text": [
      "643474844-955962699-Alexinvoice15thJune-1.png --> done\n",
      "3.8613460063934326\n"
     ]
    },
    {
     "name": "stderr",
     "output_type": "stream",
     "text": [
      "\r",
      " 77%|███████▋  | 975/1271 [1:22:40<27:43,  5.62s/it]"
     ]
    },
    {
     "name": "stdout",
     "output_type": "stream",
     "text": [
      "64439193-64438874-Scan2021-05-21_190326-1.png --> done\n",
      "8.124743223190308\n"
     ]
    },
    {
     "name": "stderr",
     "output_type": "stream",
     "text": [
      "\r",
      " 77%|███████▋  | 976/1271 [1:22:49<31:54,  6.49s/it]"
     ]
    },
    {
     "name": "stdout",
     "output_type": "stream",
     "text": [
      "64439193-64438874-Scan2021-05-21_190326-2.png --> done\n",
      "8.521582841873169\n"
     ]
    },
    {
     "name": "stderr",
     "output_type": "stream",
     "text": [
      "\r",
      " 77%|███████▋  | 977/1271 [1:22:52<26:37,  5.43s/it]"
     ]
    },
    {
     "name": "stdout",
     "output_type": "stream",
     "text": [
      "645327877-645328734-SO241988-1.png --> done\n",
      "2.9709160327911377\n"
     ]
    },
    {
     "name": "stderr",
     "output_type": "stream",
     "text": [
      "\r",
      " 77%|███████▋  | 978/1271 [1:23:00<30:18,  6.21s/it]"
     ]
    },
    {
     "name": "stdout",
     "output_type": "stream",
     "text": [
      "647798318-647798060-Scan2021-01-13_152002-1.png --> done\n",
      "8.012939453125\n"
     ]
    },
    {
     "name": "stderr",
     "output_type": "stream",
     "text": [
      "\r",
      " 77%|███████▋  | 979/1271 [1:23:05<29:38,  6.09s/it]"
     ]
    },
    {
     "name": "stdout",
     "output_type": "stream",
     "text": [
      "652729-652741-KX-W2H6-4419-DocSetPO30888-4.png --> done\n",
      "5.816278696060181\n"
     ]
    },
    {
     "name": "stderr",
     "output_type": "stream",
     "text": [
      "\r",
      " 77%|███████▋  | 980/1271 [1:23:07<23:21,  4.82s/it]"
     ]
    },
    {
     "name": "stdout",
     "output_type": "stream",
     "text": [
      "652729-652741-KX-W2H6-4419-DocSetPO30888-5.png --> done\n",
      "1.8365557193756104\n"
     ]
    },
    {
     "name": "stderr",
     "output_type": "stream",
     "text": [
      "\r",
      " 77%|███████▋  | 981/1271 [1:23:14<26:37,  5.51s/it]"
     ]
    },
    {
     "name": "stdout",
     "output_type": "stream",
     "text": [
      "654680276-654680147-no-replyadlersteelcom_20210302_152710-1.png --> done\n",
      "7.125114679336548\n"
     ]
    },
    {
     "name": "stderr",
     "output_type": "stream",
     "text": [
      "\r",
      " 77%|███████▋  | 982/1271 [1:23:18<24:25,  5.07s/it]"
     ]
    },
    {
     "name": "stdout",
     "output_type": "stream",
     "text": [
      "654972790-1896022235-CFPL24-1.png --> done\n",
      "4.051150798797607\n"
     ]
    },
    {
     "name": "stderr",
     "output_type": "stream",
     "text": [
      "\r",
      " 77%|███████▋  | 983/1271 [1:23:22<21:46,  4.54s/it]"
     ]
    },
    {
     "name": "stdout",
     "output_type": "stream",
     "text": [
      "656982031-940736509-Scan2021-05-17_115945-1.png --> done\n",
      "3.279512405395508\n"
     ]
    },
    {
     "name": "stderr",
     "output_type": "stream",
     "text": [
      "\r",
      " 77%|███████▋  | 984/1271 [1:23:32<30:11,  6.31s/it]"
     ]
    },
    {
     "name": "stdout",
     "output_type": "stream",
     "text": [
      "665245072-1476697142-Doc_Exp_CLD_Ft327-1.png --> done\n",
      "10.448136806488037\n"
     ]
    },
    {
     "name": "stderr",
     "output_type": "stream",
     "text": [
      "\r",
      " 77%|███████▋  | 985/1271 [1:23:40<32:17,  6.77s/it]"
     ]
    },
    {
     "name": "stdout",
     "output_type": "stream",
     "text": [
      "66852492-1698951970-880140300217AN-1.png --> done\n",
      "7.855325222015381\n"
     ]
    },
    {
     "name": "stderr",
     "output_type": "stream",
     "text": [
      "\r",
      " 78%|███████▊  | 986/1271 [1:23:46<30:40,  6.46s/it]"
     ]
    },
    {
     "name": "stdout",
     "output_type": "stream",
     "text": [
      "66852492-659276414-JC2060281-3.png --> done\n",
      "5.720289945602417\n"
     ]
    },
    {
     "name": "stderr",
     "output_type": "stream",
     "text": [
      "\r",
      " 78%|███████▊  | 987/1271 [1:23:47<23:22,  4.94s/it]"
     ]
    },
    {
     "name": "stdout",
     "output_type": "stream",
     "text": [
      "66852492-659276414-JC2060281-4.png --> done\n",
      "1.3874311447143555\n"
     ]
    },
    {
     "name": "stderr",
     "output_type": "stream",
     "text": [
      "\r",
      " 78%|███████▊  | 988/1271 [1:23:53<24:08,  5.12s/it]"
     ]
    },
    {
     "name": "stdout",
     "output_type": "stream",
     "text": [
      "673144786-274493311-Scan2021-05-06_200011-1.png --> done\n",
      "5.543716192245483\n"
     ]
    },
    {
     "name": "stderr",
     "output_type": "stream",
     "text": [
      "\r",
      " 78%|███████▊  | 989/1271 [1:23:59<25:51,  5.50s/it]"
     ]
    },
    {
     "name": "stdout",
     "output_type": "stream",
     "text": [
      "673144786-274493311-Scan2021-05-06_200011-2.png --> done\n",
      "6.395985126495361\n"
     ]
    },
    {
     "name": "stderr",
     "output_type": "stream",
     "text": [
      "\r",
      " 78%|███████▊  | 990/1271 [1:24:05<25:58,  5.55s/it]"
     ]
    },
    {
     "name": "stdout",
     "output_type": "stream",
     "text": [
      "67521144-67521519-OBVNLGB21050HBL-1.png --> done\n",
      "5.648888349533081\n"
     ]
    },
    {
     "name": "stderr",
     "output_type": "stream",
     "text": [
      "\r",
      " 78%|███████▊  | 991/1271 [1:24:23<43:53,  9.41s/it]"
     ]
    },
    {
     "name": "stdout",
     "output_type": "stream",
     "text": [
      "6824847-6824139-SCANBL-WWWLCOKF21220004-1.png --> done\n",
      "18.412873029708862\n"
     ]
    },
    {
     "name": "stderr",
     "output_type": "stream",
     "text": [
      "\r",
      " 78%|███████▊  | 992/1271 [1:24:27<36:00,  7.74s/it]"
     ]
    },
    {
     "name": "stdout",
     "output_type": "stream",
     "text": [
      "683480714-683480932-JKTAC8429800-1.png --> done\n",
      "3.858975648880005\n"
     ]
    },
    {
     "name": "stderr",
     "output_type": "stream",
     "text": [
      "\r",
      " 78%|███████▊  | 993/1271 [1:24:31<31:16,  6.75s/it]"
     ]
    },
    {
     "name": "stdout",
     "output_type": "stream",
     "text": [
      "68727617-68726982-07J0632HBL-1.png --> done\n",
      "4.427440881729126\n"
     ]
    },
    {
     "name": "stderr",
     "output_type": "stream",
     "text": [
      "\r",
      " 78%|███████▊  | 994/1271 [1:24:36<27:35,  5.98s/it]"
     ]
    },
    {
     "name": "stdout",
     "output_type": "stream",
     "text": [
      "690133726-690134401-LCBA26865700-1.png --> done\n",
      "4.172282934188843\n"
     ]
    },
    {
     "name": "stderr",
     "output_type": "stream",
     "text": [
      "\r",
      " 78%|███████▊  | 995/1271 [1:24:42<28:14,  6.14s/it]"
     ]
    },
    {
     "name": "stdout",
     "output_type": "stream",
     "text": [
      "690358571-2030656172-gmulder_220411-084609-4c7-2.png --> done\n",
      "6.521209955215454\n"
     ]
    },
    {
     "name": "stderr",
     "output_type": "stream",
     "text": [
      "\r",
      " 78%|███████▊  | 996/1271 [1:24:51<31:14,  6.81s/it]"
     ]
    },
    {
     "name": "stdout",
     "output_type": "stream",
     "text": [
      "691670556-691670813-Scan2021-03-03_181056-1.png --> done\n",
      "8.390813112258911\n"
     ]
    },
    {
     "name": "stderr",
     "output_type": "stream",
     "text": [
      "\r",
      " 78%|███████▊  | 997/1271 [1:24:55<27:27,  6.01s/it]"
     ]
    },
    {
     "name": "stdout",
     "output_type": "stream",
     "text": [
      "6933519-931107451-BL2661602650-1.png --> done\n",
      "4.145474672317505\n"
     ]
    },
    {
     "name": "stderr",
     "output_type": "stream",
     "text": [
      "\r",
      " 79%|███████▊  | 998/1271 [1:25:00<25:54,  5.69s/it]"
     ]
    },
    {
     "name": "stdout",
     "output_type": "stream",
     "text": [
      "697139032-697138290-CMACGM_NoticeofArrival_CMACGMTJEFFERSON_0TUFWW1MA-AT210418110004_213407_000563-1.png --> done\n",
      "4.9493138790130615\n"
     ]
    },
    {
     "name": "stderr",
     "output_type": "stream",
     "text": [
      "\r",
      " 79%|███████▊  | 999/1271 [1:25:07<27:25,  6.05s/it]"
     ]
    },
    {
     "name": "stdout",
     "output_type": "stream",
     "text": [
      "698451034-698451267-Scan2021-02-08_192228-1.png --> done\n",
      "6.872512578964233\n"
     ]
    },
    {
     "name": "stderr",
     "output_type": "stream",
     "text": [
      "\r",
      " 79%|███████▊  | 1000/1271 [1:25:14<29:51,  6.61s/it]"
     ]
    },
    {
     "name": "stdout",
     "output_type": "stream",
     "text": [
      "700839938-700840413-Scan2021-02-08_185912-1.png --> done\n",
      "7.9249677658081055\n"
     ]
    },
    {
     "name": "stderr",
     "output_type": "stream",
     "text": [
      "\r",
      " 79%|███████▉  | 1001/1271 [1:25:21<30:12,  6.71s/it]"
     ]
    },
    {
     "name": "stdout",
     "output_type": "stream",
     "text": [
      "702960772-1329477116-EuropeanDrinksInvoice-1.png --> done\n",
      "6.944108247756958\n"
     ]
    },
    {
     "name": "stderr",
     "output_type": "stream",
     "text": [
      "\r",
      " 79%|███████▉  | 1002/1271 [1:25:32<34:44,  7.75s/it]"
     ]
    },
    {
     "name": "stdout",
     "output_type": "stream",
     "text": [
      "702960772-1329532718-CertinvestInvoice-1.png --> done\n",
      "10.158937931060791\n"
     ]
    },
    {
     "name": "stderr",
     "output_type": "stream",
     "text": [
      "\r",
      " 79%|███████▉  | 1003/1271 [1:25:36<30:15,  6.78s/it]"
     ]
    },
    {
     "name": "stdout",
     "output_type": "stream",
     "text": [
      "704996133-767283122-DB_aabgfafgbhff0x0EC0-3.png --> done\n",
      "4.506040811538696\n"
     ]
    },
    {
     "name": "stderr",
     "output_type": "stream",
     "text": [
      "\r",
      " 79%|███████▉  | 1004/1271 [1:25:42<28:30,  6.40s/it]"
     ]
    },
    {
     "name": "stdout",
     "output_type": "stream",
     "text": [
      "70612017-2145243463-L000000242188NA-5.png --> done\n",
      "5.536272287368774\n"
     ]
    },
    {
     "name": "stderr",
     "output_type": "stream",
     "text": [
      "\r",
      " 79%|███████▉  | 1005/1271 [1:25:47<26:34,  5.99s/it]"
     ]
    },
    {
     "name": "stdout",
     "output_type": "stream",
     "text": [
      "71123882-1173818999-ANTAngliadokumenty-1 - Copy.png --> done\n",
      "5.0371623039245605\n"
     ]
    },
    {
     "name": "stderr",
     "output_type": "stream",
     "text": [
      "\r",
      " 79%|███████▉  | 1006/1271 [1:25:51<24:25,  5.53s/it]"
     ]
    },
    {
     "name": "stdout",
     "output_type": "stream",
     "text": [
      "71123882-1173818999-ANTAngliadokumenty-1.png --> done\n",
      "4.444310426712036\n"
     ]
    },
    {
     "name": "stderr",
     "output_type": "stream",
     "text": [
      "\r",
      " 79%|███████▉  | 1007/1271 [1:25:53<19:35,  4.45s/it]"
     ]
    },
    {
     "name": "stdout",
     "output_type": "stream",
     "text": [
      "713019493-1616524126-davies-1.png --> done\n",
      "1.943957805633545\n"
     ]
    },
    {
     "name": "stderr",
     "output_type": "stream",
     "text": [
      "\r",
      " 79%|███████▉  | 1008/1271 [1:26:00<23:22,  5.33s/it]"
     ]
    },
    {
     "name": "stdout",
     "output_type": "stream",
     "text": [
      "722174828-154280948-Scan2021-05-03_174124-1.png --> done\n",
      "7.376760721206665\n"
     ]
    },
    {
     "name": "stderr",
     "output_type": "stream",
     "text": [
      "\r",
      " 79%|███████▉  | 1009/1271 [1:26:05<22:49,  5.23s/it]"
     ]
    },
    {
     "name": "stdout",
     "output_type": "stream",
     "text": [
      "722979489-1045156358-RSTRANSFER5374306APR22-13.png --> done\n",
      "4.988218307495117\n"
     ]
    },
    {
     "name": "stderr",
     "output_type": "stream",
     "text": [
      "\r",
      " 79%|███████▉  | 1010/1271 [1:26:11<23:29,  5.40s/it]"
     ]
    },
    {
     "name": "stdout",
     "output_type": "stream",
     "text": [
      "72986277-2106880716-HBLOKA210602034-1.png --> done\n",
      "5.807413578033447\n"
     ]
    },
    {
     "name": "stderr",
     "output_type": "stream",
     "text": [
      "\r",
      " 80%|███████▉  | 1011/1271 [1:26:19<25:54,  5.98s/it]"
     ]
    },
    {
     "name": "stdout",
     "output_type": "stream",
     "text": [
      "7340443-7340036-Scan2021-04-15_123254-1.png --> done\n",
      "7.329667806625366\n"
     ]
    },
    {
     "name": "stderr",
     "output_type": "stream",
     "text": [
      "\r",
      " 80%|███████▉  | 1012/1271 [1:26:28<30:02,  6.96s/it]"
     ]
    },
    {
     "name": "stdout",
     "output_type": "stream",
     "text": [
      "7340443-7340036-Scan2021-04-15_123254-7.png --> done\n",
      "9.238386154174805\n"
     ]
    },
    {
     "name": "stderr",
     "output_type": "stream",
     "text": [
      "\r",
      " 80%|███████▉  | 1013/1271 [1:26:33<27:38,  6.43s/it]"
     ]
    },
    {
     "name": "stdout",
     "output_type": "stream",
     "text": [
      "7375694-882004595-PAINANI530411MAR22-1.png --> done\n",
      "5.190840244293213\n"
     ]
    },
    {
     "name": "stderr",
     "output_type": "stream",
     "text": [
      "\r",
      " 80%|███████▉  | 1014/1271 [1:26:39<27:03,  6.32s/it]"
     ]
    },
    {
     "name": "stdout",
     "output_type": "stream",
     "text": [
      "7375694-882004595-PAINANI530411MAR22-5.png --> done\n",
      "6.057952642440796\n"
     ]
    },
    {
     "name": "stderr",
     "output_type": "stream",
     "text": [
      "\r",
      " 80%|███████▉  | 1015/1271 [1:26:44<24:47,  5.81s/it]"
     ]
    },
    {
     "name": "stdout",
     "output_type": "stream",
     "text": [
      "73928089-73927942-OIQ2495REVISEDAN4-1.png --> done\n",
      "4.630115509033203\n"
     ]
    },
    {
     "name": "stderr",
     "output_type": "stream",
     "text": [
      "\r",
      " 80%|███████▉  | 1016/1271 [1:26:48<23:13,  5.46s/it]"
     ]
    },
    {
     "name": "stdout",
     "output_type": "stream",
     "text": [
      "74153812-74153729-KX-Z9E2-1-2794AN1-1.png --> done\n",
      "4.653016090393066\n"
     ]
    },
    {
     "name": "stderr",
     "output_type": "stream",
     "text": [
      "\r",
      " 80%|████████  | 1017/1271 [1:26:53<21:45,  5.14s/it]"
     ]
    },
    {
     "name": "stdout",
     "output_type": "stream",
     "text": [
      "74254876-74254926-KX-R4E6-1-HBL_SKYSE21050113B-1.png --> done\n",
      "4.389249324798584\n"
     ]
    },
    {
     "name": "stderr",
     "output_type": "stream",
     "text": [
      "\r",
      " 80%|████████  | 1018/1271 [1:26:59<23:32,  5.58s/it]"
     ]
    },
    {
     "name": "stdout",
     "output_type": "stream",
     "text": [
      "74309948-1487634856-HBL_HKG21080519-1.png --> done\n",
      "6.609249830245972\n"
     ]
    },
    {
     "name": "stderr",
     "output_type": "stream",
     "text": [
      "\r",
      " 80%|████████  | 1019/1271 [1:27:06<25:13,  6.00s/it]"
     ]
    },
    {
     "name": "stdout",
     "output_type": "stream",
     "text": [
      "743746353-743746439-COSU6292666380_20210413091412-converted-1.png --> done\n",
      "6.983853816986084\n"
     ]
    },
    {
     "name": "stderr",
     "output_type": "stream",
     "text": [
      "\r",
      " 80%|████████  | 1020/1271 [1:27:09<21:30,  5.14s/it]"
     ]
    },
    {
     "name": "stdout",
     "output_type": "stream",
     "text": [
      "746211799-511796491-KX-C8B5-160-Docs-1.png --> done\n",
      "3.1252851486206055\n"
     ]
    },
    {
     "name": "stderr",
     "output_type": "stream",
     "text": [
      "\r",
      " 80%|████████  | 1021/1271 [1:27:16<22:49,  5.48s/it]"
     ]
    },
    {
     "name": "stdout",
     "output_type": "stream",
     "text": [
      "74916990-1170677332-LGB21080075-1.png --> done\n",
      "6.261359691619873\n"
     ]
    },
    {
     "name": "stderr",
     "output_type": "stream",
     "text": [
      "\r",
      " 80%|████████  | 1022/1271 [1:27:21<22:50,  5.50s/it]"
     ]
    },
    {
     "name": "stdout",
     "output_type": "stream",
     "text": [
      "75418296-419290038-FAC211340-1.png --> done\n",
      "5.566549062728882\n"
     ]
    },
    {
     "name": "stderr",
     "output_type": "stream",
     "text": [
      "\r",
      " 80%|████████  | 1023/1271 [1:27:25<20:25,  4.94s/it]"
     ]
    },
    {
     "name": "stdout",
     "output_type": "stream",
     "text": [
      "755097910-1944404171-ArrivalNotice-AMBER-1.png --> done\n",
      "3.6234443187713623\n"
     ]
    },
    {
     "name": "stderr",
     "output_type": "stream",
     "text": [
      "\r",
      " 81%|████████  | 1024/1271 [1:27:27<16:51,  4.10s/it]"
     ]
    },
    {
     "name": "stdout",
     "output_type": "stream",
     "text": [
      "7551398-7551273-BL-MSF2021-W-406-1.png --> done\n",
      "2.125077247619629\n"
     ]
    },
    {
     "name": "stderr",
     "output_type": "stream",
     "text": [
      "\r",
      " 81%|████████  | 1025/1271 [1:27:31<16:43,  4.08s/it]"
     ]
    },
    {
     "name": "stdout",
     "output_type": "stream",
     "text": [
      "7575786-2012565617-MRT-BOLSGN0151821-PO0000078666-2-SS-ETD25JUN2021-1.png --> done\n",
      "4.0445716381073\n"
     ]
    },
    {
     "name": "stderr",
     "output_type": "stream",
     "text": [
      "\r",
      " 81%|████████  | 1026/1271 [1:27:38<20:15,  4.96s/it]"
     ]
    },
    {
     "name": "stdout",
     "output_type": "stream",
     "text": [
      "758574959-1164900660-DIFPR03022051914460-4.png --> done\n",
      "7.014837741851807\n"
     ]
    },
    {
     "name": "stderr",
     "output_type": "stream",
     "text": [
      "\r",
      " 81%|████████  | 1027/1271 [1:27:42<19:15,  4.74s/it]"
     ]
    },
    {
     "name": "stdout",
     "output_type": "stream",
     "text": [
      "76168651-661780239-SCANBL-FMLUCOK21220021-2.png --> done\n",
      "4.207966566085815\n"
     ]
    },
    {
     "name": "stderr",
     "output_type": "stream",
     "text": [
      "\r",
      " 81%|████████  | 1028/1271 [1:27:48<20:26,  5.05s/it]"
     ]
    },
    {
     "name": "stdout",
     "output_type": "stream",
     "text": [
      "76343896-1392353689-150322ALPIDORINVOICECTL-1.png --> done\n",
      "5.775384187698364\n"
     ]
    },
    {
     "name": "stderr",
     "output_type": "stream",
     "text": [
      "\r",
      " 81%|████████  | 1029/1271 [1:27:52<19:35,  4.86s/it]"
     ]
    },
    {
     "name": "stdout",
     "output_type": "stream",
     "text": [
      "76566744-1148966447-20210119145605-1.png --> done\n",
      "4.4122233390808105\n"
     ]
    },
    {
     "name": "stderr",
     "output_type": "stream",
     "text": [
      "\r",
      " 81%|████████  | 1030/1271 [1:27:59<21:26,  5.34s/it]"
     ]
    },
    {
     "name": "stdout",
     "output_type": "stream",
     "text": [
      "772379623-817613368-IMG_20211118_00011-1.png --> done\n",
      "6.459885358810425\n"
     ]
    },
    {
     "name": "stderr",
     "output_type": "stream",
     "text": [
      "\r",
      " 81%|████████  | 1031/1271 [1:28:08<25:54,  6.48s/it]"
     ]
    },
    {
     "name": "stdout",
     "output_type": "stream",
     "text": [
      "78058311-667094073-EGLV142002135487--USLF2011053-YHBLFAX1-1.png --> done\n",
      "9.136338472366333\n"
     ]
    },
    {
     "name": "stderr",
     "output_type": "stream",
     "text": [
      "\r",
      " 81%|████████  | 1032/1271 [1:28:13<23:29,  5.90s/it]"
     ]
    },
    {
     "name": "stdout",
     "output_type": "stream",
     "text": [
      "783471270-1813606961-peak-1.png --> done\n",
      "4.5478034019470215\n"
     ]
    },
    {
     "name": "stderr",
     "output_type": "stream",
     "text": [
      "\r",
      " 81%|████████▏ | 1033/1271 [1:28:15<19:46,  4.99s/it]"
     ]
    },
    {
     "name": "stdout",
     "output_type": "stream",
     "text": [
      "784337369-1727178274-repfavh-elke-0164-761970-1-1.png --> done\n",
      "2.851855516433716\n"
     ]
    },
    {
     "name": "stderr",
     "output_type": "stream",
     "text": [
      "\r",
      " 81%|████████▏ | 1034/1271 [1:28:19<18:05,  4.58s/it]"
     ]
    },
    {
     "name": "stdout",
     "output_type": "stream",
     "text": [
      "7850796-645954562-RatedArrivalNoticeOPPDF-NCZLSZ21040707-202105060816-1.png --> done\n",
      "3.6292459964752197\n"
     ]
    },
    {
     "name": "stderr",
     "output_type": "stream",
     "text": [
      "\r",
      " 81%|████████▏ | 1035/1271 [1:28:23<17:33,  4.47s/it]"
     ]
    },
    {
     "name": "stdout",
     "output_type": "stream",
     "text": [
      "78604262-729513071-FT2282022-1.png --> done\n",
      "4.2019665241241455\n"
     ]
    },
    {
     "name": "stderr",
     "output_type": "stream",
     "text": [
      "\r",
      " 82%|████████▏ | 1036/1271 [1:28:29<18:44,  4.79s/it]"
     ]
    },
    {
     "name": "stdout",
     "output_type": "stream",
     "text": [
      "786851718-786851813-AN-SEF210131804-1.png --> done\n",
      "5.52747368812561\n"
     ]
    },
    {
     "name": "stderr",
     "output_type": "stream",
     "text": [
      "\r",
      " 82%|████████▏ | 1037/1271 [1:28:46<33:19,  8.54s/it]"
     ]
    },
    {
     "name": "stdout",
     "output_type": "stream",
     "text": [
      "78770443-387398278-Scan2021-01-22_140148-5.png --> done\n",
      "17.31259846687317\n"
     ]
    },
    {
     "name": "stderr",
     "output_type": "stream",
     "text": [
      "\r",
      " 82%|████████▏ | 1038/1271 [1:28:52<30:17,  7.80s/it]"
     ]
    },
    {
     "name": "stdout",
     "output_type": "stream",
     "text": [
      "78871798-78871929-FAX5561-3.png --> done\n",
      "6.06025767326355\n"
     ]
    },
    {
     "name": "stderr",
     "output_type": "stream",
     "text": [
      "\r",
      " 82%|████████▏ | 1039/1271 [1:28:57<27:01,  6.99s/it]"
     ]
    },
    {
     "name": "stdout",
     "output_type": "stream",
     "text": [
      "790339964-1783724011-OI-21186-1.png --> done\n",
      "5.08709192276001\n"
     ]
    },
    {
     "name": "stderr",
     "output_type": "stream",
     "text": [
      "\r",
      " 82%|████████▏ | 1040/1271 [1:29:05<27:40,  7.19s/it]"
     ]
    },
    {
     "name": "stdout",
     "output_type": "stream",
     "text": [
      "792298919-792298671-Scan2021-02-08_131555-1.png --> done\n",
      "7.652016878128052\n"
     ]
    },
    {
     "name": "stderr",
     "output_type": "stream",
     "text": [
      "\r",
      " 82%|████████▏ | 1041/1271 [1:29:11<26:13,  6.84s/it]"
     ]
    },
    {
     "name": "stdout",
     "output_type": "stream",
     "text": [
      "793561-793111-KX-C3J8-105-DocSetPO19207-4.png --> done\n",
      "6.026355743408203\n"
     ]
    },
    {
     "name": "stderr",
     "output_type": "stream",
     "text": [
      "\r",
      " 82%|████████▏ | 1042/1271 [1:29:14<21:15,  5.57s/it]"
     ]
    },
    {
     "name": "stdout",
     "output_type": "stream",
     "text": [
      "794428749-302131270-invoice_4_03_2022-2-1.png --> done\n",
      "2.597832679748535\n"
     ]
    },
    {
     "name": "stderr",
     "output_type": "stream",
     "text": [
      "\r",
      " 82%|████████▏ | 1043/1271 [1:29:15<16:45,  4.41s/it]"
     ]
    },
    {
     "name": "stdout",
     "output_type": "stream",
     "text": [
      "794428749-707816506-XLSX-commercialinvoiceImportMotoweld4-1.png --> done\n",
      "1.7052831649780273\n"
     ]
    },
    {
     "name": "stderr",
     "output_type": "stream",
     "text": [
      "\r",
      " 82%|████████▏ | 1044/1271 [1:29:19<16:16,  4.30s/it]"
     ]
    },
    {
     "name": "stdout",
     "output_type": "stream",
     "text": [
      "794676158-1114734087-Packinglist1620019998-1.png --> done\n",
      "4.047935247421265\n"
     ]
    },
    {
     "name": "stderr",
     "output_type": "stream",
     "text": [
      "\r",
      " 82%|████████▏ | 1045/1271 [1:29:26<19:02,  5.06s/it]"
     ]
    },
    {
     "name": "stdout",
     "output_type": "stream",
     "text": [
      "79641814-394540739-KX-W2H6-5770-DocSetPO329291-PDF-4.png --> done\n",
      "6.8186869621276855\n"
     ]
    },
    {
     "name": "stderr",
     "output_type": "stream",
     "text": [
      "\r",
      " 82%|████████▏ | 1046/1271 [1:29:42<30:52,  8.23s/it]"
     ]
    },
    {
     "name": "stdout",
     "output_type": "stream",
     "text": [
      "79722719-2105158393-BOLXMNHOU2107009-1.png --> done\n",
      "15.637338876724243\n"
     ]
    },
    {
     "name": "stderr",
     "output_type": "stream",
     "text": [
      "\r",
      " 82%|████████▏ | 1047/1271 [1:29:46<25:40,  6.88s/it]"
     ]
    },
    {
     "name": "stdout",
     "output_type": "stream",
     "text": [
      "801380120-266757775-139792-1.png --> done\n",
      "3.718775987625122\n"
     ]
    },
    {
     "name": "stderr",
     "output_type": "stream",
     "text": [
      "\r",
      " 82%|████████▏ | 1048/1271 [1:29:51<24:20,  6.55s/it]"
     ]
    },
    {
     "name": "stdout",
     "output_type": "stream",
     "text": [
      "801744420-1781513226-SWolfCompon22081611120-1.png --> done\n",
      "5.784686326980591\n"
     ]
    },
    {
     "name": "stderr",
     "output_type": "stream",
     "text": [
      "\r",
      " 83%|████████▎ | 1049/1271 [1:29:58<24:12,  6.54s/it]"
     ]
    },
    {
     "name": "stdout",
     "output_type": "stream",
     "text": [
      "8041231-291569382-FRPT14236-1.png --> done\n",
      "6.5286877155303955\n"
     ]
    },
    {
     "name": "stderr",
     "output_type": "stream",
     "text": [
      "\r",
      " 83%|████████▎ | 1050/1271 [1:30:03<22:15,  6.04s/it]"
     ]
    },
    {
     "name": "stdout",
     "output_type": "stream",
     "text": [
      "805099185-1894403787-4730_001-1.png --> done\n",
      "4.873793840408325\n"
     ]
    },
    {
     "name": "stderr",
     "output_type": "stream",
     "text": [
      "\r",
      " 83%|████████▎ | 1051/1271 [1:30:15<28:49,  7.86s/it]"
     ]
    },
    {
     "name": "stdout",
     "output_type": "stream",
     "text": [
      "8133006-8133531-Scan2021-04-15_121525-1.png --> done\n",
      "12.098659753799438\n"
     ]
    },
    {
     "name": "stderr",
     "output_type": "stream",
     "text": [
      "\r",
      " 83%|████████▎ | 1052/1271 [1:30:21<26:28,  7.25s/it]"
     ]
    },
    {
     "name": "stdout",
     "output_type": "stream",
     "text": [
      "81367347-1900019772-0087-invoiceex_40_10-1.png --> done\n",
      "5.83032488822937\n"
     ]
    },
    {
     "name": "stderr",
     "output_type": "stream",
     "text": [
      "\r",
      " 83%|████████▎ | 1053/1271 [1:30:37<36:41, 10.10s/it]"
     ]
    },
    {
     "name": "stdout",
     "output_type": "stream",
     "text": [
      "818483691-2039842421-KX-A3B8-15-CO-PDF-1.png --> done\n",
      "16.747640132904053\n"
     ]
    },
    {
     "name": "stderr",
     "output_type": "stream",
     "text": [
      "\r",
      " 83%|████████▎ | 1054/1271 [1:30:41<29:54,  8.27s/it]"
     ]
    },
    {
     "name": "stdout",
     "output_type": "stream",
     "text": [
      "819228250-1043789517-comminvplandcmr-2.png --> done\n",
      "4.001616477966309\n"
     ]
    },
    {
     "name": "stderr",
     "output_type": "stream",
     "text": [
      "\r",
      " 83%|████████▎ | 1055/1271 [1:30:45<24:58,  6.94s/it]"
     ]
    },
    {
     "name": "stdout",
     "output_type": "stream",
     "text": [
      "819228250-1043789517-comminvplandcmr-3.png --> done\n",
      "3.8199551105499268\n"
     ]
    },
    {
     "name": "stderr",
     "output_type": "stream",
     "text": [
      "\r",
      " 83%|████████▎ | 1056/1271 [1:30:49<20:59,  5.86s/it]"
     ]
    },
    {
     "name": "stdout",
     "output_type": "stream",
     "text": [
      "819563205-1484513617-faktura54fox-1.png --> done\n",
      "3.337757110595703\n"
     ]
    },
    {
     "name": "stderr",
     "output_type": "stream",
     "text": [
      "\r",
      " 83%|████████▎ | 1057/1271 [1:30:52<18:22,  5.15s/it]"
     ]
    },
    {
     "name": "stdout",
     "output_type": "stream",
     "text": [
      "819563205-1484513617-faktura54fox-2.png --> done\n",
      "3.505702018737793\n"
     ]
    },
    {
     "name": "stderr",
     "output_type": "stream",
     "text": [
      "\r",
      " 83%|████████▎ | 1058/1271 [1:31:00<21:02,  5.93s/it]"
     ]
    },
    {
     "name": "stdout",
     "output_type": "stream",
     "text": [
      "8206230-786307765-SGSHA003501-1.png --> done\n",
      "7.729616403579712\n"
     ]
    },
    {
     "name": "stderr",
     "output_type": "stream",
     "text": [
      "\r",
      " 83%|████████▎ | 1059/1271 [1:31:05<20:37,  5.84s/it]"
     ]
    },
    {
     "name": "stdout",
     "output_type": "stream",
     "text": [
      "82075757-82075745-KX-H1H3-1-GLOBALORCANICS001000010900000038961FCLWEEK10.-PDF-1.png --> done\n",
      "5.620262861251831\n"
     ]
    },
    {
     "name": "stderr",
     "output_type": "stream",
     "text": [
      "\r",
      " 83%|████████▎ | 1060/1271 [1:31:13<22:24,  6.37s/it]"
     ]
    },
    {
     "name": "stdout",
     "output_type": "stream",
     "text": [
      "830256758-830255822-Scan2021-03-31_090616-1.png --> done\n",
      "7.627428293228149\n"
     ]
    },
    {
     "name": "stderr",
     "output_type": "stream",
     "text": [
      "\r",
      " 83%|████████▎ | 1061/1271 [1:31:18<21:06,  6.03s/it]"
     ]
    },
    {
     "name": "stdout",
     "output_type": "stream",
     "text": [
      "832124844-832124773-KX-B2C8-8-AN-1.png --> done\n",
      "5.215666770935059\n"
     ]
    },
    {
     "name": "stderr",
     "output_type": "stream",
     "text": [
      "\r",
      " 84%|████████▎ | 1062/1271 [1:31:23<19:19,  5.55s/it]"
     ]
    },
    {
     "name": "stdout",
     "output_type": "stream",
     "text": [
      "83278446-83278827-ARRIVALNOTICEWITHATTACHEDINVOICEHBLKYNYKH2100309MBLHDMUSHAZ76452300-1.png --> done\n",
      "4.411827087402344\n"
     ]
    },
    {
     "name": "stderr",
     "output_type": "stream",
     "text": [
      "\r",
      " 84%|████████▎ | 1063/1271 [1:31:29<19:46,  5.70s/it]"
     ]
    },
    {
     "name": "stdout",
     "output_type": "stream",
     "text": [
      "8377962-320220815-KX-W2H6-5858-PO31573TELEXRELEASE-PDF-1.png --> done\n",
      "6.070958614349365\n"
     ]
    },
    {
     "name": "stderr",
     "output_type": "stream",
     "text": [
      "\r",
      " 84%|████████▎ | 1064/1271 [1:31:30<15:05,  4.37s/it]"
     ]
    },
    {
     "name": "stdout",
     "output_type": "stream",
     "text": [
      "8377962-320220815-KX-W2H6-5858-PO31573TELEXRELEASE-PDF-2.png --> done\n",
      "1.2666940689086914\n"
     ]
    },
    {
     "name": "stderr",
     "output_type": "stream",
     "text": [
      "\r",
      " 84%|████████▍ | 1065/1271 [1:31:38<19:08,  5.58s/it]"
     ]
    },
    {
     "name": "stdout",
     "output_type": "stream",
     "text": [
      "838747478-838748150-Scan2021-03-31_112343-1.png --> done\n",
      "8.382564544677734\n"
     ]
    },
    {
     "name": "stderr",
     "output_type": "stream",
     "text": [
      "\r",
      " 84%|████████▍ | 1066/1271 [1:31:42<17:25,  5.10s/it]"
     ]
    },
    {
     "name": "stdout",
     "output_type": "stream",
     "text": [
      "842887117-307441583-FT267DRINKITALIAN-1.png --> done\n",
      "3.989288330078125\n"
     ]
    },
    {
     "name": "stderr",
     "output_type": "stream",
     "text": [
      "\r",
      " 84%|████████▍ | 1067/1271 [1:31:45<14:32,  4.28s/it]"
     ]
    },
    {
     "name": "stdout",
     "output_type": "stream",
     "text": [
      "8485259-8485332-KX-O3A5-317-eml-2.png --> done\n",
      "2.3512463569641113\n"
     ]
    },
    {
     "name": "stderr",
     "output_type": "stream",
     "text": [
      "\r",
      " 84%|████████▍ | 1068/1271 [1:31:51<15:57,  4.71s/it]"
     ]
    },
    {
     "name": "stdout",
     "output_type": "stream",
     "text": [
      "851505668-851505455-WWTAN_CA404699CB4140D1B5BB1E863342C1CA-1.png --> done\n",
      "5.739593029022217\n"
     ]
    },
    {
     "name": "stderr",
     "output_type": "stream",
     "text": [
      "\r",
      " 84%|████████▍ | 1069/1271 [1:31:55<15:17,  4.54s/it]"
     ]
    },
    {
     "name": "stdout",
     "output_type": "stream",
     "text": [
      "851505668-851505455-WWTAN_CA404699CB4140D1B5BB1E863342C1CA-2.png --> done\n",
      "4.142128944396973\n"
     ]
    },
    {
     "name": "stderr",
     "output_type": "stream",
     "text": [
      "\r",
      " 84%|████████▍ | 1070/1271 [1:31:59<15:00,  4.48s/it]"
     ]
    },
    {
     "name": "stdout",
     "output_type": "stream",
     "text": [
      "85326084-297487525-85326084-BLCUMACDUSA-35pallets-NEWYORKM-7_DOC-1.png --> done\n",
      "4.335454225540161\n"
     ]
    },
    {
     "name": "stderr",
     "output_type": "stream",
     "text": [
      "\r",
      " 84%|████████▍ | 1071/1271 [1:32:03<14:24,  4.32s/it]"
     ]
    },
    {
     "name": "stdout",
     "output_type": "stream",
     "text": [
      "853470781-853470910-DB67B4KZ1-4.png --> done\n",
      "3.9450244903564453\n"
     ]
    },
    {
     "name": "stderr",
     "output_type": "stream",
     "text": [
      "\r",
      " 84%|████████▍ | 1072/1271 [1:32:06<13:30,  4.07s/it]"
     ]
    },
    {
     "name": "stdout",
     "output_type": "stream",
     "text": [
      "860709411-860709437-AN-CTNJXLU7495391PDF-1.png --> done\n",
      "3.4854893684387207\n"
     ]
    },
    {
     "name": "stderr",
     "output_type": "stream",
     "text": [
      "\r",
      " 84%|████████▍ | 1073/1271 [1:32:12<14:36,  4.43s/it]"
     ]
    },
    {
     "name": "stdout",
     "output_type": "stream",
     "text": [
      "860709411-860709440-860709411-EGLV147100057228AN.png --> done\n",
      "5.252985000610352\n"
     ]
    },
    {
     "name": "stderr",
     "output_type": "stream",
     "text": [
      "\r",
      " 85%|████████▍ | 1074/1271 [1:32:15<13:54,  4.23s/it]"
     ]
    },
    {
     "name": "stdout",
     "output_type": "stream",
     "text": [
      "864584348-300828566-Pre-Alert-S104553841-2.png --> done\n",
      "3.7878193855285645\n"
     ]
    },
    {
     "name": "stderr",
     "output_type": "stream",
     "text": [
      "\r",
      " 85%|████████▍ | 1075/1271 [1:32:23<16:52,  5.17s/it]"
     ]
    },
    {
     "name": "stdout",
     "output_type": "stream",
     "text": [
      "8687630-8687938-L00001055218CNA-6.png --> done\n",
      "7.347741365432739\n"
     ]
    },
    {
     "name": "stderr",
     "output_type": "stream",
     "text": [
      "\r",
      " 85%|████████▍ | 1076/1271 [1:32:27<15:34,  4.79s/it]"
     ]
    },
    {
     "name": "stdout",
     "output_type": "stream",
     "text": [
      "8687630-8687938-L00001055218CNA-7.png --> done\n",
      "3.9143829345703125\n"
     ]
    },
    {
     "name": "stderr",
     "output_type": "stream",
     "text": [
      "\r",
      " 85%|████████▍ | 1077/1271 [1:32:30<13:47,  4.27s/it]"
     ]
    },
    {
     "name": "stdout",
     "output_type": "stream",
     "text": [
      "872073896-1586944356-SKDK-016764-1.png --> done\n",
      "3.0359795093536377\n"
     ]
    },
    {
     "name": "stderr",
     "output_type": "stream",
     "text": [
      "\r",
      " 85%|████████▍ | 1078/1271 [1:32:33<12:25,  3.86s/it]"
     ]
    },
    {
     "name": "stdout",
     "output_type": "stream",
     "text": [
      "872281996-1422650762-XLSX-EdgeCommercialInvoiceKlearnow21062022-Gillmoss-1.png --> done\n",
      "2.9175806045532227\n"
     ]
    },
    {
     "name": "stderr",
     "output_type": "stream",
     "text": [
      "\r",
      " 85%|████████▍ | 1079/1271 [1:32:40<15:46,  4.93s/it]"
     ]
    },
    {
     "name": "stdout",
     "output_type": "stream",
     "text": [
      "875117695-1096658145-Doc_Exp_CLD_FT557-1.png --> done\n",
      "7.41559100151062\n"
     ]
    },
    {
     "name": "stderr",
     "output_type": "stream",
     "text": [
      "\r",
      " 85%|████████▍ | 1080/1271 [1:32:48<18:20,  5.76s/it]"
     ]
    },
    {
     "name": "stdout",
     "output_type": "stream",
     "text": [
      "875117695-1096658145-Doc_Exp_CLD_FT557-5.png --> done\n",
      "7.704160451889038\n"
     ]
    },
    {
     "name": "stderr",
     "output_type": "stream",
     "text": [
      "\r",
      " 85%|████████▌ | 1081/1271 [1:32:54<18:16,  5.77s/it]"
     ]
    },
    {
     "name": "stdout",
     "output_type": "stream",
     "text": [
      "880252257-1309547323-doc17310620220308134046-1.png --> done\n",
      "5.795888900756836\n"
     ]
    },
    {
     "name": "stderr",
     "output_type": "stream",
     "text": [
      "\r",
      " 85%|████████▌ | 1082/1271 [1:33:03<21:47,  6.92s/it]"
     ]
    },
    {
     "name": "stdout",
     "output_type": "stream",
     "text": [
      "880252257-1309547323-doc17310620220308134046-3.png --> done\n",
      "9.591209888458252\n"
     ]
    },
    {
     "name": "stderr",
     "output_type": "stream",
     "text": [
      "\r",
      " 85%|████████▌ | 1083/1271 [1:33:10<21:51,  6.98s/it]"
     ]
    },
    {
     "name": "stdout",
     "output_type": "stream",
     "text": [
      "880252257-1309547323-doc17310620220308134046-8.png --> done\n",
      "7.1051764488220215\n"
     ]
    },
    {
     "name": "stderr",
     "output_type": "stream",
     "text": [
      "\r",
      " 85%|████████▌ | 1084/1271 [1:33:17<21:15,  6.82s/it]"
     ]
    },
    {
     "name": "stdout",
     "output_type": "stream",
     "text": [
      "880252257-1309547323-doc17310620220308134046-9.png --> done\n",
      "6.450148105621338\n"
     ]
    },
    {
     "name": "stderr",
     "output_type": "stream",
     "text": [
      "\r",
      " 85%|████████▌ | 1085/1271 [1:33:24<21:15,  6.86s/it]"
     ]
    },
    {
     "name": "stdout",
     "output_type": "stream",
     "text": [
      "880741871-901019072-CCE_000864-2.png --> done\n",
      "6.956750154495239\n"
     ]
    },
    {
     "name": "stderr",
     "output_type": "stream",
     "text": [
      "\r",
      " 85%|████████▌ | 1086/1271 [1:33:27<17:53,  5.80s/it]"
     ]
    },
    {
     "name": "stdout",
     "output_type": "stream",
     "text": [
      "8915997-8916215-MBL-1.png --> done\n",
      "3.327056407928467\n"
     ]
    },
    {
     "name": "stderr",
     "output_type": "stream",
     "text": [
      "\r",
      " 86%|████████▌ | 1087/1271 [1:33:33<17:47,  5.80s/it]"
     ]
    },
    {
     "name": "stdout",
     "output_type": "stream",
     "text": [
      "8915997-8916216-F187843AARCHS02750-1.png --> done\n",
      "5.792619705200195\n"
     ]
    },
    {
     "name": "stderr",
     "output_type": "stream",
     "text": [
      "\r",
      " 86%|████████▌ | 1088/1271 [1:33:36<15:40,  5.14s/it]"
     ]
    },
    {
     "name": "stdout",
     "output_type": "stream",
     "text": [
      "891946605-34620763-Invoice3654219385-1.png --> done\n",
      "3.6000754833221436\n"
     ]
    },
    {
     "name": "stderr",
     "output_type": "stream",
     "text": [
      "\r",
      " 86%|████████▌ | 1089/1271 [1:33:40<14:32,  4.79s/it]"
     ]
    },
    {
     "name": "stdout",
     "output_type": "stream",
     "text": [
      "913724852-913724952-TYOB32888900-1.png --> done\n",
      "3.977689504623413\n"
     ]
    },
    {
     "name": "stderr",
     "output_type": "stream",
     "text": [
      "\r",
      " 86%|████████▌ | 1090/1271 [1:33:45<14:06,  4.68s/it]"
     ]
    },
    {
     "name": "stdout",
     "output_type": "stream",
     "text": [
      "9170915-344075260-Scan2021-03-12_152843-6.png --> done\n",
      "4.404910564422607\n"
     ]
    },
    {
     "name": "stderr",
     "output_type": "stream",
     "text": [
      "\r",
      " 86%|████████▌ | 1091/1271 [1:33:47<11:44,  3.91s/it]"
     ]
    },
    {
     "name": "stdout",
     "output_type": "stream",
     "text": [
      "921820339-1032645727-KX-H1H3-15-52-044Draft_BL_ZIMUGOA1041497-PDF-2.png --> done\n",
      "2.1256473064422607\n"
     ]
    },
    {
     "name": "stderr",
     "output_type": "stream",
     "text": [
      "\r",
      " 86%|████████▌ | 1092/1271 [1:33:50<11:20,  3.80s/it]"
     ]
    },
    {
     "name": "stdout",
     "output_type": "stream",
     "text": [
      "92628293-1290185021-KX-H3H4-202-RX-201119222-174175TelexreleaseBL-PDF-1.png --> done\n",
      "3.5349016189575195\n"
     ]
    },
    {
     "name": "stderr",
     "output_type": "stream",
     "text": [
      "\r",
      " 86%|████████▌ | 1093/1271 [1:33:55<11:57,  4.03s/it]"
     ]
    },
    {
     "name": "stdout",
     "output_type": "stream",
     "text": [
      "928010615-1952895261-IN3037640-1.png --> done\n",
      "4.570024490356445\n"
     ]
    },
    {
     "name": "stderr",
     "output_type": "stream",
     "text": [
      "\r",
      " 86%|████████▌ | 1094/1271 [1:33:58<10:32,  3.57s/it]"
     ]
    },
    {
     "name": "stdout",
     "output_type": "stream",
     "text": [
      "928010615-1952895261-IN3037640-2.png --> done\n",
      "2.500185012817383\n"
     ]
    },
    {
     "name": "stderr",
     "output_type": "stream",
     "text": [
      "\r",
      " 86%|████████▌ | 1095/1271 [1:34:06<14:35,  4.98s/it]"
     ]
    },
    {
     "name": "stdout",
     "output_type": "stream",
     "text": [
      "93030797-728435248-501-10405135bto-3.png --> done\n",
      "8.25158405303955\n"
     ]
    },
    {
     "name": "stderr",
     "output_type": "stream",
     "text": [
      "\r",
      " 86%|████████▌ | 1096/1271 [1:34:10<14:14,  4.88s/it]"
     ]
    },
    {
     "name": "stdout",
     "output_type": "stream",
     "text": [
      "933632252-933632886-ArrivalNotice_IMPCSC2121064_05252021032124650-1.png --> done\n",
      "4.66565203666687\n"
     ]
    },
    {
     "name": "stderr",
     "output_type": "stream",
     "text": [
      "\r",
      " 86%|████████▋ | 1097/1271 [1:34:14<12:56,  4.46s/it]"
     ]
    },
    {
     "name": "stdout",
     "output_type": "stream",
     "text": [
      "93371110-93371007-ArrivalNotice-S00329487-1.png --> done\n",
      "3.473818302154541\n"
     ]
    },
    {
     "name": "stderr",
     "output_type": "stream",
     "text": [
      "\r",
      " 86%|████████▋ | 1098/1271 [1:34:17<11:37,  4.03s/it]"
     ]
    },
    {
     "name": "stdout",
     "output_type": "stream",
     "text": [
      "935324342-935324591-ArrivalNotice-SI-001511-MBL_SMLM_NJBN1B334400-1.png --> done\n",
      "3.023393154144287\n"
     ]
    },
    {
     "name": "stderr",
     "output_type": "stream",
     "text": [
      "\r",
      " 86%|████████▋ | 1099/1271 [1:34:20<10:51,  3.79s/it]"
     ]
    },
    {
     "name": "stdout",
     "output_type": "stream",
     "text": [
      "943931895-943933017-AN-INV_6052034-1.png --> done\n",
      "3.2308640480041504\n"
     ]
    },
    {
     "name": "stderr",
     "output_type": "stream",
     "text": [
      "\r",
      " 87%|████████▋ | 1100/1271 [1:34:24<10:56,  3.84s/it]"
     ]
    },
    {
     "name": "stdout",
     "output_type": "stream",
     "text": [
      "945870366-842578316-FS624_DOK_2022-1.png --> done\n",
      "3.9513394832611084\n"
     ]
    },
    {
     "name": "stderr",
     "output_type": "stream",
     "text": [
      "\r",
      " 87%|████████▋ | 1101/1271 [1:34:28<10:32,  3.72s/it]"
     ]
    },
    {
     "name": "stdout",
     "output_type": "stream",
     "text": [
      "946629895-1123135083-CommercialInvoicesigned187595-1.png --> done\n",
      "3.4425952434539795\n"
     ]
    },
    {
     "name": "stderr",
     "output_type": "stream",
     "text": [
      "\r",
      " 87%|████████▋ | 1102/1271 [1:34:31<10:33,  3.75s/it]"
     ]
    },
    {
     "name": "stdout",
     "output_type": "stream",
     "text": [
      "948155895-948155790-ARRIVAL_NOTICE___FREIGHT_INVOICE_YHHL20121528-1.png --> done\n",
      "3.822066307067871\n"
     ]
    },
    {
     "name": "stderr",
     "output_type": "stream",
     "text": [
      "\r",
      " 87%|████████▋ | 1103/1271 [1:34:37<12:02,  4.30s/it]"
     ]
    },
    {
     "name": "stdout",
     "output_type": "stream",
     "text": [
      "954908454-954908511-ARRIVALNOTICEFREIGHTINVOICE-JHJ2010202-1.png --> done\n",
      "5.571711301803589\n"
     ]
    },
    {
     "name": "stderr",
     "output_type": "stream",
     "text": [
      "\r",
      " 87%|████████▋ | 1104/1271 [1:34:46<15:54,  5.71s/it]"
     ]
    },
    {
     "name": "stdout",
     "output_type": "stream",
     "text": [
      "959887486-572156425-Scan2021-05-05_160007-1.png --> done\n",
      "9.016233682632446\n"
     ]
    },
    {
     "name": "stderr",
     "output_type": "stream",
     "text": [
      "\r",
      " 87%|████████▋ | 1105/1271 [1:34:50<14:09,  5.12s/it]"
     ]
    },
    {
     "name": "stdout",
     "output_type": "stream",
     "text": [
      "960968990-1227621709-KX-M8B0-254-ModusAN-2.png --> done\n",
      "3.7130494117736816\n"
     ]
    },
    {
     "name": "stderr",
     "output_type": "stream",
     "text": [
      "\r",
      " 87%|████████▋ | 1106/1271 [1:34:54<13:06,  4.77s/it]"
     ]
    },
    {
     "name": "stdout",
     "output_type": "stream",
     "text": [
      "964033827-1593380109-SFSE-23202200000038-1.png --> done\n",
      "3.9597439765930176\n"
     ]
    },
    {
     "name": "stderr",
     "output_type": "stream",
     "text": [
      "\r",
      " 87%|████████▋ | 1107/1271 [1:34:59<13:12,  4.83s/it]"
     ]
    },
    {
     "name": "stdout",
     "output_type": "stream",
     "text": [
      "9647848-9647326-EET210275867-7.png --> done\n",
      "4.982072830200195\n"
     ]
    },
    {
     "name": "stderr",
     "output_type": "stream",
     "text": [
      "\r",
      " 87%|████████▋ | 1108/1271 [1:35:09<17:30,  6.44s/it]"
     ]
    },
    {
     "name": "stdout",
     "output_type": "stream",
     "text": [
      "96488127-96486882-20210528212009261-1.png --> done\n",
      "10.19812297821045\n"
     ]
    },
    {
     "name": "stderr",
     "output_type": "stream",
     "text": [
      "\r",
      " 87%|████████▋ | 1109/1271 [1:35:13<15:52,  5.88s/it]"
     ]
    },
    {
     "name": "stdout",
     "output_type": "stream",
     "text": [
      "96488127-96486883-AGZSELGB1412378-1.png --> done\n",
      "4.56305718421936\n"
     ]
    },
    {
     "name": "stderr",
     "output_type": "stream",
     "text": [
      "\r",
      " 87%|████████▋ | 1110/1271 [1:35:20<16:15,  6.06s/it]"
     ]
    },
    {
     "name": "stdout",
     "output_type": "stream",
     "text": [
      "96901634-96901828-GSSZ20110676TLX-1.png --> done\n",
      "6.474371910095215\n"
     ]
    },
    {
     "name": "stderr",
     "output_type": "stream",
     "text": [
      "\r",
      " 87%|████████▋ | 1111/1271 [1:35:24<14:28,  5.43s/it]"
     ]
    },
    {
     "name": "stdout",
     "output_type": "stream",
     "text": [
      "972653980-305864660-COMMINVOICEGLOBALORGANICS_PO7868-1.png --> done\n",
      "3.968768358230591\n"
     ]
    },
    {
     "name": "stderr",
     "output_type": "stream",
     "text": [
      "\r",
      " 87%|████████▋ | 1112/1271 [1:35:28<13:10,  4.97s/it]"
     ]
    },
    {
     "name": "stdout",
     "output_type": "stream",
     "text": [
      "973222944-973223346-202104061215-1.png --> done\n",
      "3.891960859298706\n"
     ]
    },
    {
     "name": "stderr",
     "output_type": "stream",
     "text": [
      "\r",
      " 88%|████████▊ | 1113/1271 [1:35:33<13:15,  5.03s/it]"
     ]
    },
    {
     "name": "stdout",
     "output_type": "stream",
     "text": [
      "975517488-975517033-KX-F6F3-66-1.png --> done\n",
      "5.18172812461853\n"
     ]
    },
    {
     "name": "stderr",
     "output_type": "stream",
     "text": [
      "\r",
      " 88%|████████▊ | 1114/1271 [1:35:38<13:33,  5.18s/it]"
     ]
    },
    {
     "name": "stdout",
     "output_type": "stream",
     "text": [
      "977027710-977028009-KX-S8D2-2-1.png --> done\n",
      "5.52776837348938\n"
     ]
    },
    {
     "name": "stderr",
     "output_type": "stream",
     "text": [
      "\r",
      " 88%|████████▊ | 1115/1271 [1:35:42<12:10,  4.68s/it]"
     ]
    },
    {
     "name": "stdout",
     "output_type": "stream",
     "text": [
      "979323900-132708296-gmulder_220721-145440-89-4 (1).png --> done\n",
      "3.514021873474121\n"
     ]
    },
    {
     "name": "stderr",
     "output_type": "stream",
     "text": [
      "\r",
      " 88%|████████▊ | 1116/1271 [1:35:53<17:22,  6.73s/it]"
     ]
    },
    {
     "name": "stdout",
     "output_type": "stream",
     "text": [
      "980609588-646433324-Scan2021-05-10_084002-1.png --> done\n",
      "11.49924898147583\n"
     ]
    },
    {
     "name": "stderr",
     "output_type": "stream",
     "text": [
      "\r",
      " 88%|████████▊ | 1117/1271 [1:36:01<17:34,  6.84s/it]"
     ]
    },
    {
     "name": "stdout",
     "output_type": "stream",
     "text": [
      "980772237-1159585999-KI19435ARRIVALNOTICE-1.png --> done\n",
      "7.119109392166138\n"
     ]
    },
    {
     "name": "stderr",
     "output_type": "stream",
     "text": [
      "\r",
      " 88%|████████▊ | 1118/1271 [1:36:04<14:25,  5.66s/it]"
     ]
    },
    {
     "name": "stdout",
     "output_type": "stream",
     "text": [
      "981301350-403129167-Invoice22400485forWoodberry-1.png --> done\n",
      "2.8870084285736084\n"
     ]
    },
    {
     "name": "stderr",
     "output_type": "stream",
     "text": [
      "\r",
      " 88%|████████▊ | 1119/1271 [1:36:10<14:40,  5.79s/it]"
     ]
    },
    {
     "name": "stdout",
     "output_type": "stream",
     "text": [
      "981683523-981676611-Scan2021-04-06_161829-1.png --> done\n",
      "6.113982915878296\n"
     ]
    },
    {
     "name": "stderr",
     "output_type": "stream",
     "text": [
      "\r",
      " 88%|████████▊ | 1120/1271 [1:36:12<11:48,  4.69s/it]"
     ]
    },
    {
     "name": "stdout",
     "output_type": "stream",
     "text": [
      "983001661-330836800-CommercialInvoice-Meta-MedicAug2022MM2022081501-1.png --> done\n",
      "2.101544141769409\n"
     ]
    },
    {
     "name": "stderr",
     "output_type": "stream",
     "text": [
      "\r",
      " 88%|████████▊ | 1121/1271 [1:36:15<10:40,  4.27s/it]"
     ]
    },
    {
     "name": "stdout",
     "output_type": "stream",
     "text": [
      "985499241-1977610757-CommercialInvoice-28072022-1.png --> done\n",
      "3.2870635986328125\n"
     ]
    },
    {
     "name": "stderr",
     "output_type": "stream",
     "text": [
      "\r",
      " 88%|████████▊ | 1122/1271 [1:36:19<10:05,  4.06s/it]"
     ]
    },
    {
     "name": "stdout",
     "output_type": "stream",
     "text": [
      "993933148-1270382304-Scan_FouqueEric_20220720-124938_1576_001-3.png --> done\n",
      "3.5796306133270264\n"
     ]
    },
    {
     "name": "stderr",
     "output_type": "stream",
     "text": [
      "\r",
      " 88%|████████▊ | 1123/1271 [1:36:28<14:09,  5.74s/it]"
     ]
    },
    {
     "name": "stdout",
     "output_type": "stream",
     "text": [
      "994538549-994539483-Scan2021-05-20_131556-1.png --> done\n",
      "9.649109601974487\n"
     ]
    },
    {
     "name": "stderr",
     "output_type": "stream",
     "text": [
      "\r",
      " 88%|████████▊ | 1124/1271 [1:36:32<12:39,  5.17s/it]"
     ]
    },
    {
     "name": "stdout",
     "output_type": "stream",
     "text": [
      "998516643-2119095943-RSTRANSFER5371425FEB22-3.png --> done\n",
      "3.8276758193969727\n"
     ]
    },
    {
     "name": "stderr",
     "output_type": "stream",
     "text": [
      "\r",
      " 89%|████████▊ | 1125/1271 [1:36:41<15:14,  6.26s/it]"
     ]
    },
    {
     "name": "stdout",
     "output_type": "stream",
     "text": [
      "air3 - Copy.png --> done\n",
      "8.817646026611328\n"
     ]
    },
    {
     "name": "stderr",
     "output_type": "stream",
     "text": [
      "\r",
      " 89%|████████▊ | 1126/1271 [1:36:49<16:15,  6.73s/it]"
     ]
    },
    {
     "name": "stdout",
     "output_type": "stream",
     "text": [
      "air3.png --> done\n",
      "7.809292793273926\n"
     ]
    },
    {
     "name": "stderr",
     "output_type": "stream",
     "text": [
      "\r",
      " 89%|████████▊ | 1127/1271 [1:36:52<13:44,  5.72s/it]"
     ]
    },
    {
     "name": "stdout",
     "output_type": "stream",
     "text": [
      "air4 - Copy (2).png --> done\n",
      "3.3829383850097656\n"
     ]
    },
    {
     "name": "stderr",
     "output_type": "stream",
     "text": [
      "\r",
      " 89%|████████▊ | 1128/1271 [1:36:56<12:03,  5.06s/it]"
     ]
    },
    {
     "name": "stdout",
     "output_type": "stream",
     "text": [
      "air4 - Copy - Copy.png --> done\n",
      "3.500454902648926\n"
     ]
    },
    {
     "name": "stderr",
     "output_type": "stream",
     "text": [
      "\r",
      " 89%|████████▉ | 1129/1271 [1:36:59<10:59,  4.65s/it]"
     ]
    },
    {
     "name": "stdout",
     "output_type": "stream",
     "text": [
      "air4 - Copy.png --> done\n",
      "3.68523907661438\n"
     ]
    },
    {
     "name": "stderr",
     "output_type": "stream",
     "text": [
      "\r",
      " 89%|████████▉ | 1130/1271 [1:37:03<10:13,  4.35s/it]"
     ]
    },
    {
     "name": "stdout",
     "output_type": "stream",
     "text": [
      "air4.png --> done\n",
      "3.665600061416626\n"
     ]
    },
    {
     "name": "stderr",
     "output_type": "stream",
     "text": [
      "\r",
      " 89%|████████▉ | 1131/1271 [1:37:07<09:37,  4.13s/it]"
     ]
    },
    {
     "name": "stdout",
     "output_type": "stream",
     "text": [
      "air5 - Copy (2).png --> done\n",
      "3.594750165939331\n"
     ]
    },
    {
     "name": "stderr",
     "output_type": "stream",
     "text": [
      "\r",
      " 89%|████████▉ | 1132/1271 [1:37:10<08:58,  3.88s/it]"
     ]
    },
    {
     "name": "stdout",
     "output_type": "stream",
     "text": [
      "air5 - Copy - Copy.png --> done\n",
      "3.2879719734191895\n"
     ]
    },
    {
     "name": "stderr",
     "output_type": "stream",
     "text": [
      "\r",
      " 89%|████████▉ | 1133/1271 [1:37:13<08:29,  3.69s/it]"
     ]
    },
    {
     "name": "stdout",
     "output_type": "stream",
     "text": [
      "air5 - Copy.png --> done\n",
      "3.2700767517089844\n"
     ]
    },
    {
     "name": "stderr",
     "output_type": "stream",
     "text": [
      "\r",
      " 89%|████████▉ | 1134/1271 [1:37:17<08:17,  3.63s/it]"
     ]
    },
    {
     "name": "stdout",
     "output_type": "stream",
     "text": [
      "air5.png --> done\n",
      "3.485816240310669\n"
     ]
    },
    {
     "name": "stderr",
     "output_type": "stream",
     "text": [
      "\r",
      " 89%|████████▉ | 1135/1271 [1:37:21<08:30,  3.75s/it]"
     ]
    },
    {
     "name": "stdout",
     "output_type": "stream",
     "text": [
      "KX-A0I4-14-shipmentId-BL235000996683-ETD21.08_INV-1.png --> done\n",
      "4.034483909606934\n"
     ]
    },
    {
     "name": "stderr",
     "output_type": "stream",
     "text": [
      "\r",
      " 89%|████████▉ | 1136/1271 [1:37:23<07:13,  3.21s/it]"
     ]
    },
    {
     "name": "stdout",
     "output_type": "stream",
     "text": [
      "KX-A0I4-16-shipmentId-ARI2x40HQCIintotal-XLS-1.png --> done\n",
      "1.9322502613067627\n"
     ]
    },
    {
     "name": "stderr",
     "output_type": "stream",
     "text": [
      "\r",
      " 89%|████████▉ | 1137/1271 [1:37:25<06:53,  3.08s/it]"
     ]
    },
    {
     "name": "stdout",
     "output_type": "stream",
     "text": [
      "KX-A0I4-19-ACKOCommericialinvoices_14containers-XLS-1.png --> done\n",
      "2.7924089431762695\n"
     ]
    },
    {
     "name": "stderr",
     "output_type": "stream",
     "text": [
      "\r",
      " 90%|████████▉ | 1138/1271 [1:37:30<07:49,  3.53s/it]"
     ]
    },
    {
     "name": "stdout",
     "output_type": "stream",
     "text": [
      "KX-A0I4-20-INVCONT12-1.png --> done\n",
      "4.578545570373535\n"
     ]
    },
    {
     "name": "stderr",
     "output_type": "stream",
     "text": [
      "\r",
      " 90%|████████▉ | 1139/1271 [1:37:35<08:51,  4.03s/it]"
     ]
    },
    {
     "name": "stdout",
     "output_type": "stream",
     "text": [
      "KX-A0I4-21-35ATLAS-PO12-2020D2-4.png --> done\n",
      "5.189698219299316\n"
     ]
    },
    {
     "name": "stderr",
     "output_type": "stream",
     "text": [
      "\r",
      " 90%|████████▉ | 1140/1271 [1:37:39<08:48,  4.04s/it]"
     ]
    },
    {
     "name": "stdout",
     "output_type": "stream",
     "text": [
      "KX-A0I4-22-36ATLAS-PO011011-2020-2.png --> done\n",
      "4.046607255935669\n"
     ]
    },
    {
     "name": "stderr",
     "output_type": "stream",
     "text": [
      "\r",
      " 90%|████████▉ | 1141/1271 [1:37:43<08:49,  4.08s/it]"
     ]
    },
    {
     "name": "stdout",
     "output_type": "stream",
     "text": [
      "KX-A0I4-26-Cont11thIMTU1078530packinglistandinvoiceSept52020-1.png --> done\n",
      "4.168991804122925\n"
     ]
    },
    {
     "name": "stderr",
     "output_type": "stream",
     "text": [
      "\r",
      " 90%|████████▉ | 1142/1271 [1:37:48<09:10,  4.27s/it]"
     ]
    },
    {
     "name": "stdout",
     "output_type": "stream",
     "text": [
      "KX-A0I4-29-BL235001089221-ETD18-XLS-4.png --> done\n",
      "4.725894451141357\n"
     ]
    },
    {
     "name": "stderr",
     "output_type": "stream",
     "text": [
      "\r",
      " 90%|████████▉ | 1143/1271 [1:37:53<09:20,  4.38s/it]"
     ]
    },
    {
     "name": "stdout",
     "output_type": "stream",
     "text": [
      "KX-A0I4-29-BL235001089221-ETD18-XLS-8.png --> done\n",
      "4.642747163772583\n"
     ]
    },
    {
     "name": "stderr",
     "output_type": "stream",
     "text": [
      "\r",
      " 90%|█████████ | 1144/1271 [1:38:02<12:19,  5.82s/it]"
     ]
    },
    {
     "name": "stdout",
     "output_type": "stream",
     "text": [
      "KX-A0I4-29-BL235001089221-ETD18.09_INV-1.png --> done\n",
      "9.177724599838257\n"
     ]
    },
    {
     "name": "stderr",
     "output_type": "stream",
     "text": [
      "\r",
      " 90%|█████████ | 1145/1271 [1:38:04<09:46,  4.66s/it]"
     ]
    },
    {
     "name": "stdout",
     "output_type": "stream",
     "text": [
      "KX-A0I4-30-BL235001028265-ETD18-XLS-4.png --> done\n",
      "1.9461650848388672\n"
     ]
    },
    {
     "name": "stderr",
     "output_type": "stream",
     "text": [
      "\r",
      " 90%|█████████ | 1146/1271 [1:38:10<10:36,  5.09s/it]"
     ]
    },
    {
     "name": "stdout",
     "output_type": "stream",
     "text": [
      "KX-A0I4-30-BL235001028265-ETD18.09_INV-1.png --> done\n",
      "6.09973406791687\n"
     ]
    },
    {
     "name": "stderr",
     "output_type": "stream",
     "text": [
      "\r",
      " 90%|█████████ | 1147/1271 [1:38:13<09:19,  4.51s/it]"
     ]
    },
    {
     "name": "stdout",
     "output_type": "stream",
     "text": [
      "KX-A0I4-TEMP-560-ELEOCIPL_BMOU4831175.xls-1.png --> done\n",
      "3.1647276878356934\n"
     ]
    },
    {
     "name": "stderr",
     "output_type": "stream",
     "text": [
      "\r",
      " 90%|█████████ | 1148/1271 [1:38:19<10:16,  5.01s/it]"
     ]
    },
    {
     "name": "stdout",
     "output_type": "stream",
     "text": [
      "KX-A5B0-10-DOC-464INVPLANDBLFLEX-USA-1.png --> done\n",
      "6.161768913269043\n"
     ]
    },
    {
     "name": "stderr",
     "output_type": "stream",
     "text": [
      "\r",
      " 90%|█████████ | 1149/1271 [1:38:25<10:41,  5.26s/it]"
     ]
    },
    {
     "name": "stdout",
     "output_type": "stream",
     "text": [
      "KX-A5B0-11-plc-2.png --> done\n",
      "5.838374614715576\n"
     ]
    },
    {
     "name": "stderr",
     "output_type": "stream",
     "text": [
      "\r",
      " 90%|█████████ | 1150/1271 [1:38:35<13:08,  6.52s/it]"
     ]
    },
    {
     "name": "stdout",
     "output_type": "stream",
     "text": [
      "KX-A5B0-28-ExportInvoice87-1.png --> done\n",
      "9.459450244903564\n"
     ]
    },
    {
     "name": "stderr",
     "output_type": "stream",
     "text": [
      "\r",
      " 91%|█████████ | 1151/1271 [1:38:50<18:11,  9.10s/it]"
     ]
    },
    {
     "name": "stdout",
     "output_type": "stream",
     "text": [
      "KX-A5B0-29-INVM302021EXP59-1.png --> done\n",
      "15.120354652404785\n"
     ]
    },
    {
     "name": "stderr",
     "output_type": "stream",
     "text": [
      "\r",
      " 91%|█████████ | 1152/1271 [1:39:03<20:47, 10.48s/it]"
     ]
    },
    {
     "name": "stdout",
     "output_type": "stream",
     "text": [
      "KX-A5B0-30-INVM302021EXP63-1.png --> done\n",
      "13.707425117492676\n"
     ]
    },
    {
     "name": "stderr",
     "output_type": "stream",
     "text": [
      "\r",
      " 91%|█████████ | 1153/1271 [1:39:07<16:39,  8.47s/it]"
     ]
    },
    {
     "name": "stdout",
     "output_type": "stream",
     "text": [
      "KX-A5B0-5-INVOICE-004258-CMAU0053366-1.png --> done\n",
      "3.7878646850585938\n"
     ]
    },
    {
     "name": "stderr",
     "output_type": "stream",
     "text": [
      "\r",
      " 91%|█████████ | 1154/1271 [1:39:24<21:15, 10.90s/it]"
     ]
    },
    {
     "name": "stdout",
     "output_type": "stream",
     "text": [
      "KX-A5B0-TEMP-2739-shipmentId-INVM302021EXP51-1.png --> done\n",
      "16.551047325134277\n"
     ]
    },
    {
     "name": "stderr",
     "output_type": "stream",
     "text": [
      "\r",
      " 91%|█████████ | 1155/1271 [1:39:34<20:46, 10.75s/it]"
     ]
    },
    {
     "name": "stdout",
     "output_type": "stream",
     "text": [
      "KX-A5B0-TEMP-4257-CommericalInvoiceMCCIA-1.png --> done\n",
      "10.394233226776123\n"
     ]
    },
    {
     "name": "stderr",
     "output_type": "stream",
     "text": [
      "\r",
      " 91%|█████████ | 1156/1271 [1:39:37<16:15,  8.48s/it]"
     ]
    },
    {
     "name": "stdout",
     "output_type": "stream",
     "text": [
      "KX-B7H7-26-Shippingdocuemnts-CHN.7168-WHS-5252-5717353-1.png --> done\n",
      "3.190568208694458\n"
     ]
    },
    {
     "name": "stderr",
     "output_type": "stream",
     "text": [
      "\r",
      " 91%|█████████ | 1157/1271 [1:39:40<12:52,  6.78s/it]"
     ]
    },
    {
     "name": "stdout",
     "output_type": "stream",
     "text": [
      "KX-B7H7-40-2873201POWHS-14556-6496315041020-1.png --> done\n",
      "2.80114483833313\n"
     ]
    },
    {
     "name": "stderr",
     "output_type": "stream",
     "text": [
      "\r",
      " 91%|█████████ | 1158/1271 [1:39:43<10:46,  5.72s/it]"
     ]
    },
    {
     "name": "stdout",
     "output_type": "stream",
     "text": [
      "KX-B7H7-41-2872699INVOICEPACKINGLISTPOWHS-14556-6496296SHEETSETCINCINNA....xls-Group-CompatibilityMode-2.png --> done\n",
      "3.251349925994873\n"
     ]
    },
    {
     "name": "stderr",
     "output_type": "stream",
     "text": [
      "\r",
      " 91%|█████████ | 1159/1271 [1:39:47<09:41,  5.19s/it]"
     ]
    },
    {
     "name": "stdout",
     "output_type": "stream",
     "text": [
      "KX-B7H7-43-KX-B7H7-43CI-1.png --> done\n",
      "3.9616544246673584\n"
     ]
    },
    {
     "name": "stderr",
     "output_type": "stream",
     "text": [
      "\r",
      " 91%|█████████▏| 1160/1271 [1:39:50<08:28,  4.58s/it]"
     ]
    },
    {
     "name": "stdout",
     "output_type": "stream",
     "text": [
      "KX-B7H7-46-2020.4.19WHS-1353-6740458Wayfair.xls-Group-CompatibilityMode-1.png --> done\n",
      "3.1530396938323975\n"
     ]
    },
    {
     "name": "stderr",
     "output_type": "stream",
     "text": [
      "\r",
      " 91%|█████████▏| 1161/1271 [1:39:53<07:26,  4.06s/it]"
     ]
    },
    {
     "name": "stdout",
     "output_type": "stream",
     "text": [
      "KX-B7H7-47-2020.4.23WHS-1353-6740460Wayfair1.xls-Group-CompatibilityMode-1.png --> done\n",
      "2.8397462368011475\n"
     ]
    },
    {
     "name": "stderr",
     "output_type": "stream",
     "text": [
      "\r",
      " 91%|█████████▏| 1162/1271 [1:39:58<07:39,  4.21s/it]"
     ]
    },
    {
     "name": "stdout",
     "output_type": "stream",
     "text": [
      "KX-B7H7-48-WHS-1258-6894821ci-1.png --> done\n",
      "4.574981212615967\n"
     ]
    },
    {
     "name": "stderr",
     "output_type": "stream",
     "text": [
      "\r",
      " 92%|█████████▏| 1163/1271 [1:40:04<08:22,  4.65s/it]"
     ]
    },
    {
     "name": "stdout",
     "output_type": "stream",
     "text": [
      "KX-B7H7-49-2903906INVOICEPACKINGLISTPOWHS-14556-6496295SHEETSETCINCINNATI.xls-Group-Read-Only-CompatibilityMode-3.png --> done\n",
      "5.669530868530273\n"
     ]
    },
    {
     "name": "stderr",
     "output_type": "stream",
     "text": [
      "\r",
      " 92%|█████████▏| 1164/1271 [1:40:07<07:24,  4.16s/it]"
     ]
    },
    {
     "name": "stdout",
     "output_type": "stream",
     "text": [
      "KX-B7H7-49-2903906POWHS-14556-64962950423201-2.png --> done\n",
      "3.004443883895874\n"
     ]
    },
    {
     "name": "stderr",
     "output_type": "stream",
     "text": [
      "\r",
      " 92%|█████████▏| 1165/1271 [1:40:09<06:23,  3.62s/it]"
     ]
    },
    {
     "name": "stdout",
     "output_type": "stream",
     "text": [
      "KX-B7H7-50-KX-B7H7-50-2.png --> done\n",
      "2.3631608486175537\n"
     ]
    },
    {
     "name": "stderr",
     "output_type": "stream",
     "text": [
      "\r",
      " 92%|█████████▏| 1166/1271 [1:40:15<07:46,  4.44s/it]"
     ]
    },
    {
     "name": "stdout",
     "output_type": "stream",
     "text": [
      "KX-B7H7-56-2961752AINVOICEPACKINGLISTPOWHS-14556-6496326SHEETSETLACONT...11.xls-Group-Read-Only-CompatibilityMode-2.png --> done\n",
      "6.349865436553955\n"
     ]
    },
    {
     "name": "stderr",
     "output_type": "stream",
     "text": [
      "\r",
      " 92%|█████████▏| 1167/1271 [1:40:18<07:02,  4.07s/it]"
     ]
    },
    {
     "name": "stdout",
     "output_type": "stream",
     "text": [
      "KX-B7H7-63-WayfairCommercialInvoicePO10805-6713421-2.png --> done\n",
      "3.1944360733032227\n"
     ]
    },
    {
     "name": "stderr",
     "output_type": "stream",
     "text": [
      "\r",
      " 92%|█████████▏| 1168/1271 [1:40:21<06:11,  3.61s/it]"
     ]
    },
    {
     "name": "stdout",
     "output_type": "stream",
     "text": [
      "KX-B7H7-65-WayfairCommercialInvoicePO10805-67134192-7.png --> done\n",
      "2.5318245887756348\n"
     ]
    },
    {
     "name": "stderr",
     "output_type": "stream",
     "text": [
      "\r",
      " 92%|█████████▏| 1169/1271 [1:40:25<06:23,  3.76s/it]"
     ]
    },
    {
     "name": "stdout",
     "output_type": "stream",
     "text": [
      "KX-C1F8-250-KN-MERGE-107640_BMOU5716047_SD-1.png --> done\n",
      "4.1057281494140625\n"
     ]
    },
    {
     "name": "stderr",
     "output_type": "stream",
     "text": [
      "\r",
      " 92%|█████████▏| 1170/1271 [1:40:29<06:21,  3.78s/it]"
     ]
    },
    {
     "name": "stdout",
     "output_type": "stream",
     "text": [
      "KX-C1F8-267-KN-MERGE-107861_YMMU6053638_CIPL-1.png --> done\n",
      "3.8176655769348145\n"
     ]
    },
    {
     "name": "stderr",
     "output_type": "stream",
     "text": [
      "\r",
      " 92%|█████████▏| 1171/1271 [1:40:33<06:36,  3.97s/it]"
     ]
    },
    {
     "name": "stdout",
     "output_type": "stream",
     "text": [
      "KX-C3J8-10-PO18854CI-PL-LCHART-PPPPage12-ESOFORMAT-1.png --> done\n",
      "4.421906232833862\n"
     ]
    },
    {
     "name": "stderr",
     "output_type": "stream",
     "text": [
      "\r",
      " 92%|█████████▏| 1172/1271 [1:40:38<06:49,  4.13s/it]"
     ]
    },
    {
     "name": "stdout",
     "output_type": "stream",
     "text": [
      "KX-C3J8-47-PO18858CI-PL-LCHART-PPPPage12-ESOFORMAT-1.png --> done\n",
      "4.514876842498779\n"
     ]
    },
    {
     "name": "stderr",
     "output_type": "stream",
     "text": [
      "\r",
      " 92%|█████████▏| 1173/1271 [1:40:42<06:35,  4.04s/it]"
     ]
    },
    {
     "name": "stdout",
     "output_type": "stream",
     "text": [
      "KX-C3J8-87-PI-CI-PL-LCHART-PPPPage12PO-19183-1.png --> done\n",
      "3.8219892978668213\n"
     ]
    },
    {
     "name": "stderr",
     "output_type": "stream",
     "text": [
      "\r",
      " 92%|█████████▏| 1174/1271 [1:40:45<06:20,  3.92s/it]"
     ]
    },
    {
     "name": "stdout",
     "output_type": "stream",
     "text": [
      "KX-C3J8-TEMP-4612-CI19157-1.png --> done\n",
      "3.6354482173919678\n"
     ]
    },
    {
     "name": "stderr",
     "output_type": "stream",
     "text": [
      "\r",
      " 92%|█████████▏| 1175/1271 [1:40:50<06:36,  4.13s/it]"
     ]
    },
    {
     "name": "stdout",
     "output_type": "stream",
     "text": [
      "KX-C5A9-5-File_19060609360-4.png --> done\n",
      "4.605595827102661\n"
     ]
    },
    {
     "name": "stderr",
     "output_type": "stream",
     "text": [
      "\r",
      " 93%|█████████▎| 1176/1271 [1:40:53<05:59,  3.79s/it]"
     ]
    },
    {
     "name": "stdout",
     "output_type": "stream",
     "text": [
      "KX-C8B5-7-CIPL-1.png --> done\n",
      "2.987867593765259\n"
     ]
    },
    {
     "name": "stderr",
     "output_type": "stream",
     "text": [
      "\r",
      " 93%|█████████▎| 1177/1271 [1:40:56<05:28,  3.50s/it]"
     ]
    },
    {
     "name": "stdout",
     "output_type": "stream",
     "text": [
      "KX-C8B5-8-shipmentId-204491309XinhuiJBHUPackingListCommercialInvoice.xls-Group-CompatibilityMode-1.png --> done\n",
      "2.8155438899993896\n"
     ]
    },
    {
     "name": "stderr",
     "output_type": "stream",
     "text": [
      "\r",
      " 93%|█████████▎| 1178/1271 [1:40:59<05:12,  3.37s/it]"
     ]
    },
    {
     "name": "stdout",
     "output_type": "stream",
     "text": [
      "KX-C8B5-TEMP-3889-204652316XinhuiJBHUPackingListCommercialInvoice-XLS-1.png --> done\n",
      "3.053328275680542\n"
     ]
    },
    {
     "name": "stderr",
     "output_type": "stream",
     "text": [
      "\r",
      " 93%|█████████▎| 1179/1271 [1:41:02<05:00,  3.27s/it]"
     ]
    },
    {
     "name": "stdout",
     "output_type": "stream",
     "text": [
      "KX-C8B5-TEMP-3889-911130283XinhuiJBHUPackingListCommercialInvoice-XLS-1.png --> done\n",
      "3.0335772037506104\n"
     ]
    },
    {
     "name": "stderr",
     "output_type": "stream",
     "text": [
      "\r",
      " 93%|█████████▎| 1180/1271 [1:41:06<05:21,  3.53s/it]"
     ]
    },
    {
     "name": "stdout",
     "output_type": "stream",
     "text": [
      "KX-C9D9-3-KN-MERGE-CI20080242-CSZ20008614-PartB-XLS-1.png --> done\n",
      "4.143198013305664\n"
     ]
    },
    {
     "name": "stderr",
     "output_type": "stream",
     "text": [
      "\r",
      " 93%|█████████▎| 1181/1271 [1:41:10<05:27,  3.63s/it]"
     ]
    },
    {
     "name": "stdout",
     "output_type": "stream",
     "text": [
      "KX-C9D9-4-KN-MERGE-CI20080241-CSZ20008612-PartB-XLS-1.png --> done\n",
      "3.869267225265503\n"
     ]
    },
    {
     "name": "stderr",
     "output_type": "stream",
     "text": [
      "\r",
      " 93%|█████████▎| 1182/1271 [1:41:12<04:36,  3.11s/it]"
     ]
    },
    {
     "name": "stdout",
     "output_type": "stream",
     "text": [
      "KX-D4A3-2-BPM182436docs2-1.png --> done\n",
      "1.8845829963684082\n"
     ]
    },
    {
     "name": "stderr",
     "output_type": "stream",
     "text": [
      "\r",
      " 93%|█████████▎| 1183/1271 [1:41:13<03:54,  2.66s/it]"
     ]
    },
    {
     "name": "stdout",
     "output_type": "stream",
     "text": [
      "KX-D4A3-7-KlearExpress-3.png --> done\n",
      "1.6121139526367188\n"
     ]
    },
    {
     "name": "stderr",
     "output_type": "stream",
     "text": [
      "\r",
      " 93%|█████████▎| 1184/1271 [1:41:15<03:32,  2.44s/it]"
     ]
    },
    {
     "name": "stdout",
     "output_type": "stream",
     "text": [
      "KX-D4A3-8-BPM182566packinglistandinvoice-2.png --> done\n",
      "1.9424047470092773\n"
     ]
    },
    {
     "name": "stderr",
     "output_type": "stream",
     "text": [
      "\r",
      " 93%|█████████▎| 1185/1271 [1:41:21<04:57,  3.46s/it]"
     ]
    },
    {
     "name": "stdout",
     "output_type": "stream",
     "text": [
      "KX-D7B8-18-HeliAmericas-A04202181-4.png --> done\n",
      "5.828289747238159\n"
     ]
    },
    {
     "name": "stderr",
     "output_type": "stream",
     "text": [
      "\r",
      " 93%|█████████▎| 1186/1271 [1:41:25<05:08,  3.63s/it]"
     ]
    },
    {
     "name": "stdout",
     "output_type": "stream",
     "text": [
      "KX-D7B8-18-HeliAmericas-A04202181-5.png --> done\n",
      "4.029198408126831\n"
     ]
    },
    {
     "name": "stderr",
     "output_type": "stream",
     "text": [
      "\r",
      " 93%|█████████▎| 1187/1271 [1:41:31<06:06,  4.36s/it]"
     ]
    },
    {
     "name": "stdout",
     "output_type": "stream",
     "text": [
      "KX-D7B8-19-HeliAmericas-A0420555-4.png --> done\n",
      "6.061302900314331\n"
     ]
    },
    {
     "name": "stderr",
     "output_type": "stream",
     "text": [
      "\r",
      " 93%|█████████▎| 1188/1271 [1:41:39<07:18,  5.28s/it]"
     ]
    },
    {
     "name": "stdout",
     "output_type": "stream",
     "text": [
      "KX-D7B8-TEMP-525-Heli-A0420539-5.png --> done\n",
      "7.421466588973999\n"
     ]
    },
    {
     "name": "stderr",
     "output_type": "stream",
     "text": [
      "\r",
      " 94%|█████████▎| 1189/1271 [1:41:42<06:16,  4.60s/it]"
     ]
    },
    {
     "name": "stdout",
     "output_type": "stream",
     "text": [
      "KX-D8G2-1-20200720130820657-2.png --> done\n",
      "3.0020883083343506\n"
     ]
    },
    {
     "name": "stderr",
     "output_type": "stream",
     "text": [
      "\r",
      " 94%|█████████▎| 1190/1271 [1:41:44<05:22,  3.98s/it]"
     ]
    },
    {
     "name": "stdout",
     "output_type": "stream",
     "text": [
      "KX-E5F7-2-CI-EX19-11231223.xlsx-Read-Only-1.png --> done\n",
      "2.541041374206543\n"
     ]
    },
    {
     "name": "stderr",
     "output_type": "stream",
     "text": [
      "\r",
      " 94%|█████████▎| 1191/1271 [1:41:48<05:04,  3.81s/it]"
     ]
    },
    {
     "name": "stdout",
     "output_type": "stream",
     "text": [
      "KX-E5G4-5-912documents-16.png --> done\n",
      "3.411792516708374\n"
     ]
    },
    {
     "name": "stderr",
     "output_type": "stream",
     "text": [
      "\r",
      " 94%|█████████▍| 1192/1271 [1:41:51<04:53,  3.71s/it]"
     ]
    },
    {
     "name": "stdout",
     "output_type": "stream",
     "text": [
      "KX-E5G4-5-912documents-17.png --> done\n",
      "3.485564708709717\n"
     ]
    },
    {
     "name": "stderr",
     "output_type": "stream",
     "text": [
      "\r",
      " 94%|█████████▍| 1193/1271 [1:41:54<04:28,  3.45s/it]"
     ]
    },
    {
     "name": "stdout",
     "output_type": "stream",
     "text": [
      "KX-E5G4-5-912documents-18.png --> done\n",
      "2.8185534477233887\n"
     ]
    },
    {
     "name": "stderr",
     "output_type": "stream",
     "text": [
      "\r",
      " 94%|█████████▍| 1194/1271 [1:41:58<04:40,  3.64s/it]"
     ]
    },
    {
     "name": "stdout",
     "output_type": "stream",
     "text": [
      "KX-E5G4-6-BLCIPL-1.png --> done\n",
      "4.099113941192627\n"
     ]
    },
    {
     "name": "stderr",
     "output_type": "stream",
     "text": [
      "\r",
      " 94%|█████████▍| 1195/1271 [1:42:01<04:30,  3.56s/it]"
     ]
    },
    {
     "name": "stdout",
     "output_type": "stream",
     "text": [
      "KX-F6F3-13-shipmentId-I-212W-IIC-STEVESILVER-3.png --> done\n",
      "3.382267475128174\n"
     ]
    },
    {
     "name": "stderr",
     "output_type": "stream",
     "text": [
      "\r",
      " 94%|█████████▍| 1196/1271 [1:42:04<04:01,  3.21s/it]"
     ]
    },
    {
     "name": "stdout",
     "output_type": "stream",
     "text": [
      "KX-H0F2-14-inandpl-1.png --> done\n",
      "2.392207622528076\n"
     ]
    },
    {
     "name": "stderr",
     "output_type": "stream",
     "text": [
      "\r",
      " 94%|█████████▍| 1197/1271 [1:42:07<03:52,  3.14s/it]"
     ]
    },
    {
     "name": "stdout",
     "output_type": "stream",
     "text": [
      "KX-H0F2-23-CIPLLY20025-1.png --> done\n",
      "2.9843509197235107\n"
     ]
    },
    {
     "name": "stderr",
     "output_type": "stream",
     "text": [
      "\r",
      " 94%|█████████▍| 1198/1271 [1:42:09<03:39,  3.00s/it]"
     ]
    },
    {
     "name": "stdout",
     "output_type": "stream",
     "text": [
      "KX-H0F2-24-KN-MERGE-INVOICEJJ72.xlsx-Group-Read-Only-2.png --> done\n",
      "2.676283121109009\n"
     ]
    },
    {
     "name": "stderr",
     "output_type": "stream",
     "text": [
      "\r",
      " 94%|█████████▍| 1199/1271 [1:42:13<03:47,  3.16s/it]"
     ]
    },
    {
     "name": "stdout",
     "output_type": "stream",
     "text": [
      "KX-H0F2-25-INV-1.png --> done\n",
      "3.5011608600616455\n"
     ]
    },
    {
     "name": "stderr",
     "output_type": "stream",
     "text": [
      "\r",
      " 94%|█████████▍| 1200/1271 [1:42:16<03:41,  3.12s/it]"
     ]
    },
    {
     "name": "stdout",
     "output_type": "stream",
     "text": [
      "KX-H0F2-4-CommInvoice91-1.png --> done\n",
      "3.046231985092163\n"
     ]
    },
    {
     "name": "stderr",
     "output_type": "stream",
     "text": [
      "\r",
      " 94%|█████████▍| 1201/1271 [1:42:23<05:04,  4.35s/it]"
     ]
    },
    {
     "name": "stdout",
     "output_type": "stream",
     "text": [
      "KX-H3H4-1408.png --> done\n",
      "7.213373184204102\n"
     ]
    },
    {
     "name": "stderr",
     "output_type": "stream",
     "text": [
      "\r",
      " 95%|█████████▍| 1202/1271 [1:42:25<04:09,  3.61s/it]"
     ]
    },
    {
     "name": "stdout",
     "output_type": "stream",
     "text": [
      "KX-H3H4-298.png --> done\n",
      "1.8916046619415283\n"
     ]
    },
    {
     "name": "stderr",
     "output_type": "stream",
     "text": [
      "\r",
      " 95%|█████████▍| 1203/1271 [1:42:29<04:01,  3.56s/it]"
     ]
    },
    {
     "name": "stdout",
     "output_type": "stream",
     "text": [
      "KX-H3H4-405.png --> done\n",
      "3.4287197589874268\n"
     ]
    },
    {
     "name": "stderr",
     "output_type": "stream",
     "text": [
      "\r",
      " 95%|█████████▍| 1204/1271 [1:42:32<04:03,  3.64s/it]"
     ]
    },
    {
     "name": "stdout",
     "output_type": "stream",
     "text": [
      "KX-H3H4-655.png --> done\n",
      "3.8351995944976807\n"
     ]
    },
    {
     "name": "stderr",
     "output_type": "stream",
     "text": [
      "\r",
      " 95%|█████████▍| 1205/1271 [1:42:35<03:32,  3.22s/it]"
     ]
    },
    {
     "name": "stdout",
     "output_type": "stream",
     "text": [
      "KX-H3H4-785.png --> done\n",
      "2.2445783615112305\n"
     ]
    },
    {
     "name": "stderr",
     "output_type": "stream",
     "text": [
      "\r",
      " 95%|█████████▍| 1206/1271 [1:42:37<03:21,  3.11s/it]"
     ]
    },
    {
     "name": "stdout",
     "output_type": "stream",
     "text": [
      "KX-H3H4-838.png --> done\n",
      "2.8342411518096924\n"
     ]
    },
    {
     "name": "stderr",
     "output_type": "stream",
     "text": [
      "\r",
      " 95%|█████████▍| 1207/1271 [1:42:43<04:11,  3.93s/it]"
     ]
    },
    {
     "name": "stdout",
     "output_type": "stream",
     "text": [
      "KX-I7C0-2-Invoice-CakeandtooInc.-202005008forUSimportrev-1.png --> done\n",
      "5.840108156204224\n"
     ]
    },
    {
     "name": "stderr",
     "output_type": "stream",
     "text": [
      "\r",
      " 95%|█████████▌| 1208/1271 [1:42:48<04:24,  4.19s/it]"
     ]
    },
    {
     "name": "stdout",
     "output_type": "stream",
     "text": [
      "KX-I7F1-1-INV-AE-086-2019PDHOMEUSA-1.png --> done\n",
      "4.804926633834839\n"
     ]
    },
    {
     "name": "stderr",
     "output_type": "stream",
     "text": [
      "\r",
      " 95%|█████████▌| 1209/1271 [1:42:52<04:06,  3.98s/it]"
     ]
    },
    {
     "name": "stdout",
     "output_type": "stream",
     "text": [
      "KX-I7F1-2-ARO-008InvoicePackingList-PDHOME-1.png --> done\n",
      "3.474108934402466\n"
     ]
    },
    {
     "name": "stderr",
     "output_type": "stream",
     "text": [
      "\r",
      " 95%|█████████▌| 1210/1271 [1:42:57<04:30,  4.43s/it]"
     ]
    },
    {
     "name": "stdout",
     "output_type": "stream",
     "text": [
      "KX-I7F1-3-INVOICE-1.png --> done\n",
      "5.482181787490845\n"
     ]
    },
    {
     "name": "stderr",
     "output_type": "stream",
     "text": [
      "\r",
      " 95%|█████████▌| 1211/1271 [1:43:01<04:24,  4.41s/it]"
     ]
    },
    {
     "name": "stdout",
     "output_type": "stream",
     "text": [
      "KX-I7F1-6-2281INV1-1.png --> done\n",
      "4.3594748973846436\n"
     ]
    },
    {
     "name": "stderr",
     "output_type": "stream",
     "text": [
      "\r",
      " 95%|█████████▌| 1212/1271 [1:43:06<04:30,  4.59s/it]"
     ]
    },
    {
     "name": "stdout",
     "output_type": "stream",
     "text": [
      "KX-I7F1-7-INVOICEPDHOME-1.png --> done\n",
      "5.016411542892456\n"
     ]
    },
    {
     "name": "stderr",
     "output_type": "stream",
     "text": [
      "\r",
      " 95%|█████████▌| 1213/1271 [1:43:10<04:07,  4.26s/it]"
     ]
    },
    {
     "name": "stdout",
     "output_type": "stream",
     "text": [
      "KX-I7F1-8-P8174PL-1.png --> done\n",
      "3.503814935684204\n"
     ]
    },
    {
     "name": "stderr",
     "output_type": "stream",
     "text": [
      "\r",
      " 96%|█████████▌| 1214/1271 [1:43:15<04:11,  4.41s/it]"
     ]
    },
    {
     "name": "stdout",
     "output_type": "stream",
     "text": [
      "KX-I7F1-9-P8015DOCS-1.png --> done\n",
      "4.756082773208618\n"
     ]
    },
    {
     "name": "stderr",
     "output_type": "stream",
     "text": [
      "\r",
      " 96%|█████████▌| 1215/1271 [1:43:18<03:55,  4.21s/it]"
     ]
    },
    {
     "name": "stdout",
     "output_type": "stream",
     "text": [
      "KX-I7G9-1-SHIPPINGDOCUMENTS24217-1.png --> done\n",
      "3.7269320487976074\n"
     ]
    },
    {
     "name": "stderr",
     "output_type": "stream",
     "text": [
      "\r",
      " 96%|█████████▌| 1216/1271 [1:43:21<03:30,  3.83s/it]"
     ]
    },
    {
     "name": "stdout",
     "output_type": "stream",
     "text": [
      "KX-J2I2-2-CAIU6428240-PLINVOICECustomClearance1.xls-Group-Read-Only-CompatibilityMode-2.png --> done\n",
      "2.937835454940796\n"
     ]
    },
    {
     "name": "stderr",
     "output_type": "stream",
     "text": [
      "\r",
      " 96%|█████████▌| 1217/1271 [1:43:26<03:32,  3.93s/it]"
     ]
    },
    {
     "name": "stdout",
     "output_type": "stream",
     "text": [
      "KX-J3H7-30-KN-MERGE-38716-INV-1.png --> done\n",
      "4.161182403564453\n"
     ]
    },
    {
     "name": "stderr",
     "output_type": "stream",
     "text": [
      "\r",
      " 96%|█████████▌| 1218/1271 [1:43:28<03:09,  3.58s/it]"
     ]
    },
    {
     "name": "stdout",
     "output_type": "stream",
     "text": [
      "KX-J3H7-44-KN-MERGE-38660-IN-XLS-1.png --> done\n",
      "2.7700204849243164\n"
     ]
    },
    {
     "name": "stderr",
     "output_type": "stream",
     "text": [
      "\r",
      " 96%|█████████▌| 1219/1271 [1:43:31<02:52,  3.32s/it]"
     ]
    },
    {
     "name": "stdout",
     "output_type": "stream",
     "text": [
      "KX-J3H7-45-KN-MERGE-38663-IN-XLS-1.png --> done\n",
      "2.705382823944092\n"
     ]
    },
    {
     "name": "stderr",
     "output_type": "stream",
     "text": [
      "\r",
      " 96%|█████████▌| 1220/1271 [1:43:36<03:18,  3.89s/it]"
     ]
    },
    {
     "name": "stdout",
     "output_type": "stream",
     "text": [
      "KX-J3H7-49-KN-MERGE-PO38073INV-1.png --> done\n",
      "5.217257499694824\n"
     ]
    },
    {
     "name": "stderr",
     "output_type": "stream",
     "text": [
      "\r",
      " 96%|█████████▌| 1221/1271 [1:43:42<03:36,  4.32s/it]"
     ]
    },
    {
     "name": "stdout",
     "output_type": "stream",
     "text": [
      "KX-J3H7-50-KN-MERGE-PO38084INV-1.png --> done\n",
      "5.328294992446899\n"
     ]
    },
    {
     "name": "stderr",
     "output_type": "stream",
     "text": [
      "\r",
      " 96%|█████████▌| 1222/1271 [1:43:46<03:30,  4.30s/it]"
     ]
    },
    {
     "name": "stdout",
     "output_type": "stream",
     "text": [
      "KX-J3H7-51-CopyofInvoicePO38659FDBCI0180079-1.png --> done\n",
      "4.246060371398926\n"
     ]
    },
    {
     "name": "stderr",
     "output_type": "stream",
     "text": [
      "\r",
      " 96%|█████████▌| 1223/1271 [1:43:49<03:10,  3.97s/it]"
     ]
    },
    {
     "name": "stdout",
     "output_type": "stream",
     "text": [
      "KX-J3H7-62-KN-MERGE-INV-MY2009001_38693-1.png --> done\n",
      "3.2092998027801514\n"
     ]
    },
    {
     "name": "stderr",
     "output_type": "stream",
     "text": [
      "\r",
      " 96%|█████████▋| 1224/1271 [1:43:52<02:52,  3.67s/it]"
     ]
    },
    {
     "name": "stdout",
     "output_type": "stream",
     "text": [
      "KX-J3H7-82-39479comercialdoc-1.png --> done\n",
      "2.9476115703582764\n"
     ]
    },
    {
     "name": "stderr",
     "output_type": "stream",
     "text": [
      "\r",
      " 96%|█████████▋| 1225/1271 [1:43:54<02:32,  3.32s/it]"
     ]
    },
    {
     "name": "stdout",
     "output_type": "stream",
     "text": [
      "KX-J3H7-90-KN-MERGE-INVPL-38698--XLS-1.png --> done\n",
      "2.504673719406128\n"
     ]
    },
    {
     "name": "stderr",
     "output_type": "stream",
     "text": [
      "\r",
      " 96%|█████████▋| 1226/1271 [1:43:57<02:17,  3.05s/it]"
     ]
    },
    {
     "name": "stdout",
     "output_type": "stream",
     "text": [
      "KX-J5A9-TEMP-2367-BSIU2483374-PLINVOICECustomClearance-XLS-3.png --> done\n",
      "2.415470600128174\n"
     ]
    },
    {
     "name": "stderr",
     "output_type": "stream",
     "text": [
      "\r",
      " 97%|█████████▋| 1227/1271 [1:43:59<02:05,  2.85s/it]"
     ]
    },
    {
     "name": "stdout",
     "output_type": "stream",
     "text": [
      "KX-J5A9-TEMP-2367-OOCU8299500PLINVOICECustomClearance-XLS-5.png --> done\n",
      "2.3756017684936523\n"
     ]
    },
    {
     "name": "stderr",
     "output_type": "stream",
     "text": [
      "\r",
      " 97%|█████████▋| 1228/1271 [1:44:02<01:56,  2.72s/it]"
     ]
    },
    {
     "name": "stdout",
     "output_type": "stream",
     "text": [
      "KX-J5A9-TEMP-2367-OOLU0785729PLINVOICECustomClearance-XLS-1.png --> done\n",
      "2.4148387908935547\n"
     ]
    },
    {
     "name": "stderr",
     "output_type": "stream",
     "text": [
      "\r",
      " 97%|█████████▋| 1229/1271 [1:44:04<01:45,  2.52s/it]"
     ]
    },
    {
     "name": "stdout",
     "output_type": "stream",
     "text": [
      "KX-J5A9-TEMP-523-JD_14069_2-1.png --> done\n",
      "2.0555293560028076\n"
     ]
    },
    {
     "name": "stderr",
     "output_type": "stream",
     "text": [
      "\r",
      " 97%|█████████▋| 1230/1271 [1:44:06<01:38,  2.39s/it]"
     ]
    },
    {
     "name": "stdout",
     "output_type": "stream",
     "text": [
      "KX-K2C8-15-JASAirFreight2020-17-07-INVOICE-XLS-1.png --> done\n",
      "2.101926326751709\n"
     ]
    },
    {
     "name": "stderr",
     "output_type": "stream",
     "text": [
      "\r",
      " 97%|█████████▋| 1231/1271 [1:44:08<01:33,  2.34s/it]"
     ]
    },
    {
     "name": "stdout",
     "output_type": "stream",
     "text": [
      "KX-K2C8-4-R06022020-1.png --> done\n",
      "2.193439245223999\n"
     ]
    },
    {
     "name": "stderr",
     "output_type": "stream",
     "text": [
      "\r",
      " 97%|█████████▋| 1232/1271 [1:44:14<02:10,  3.34s/it]"
     ]
    },
    {
     "name": "stdout",
     "output_type": "stream",
     "text": [
      "KX-K2C8-5-20200216111125976-2.png --> done\n",
      "5.667115211486816\n"
     ]
    },
    {
     "name": "stderr",
     "output_type": "stream",
     "text": [
      "\r",
      " 97%|█████████▋| 1233/1271 [1:44:19<02:26,  3.87s/it]"
     ]
    },
    {
     "name": "stdout",
     "output_type": "stream",
     "text": [
      "KX-K2C8-6-TimberwayInvoice-1.png --> done\n",
      "5.10972261428833\n"
     ]
    },
    {
     "name": "stderr",
     "output_type": "stream",
     "text": [
      "\r",
      " 97%|█████████▋| 1234/1271 [1:44:22<02:15,  3.66s/it]"
     ]
    },
    {
     "name": "stdout",
     "output_type": "stream",
     "text": [
      "KX-K3D8-1-P0006TDI-SEA787PLINV-XLS-1.png --> done\n",
      "3.1685667037963867\n"
     ]
    },
    {
     "name": "stderr",
     "output_type": "stream",
     "text": [
      "\r",
      " 97%|█████████▋| 1235/1271 [1:44:25<02:02,  3.40s/it]"
     ]
    },
    {
     "name": "stdout",
     "output_type": "stream",
     "text": [
      "KX-M4B4-1-CommercialDocuments-POAAA.409-WHS-12211-7970351-2.png --> done\n",
      "2.8011484146118164\n"
     ]
    },
    {
     "name": "stderr",
     "output_type": "stream",
     "text": [
      "\r",
      " 97%|█████████▋| 1236/1271 [1:44:28<01:57,  3.37s/it]"
     ]
    },
    {
     "name": "stdout",
     "output_type": "stream",
     "text": [
      "KX-M4B4-10-KN-MERGE-CommercialDocuments-POAAA.408-WHS-12211-7970357-1.png --> done\n",
      "3.29020094871521\n"
     ]
    },
    {
     "name": "stderr",
     "output_type": "stream",
     "text": [
      "\r",
      " 97%|█████████▋| 1237/1271 [1:44:31<01:53,  3.34s/it]"
     ]
    },
    {
     "name": "stdout",
     "output_type": "stream",
     "text": [
      "KX-M4B4-11-KN-MERGE-CommercialDocuments-POAAA.405-WHS-12211-7970348-2.png --> done\n",
      "3.2681593894958496\n"
     ]
    },
    {
     "name": "stderr",
     "output_type": "stream",
     "text": [
      "\r",
      " 97%|█████████▋| 1238/1271 [1:44:35<01:52,  3.39s/it]"
     ]
    },
    {
     "name": "stdout",
     "output_type": "stream",
     "text": [
      "KX-M4B4-12-CommercialDocuments-POAAA.403-404-WHS-12211-7970349WHS-12211-797...-2.png --> done\n",
      "3.525355100631714\n"
     ]
    },
    {
     "name": "stderr",
     "output_type": "stream",
     "text": [
      "\r",
      " 97%|█████████▋| 1239/1271 [1:44:38<01:43,  3.22s/it]"
     ]
    },
    {
     "name": "stdout",
     "output_type": "stream",
     "text": [
      "KX-M4B4-13-KN-MERGE-CommercialDocuments-POAAA.416-WHS-12211-7970361-2.png --> done\n",
      "2.8087456226348877\n"
     ]
    },
    {
     "name": "stderr",
     "output_type": "stream",
     "text": [
      "\r",
      " 98%|█████████▊| 1240/1271 [1:44:40<01:30,  2.92s/it]"
     ]
    },
    {
     "name": "stdout",
     "output_type": "stream",
     "text": [
      "KX-M4B4-2-CommercialDocuments-POAAA.413-WHS-12211-7970354-2.png --> done\n",
      "2.204167127609253\n"
     ]
    },
    {
     "name": "stderr",
     "output_type": "stream",
     "text": [
      "\r",
      " 98%|█████████▊| 1241/1271 [1:44:43<01:25,  2.85s/it]"
     ]
    },
    {
     "name": "stdout",
     "output_type": "stream",
     "text": [
      "KX-M4B4-3-CommercialDocuments-POAAA.414-WHS-12211-7970358-2.png --> done\n",
      "2.699023723602295\n"
     ]
    },
    {
     "name": "stderr",
     "output_type": "stream",
     "text": [
      "\r",
      " 98%|█████████▊| 1242/1271 [1:44:48<01:44,  3.62s/it]"
     ]
    },
    {
     "name": "stdout",
     "output_type": "stream",
     "text": [
      "KX-M8B0-1-JORDANS-POMODUC1205900A-INV-1.png --> done\n",
      "5.4102089405059814\n"
     ]
    },
    {
     "name": "stderr",
     "output_type": "stream",
     "text": [
      "\r",
      " 98%|█████████▊| 1243/1271 [1:44:57<02:22,  5.08s/it]"
     ]
    },
    {
     "name": "stdout",
     "output_type": "stream",
     "text": [
      "KX-M8B0-13-DS.25615-MACY-INV-1.png --> done\n",
      "8.49907112121582\n"
     ]
    },
    {
     "name": "stderr",
     "output_type": "stream",
     "text": [
      "\r",
      " 98%|█████████▊| 1244/1271 [1:45:00<02:07,  4.71s/it]"
     ]
    },
    {
     "name": "stdout",
     "output_type": "stream",
     "text": [
      "KX-M8B0-2-JORDANS-MODUC1122900B-INV4-1.png --> done\n",
      "3.8373560905456543\n"
     ]
    },
    {
     "name": "stderr",
     "output_type": "stream",
     "text": [
      "\r",
      " 98%|█████████▊| 1245/1271 [1:45:05<02:01,  4.68s/it]"
     ]
    },
    {
     "name": "stdout",
     "output_type": "stream",
     "text": [
      "KX-M8B0-6-CommercialInvoice-1.png --> done\n",
      "4.619913101196289\n"
     ]
    },
    {
     "name": "stderr",
     "output_type": "stream",
     "text": [
      "\r",
      " 98%|█████████▊| 1246/1271 [1:45:08<01:47,  4.31s/it]"
     ]
    },
    {
     "name": "stdout",
     "output_type": "stream",
     "text": [
      "KX-M8B0-7-DS.25565-ordansFurniture-INVOICE-1.png --> done\n",
      "3.449988603591919\n"
     ]
    },
    {
     "name": "stderr",
     "output_type": "stream",
     "text": [
      "\r",
      " 98%|█████████▊| 1247/1271 [1:45:14<01:51,  4.63s/it]"
     ]
    },
    {
     "name": "stdout",
     "output_type": "stream",
     "text": [
      "KX-Q1G6-113-Leather1-1.png --> done\n",
      "5.379996061325073\n"
     ]
    },
    {
     "name": "stderr",
     "output_type": "stream",
     "text": [
      "\r",
      " 98%|█████████▊| 1248/1271 [1:45:18<01:43,  4.50s/it]"
     ]
    },
    {
     "name": "stdout",
     "output_type": "stream",
     "text": [
      "KX-Q1G6-114-118279INVforProductcharge-1.png --> done\n",
      "4.185098886489868\n"
     ]
    },
    {
     "name": "stderr",
     "output_type": "stream",
     "text": [
      "\r",
      " 98%|█████████▊| 1249/1271 [1:45:21<01:30,  4.10s/it]"
     ]
    },
    {
     "name": "stdout",
     "output_type": "stream",
     "text": [
      "KX-Q1G6-124-1205353docs-1.png --> done\n",
      "3.1623528003692627\n"
     ]
    },
    {
     "name": "stderr",
     "output_type": "stream",
     "text": [
      "\r",
      " 98%|█████████▊| 1250/1271 [1:45:27<01:35,  4.53s/it]"
     ]
    },
    {
     "name": "stdout",
     "output_type": "stream",
     "text": [
      "mx-us - Copy.png --> done\n",
      "5.541257619857788\n"
     ]
    },
    {
     "name": "stderr",
     "output_type": "stream",
     "text": [
      "\r",
      " 98%|█████████▊| 1251/1271 [1:45:33<01:39,  4.95s/it]"
     ]
    },
    {
     "name": "stdout",
     "output_type": "stream",
     "text": [
      "mx-us.png --> done\n",
      "5.927135467529297\n"
     ]
    },
    {
     "name": "stderr",
     "output_type": "stream",
     "text": [
      "\r",
      " 99%|█████████▊| 1252/1271 [1:45:37<01:28,  4.63s/it]"
     ]
    },
    {
     "name": "stdout",
     "output_type": "stream",
     "text": [
      "mx-us_CI - Copy.png --> done\n",
      "3.888040065765381\n"
     ]
    },
    {
     "name": "stderr",
     "output_type": "stream",
     "text": [
      "\r",
      " 99%|█████████▊| 1253/1271 [1:45:40<01:19,  4.41s/it]"
     ]
    },
    {
     "name": "stdout",
     "output_type": "stream",
     "text": [
      "mx-us_CI.png --> done\n",
      "3.8726980686187744\n"
     ]
    },
    {
     "name": "stderr",
     "output_type": "stream",
     "text": [
      "\r",
      " 99%|█████████▊| 1254/1271 [1:45:47<01:24,  4.98s/it]"
     ]
    },
    {
     "name": "stdout",
     "output_type": "stream",
     "text": [
      "ocean_supplier1 - Copy.png --> done\n",
      "6.302662134170532\n"
     ]
    },
    {
     "name": "stderr",
     "output_type": "stream",
     "text": [
      "\r",
      " 99%|█████████▊| 1255/1271 [1:45:53<01:24,  5.26s/it]"
     ]
    },
    {
     "name": "stdout",
     "output_type": "stream",
     "text": [
      "ocean_supplier1.png --> done\n",
      "5.936631202697754\n"
     ]
    },
    {
     "name": "stderr",
     "output_type": "stream",
     "text": [
      "\r",
      " 99%|█████████▉| 1256/1271 [1:45:57<01:15,  5.02s/it]"
     ]
    },
    {
     "name": "stdout",
     "output_type": "stream",
     "text": [
      "ocean_supplier2 - Copy.png --> done\n",
      "4.457864046096802\n"
     ]
    },
    {
     "name": "stderr",
     "output_type": "stream",
     "text": [
      "\r",
      " 99%|█████████▉| 1257/1271 [1:46:01<01:06,  4.76s/it]"
     ]
    },
    {
     "name": "stdout",
     "output_type": "stream",
     "text": [
      "ocean_supplier2.png --> done\n",
      "4.147305250167847\n"
     ]
    },
    {
     "name": "stderr",
     "output_type": "stream",
     "text": [
      "\r",
      " 99%|█████████▉| 1258/1271 [1:46:08<01:09,  5.33s/it]"
     ]
    },
    {
     "name": "stdout",
     "output_type": "stream",
     "text": [
      "ocean_supplier3 - Copy (2).png --> done\n",
      "6.636714935302734\n"
     ]
    },
    {
     "name": "stderr",
     "output_type": "stream",
     "text": [
      "\r",
      " 99%|█████████▉| 1259/1271 [1:46:15<01:08,  5.72s/it]"
     ]
    },
    {
     "name": "stdout",
     "output_type": "stream",
     "text": [
      "ocean_supplier3 - Copy - Copy.png --> done\n",
      "6.624099016189575\n"
     ]
    },
    {
     "name": "stderr",
     "output_type": "stream",
     "text": [
      "\r",
      " 99%|█████████▉| 1260/1271 [1:46:22<01:07,  6.11s/it]"
     ]
    },
    {
     "name": "stdout",
     "output_type": "stream",
     "text": [
      "ocean_supplier3 - Copy.png --> done\n",
      "7.038246393203735\n"
     ]
    },
    {
     "name": "stderr",
     "output_type": "stream",
     "text": [
      "\r",
      " 99%|█████████▉| 1261/1271 [1:46:28<01:01,  6.11s/it]"
     ]
    },
    {
     "name": "stdout",
     "output_type": "stream",
     "text": [
      "ocean_supplier3.png --> done\n",
      "6.10859489440918\n"
     ]
    },
    {
     "name": "stderr",
     "output_type": "stream",
     "text": [
      "\r",
      " 99%|█████████▉| 1262/1271 [1:46:37<01:03,  7.06s/it]"
     ]
    },
    {
     "name": "stdout",
     "output_type": "stream",
     "text": [
      "ocean_supplier4 - Copy.png --> done\n",
      "9.272204399108887\n"
     ]
    },
    {
     "name": "stderr",
     "output_type": "stream",
     "text": [
      "\r",
      " 99%|█████████▉| 1263/1271 [1:46:46<01:01,  7.68s/it]"
     ]
    },
    {
     "name": "stdout",
     "output_type": "stream",
     "text": [
      "ocean_supplier4.png --> done\n",
      "9.113138198852539\n"
     ]
    },
    {
     "name": "stderr",
     "output_type": "stream",
     "text": [
      "\r",
      " 99%|█████████▉| 1264/1271 [1:46:50<00:46,  6.62s/it]"
     ]
    },
    {
     "name": "stdout",
     "output_type": "stream",
     "text": [
      "ocean_supplier6 - Copy (2).png --> done\n",
      "4.16213059425354\n"
     ]
    },
    {
     "name": "stderr",
     "output_type": "stream",
     "text": [
      "\r",
      "100%|█████████▉| 1265/1271 [1:46:55<00:35,  5.93s/it]"
     ]
    },
    {
     "name": "stdout",
     "output_type": "stream",
     "text": [
      "ocean_supplier6 - Copy - Copy.png --> done\n",
      "4.312607526779175\n"
     ]
    },
    {
     "name": "stderr",
     "output_type": "stream",
     "text": [
      "\r",
      "100%|█████████▉| 1266/1271 [1:46:59<00:27,  5.57s/it]"
     ]
    },
    {
     "name": "stdout",
     "output_type": "stream",
     "text": [
      "ocean_supplier6 - Copy.png --> done\n",
      "4.727339744567871\n"
     ]
    },
    {
     "name": "stderr",
     "output_type": "stream",
     "text": [
      "\r",
      "100%|█████████▉| 1267/1271 [1:47:04<00:21,  5.31s/it]"
     ]
    },
    {
     "name": "stdout",
     "output_type": "stream",
     "text": [
      "ocean_supplier6.png --> done\n",
      "4.68885064125061\n"
     ]
    },
    {
     "name": "stderr",
     "output_type": "stream",
     "text": [
      "\r",
      "100%|█████████▉| 1268/1271 [1:47:09<00:15,  5.08s/it]"
     ]
    },
    {
     "name": "stdout",
     "output_type": "stream",
     "text": [
      "test_CI - Copy (2).png --> done\n",
      "4.535432577133179\n"
     ]
    },
    {
     "name": "stderr",
     "output_type": "stream",
     "text": [
      "\r",
      "100%|█████████▉| 1269/1271 [1:47:13<00:09,  4.96s/it]"
     ]
    },
    {
     "name": "stdout",
     "output_type": "stream",
     "text": [
      "test_CI - Copy (3).png --> done\n",
      "4.701979875564575\n"
     ]
    },
    {
     "name": "stderr",
     "output_type": "stream",
     "text": [
      "\r",
      "100%|█████████▉| 1270/1271 [1:47:18<00:04,  4.77s/it]"
     ]
    },
    {
     "name": "stdout",
     "output_type": "stream",
     "text": [
      "test_CI - Copy.png --> done\n",
      "4.304287433624268\n"
     ]
    },
    {
     "name": "stderr",
     "output_type": "stream",
     "text": [
      "100%|██████████| 1271/1271 [1:47:22<00:00,  5.07s/it]"
     ]
    },
    {
     "name": "stdout",
     "output_type": "stream",
     "text": [
      "test_CI.png --> done\n",
      "4.507946491241455\n"
     ]
    },
    {
     "name": "stderr",
     "output_type": "stream",
     "text": [
      "\n"
     ]
    }
   ],
   "source": [
    "def main():\n",
    "    base_path = 'C:/Users/KartikayGupta/NER/inference/infer_set/'\n",
    "    xml_df = xml_to_csv(base_path)\n",
    "    xml_df.to_excel('AN+BL_annotations.xlsx')\n",
    "    xml_df = pd.read_excel('AN+BL_annotations.xlsx', engine='openpyxl')\n",
    "\n",
    "    final_df = pd.DataFrame()\n",
    "    files = xml_df['filename'].unique()\n",
    "    i = 0\n",
    "    for file in tqdm(files):\n",
    "        tx_ls = []\n",
    "        start = time.time()\n",
    "        df = xml_df[xml_df['filename'] == file]\n",
    "        if not os.path.exists(base_path + file):\n",
    "            continue\n",
    "        vertexList = getTextGroupData(base_path + file)\n",
    "        for index, row in df.iterrows():\n",
    "            bbox = [row['xmin'], row['ymin'], row['xmax'], row['ymax']]\n",
    "            text = get_text_single_bbox(vertexList, bbox)\n",
    "            tx_ls.append(text)\n",
    "            final_df.loc[i, 'filename'] = file\n",
    "            final_df.loc[i, 'text'] = text\n",
    "            final_df.loc[i, 'label'] = df.loc[index, 'class']\n",
    "            i = i+1\n",
    "        file_nm = Path(file).stem\n",
    "        with open(f'C:/Users/KartikayGupta/NER/inference/res/{file_nm}.txt', 'w' , encoding=\"utf-8\") as f:\n",
    "            for line in tx_ls:\n",
    "                f.write(line)\n",
    "                f.write('\\n')       \n",
    "        print(file + ' --> done')\n",
    "        print(time.time()-start)\n",
    "    #final_df.to_excel('AN+BL-not-seperated-keyvalues.xlsx')\n",
    "\n",
    "\n",
    "if __name__ == '__main__':\n",
    "    main()\n"
   ]
  },
  {
   "cell_type": "code",
   "execution_count": 17,
   "id": "d635c092",
   "metadata": {},
   "outputs": [
    {
     "name": "stdout",
     "output_type": "stream",
     "text": [
      "1113\n"
     ]
    }
   ],
   "source": [
    "print(len(text_list))"
   ]
  },
  {
   "cell_type": "code",
   "execution_count": 18,
   "id": "36a66d3f",
   "metadata": {},
   "outputs": [],
   "source": [
    "with open('final_data.txt', 'w' , encoding=\"utf-8\") as f:\n",
    "    for line in text_list:\n",
    "        f.write(line)\n",
    "        f.write('\\n')"
   ]
  },
  {
   "cell_type": "code",
   "execution_count": null,
   "id": "03dce4bc",
   "metadata": {},
   "outputs": [],
   "source": []
  }
 ],
 "metadata": {
  "kernelspec": {
   "display_name": "Python 3 (ipykernel)",
   "language": "python",
   "name": "python3"
  },
  "language_info": {
   "codemirror_mode": {
    "name": "ipython",
    "version": 3
   },
   "file_extension": ".py",
   "mimetype": "text/x-python",
   "name": "python",
   "nbconvert_exporter": "python",
   "pygments_lexer": "ipython3",
   "version": "3.10.8"
  }
 },
 "nbformat": 4,
 "nbformat_minor": 5
}
