{
 "cells": [
  {
   "cell_type": "code",
   "execution_count": 11,
   "id": "4fd4d4a1",
   "metadata": {},
   "outputs": [],
   "source": [
    "import pandas as pd\n",
    "import glob\n",
    "import xml.etree.ElementTree as ET\n",
    "from google.cloud import vision\n",
    "import io\n",
    "import time\n",
    "import os\n",
    "\n",
    "from tqdm import tqdm\n",
    "os.environ['GOOGLE_APPLICATION_CREDENTIALS'] = os.path.join('.', 'gcp/googlecreds.json')\n",
    "\n",
    "text_list = []\n",
    "\n",
    "\n",
    "def xml_to_csv(path):\n",
    "    xml_list = []\n",
    "    for xml_file in glob.glob(path + '/*.xml'):\n",
    "        tree = ET.parse(xml_file)\n",
    "        root = tree.getroot()\n",
    "        for member in root.findall('object'):\n",
    "            class_name = member[0].text\n",
    "            if class_name == 'keyvalue':\n",
    "                value = (root.find('filename').text,\n",
    "                         int(root.find('size')[0].text),\n",
    "                         int(root.find('size')[1].text),\n",
    "                         member[0].text,\n",
    "                         int(member[4][0].text),\n",
    "                         int(member[4][1].text),\n",
    "                         int(member[4][2].text),\n",
    "                         int(member[4][3].text)\n",
    "                         )\n",
    "                xml_list.append(value)\n",
    "    column_name = ['filename', 'width', 'height', 'class', 'xmin', 'ymin', 'xmax', 'ymax']\n",
    "    xml_df = pd.DataFrame(xml_list, columns=column_name)\n",
    "    return xml_df\n",
    "\n",
    "\n",
    "def getTextGroupData(imagePath):\n",
    "    vertexList = []\n",
    "    client = vision.ImageAnnotatorClient()\n",
    "    with io.open(imagePath, 'rb') as image_file:\n",
    "        content = image_file.read()\n",
    "\n",
    "    image = vision.Image(content=content)\n",
    "    response = client.text_detection(image=image)\n",
    "    texts = response.text_annotations\n",
    "    bool = False\n",
    "    complete_text = ''\n",
    "    for text in texts:\n",
    "        vertices = text.bounding_poly.vertices\n",
    "        if bool:\n",
    "            vertexList.append((text.description, vertices))\n",
    "        else:\n",
    "            complete_text = text.description\n",
    "            bool = True\n",
    "\n",
    "    if response.error.message:\n",
    "        raise Exception(\n",
    "            '{}\\n'.format(response.error.message))\n",
    "    return vertexList\n",
    "\n",
    "\n",
    "\n",
    "def get_text_single_bbox(vertexList, bbox):\n",
    "    text = ''\n",
    "    boundingBox = bbox\n",
    "\n",
    "    for vertexText in vertexList:\n",
    "        vertex = vertexText[1]\n",
    "        x1 = vertex[0].x\n",
    "        y1 = vertex[0].y\n",
    "        x2 = vertex[2].x\n",
    "        y2 = vertex[2].y\n",
    "        height = y2 - y1\n",
    "        width = x2 - x1\n",
    "\n",
    "        if (not (max(x1, boundingBox[0]) + width / 3 > min(x2, boundingBox[2]))) and \\\n",
    "                (not (max(y1, boundingBox[1]) + height / 3 > min(y2, boundingBox[3]))):\n",
    "            text += vertexText[0] + ' '\n",
    "    text_list.append(text)\n",
    "    return text\n"
   ]
  },
  {
   "cell_type": "code",
   "execution_count": 16,
   "id": "32c2c0b8",
   "metadata": {},
   "outputs": [
    {
     "name": "stderr",
     "output_type": "stream",
     "text": [
      "  4%|▍         | 1/25 [00:02<01:01,  2.56s/it]"
     ]
    },
    {
     "name": "stdout",
     "output_type": "stream",
     "text": [
      "100678791-699489342-CIPLUPDATE-1.png --> done\n",
      "2.558120012283325\n"
     ]
    },
    {
     "name": "stderr",
     "output_type": "stream",
     "text": [
      "\r",
      "  8%|▊         | 2/25 [00:04<00:50,  2.21s/it]"
     ]
    },
    {
     "name": "stdout",
     "output_type": "stream",
     "text": [
      "101352736-1017484529-XLS-CIPLforNBMZ136913-1.png --> done\n",
      "1.9627797603607178\n"
     ]
    },
    {
     "name": "stderr",
     "output_type": "stream",
     "text": [
      "\r",
      " 12%|█▏        | 3/25 [00:06<00:47,  2.18s/it]"
     ]
    },
    {
     "name": "stdout",
     "output_type": "stream",
     "text": [
      "101352736-1090844567-XLS-CIPLforNBMZ136912-1.png --> done\n",
      "2.141561508178711\n"
     ]
    },
    {
     "name": "stderr",
     "output_type": "stream",
     "text": [
      "\r",
      " 16%|█▌        | 4/25 [00:12<01:16,  3.65s/it]"
     ]
    },
    {
     "name": "stdout",
     "output_type": "stream",
     "text": [
      "103181614-1116994062-COMMERCIALINVOICE6PAGE-1.png --> done\n",
      "5.91527795791626\n"
     ]
    },
    {
     "name": "stderr",
     "output_type": "stream",
     "text": [
      "\r",
      " 20%|██        | 5/25 [00:21<01:52,  5.61s/it]"
     ]
    },
    {
     "name": "stdout",
     "output_type": "stream",
     "text": [
      "105958527-819539355-CIPL_BLKLLAX2106184-1.png --> done\n",
      "9.081838369369507\n"
     ]
    },
    {
     "name": "stderr",
     "output_type": "stream",
     "text": [
      "\r",
      " 24%|██▍       | 6/25 [00:25<01:32,  4.85s/it]"
     ]
    },
    {
     "name": "stdout",
     "output_type": "stream",
     "text": [
      "110920249-110935712-110920249-110920525-160504documents-XLS-1.png --> done\n",
      "3.3778281211853027\n"
     ]
    },
    {
     "name": "stderr",
     "output_type": "stream",
     "text": [
      "\r",
      " 28%|██▊       | 7/25 [00:26<01:08,  3.83s/it]"
     ]
    },
    {
     "name": "stdout",
     "output_type": "stream",
     "text": [
      "119373-66252353.png --> done\n",
      "1.728647232055664\n"
     ]
    },
    {
     "name": "stderr",
     "output_type": "stream",
     "text": [
      "\r",
      " 32%|███▏      | 8/25 [00:28<00:54,  3.20s/it]"
     ]
    },
    {
     "name": "stdout",
     "output_type": "stream",
     "text": [
      "119873-654498088.png --> done\n",
      "1.8350229263305664\n"
     ]
    },
    {
     "name": "stderr",
     "output_type": "stream",
     "text": [
      "\r",
      " 36%|███▌      | 9/25 [00:29<00:41,  2.60s/it]"
     ]
    },
    {
     "name": "stdout",
     "output_type": "stream",
     "text": [
      "12539877-834052839-XLS-ShipDocsBLSGSHA004197PO43080-1.png --> done\n",
      "1.3021163940429688\n"
     ]
    },
    {
     "name": "stderr",
     "output_type": "stream",
     "text": [
      "\r",
      " 40%|████      | 10/25 [00:31<00:36,  2.44s/it]"
     ]
    },
    {
     "name": "stdout",
     "output_type": "stream",
     "text": [
      "129828644-546505445-IHR2022000000049-CI-1.png --> done\n",
      "2.088822603225708\n"
     ]
    },
    {
     "name": "stderr",
     "output_type": "stream",
     "text": [
      "\r",
      " 44%|████▍     | 11/25 [00:34<00:35,  2.51s/it]"
     ]
    },
    {
     "name": "stdout",
     "output_type": "stream",
     "text": [
      "204278075-1174210101-PL34273-1.png --> done\n",
      "2.647385358810425\n"
     ]
    },
    {
     "name": "stderr",
     "output_type": "stream",
     "text": [
      "\r",
      " 48%|████▊     | 12/25 [00:36<00:31,  2.44s/it]"
     ]
    },
    {
     "name": "stdout",
     "output_type": "stream",
     "text": [
      "232064186-1504445230-33700shippingdocuments-1.png --> done\n",
      "2.3019726276397705\n"
     ]
    },
    {
     "name": "stderr",
     "output_type": "stream",
     "text": [
      "\r",
      " 52%|█████▏    | 13/25 [00:39<00:29,  2.46s/it]"
     ]
    },
    {
     "name": "stdout",
     "output_type": "stream",
     "text": [
      "232064186-1504445230-33700shippingdocuments-2.png --> done\n",
      "2.5034213066101074\n"
     ]
    },
    {
     "name": "stderr",
     "output_type": "stream",
     "text": [
      "\r",
      " 56%|█████▌    | 14/25 [00:41<00:25,  2.30s/it]"
     ]
    },
    {
     "name": "stdout",
     "output_type": "stream",
     "text": [
      "262371656-969391988-31236480Invoce13603-21-22-23-1.png --> done\n",
      "1.9098012447357178\n"
     ]
    },
    {
     "name": "stderr",
     "output_type": "stream",
     "text": [
      "\r",
      " 60%|██████    | 15/25 [00:43<00:23,  2.35s/it]"
     ]
    },
    {
     "name": "stdout",
     "output_type": "stream",
     "text": [
      "290967770-652764262-KX-E5G4-1671-A09USA211529-PDF-5.png --> done\n",
      "2.468593120574951\n"
     ]
    },
    {
     "name": "stderr",
     "output_type": "stream",
     "text": [
      "\r",
      " 64%|██████▍   | 16/25 [00:46<00:22,  2.47s/it]"
     ]
    },
    {
     "name": "stdout",
     "output_type": "stream",
     "text": [
      "290967770-652764262-KX-E5G4-1671-A09USA211529-PDF-7.png --> done\n",
      "2.762699604034424\n"
     ]
    },
    {
     "name": "stderr",
     "output_type": "stream",
     "text": [
      "\r",
      " 68%|██████▊   | 17/25 [00:50<00:22,  2.78s/it]"
     ]
    },
    {
     "name": "stdout",
     "output_type": "stream",
     "text": [
      "331238858-1507103723-NaturaCustoms21-01-2022-1.png --> done\n",
      "3.48807692527771\n"
     ]
    },
    {
     "name": "stderr",
     "output_type": "stream",
     "text": [
      "\r",
      " 72%|███████▏  | 18/25 [00:54<00:21,  3.14s/it]"
     ]
    },
    {
     "name": "stdout",
     "output_type": "stream",
     "text": [
      "331238858-197011187-Badge4UCustoms049-1-2022-1.png --> done\n",
      "3.984544515609741\n"
     ]
    },
    {
     "name": "stderr",
     "output_type": "stream",
     "text": [
      "\r",
      " 76%|███████▌  | 19/25 [00:56<00:17,  2.93s/it]"
     ]
    },
    {
     "name": "stdout",
     "output_type": "stream",
     "text": [
      "35432876-654341905-PO34643Tivany-1.png --> done\n",
      "2.440603256225586\n"
     ]
    },
    {
     "name": "stderr",
     "output_type": "stream",
     "text": [
      "\r",
      " 80%|████████  | 20/25 [01:00<00:15,  3.18s/it]"
     ]
    },
    {
     "name": "stdout",
     "output_type": "stream",
     "text": [
      "36907366-1114205724-XLSX-E1212E1217-PetstopDiscountWarehouse-3007-1.png --> done\n",
      "3.736102342605591\n"
     ]
    },
    {
     "name": "stderr",
     "output_type": "stream",
     "text": [
      "\r",
      " 84%|████████▍ | 21/25 [01:04<00:14,  3.63s/it]"
     ]
    },
    {
     "name": "stdout",
     "output_type": "stream",
     "text": [
      "429089010-1402734547-21400970-1.png --> done\n",
      "4.6904356479644775\n"
     ]
    },
    {
     "name": "stderr",
     "output_type": "stream",
     "text": [
      "\r",
      " 88%|████████▊ | 22/25 [01:08<00:10,  3.56s/it]"
     ]
    },
    {
     "name": "stdout",
     "output_type": "stream",
     "text": [
      "429347477-4886367-CommercialInvoice_409690408820414530413440409700-1.png --> done\n",
      "3.3730735778808594\n"
     ]
    },
    {
     "name": "stderr",
     "output_type": "stream",
     "text": [
      "\r",
      " 92%|█████████▏| 23/25 [01:10<00:06,  3.10s/it]"
     ]
    },
    {
     "name": "stdout",
     "output_type": "stream",
     "text": [
      "438387920-438387759-CopyofInvoice-packinglist-86882-1.png --> done\n",
      "2.034600019454956\n"
     ]
    },
    {
     "name": "stderr",
     "output_type": "stream",
     "text": [
      "\r",
      " 96%|█████████▌| 24/25 [01:12<00:02,  2.87s/it]"
     ]
    },
    {
     "name": "stdout",
     "output_type": "stream",
     "text": [
      "56776715-1732358103-comminv21012021-1.png --> done\n",
      "2.3341317176818848\n"
     ]
    },
    {
     "name": "stderr",
     "output_type": "stream",
     "text": [
      "100%|██████████| 25/25 [01:18<00:00,  3.15s/it]"
     ]
    },
    {
     "name": "stdout",
     "output_type": "stream",
     "text": [
      "7375694-882004595-PAINANI530411MAR22-5.png --> done\n",
      "5.976384401321411\n"
     ]
    },
    {
     "name": "stderr",
     "output_type": "stream",
     "text": [
      "\n"
     ]
    }
   ],
   "source": [
    "def main():\n",
    "    base_path = 'C:/Users/KartikayGupta/NER/new_data/ci/'\n",
    "    xml_df = xml_to_csv(base_path)\n",
    "    xml_df.to_excel('AN+BL_annotations.xlsx')\n",
    "    xml_df = pd.read_excel('AN+BL_annotations.xlsx', engine='openpyxl')\n",
    "\n",
    "    final_df = pd.DataFrame()\n",
    "    files = xml_df['filename'].unique()\n",
    "    i = 0\n",
    "    for file in tqdm(files):\n",
    "        start = time.time()\n",
    "        df = xml_df[xml_df['filename'] == file]\n",
    "        if not os.path.exists(base_path + file):\n",
    "            continue\n",
    "        vertexList = getTextGroupData(base_path + file)\n",
    "        for index, row in df.iterrows():\n",
    "            bbox = [row['xmin'], row['ymin'], row['xmax'], row['ymax']]\n",
    "            text = get_text_single_bbox(vertexList, bbox)\n",
    "            final_df.loc[i, 'filename'] = file\n",
    "            final_df.loc[i, 'text'] = text\n",
    "            final_df.loc[i, 'label'] = df.loc[index, 'class']\n",
    "            i = i+1\n",
    "        print(file + ' --> done')\n",
    "        print(time.time()-start)\n",
    "    #final_df.to_excel('AN+BL-not-seperated-keyvalues.xlsx')\n",
    "\n",
    "\n",
    "if __name__ == '__main__':\n",
    "    main()\n"
   ]
  },
  {
   "cell_type": "code",
   "execution_count": 17,
   "id": "d635c092",
   "metadata": {},
   "outputs": [
    {
     "name": "stdout",
     "output_type": "stream",
     "text": [
      "1113\n"
     ]
    }
   ],
   "source": [
    "print(len(text_list))"
   ]
  },
  {
   "cell_type": "code",
   "execution_count": 18,
   "id": "36a66d3f",
   "metadata": {},
   "outputs": [],
   "source": [
    "with open('final_data.txt', 'w' , encoding=\"utf-8\") as f:\n",
    "    for line in text_list:\n",
    "        f.write(line)\n",
    "        f.write('\\n')"
   ]
  },
  {
   "cell_type": "code",
   "execution_count": null,
   "id": "cf4d2190",
   "metadata": {},
   "outputs": [],
   "source": []
  }
 ],
 "metadata": {
  "kernelspec": {
   "display_name": "Python 3 (ipykernel)",
   "language": "python",
   "name": "python3"
  },
  "language_info": {
   "codemirror_mode": {
    "name": "ipython",
    "version": 3
   },
   "file_extension": ".py",
   "mimetype": "text/x-python",
   "name": "python",
   "nbconvert_exporter": "python",
   "pygments_lexer": "ipython3",
   "version": "3.10.8"
  }
 },
 "nbformat": 4,
 "nbformat_minor": 5
}
