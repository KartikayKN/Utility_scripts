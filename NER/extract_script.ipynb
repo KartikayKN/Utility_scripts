{
 "cells": [
  {
   "cell_type": "code",
   "execution_count": 1,
   "id": "2d2a9808",
   "metadata": {},
   "outputs": [],
   "source": [
    "import warnings\n",
    "warnings.filterwarnings(\"ignore\")\n",
    "import spacy\n",
    "import os\n",
    "import glob\n",
    "from pathlib import Path\n",
    "import json\n",
    "\n",
    "nlp_ner = spacy.load(\"./model-best\")\n",
    "\n",
    "def extract(text):\n",
    "    current_Key = \"\"\n",
    "    dic = {}\n",
    "    key_cnt = 0\n",
    "    val_cnt = 0\n",
    "    current_val = \"\"\n",
    "    text = text.replace(\"\\n\" , \"\")\n",
    "#     dic['Text'] = text\n",
    "    doc = nlp_ner(text)\n",
    "    for ent in doc.ents:\n",
    "        if(ent.label_ == \"KEY\"):\n",
    "            key_cnt +=1\n",
    "            current_Key = ent.text\n",
    "            dic[current_Key]= \"\"\n",
    "        elif (ent.label_ == \"VALUE\"):\n",
    "            val_cnt +=1\n",
    "            current_val = ent.text\n",
    "            if(current_Key!=\"\"):\n",
    "                dic[current_Key] = ent.text\n",
    "                current_Key=\"\"\n",
    "    if val_cnt == 1 and key_cnt == 1 and current_Key!=\"\" :\n",
    "        dic[current_Key]= current_val\n",
    "    return dic"
   ]
  },
  {
   "cell_type": "code",
   "execution_count": 4,
   "id": "a4e0a5c2",
   "metadata": {},
   "outputs": [],
   "source": [
    "for doc in glob.glob(\"C:/Users/KartikayGupta/NER/inference/res/*.txt\"):\n",
    "    file = open(doc, 'r' ,encoding=\"utf-8\")\n",
    "    Lines = file.readlines()\n",
    "    final_dic = {}\n",
    "    file_nm = Path(doc).stem\n",
    "    c=0\n",
    "    for line in Lines:\n",
    "        dic = extract(line)\n",
    "        c=c+1\n",
    "        bbox = \"BBOX\" + str(c)\n",
    "        final_dic[bbox] = dic\n",
    "    with open(f'C:/Users/KartikayGupta/NER/inference/res1/{file_nm}.json', \"w\" , encoding=\"utf-8\") as outfile:\n",
    "        json.dump(final_dic, outfile)"
   ]
  },
  {
   "cell_type": "code",
   "execution_count": 2,
   "id": "3a5423ac",
   "metadata": {},
   "outputs": [
    {
     "name": "stdout",
     "output_type": "stream",
     "text": [
      "LIFESTYLE SOLUTIONS INC . , 6955 MOWRY AVENUE , NEWARK , CA 94560 , USA . + 1-510-824-6500 ---->>>>> VALUE\n",
      "ATTN ---->>>>> KEY\n",
      "MR . JOE OROSCO ---->>>>> VALUE\n",
      "E Consignee ---->>>>> KEY\n"
     ]
    }
   ],
   "source": [
    "t = \"LIFESTYLE SOLUTIONS INC . , 6955 MOWRY AVENUE , NEWARK , CA 94560 , USA . + 1-510-824-6500 ATTN : MR . JOE OROSCO E Consignee : \"\n",
    "doc = nlp_ner(t)\n",
    "for ent in doc.ents:\n",
    "    print(ent.text, \"---->>>>>\" , ent.label_)"
   ]
  },
  {
   "cell_type": "code",
   "execution_count": 9,
   "id": "90a00d01",
   "metadata": {},
   "outputs": [
    {
     "name": "stdout",
     "output_type": "stream",
     "text": [
      "REJOICE LOGISTICS ( CANADA ) INC # 260 - 11780 HAMMERSMITH WAY , RICHMOND , BC V7A 5E9 CANADA ---->>>>> VALUE\n",
      "TEL ---->>>>> KEY\n",
      "604-204-2668 ---->>>>> VALUE\n",
      "FAX ---->>>>> KEY\n",
      "604-204-2568 ---->>>>> VALUE\n",
      "CONSIGNEE ADDRESS ---->>>>> KEY\n"
     ]
    }
   ],
   "source": [
    "t =\"04/13/2021 ΕΤΑ\"\n",
    "t1 = \"ΕΤΑ 01/28/21\"\n",
    "t2 =\"REJOICE LOGISTICS ( CANADA ) INC # 260 - 11780 HAMMERSMITH WAY , RICHMOND , BC V7A 5E9 CANADA | TEL : 604-204-2668 FAX : 604-204-2568 CONSIGNEE ADDRESS\"\n",
    "\n",
    "doc = nlp_ner(t2)\n",
    "for ent in doc.ents:\n",
    "    print(ent.text, \"---->>>>>\" , ent.label_)"
   ]
  },
  {
   "cell_type": "code",
   "execution_count": 6,
   "id": "350c005a",
   "metadata": {},
   "outputs": [
    {
     "name": "stdout",
     "output_type": "stream",
     "text": [
      "TEL ---->>>>> KEY\n",
      "86-750-6248888 ---->>>>> VALUE\n",
      "FAX ---->>>>> KEY\n",
      "86-750 ---->>>>> VALUE\n"
     ]
    }
   ],
   "source": [
    "t3 =\"( TEL ) : 86-750-6248888 ( FAX ) : 86-750\"\n",
    "doc = nlp_ner(t3)\n",
    "for ent in doc.ents:\n",
    "    print(ent.text, \"---->>>>>\" , ent.label_)"
   ]
  },
  {
   "cell_type": "code",
   "execution_count": 4,
   "id": "cb31a3cb",
   "metadata": {},
   "outputs": [
    {
     "name": "stdout",
     "output_type": "stream",
     "text": [
      "faktura nr ---->>>>> KEY\n",
      "1298371298 ---->>>>> VALUE\n"
     ]
    }
   ],
   "source": [
    "t = \"faktura vat : 126352613\"\n",
    "t1 = \"faktura nr : 1298371298\"\n",
    "\n",
    "doc = nlp_ner(t1)\n",
    "for ent in doc.ents:\n",
    "    print(ent.text, \"---->>>>>\" , ent.label_)"
   ]
  },
  {
   "cell_type": "code",
   "execution_count": null,
   "id": "5778e571",
   "metadata": {},
   "outputs": [],
   "source": []
  }
 ],
 "metadata": {
  "kernelspec": {
   "display_name": "Python 3 (ipykernel)",
   "language": "python",
   "name": "python3"
  },
  "language_info": {
   "codemirror_mode": {
    "name": "ipython",
    "version": 3
   },
   "file_extension": ".py",
   "mimetype": "text/x-python",
   "name": "python",
   "nbconvert_exporter": "python",
   "pygments_lexer": "ipython3",
   "version": "3.10.8"
  }
 },
 "nbformat": 4,
 "nbformat_minor": 5
}
