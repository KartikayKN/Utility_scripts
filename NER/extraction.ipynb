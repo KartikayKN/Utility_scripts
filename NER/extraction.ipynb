{
 "cells": [
  {
   "cell_type": "code",
   "execution_count": 1,
   "id": "927e31cf",
   "metadata": {},
   "outputs": [],
   "source": [
    "import warnings\n",
    "warnings.filterwarnings(\"ignore\")\n",
    "import spacy\n",
    "\n",
    "nlp_ner = spacy.load(\"./model-best\")"
   ]
  },
  {
   "cell_type": "code",
   "execution_count": 2,
   "id": "6ee624c0",
   "metadata": {},
   "outputs": [],
   "source": [
    "def extract(text):\n",
    "    current_Key = \"\"\n",
    "    dic = {}\n",
    "    key_cnt = 0\n",
    "    val_cnt = 0\n",
    "    current_val = \"\"\n",
    "    text = text.replace(\"\\n\" , \"\")\n",
    "#     dic['Text'] = text\n",
    "    doc = nlp_ner(text)\n",
    "    for ent in doc.ents:\n",
    "        if(ent.label_ == \"KEY\"):\n",
    "            key_cnt +=1\n",
    "            current_Key = ent.text\n",
    "            dic[current_Key]= \"\"\n",
    "        elif (ent.label_ == \"VALUE\"):\n",
    "            val_cnt +=1\n",
    "            current_val = ent.text\n",
    "            if(current_Key!=\"\"):\n",
    "                dic[current_Key] = ent.text\n",
    "                current_Key=\"\"\n",
    "    if val_cnt == 1 and key_cnt == 1 and current_Key!=\"\" :\n",
    "        dic[current_Key]= current_val\n",
    "    return dic"
   ]
  },
  {
   "cell_type": "code",
   "execution_count": 9,
   "id": "441a5968",
   "metadata": {},
   "outputs": [
    {
     "data": {
      "text/plain": [
       "{'Fax': ''}"
      ]
     },
     "execution_count": 9,
     "metadata": {},
     "output_type": "execute_result"
    }
   ],
   "source": [
    "t = \"Fax :\"\n",
    "x = extract(t)\n",
    "x"
   ]
  },
  {
   "cell_type": "code",
   "execution_count": null,
   "id": "fdf71c29",
   "metadata": {},
   "outputs": [],
   "source": []
  }
 ],
 "metadata": {
  "kernelspec": {
   "display_name": "Python 3 (ipykernel)",
   "language": "python",
   "name": "python3"
  },
  "language_info": {
   "codemirror_mode": {
    "name": "ipython",
    "version": 3
   },
   "file_extension": ".py",
   "mimetype": "text/x-python",
   "name": "python",
   "nbconvert_exporter": "python",
   "pygments_lexer": "ipython3",
   "version": "3.10.8"
  }
 },
 "nbformat": 4,
 "nbformat_minor": 5
}
